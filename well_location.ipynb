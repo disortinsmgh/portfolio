{
 "cells": [
  {
   "cell_type": "markdown",
   "metadata": {},
   "source": [
    "# Выбор локации для скважины"
   ]
  },
  {
   "cell_type": "markdown",
   "metadata": {},
   "source": [
    "Допустим, вы работаете в добывающей компании «ГлавРосГосНефть». Нужно решить, где бурить новую скважину.\n",
    "\n",
    "Вам предоставлены пробы нефти в трёх регионах: в каждом 10 000 месторождений, где измерили качество нефти и объём её запасов. Постройте модель машинного обучения, которая поможет определить регион, где добыча принесёт наибольшую прибыль. Проанализируйте возможную прибыль и риски техникой *Bootstrap.*\n",
    "\n",
    "Шаги для выбора локации:\n",
    "\n",
    "- В избранном регионе ищут месторождения, для каждого определяют значения признаков;\n",
    "- Строят модель и оценивают объём запасов;\n",
    "- Выбирают месторождения с самым высокими оценками значений. Количество месторождений зависит от бюджета компании и стоимости разработки одной скважины;\n",
    "- Прибыль равна суммарной прибыли отобранных месторождений."
   ]
  },
  {
   "cell_type": "markdown",
   "metadata": {},
   "source": [
    "## Загрузка и подготовка данных"
   ]
  },
  {
   "cell_type": "markdown",
   "metadata": {},
   "source": [
    "### Импорт библиотек"
   ]
  },
  {
   "cell_type": "markdown",
   "metadata": {},
   "source": [
    "Перед тем, как начинать работать с данными импортируем необходимые библиотеки"
   ]
  },
  {
   "cell_type": "code",
   "execution_count": 1,
   "metadata": {},
   "outputs": [],
   "source": [
    "import pandas as pd\n",
    "import numpy as np\n",
    "import seaborn as sns\n",
    "import matplotlib.pyplot as plt\n",
    "\n",
    "from sklearn.model_selection import (\n",
    "    train_test_split,\n",
    "    RandomizedSearchCV,\n",
    "    GridSearchCV\n",
    ")\n",
    "\n",
    "from sklearn.preprocessing import (\n",
    "    StandardScaler, \n",
    "    MinMaxScaler, \n",
    "    RobustScaler\n",
    ")\n",
    "\n",
    "from sklearn.impute import SimpleImputer\n",
    "from sklearn.linear_model import LinearRegression\n",
    "from sklearn.metrics import mean_squared_error, make_scorer\n",
    "\n",
    "from sklearn.pipeline import Pipeline\n",
    "from sklearn.compose import ColumnTransformer"
   ]
  },
  {
   "cell_type": "markdown",
   "metadata": {},
   "source": [
    "### Загрузка данных"
   ]
  },
  {
   "cell_type": "code",
   "execution_count": 2,
   "metadata": {},
   "outputs": [
    {
     "name": "stdout",
     "output_type": "stream",
     "text": [
      "<class 'pandas.core.frame.DataFrame'>\n",
      "RangeIndex: 100000 entries, 0 to 99999\n",
      "Data columns (total 5 columns):\n",
      " #   Column   Non-Null Count   Dtype  \n",
      "---  ------   --------------   -----  \n",
      " 0   id       100000 non-null  object \n",
      " 1   f0       100000 non-null  float64\n",
      " 2   f1       100000 non-null  float64\n",
      " 3   f2       100000 non-null  float64\n",
      " 4   product  100000 non-null  float64\n",
      "dtypes: float64(4), object(1)\n",
      "memory usage: 3.8+ MB\n",
      "None\n",
      "\n"
     ]
    },
    {
     "data": {
      "text/html": [
       "<div>\n",
       "<style scoped>\n",
       "    .dataframe tbody tr th:only-of-type {\n",
       "        vertical-align: middle;\n",
       "    }\n",
       "\n",
       "    .dataframe tbody tr th {\n",
       "        vertical-align: top;\n",
       "    }\n",
       "\n",
       "    .dataframe thead th {\n",
       "        text-align: right;\n",
       "    }\n",
       "</style>\n",
       "<table border=\"1\" class=\"dataframe\">\n",
       "  <thead>\n",
       "    <tr style=\"text-align: right;\">\n",
       "      <th></th>\n",
       "      <th>id</th>\n",
       "      <th>f0</th>\n",
       "      <th>f1</th>\n",
       "      <th>f2</th>\n",
       "      <th>product</th>\n",
       "    </tr>\n",
       "  </thead>\n",
       "  <tbody>\n",
       "    <tr>\n",
       "      <th>0</th>\n",
       "      <td>txEyH</td>\n",
       "      <td>0.705745</td>\n",
       "      <td>-0.497823</td>\n",
       "      <td>1.221170</td>\n",
       "      <td>105.280062</td>\n",
       "    </tr>\n",
       "    <tr>\n",
       "      <th>1</th>\n",
       "      <td>2acmU</td>\n",
       "      <td>1.334711</td>\n",
       "      <td>-0.340164</td>\n",
       "      <td>4.365080</td>\n",
       "      <td>73.037750</td>\n",
       "    </tr>\n",
       "    <tr>\n",
       "      <th>2</th>\n",
       "      <td>409Wp</td>\n",
       "      <td>1.022732</td>\n",
       "      <td>0.151990</td>\n",
       "      <td>1.419926</td>\n",
       "      <td>85.265647</td>\n",
       "    </tr>\n",
       "    <tr>\n",
       "      <th>3</th>\n",
       "      <td>iJLyR</td>\n",
       "      <td>-0.032172</td>\n",
       "      <td>0.139033</td>\n",
       "      <td>2.978566</td>\n",
       "      <td>168.620776</td>\n",
       "    </tr>\n",
       "    <tr>\n",
       "      <th>4</th>\n",
       "      <td>Xdl7t</td>\n",
       "      <td>1.988431</td>\n",
       "      <td>0.155413</td>\n",
       "      <td>4.751769</td>\n",
       "      <td>154.036647</td>\n",
       "    </tr>\n",
       "  </tbody>\n",
       "</table>\n",
       "</div>"
      ],
      "text/plain": [
       "      id        f0        f1        f2     product\n",
       "0  txEyH  0.705745 -0.497823  1.221170  105.280062\n",
       "1  2acmU  1.334711 -0.340164  4.365080   73.037750\n",
       "2  409Wp  1.022732  0.151990  1.419926   85.265647\n",
       "3  iJLyR -0.032172  0.139033  2.978566  168.620776\n",
       "4  Xdl7t  1.988431  0.155413  4.751769  154.036647"
      ]
     },
     "execution_count": 2,
     "metadata": {},
     "output_type": "execute_result"
    }
   ],
   "source": [
    "geo_data_0 = pd.read_csv('/datasets/geo_data_0.csv')\n",
    "print(geo_data_0.info())\n",
    "print()\n",
    "geo_data_0.head()"
   ]
  },
  {
   "cell_type": "code",
   "execution_count": 3,
   "metadata": {},
   "outputs": [
    {
     "name": "stdout",
     "output_type": "stream",
     "text": [
      "<class 'pandas.core.frame.DataFrame'>\n",
      "RangeIndex: 100000 entries, 0 to 99999\n",
      "Data columns (total 5 columns):\n",
      " #   Column   Non-Null Count   Dtype  \n",
      "---  ------   --------------   -----  \n",
      " 0   id       100000 non-null  object \n",
      " 1   f0       100000 non-null  float64\n",
      " 2   f1       100000 non-null  float64\n",
      " 3   f2       100000 non-null  float64\n",
      " 4   product  100000 non-null  float64\n",
      "dtypes: float64(4), object(1)\n",
      "memory usage: 3.8+ MB\n",
      "None\n",
      "\n"
     ]
    },
    {
     "data": {
      "text/html": [
       "<div>\n",
       "<style scoped>\n",
       "    .dataframe tbody tr th:only-of-type {\n",
       "        vertical-align: middle;\n",
       "    }\n",
       "\n",
       "    .dataframe tbody tr th {\n",
       "        vertical-align: top;\n",
       "    }\n",
       "\n",
       "    .dataframe thead th {\n",
       "        text-align: right;\n",
       "    }\n",
       "</style>\n",
       "<table border=\"1\" class=\"dataframe\">\n",
       "  <thead>\n",
       "    <tr style=\"text-align: right;\">\n",
       "      <th></th>\n",
       "      <th>id</th>\n",
       "      <th>f0</th>\n",
       "      <th>f1</th>\n",
       "      <th>f2</th>\n",
       "      <th>product</th>\n",
       "    </tr>\n",
       "  </thead>\n",
       "  <tbody>\n",
       "    <tr>\n",
       "      <th>0</th>\n",
       "      <td>kBEdx</td>\n",
       "      <td>-15.001348</td>\n",
       "      <td>-8.276000</td>\n",
       "      <td>-0.005876</td>\n",
       "      <td>3.179103</td>\n",
       "    </tr>\n",
       "    <tr>\n",
       "      <th>1</th>\n",
       "      <td>62mP7</td>\n",
       "      <td>14.272088</td>\n",
       "      <td>-3.475083</td>\n",
       "      <td>0.999183</td>\n",
       "      <td>26.953261</td>\n",
       "    </tr>\n",
       "    <tr>\n",
       "      <th>2</th>\n",
       "      <td>vyE1P</td>\n",
       "      <td>6.263187</td>\n",
       "      <td>-5.948386</td>\n",
       "      <td>5.001160</td>\n",
       "      <td>134.766305</td>\n",
       "    </tr>\n",
       "    <tr>\n",
       "      <th>3</th>\n",
       "      <td>KcrkZ</td>\n",
       "      <td>-13.081196</td>\n",
       "      <td>-11.506057</td>\n",
       "      <td>4.999415</td>\n",
       "      <td>137.945408</td>\n",
       "    </tr>\n",
       "    <tr>\n",
       "      <th>4</th>\n",
       "      <td>AHL4O</td>\n",
       "      <td>12.702195</td>\n",
       "      <td>-8.147433</td>\n",
       "      <td>5.004363</td>\n",
       "      <td>134.766305</td>\n",
       "    </tr>\n",
       "  </tbody>\n",
       "</table>\n",
       "</div>"
      ],
      "text/plain": [
       "      id         f0         f1        f2     product\n",
       "0  kBEdx -15.001348  -8.276000 -0.005876    3.179103\n",
       "1  62mP7  14.272088  -3.475083  0.999183   26.953261\n",
       "2  vyE1P   6.263187  -5.948386  5.001160  134.766305\n",
       "3  KcrkZ -13.081196 -11.506057  4.999415  137.945408\n",
       "4  AHL4O  12.702195  -8.147433  5.004363  134.766305"
      ]
     },
     "execution_count": 3,
     "metadata": {},
     "output_type": "execute_result"
    }
   ],
   "source": [
    "geo_data_1 = pd.read_csv('/datasets/geo_data_1.csv')\n",
    "print(geo_data_1.info())\n",
    "print()\n",
    "geo_data_1.head()"
   ]
  },
  {
   "cell_type": "code",
   "execution_count": 4,
   "metadata": {},
   "outputs": [
    {
     "name": "stdout",
     "output_type": "stream",
     "text": [
      "<class 'pandas.core.frame.DataFrame'>\n",
      "RangeIndex: 100000 entries, 0 to 99999\n",
      "Data columns (total 5 columns):\n",
      " #   Column   Non-Null Count   Dtype  \n",
      "---  ------   --------------   -----  \n",
      " 0   id       100000 non-null  object \n",
      " 1   f0       100000 non-null  float64\n",
      " 2   f1       100000 non-null  float64\n",
      " 3   f2       100000 non-null  float64\n",
      " 4   product  100000 non-null  float64\n",
      "dtypes: float64(4), object(1)\n",
      "memory usage: 3.8+ MB\n",
      "None\n",
      "\n"
     ]
    },
    {
     "data": {
      "text/html": [
       "<div>\n",
       "<style scoped>\n",
       "    .dataframe tbody tr th:only-of-type {\n",
       "        vertical-align: middle;\n",
       "    }\n",
       "\n",
       "    .dataframe tbody tr th {\n",
       "        vertical-align: top;\n",
       "    }\n",
       "\n",
       "    .dataframe thead th {\n",
       "        text-align: right;\n",
       "    }\n",
       "</style>\n",
       "<table border=\"1\" class=\"dataframe\">\n",
       "  <thead>\n",
       "    <tr style=\"text-align: right;\">\n",
       "      <th></th>\n",
       "      <th>id</th>\n",
       "      <th>f0</th>\n",
       "      <th>f1</th>\n",
       "      <th>f2</th>\n",
       "      <th>product</th>\n",
       "    </tr>\n",
       "  </thead>\n",
       "  <tbody>\n",
       "    <tr>\n",
       "      <th>0</th>\n",
       "      <td>fwXo0</td>\n",
       "      <td>-1.146987</td>\n",
       "      <td>0.963328</td>\n",
       "      <td>-0.828965</td>\n",
       "      <td>27.758673</td>\n",
       "    </tr>\n",
       "    <tr>\n",
       "      <th>1</th>\n",
       "      <td>WJtFt</td>\n",
       "      <td>0.262778</td>\n",
       "      <td>0.269839</td>\n",
       "      <td>-2.530187</td>\n",
       "      <td>56.069697</td>\n",
       "    </tr>\n",
       "    <tr>\n",
       "      <th>2</th>\n",
       "      <td>ovLUW</td>\n",
       "      <td>0.194587</td>\n",
       "      <td>0.289035</td>\n",
       "      <td>-5.586433</td>\n",
       "      <td>62.871910</td>\n",
       "    </tr>\n",
       "    <tr>\n",
       "      <th>3</th>\n",
       "      <td>q6cA6</td>\n",
       "      <td>2.236060</td>\n",
       "      <td>-0.553760</td>\n",
       "      <td>0.930038</td>\n",
       "      <td>114.572842</td>\n",
       "    </tr>\n",
       "    <tr>\n",
       "      <th>4</th>\n",
       "      <td>WPMUX</td>\n",
       "      <td>-0.515993</td>\n",
       "      <td>1.716266</td>\n",
       "      <td>5.899011</td>\n",
       "      <td>149.600746</td>\n",
       "    </tr>\n",
       "  </tbody>\n",
       "</table>\n",
       "</div>"
      ],
      "text/plain": [
       "      id        f0        f1        f2     product\n",
       "0  fwXo0 -1.146987  0.963328 -0.828965   27.758673\n",
       "1  WJtFt  0.262778  0.269839 -2.530187   56.069697\n",
       "2  ovLUW  0.194587  0.289035 -5.586433   62.871910\n",
       "3  q6cA6  2.236060 -0.553760  0.930038  114.572842\n",
       "4  WPMUX -0.515993  1.716266  5.899011  149.600746"
      ]
     },
     "execution_count": 4,
     "metadata": {},
     "output_type": "execute_result"
    }
   ],
   "source": [
    "geo_data_2 = pd.read_csv('/datasets/geo_data_2.csv')\n",
    "print(geo_data_2.info())\n",
    "print()\n",
    "geo_data_2.head()"
   ]
  },
  {
   "cell_type": "markdown",
   "metadata": {},
   "source": [
    "Все данные выгрузились корректно!"
   ]
  },
  {
   "cell_type": "markdown",
   "metadata": {},
   "source": [
    "### Предобработка"
   ]
  },
  {
   "cell_type": "markdown",
   "metadata": {},
   "source": [
    "Т.к. в наших данных присутствуют только количественные признаки, явные и неявные дубликаты нам выявлять не нужно. На первичном осмотре данных пропущенных значений не обнаружилось, поэтому приступим к характеру распределения наших признаков на исследовательском анализе данных"
   ]
  },
  {
   "cell_type": "markdown",
   "metadata": {},
   "source": [
    "### EDA"
   ]
  },
  {
   "cell_type": "code",
   "execution_count": 5,
   "metadata": {},
   "outputs": [],
   "source": [
    "def eda(data):\n",
    "    #строковые столбцы\n",
    "    object_columns = data.select_dtypes(include='object').columns\n",
    "    \n",
    "    #числовые столбцы\n",
    "    numeric_columns = data.select_dtypes(include='number').columns\n",
    "    \n",
    "    #гистограммы и ящики с усами для числовых столбцов\n",
    "    for column in numeric_columns:\n",
    "        fig, axes = plt.subplots(nrows=1, ncols=2, figsize=(8, 4))\n",
    "        \n",
    "        sns.histplot(data[column], kde=False, bins=20, color='blue', alpha=0.5, ax=axes[0])\n",
    "        axes[0].set_title(f'Гистограмма столбца\\n{column}')\n",
    "        axes[0].set_ylabel('Частота')\n",
    "        axes[0].set_xlabel(f'{column}')\n",
    "        axes[0].axvline(data[column].mean(), color='red', linestyle='dashed', linewidth=2, label='Среднее')\n",
    "        axes[0].axvline(data[column].median(), color='blue', linestyle='dashed', linewidth=2, label='Медиана')\n",
    "        axes[0].legend()\n",
    "\n",
    "        sns.boxplot(x=data[column], ax=axes[1], color='skyblue')\n",
    "        axes[1].set_title(f'Ящик с усами для\\n{column}')\n",
    "        axes[1].set_xlabel(f'{column}')\n",
    "\n",
    "        plt.tight_layout()\n",
    "        plt.show()\n",
    "\n",
    "        print(data[column].describe())"
   ]
  },
  {
   "cell_type": "markdown",
   "metadata": {},
   "source": [
    "#### Первый регион"
   ]
  },
  {
   "cell_type": "code",
   "execution_count": 6,
   "metadata": {},
   "outputs": [
    {
     "data": {
      "image/png": "[encoded data removed]",
      "text/plain": [
       "<Figure size 576x288 with 2 Axes>"
      ]
     },
     "metadata": {
      "needs_background": "light"
     },
     "output_type": "display_data"
    },
    {
     "name": "stdout",
     "output_type": "stream",
     "text": [
      "count    100000.000000\n",
      "mean          0.500419\n",
      "std           0.871832\n",
      "min          -1.408605\n",
      "25%          -0.072580\n",
      "50%           0.502360\n",
      "75%           1.073581\n",
      "max           2.362331\n",
      "Name: f0, dtype: float64\n"
     ]
    },
    {
     "data": {
      "image/png": "[encoded data removed]",
      "text/plain": [
       "<Figure size 576x288 with 2 Axes>"
      ]
     },
     "metadata": {
      "needs_background": "light"
     },
     "output_type": "display_data"
    },
    {
     "name": "stdout",
     "output_type": "stream",
     "text": [
      "count    100000.000000\n",
      "mean          0.250143\n",
      "std           0.504433\n",
      "min          -0.848218\n",
      "25%          -0.200881\n",
      "50%           0.250252\n",
      "75%           0.700646\n",
      "max           1.343769\n",
      "Name: f1, dtype: float64\n"
     ]
    },
    {
     "data": {
      "image/png": "[encoded data removed]",
      "text/plain": [
       "<Figure size 576x288 with 2 Axes>"
      ]
     },
     "metadata": {
      "needs_background": "light"
     },
     "output_type": "display_data"
    },
    {
     "name": "stdout",
     "output_type": "stream",
     "text": [
      "count    100000.000000\n",
      "mean          2.502647\n",
      "std           3.248248\n",
      "min         -12.088328\n",
      "25%           0.287748\n",
      "50%           2.515969\n",
      "75%           4.715088\n",
      "max          16.003790\n",
      "Name: f2, dtype: float64\n"
     ]
    },
    {
     "data": {
      "image/png": "[encoded data removed]",
      "text/plain": [
       "<Figure size 576x288 with 2 Axes>"
      ]
     },
     "metadata": {
      "needs_background": "light"
     },
     "output_type": "display_data"
    },
    {
     "name": "stdout",
     "output_type": "stream",
     "text": [
      "count    100000.000000\n",
      "mean         92.500000\n",
      "std          44.288691\n",
      "min           0.000000\n",
      "25%          56.497507\n",
      "50%          91.849972\n",
      "75%         128.564089\n",
      "max         185.364347\n",
      "Name: product, dtype: float64\n"
     ]
    }
   ],
   "source": [
    "eda(geo_data_0.drop('id', 1))"
   ]
  },
  {
   "cell_type": "markdown",
   "metadata": {},
   "source": [
    "Изучим каждый признак в датасете с данными о первом регионе:\n",
    "___\n",
    "`f0`:\n",
    "- Распределение больше напоминает мультимодальное с тремя ярковыраженными пиками.\n",
    "- Ящик с усами наличие выбросов в данных не показал.\n",
    "- Среднее значение по выборке составило 0.5. Медиана такая же, 0.5. Смещения и удлиненных хвостов не обнаружено, Эти статистики совпадают\n",
    "- Данные собраны в проммежутке от мин. значения -1.4 до макс. 2.36\n",
    "___\n",
    "`f1`:\n",
    "- Распределение похоже на мультимодальное, но не такое выраженное, как у первого признака. Все так данные собраны у среднего 0.25.\n",
    "- Ящик с усами наличие выбросов в данных не показал.\n",
    "- Медиана и Среднее воспадают\n",
    "- Мин. знач. -0.85, а макс. знач. 1.34\n",
    "- Гистограмма зеркалит по линии среднего. Это может указывать на то, что этот столбец хранит в себе значения результатов измерений. Для данного типа данных характерно такое распределение. \n",
    "___\n",
    "`f2`:\n",
    "- Гистограмма сужается к центру. Скорее всего признак имеет низкую дисперсию\n",
    "- Тем не менее ящик с усами показывает выбросы по обоим хвостам\n",
    "- Среднее и медиана опять совпали. 2.5\n",
    "- Мин и макс значения равны -12 и 16 соответственно\n",
    "___\n",
    "`product` - целевой:\n",
    "- Данные об объемах запасов нефти имеют нормальное распределение со средним и медианой 92 ед. \n",
    "- Выбросы отсутствуют\n",
    "- Мин и макс равны 0 и 185 ед. соответственно.\n",
    "____"
   ]
  },
  {
   "cell_type": "code",
   "execution_count": 7,
   "metadata": {},
   "outputs": [
    {
     "data": {
      "image/png": "[encoded data removed]",
      "text/plain": [
       "<Figure size 576x432 with 2 Axes>"
      ]
     },
     "metadata": {
      "needs_background": "light"
     },
     "output_type": "display_data"
    }
   ],
   "source": [
    "spearman_matrix = geo_data_0.drop('id', 1).corr(method='spearman')\n",
    "plt.figure(figsize=(8, 6))\n",
    "sns.heatmap(spearman_matrix, annot=True, cmap='coolwarm', fmt=\".2f\", linewidths=0.5)\n",
    "plt.title(\"Spearman Heatmap for the First region\")\n",
    "plt.show()"
   ]
  },
  {
   "cell_type": "markdown",
   "metadata": {},
   "source": [
    "Корреляционный анализ показал, что `f2` имеет среднюю положительную корреляцию с целевой переменной `product`. Также мы видим, что у признаков `f0` и `f1` наблюдается умеренная отрицательная корреляция. В любом случае, мы выяснили, что линейная зависимость в данных присутствует, поэтому Линейная регрессия нам подходит"
   ]
  },
  {
   "cell_type": "markdown",
   "metadata": {},
   "source": [
    "#### Второй регион"
   ]
  },
  {
   "cell_type": "code",
   "execution_count": 8,
   "metadata": {},
   "outputs": [
    {
     "data": {
      "image/png": "[encoded data removed]",
      "text/plain": [
       "<Figure size 576x288 with 2 Axes>"
      ]
     },
     "metadata": {
      "needs_background": "light"
     },
     "output_type": "display_data"
    },
    {
     "name": "stdout",
     "output_type": "stream",
     "text": [
      "count    100000.000000\n",
      "mean          1.141296\n",
      "std           8.965932\n",
      "min         -31.609576\n",
      "25%          -6.298551\n",
      "50%           1.153055\n",
      "75%           8.621015\n",
      "max          29.421755\n",
      "Name: f0, dtype: float64\n"
     ]
    },
    {
     "data": {
      "image/png": "[encoded data removed]",
      "text/plain": [
       "<Figure size 576x288 with 2 Axes>"
      ]
     },
     "metadata": {
      "needs_background": "light"
     },
     "output_type": "display_data"
    },
    {
     "name": "stdout",
     "output_type": "stream",
     "text": [
      "count    100000.000000\n",
      "mean         -4.796579\n",
      "std           5.119872\n",
      "min         -26.358598\n",
      "25%          -8.267985\n",
      "50%          -4.813172\n",
      "75%          -1.332816\n",
      "max          18.734063\n",
      "Name: f1, dtype: float64\n"
     ]
    },
    {
     "data": {
      "image/png": "[encoded data removed]",
      "text/plain": [
       "<Figure size 576x288 with 2 Axes>"
      ]
     },
     "metadata": {
      "needs_background": "light"
     },
     "output_type": "display_data"
    },
    {
     "name": "stdout",
     "output_type": "stream",
     "text": [
      "count    100000.000000\n",
      "mean          2.494541\n",
      "std           1.703572\n",
      "min          -0.018144\n",
      "25%           1.000021\n",
      "50%           2.011479\n",
      "75%           3.999904\n",
      "max           5.019721\n",
      "Name: f2, dtype: float64\n"
     ]
    },
    {
     "data": {
      "image/png": "[encoded data removed]",
      "text/plain": [
       "<Figure size 576x288 with 2 Axes>"
      ]
     },
     "metadata": {
      "needs_background": "light"
     },
     "output_type": "display_data"
    },
    {
     "name": "stdout",
     "output_type": "stream",
     "text": [
      "count    100000.000000\n",
      "mean         68.825000\n",
      "std          45.944423\n",
      "min           0.000000\n",
      "25%          26.953261\n",
      "50%          57.085625\n",
      "75%         107.813044\n",
      "max         137.945408\n",
      "Name: product, dtype: float64\n"
     ]
    }
   ],
   "source": [
    "eda(geo_data_1.drop('id', 1))"
   ]
  },
  {
   "cell_type": "markdown",
   "metadata": {},
   "source": [
    "___\n",
    "`f0`:\n",
    "- Гистограмма имеет бимодальное распределение с выбросами у левого хвоста.\n",
    "- Среднее и медиана равны 1.14 и 1.15 соответственно. Учитывая разброс и высокое стандартное отклонение на графики эти прямые совпали.\n",
    "- Мин и макс значения равны -32 и 29 соответственно\n",
    "___\n",
    "`f1`:\n",
    "- Судя по гистограмме данные распределены нормально и имеют низкую дисперсию\n",
    "- По обе стороны усов на ящике замечены выбросы\n",
    "- Минимальное и максимальное значения равны -26 и 18 соответственно\n",
    "___\n",
    "`f2`:\n",
    "- Среднее и медиана равны 2.5 и 2 соответственно. Гистограмма смещена вправо, это может указывать на небольшое преобладание высоких значений в данных.\n",
    "- Тем не менее распределение данных равномерное, в диапазоне [0, 1] и [4, 5] значения равновероятны. На гистограмме видно, что данные сгруппированы. На это все указывает прямоугольная форма гистограммы\n",
    "- Мин и макс значения равны -0.02 и 5 соответственно. \n",
    "___\n",
    "`product` - целевой:\n",
    "- Гистограмма зеркальная относительно оси среднего значения. Также заметна группировка данных. На диапазонах [20, 30], [50, 60], [80, 90] и [110, 120] значения равновероятны. \n",
    "- При этом заметны пики у минимального и максимального значений 0 и 138 соответственно.\n",
    "- Судя по среднему и медиане (69 и 57 соответственно) имеется скошенность вправо, что также может свидетельствовать о небольшом преобладании высоких значений. Об этом говорит пик у максимума. \n",
    "____"
   ]
  },
  {
   "cell_type": "code",
   "execution_count": 9,
   "metadata": {},
   "outputs": [
    {
     "data": {
      "image/png": "[encoded data removed]",
      "text/plain": [
       "<Figure size 576x432 with 2 Axes>"
      ]
     },
     "metadata": {
      "needs_background": "light"
     },
     "output_type": "display_data"
    }
   ],
   "source": [
    "spearman_matrix = geo_data_1.drop('id', 1).corr(method='spearman')\n",
    "plt.figure(figsize=(8, 6))\n",
    "sns.heatmap(spearman_matrix, annot=True, cmap='coolwarm', fmt=\".2f\", linewidths=0.5)\n",
    "plt.title(\"Spearman Heatmap for the Second region\")\n",
    "plt.show()"
   ]
  },
  {
   "cell_type": "markdown",
   "metadata": {},
   "source": [
    "Наблюдается сильная прямопропорциональная корреляция между признаком `f2` и целевым `product`. Линейная зависимость присутствует"
   ]
  },
  {
   "cell_type": "markdown",
   "metadata": {},
   "source": [
    "#### Третий регион"
   ]
  },
  {
   "cell_type": "code",
   "execution_count": 10,
   "metadata": {},
   "outputs": [
    {
     "data": {
      "image/png": "[encoded data removed]",
      "text/plain": [
       "<Figure size 576x288 with 2 Axes>"
      ]
     },
     "metadata": {
      "needs_background": "light"
     },
     "output_type": "display_data"
    },
    {
     "name": "stdout",
     "output_type": "stream",
     "text": [
      "count    100000.000000\n",
      "mean          0.002023\n",
      "std           1.732045\n",
      "min          -8.760004\n",
      "25%          -1.162288\n",
      "50%           0.009424\n",
      "75%           1.158535\n",
      "max           7.238262\n",
      "Name: f0, dtype: float64\n"
     ]
    },
    {
     "data": {
      "image/png": "[encoded data removed]",
      "text/plain": [
       "<Figure size 576x288 with 2 Axes>"
      ]
     },
     "metadata": {
      "needs_background": "light"
     },
     "output_type": "display_data"
    },
    {
     "name": "stdout",
     "output_type": "stream",
     "text": [
      "count    100000.000000\n",
      "mean         -0.002081\n",
      "std           1.730417\n",
      "min          -7.084020\n",
      "25%          -1.174820\n",
      "50%          -0.009482\n",
      "75%           1.163678\n",
      "max           7.844801\n",
      "Name: f1, dtype: float64\n"
     ]
    },
    {
     "data": {
      "image/png": "[encoded data removed]",
      "text/plain": [
       "<Figure size 576x288 with 2 Axes>"
      ]
     },
     "metadata": {
      "needs_background": "light"
     },
     "output_type": "display_data"
    },
    {
     "name": "stdout",
     "output_type": "stream",
     "text": [
      "count    100000.000000\n",
      "mean          2.495128\n",
      "std           3.473445\n",
      "min         -11.970335\n",
      "25%           0.130359\n",
      "50%           2.484236\n",
      "75%           4.858794\n",
      "max          16.739402\n",
      "Name: f2, dtype: float64\n"
     ]
    },
    {
     "data": {
      "image/png": "[encoded data removed]",
      "text/plain": [
       "<Figure size 576x288 with 2 Axes>"
      ]
     },
     "metadata": {
      "needs_background": "light"
     },
     "output_type": "display_data"
    },
    {
     "name": "stdout",
     "output_type": "stream",
     "text": [
      "count    100000.000000\n",
      "mean         95.000000\n",
      "std          44.749921\n",
      "min           0.000000\n",
      "25%          59.450441\n",
      "50%          94.925613\n",
      "75%         130.595027\n",
      "max         190.029838\n",
      "Name: product, dtype: float64\n"
     ]
    }
   ],
   "source": [
    "eda(geo_data_2.drop('id', 1))"
   ]
  },
  {
   "cell_type": "markdown",
   "metadata": {},
   "source": [
    "___\n",
    "`f0`:\n",
    "- Распределение нормальное. Дисперсия низкая\n",
    "- Ящик с усами показывает наличие выбросов в данных.\n",
    "- Среднее значение по выборке составило 0. Медиана такая же, 0. Смещения и удлиненных хвостов не обнаружено, Эти статистики совпадают\n",
    "- Данные собраны в проммежутке от мин. значения -8.8 до макс. 7.2\n",
    "___\n",
    "`f1`:\n",
    "- - Распределение нормальное. Дисперсия низкая\n",
    "- Ящик с усами показал наличие выбросов в данных.\n",
    "- Медиана и Среднее воспадают - 0\n",
    "- Мин. знач. -7, а макс. знач. 8\n",
    "___\n",
    "`f2`:\n",
    "- Гистограмма сужается к центру. Скорее всего признак имеет низкую дисперсию\n",
    "- Тем не менее ящик с усами показывает выбросы по обоим хвостам\n",
    "- Среднее и медиана опять совпали. 2.5\n",
    "- Мин и макс значения равны -12 и 16 соответственно\n",
    "___\n",
    "`product` - целевой:\n",
    "- Данные об объемах запасов нефти имеют нормальное распределение со средним и медианой 95 ед. \n",
    "- Выбросы отсутствуют\n",
    "- Мин и макс равны 0 и 190 ед. соответственно.\n",
    "____"
   ]
  },
  {
   "cell_type": "code",
   "execution_count": 11,
   "metadata": {},
   "outputs": [
    {
     "data": {
      "image/png": "[encoded data removed]",
      "text/plain": [
       "<Figure size 576x432 with 2 Axes>"
      ]
     },
     "metadata": {
      "needs_background": "light"
     },
     "output_type": "display_data"
    }
   ],
   "source": [
    "spearman_matrix = geo_data_2.drop('id', 1).corr(method='spearman')\n",
    "plt.figure(figsize=(8, 6))\n",
    "sns.heatmap(spearman_matrix, annot=True, cmap='coolwarm', fmt=\".2f\", linewidths=0.5)\n",
    "plt.title(\"Spearman Heatmap for the Third region\")\n",
    "plt.show()"
   ]
  },
  {
   "cell_type": "markdown",
   "metadata": {},
   "source": [
    "Линейная зависимосто в данных почти отсутствует. Модели сложно будет верно предсказывать значения в этом регионе. "
   ]
  },
  {
   "cell_type": "markdown",
   "metadata": {},
   "source": [
    "#### Вывод"
   ]
  },
  {
   "cell_type": "markdown",
   "metadata": {},
   "source": [
    "Первый регион:\n",
    "- В первом регионе первый признак показал мультимодальное расределение с тремя ярковыраженными пиками. Наблюдается сегментирование. При этом среднее и медиана совпали.\n",
    "- У второго признака сегментация не такая выраженная. При этом гистограмма зеркалит по линии среднего, что указывает на особенность содержания данных. Скорее всего это результаты каких-то измерений.\n",
    "- Третий признак имеет низкую дисперсию и наличие выбросов по обоим хвостам гистограммы. \n",
    "- Целевой признак первого региона имеет нормальное распределение среднее значение составило 92 ед. \n",
    "- Корреляционный анализ показал, что f2 имеет среднюю положительную корреляцию с целевой переменной product. Также мы видим, что у признаков f0 и f1 наблюдается умеренная отрицательная корреляция. В любом случае, мы выяснили, что линейная зависимость в данных присутствует, поэтому Линейная регрессия нам подходит\n",
    "___\n",
    "Второй регион:\n",
    "- Первый признак имеет бимодальное распределение и высокую дисперсию. Данные разделились на две группы.\n",
    "- Второй признак имеет нормальное распределение и низкую дисперсию. По обе стороны графика обнаружены выбросы.\n",
    "- Третий признак имеет преобладание высоких значений, об этом говорит нам смещение среднего вправо. При этом данные сгруппировались и некоторые группы имеют равновероятные значения. \n",
    "- Целевой признак также имеет сгруппированный характер данных. Возможно это связанно с районированием скважин в данном регионе. Замечены пики у мин и макс значений. Среднее значение составило 69\n",
    "- Наблюдается сильная прямопропорциональная корреляция между признаком f2 и целевым product. Линейная зависимость присутствует.\n",
    "___\n",
    "Третий регион:\n",
    "- Все три признака имеют низкую дисперсию и выбросы по обе стороны хвоста. \n",
    "- Целевой признак распределен нормально со средним 95 ед. \n",
    "- Корреляционный анализ показал отсутсвие линейной зависимости в данных. "
   ]
  },
  {
   "cell_type": "markdown",
   "metadata": {},
   "source": [
    "## Обучение и проверка модели"
   ]
  },
  {
   "cell_type": "markdown",
   "metadata": {},
   "source": [
    "Нам нужно написать три модели Линейной регрессии для предсказания уровня запасов нефти в регионах. Т.к. подготовка данных у нас будет одинаковой, для начала мы напишем общий пайплайн по подготовке данных, подберем лучшее масштабирование и оценим их с помощью метрики RMSE. Далее для каждой модели проведем анализ остатков, чтобы оценить ее предсказательную способность. "
   ]
  },
  {
   "cell_type": "markdown",
   "metadata": {},
   "source": [
    "### Первая модель"
   ]
  },
  {
   "cell_type": "code",
   "execution_count": 12,
   "metadata": {},
   "outputs": [],
   "source": [
    "x_0 = geo_data_0.drop(['id', 'product'], 1)\n",
    "y_0 = geo_data_0['product']\n",
    "\n",
    "RANDOM_STATE=12345\n",
    "\n",
    "x_0_train, x_0_valid, y_0_train, y_0_valid = train_test_split(x_0, y_0, random_state=RANDOM_STATE, test_size=0.25)"
   ]
  },
  {
   "cell_type": "code",
   "execution_count": 13,
   "metadata": {},
   "outputs": [],
   "source": [
    "num_columns = x_0.columns\n",
    "\n",
    "data_preprocessor = ColumnTransformer(\n",
    "    [('num', MinMaxScaler(), num_columns)], \n",
    "    remainder='passthrough'\n",
    ")\n",
    "\n",
    "pipe_final= Pipeline([\n",
    "    ('preprocessor', data_preprocessor),\n",
    "    ('models', LinearRegression())\n",
    "]) "
   ]
  },
  {
   "cell_type": "code",
   "execution_count": 14,
   "metadata": {},
   "outputs": [
    {
     "name": "stdout",
     "output_type": "stream",
     "text": [
      "CPU times: user 1.13 s, sys: 1.15 s, total: 2.28 s\n",
      "Wall time: 2.26 s\n"
     ]
    },
    {
     "data": {
      "text/plain": [
       "GridSearchCV(estimator=Pipeline(steps=[('preprocessor',\n",
       "                                        ColumnTransformer(remainder='passthrough',\n",
       "                                                          transformers=[('num',\n",
       "                                                                         MinMaxScaler(),\n",
       "                                                                         Index(['f0', 'f1', 'f2'], dtype='object'))])),\n",
       "                                       ('models', LinearRegression())]),\n",
       "             n_jobs=-1,\n",
       "             param_grid=[{'models': [LinearRegression()],\n",
       "                          'preprocessor__num': [MinMaxScaler(),\n",
       "                                                StandardScaler(),\n",
       "                                                RobustScaler(),\n",
       "                                                'passthrough']}],\n",
       "             scoring='neg_mean_squared_error')"
      ]
     },
     "execution_count": 14,
     "metadata": {},
     "output_type": "execute_result"
    }
   ],
   "source": [
    "%%time\n",
    "\n",
    "param_distributions = [\n",
    "    # словарь для модели LinearRegression()\n",
    "    {\n",
    "        'models': [LinearRegression()],\n",
    "        'preprocessor__num': [MinMaxScaler(), StandardScaler(), RobustScaler(), 'passthrough']  \n",
    "    }\n",
    "] \n",
    "\n",
    "grid_search = GridSearchCV(\n",
    "    pipe_final, \n",
    "    param_grid=param_distributions, \n",
    "    scoring='neg_mean_squared_error', \n",
    "    n_jobs=-1\n",
    ")\n",
    "grid_search.fit(x_0_train, y_0_train)"
   ]
  },
  {
   "cell_type": "code",
   "execution_count": 15,
   "metadata": {},
   "outputs": [
    {
     "data": {
      "text/plain": [
       "Pipeline(steps=[('preprocessor',\n",
       "                 ColumnTransformer(remainder='passthrough',\n",
       "                                   transformers=[('num', MinMaxScaler(),\n",
       "                                                  Index(['f0', 'f1', 'f2'], dtype='object'))])),\n",
       "                ('models', LinearRegression())])"
      ]
     },
     "execution_count": 15,
     "metadata": {},
     "output_type": "execute_result"
    }
   ],
   "source": [
    "grid_search.best_estimator_"
   ]
  },
  {
   "cell_type": "code",
   "execution_count": 16,
   "metadata": {},
   "outputs": [
    {
     "name": "stdout",
     "output_type": "stream",
     "text": [
      "Средний запас предсказанного сырья в первом регионе 92.59\n",
      "RMSE 37.5794217150813\n"
     ]
    }
   ],
   "source": [
    "pred_0 = grid_search.predict(x_0_valid)\n",
    "\n",
    "print('Средний запас предсказанного сырья в первом регионе', round(pred_0.mean(), 2))\n",
    "print('RMSE', mean_squared_error(pred_0, y_0_valid)**0.5)"
   ]
  },
  {
   "cell_type": "markdown",
   "metadata": {},
   "source": [
    "В ходе моделирования выяснилось, что для первого региона в качестве скейлера лучше всего себя показал MinMaxScaler. Средний запас предсказанного сырья в первом регионе составил 92.59, а среднеквадратичная ошибка составила 37.5"
   ]
  },
  {
   "cell_type": "markdown",
   "metadata": {},
   "source": [
    "#### Анализ остатков"
   ]
  },
  {
   "cell_type": "code",
   "execution_count": 17,
   "metadata": {},
   "outputs": [
    {
     "data": {
      "image/png": "[encoded data removed]",
      "text/plain": [
       "<Figure size 432x288 with 1 Axes>"
      ]
     },
     "metadata": {
      "needs_background": "light"
     },
     "output_type": "display_data"
    },
    {
     "name": "stdout",
     "output_type": "stream",
     "text": [
      "Среднее по остаткам -0.514\n"
     ]
    }
   ],
   "source": [
    "sns.histplot(y_0_valid - pred_0, kde=False, \n",
    "             bins=15, color = 'blue', alpha=0.5)\n",
    "plt.title('Гистограмма остатков для ЛР первого региона')\n",
    "\n",
    "plt.axvline((y_0_valid - pred_0).mean(), color='red', linestyle='dashed', linewidth=2, label='Среднее')\n",
    "plt.axvline(0, color='blue', linestyle='dashed', linewidth=2, label='Ноль')\n",
    "plt.legend()\n",
    "plt.show()\n",
    "print(f'Среднее по остаткам {(y_0_valid - pred_0).mean():.3f}')"
   ]
  },
  {
   "cell_type": "markdown",
   "metadata": {},
   "source": [
    "Гистограмма отсатков показывает случайность остатков модели. При этом среднее и ноль практически совпадает - это означает, что наша модель хорошо улавливает закономерности в данных. Выбросы отсутствуют"
   ]
  },
  {
   "cell_type": "code",
   "execution_count": 18,
   "metadata": {},
   "outputs": [
    {
     "data": {
      "image/png": "[encoded data removed]",
      "text/plain": [
       "<Figure size 432x288 with 1 Axes>"
      ]
     },
     "metadata": {
      "needs_background": "light"
     },
     "output_type": "display_data"
    },
    {
     "name": "stdout",
     "output_type": "stream",
     "text": [
      "Дисперсия остатков 1412.0052504163323\n"
     ]
    }
   ],
   "source": [
    "sns.scatterplot(x=pred_0, y=y_0_valid - pred_0)\n",
    "plt.xlabel('Предсказания модели')\n",
    "plt.ylabel('Остатки')\n",
    "plt.title('Дисперсия остатков model_lr1')\n",
    "plt.show()\n",
    "print(f'Дисперсия остатков {(y_0_valid - pred_0).var()}')"
   ]
  },
  {
   "cell_type": "markdown",
   "metadata": {},
   "source": [
    "Дисперсия остатков равномерная по мере увеличения значения предсказаний модели."
   ]
  },
  {
   "cell_type": "markdown",
   "metadata": {},
   "source": [
    "### Вторая модель"
   ]
  },
  {
   "cell_type": "code",
   "execution_count": 19,
   "metadata": {},
   "outputs": [],
   "source": [
    "x_1 = geo_data_1.drop(['id', 'product'], 1)\n",
    "y_1 = geo_data_1['product']\n",
    "\n",
    "x_1_train, x_1_valid, y_1_train, y_1_valid = train_test_split(x_1, y_1, random_state=RANDOM_STATE, test_size=0.25)\n",
    "\n",
    "num_columns = x_1.columns"
   ]
  },
  {
   "cell_type": "code",
   "execution_count": 20,
   "metadata": {},
   "outputs": [
    {
     "name": "stdout",
     "output_type": "stream",
     "text": [
      "CPU times: user 1.17 s, sys: 1.36 s, total: 2.53 s\n",
      "Wall time: 2.51 s\n"
     ]
    },
    {
     "data": {
      "text/plain": [
       "GridSearchCV(estimator=Pipeline(steps=[('preprocessor',\n",
       "                                        ColumnTransformer(remainder='passthrough',\n",
       "                                                          transformers=[('num',\n",
       "                                                                         MinMaxScaler(),\n",
       "                                                                         Index(['f0', 'f1', 'f2'], dtype='object'))])),\n",
       "                                       ('models', LinearRegression())]),\n",
       "             n_jobs=-1,\n",
       "             param_grid=[{'models': [LinearRegression()],\n",
       "                          'preprocessor__num': [MinMaxScaler(),\n",
       "                                                StandardScaler(),\n",
       "                                                RobustScaler(),\n",
       "                                                'passthrough']}],\n",
       "             scoring='neg_mean_squared_error')"
      ]
     },
     "execution_count": 20,
     "metadata": {},
     "output_type": "execute_result"
    }
   ],
   "source": [
    "%%time\n",
    "grid_search_1 = GridSearchCV(\n",
    "    pipe_final, \n",
    "    param_grid=param_distributions, \n",
    "    scoring='neg_mean_squared_error', \n",
    "    n_jobs=-1\n",
    ")\n",
    "grid_search_1.fit(x_1_train, y_1_train)"
   ]
  },
  {
   "cell_type": "code",
   "execution_count": 21,
   "metadata": {},
   "outputs": [
    {
     "data": {
      "text/plain": [
       "Pipeline(steps=[('preprocessor',\n",
       "                 ColumnTransformer(remainder='passthrough',\n",
       "                                   transformers=[('num', MinMaxScaler(),\n",
       "                                                  Index(['f0', 'f1', 'f2'], dtype='object'))])),\n",
       "                ('models', LinearRegression())])"
      ]
     },
     "execution_count": 21,
     "metadata": {},
     "output_type": "execute_result"
    }
   ],
   "source": [
    "grid_search_1.best_estimator_"
   ]
  },
  {
   "cell_type": "code",
   "execution_count": 22,
   "metadata": {},
   "outputs": [
    {
     "name": "stdout",
     "output_type": "stream",
     "text": [
      "Средний запас предсказанного сырья в первом регионе 68.73\n",
      "RMSE 0.893099286775617\n"
     ]
    }
   ],
   "source": [
    "pred_1 = grid_search_1.predict(x_1_valid)\n",
    "\n",
    "print('Средний запас предсказанного сырья в первом регионе', round(pred_1.mean(), 2))\n",
    "print('RMSE', mean_squared_error(pred_1, y_1_valid)**0.5)"
   ]
  },
  {
   "cell_type": "markdown",
   "metadata": {},
   "source": [
    "Средняя ошибка прогноза второй модели составила 0.89 ед. При этом, средний запас предсказанного сырья во втором регионе составил 68.73. Меньше, чем в первом. Скейлер выбрали тот же. "
   ]
  },
  {
   "cell_type": "markdown",
   "metadata": {},
   "source": [
    "#### Анализ остатков"
   ]
  },
  {
   "cell_type": "code",
   "execution_count": 23,
   "metadata": {
    "scrolled": true
   },
   "outputs": [
    {
     "data": {
      "image/png": "[encoded data removed]",
      "text/plain": [
       "<Figure size 432x288 with 1 Axes>"
      ]
     },
     "metadata": {
      "needs_background": "light"
     },
     "output_type": "display_data"
    },
    {
     "name": "stdout",
     "output_type": "stream",
     "text": [
      "Среднее по остаткам -0.005\n"
     ]
    }
   ],
   "source": [
    "sns.histplot(y_1_valid - pred_1, kde=False, \n",
    "             bins=15, color = 'blue', alpha=0.5)\n",
    "plt.title('Гистограмма остатков для ЛР второго региона')\n",
    "\n",
    "plt.axvline((y_1_valid - pred_1).mean(), color='red', linestyle='dashed', linewidth=2, label='Среднее')\n",
    "plt.axvline(0, color='blue', linestyle='dashed', linewidth=2, label='Ноль')\n",
    "plt.legend()\n",
    "plt.show()\n",
    "print(f'Среднее по остаткам {(y_1_valid - pred_1).mean():.3f}')"
   ]
  },
  {
   "cell_type": "markdown",
   "metadata": {},
   "source": [
    "Гистограмма остатков показала, что среднее равно нулю, а распределение нормальное и без выбросов. Вторая модель еще лучше научилась находить закономерности в данных."
   ]
  },
  {
   "cell_type": "code",
   "execution_count": 24,
   "metadata": {},
   "outputs": [
    {
     "data": {
      "image/png": "[encoded data removed]",
      "text/plain": [
       "<Figure size 432x288 with 1 Axes>"
      ]
     },
     "metadata": {
      "needs_background": "light"
     },
     "output_type": "display_data"
    },
    {
     "name": "stdout",
     "output_type": "stream",
     "text": [
      "Дисперсия остатков 0.797628963671753\n"
     ]
    }
   ],
   "source": [
    "sns.scatterplot(x=pred_1, y=y_1_valid - pred_1)\n",
    "plt.xlabel('Предсказания модели')\n",
    "plt.ylabel('Остатки')\n",
    "plt.title('Дисперсия остатков model_lr2')\n",
    "plt.show()\n",
    "print(f'Дисперсия остатков {(y_1_valid - pred_1).var()}')"
   ]
  },
  {
   "cell_type": "markdown",
   "metadata": {},
   "source": [
    "Дисперсия остатков относительно равномерная по мере увеличения значений целевой переменной."
   ]
  },
  {
   "cell_type": "markdown",
   "metadata": {},
   "source": [
    "### Третья модель"
   ]
  },
  {
   "cell_type": "code",
   "execution_count": 25,
   "metadata": {},
   "outputs": [],
   "source": [
    "x_2 = geo_data_2.drop(['id', 'product'], 1)\n",
    "y_2 = geo_data_2['product']\n",
    "\n",
    "x_2_train, x_2_valid, y_2_train, y_2_valid = train_test_split(x_2, y_2, random_state=RANDOM_STATE, test_size=0.25)\n",
    "\n",
    "num_columns = x_2.columns"
   ]
  },
  {
   "cell_type": "code",
   "execution_count": 26,
   "metadata": {},
   "outputs": [
    {
     "name": "stdout",
     "output_type": "stream",
     "text": [
      "CPU times: user 1.31 s, sys: 1.55 s, total: 2.86 s\n",
      "Wall time: 2.87 s\n"
     ]
    },
    {
     "data": {
      "text/plain": [
       "GridSearchCV(estimator=Pipeline(steps=[('preprocessor',\n",
       "                                        ColumnTransformer(remainder='passthrough',\n",
       "                                                          transformers=[('num',\n",
       "                                                                         MinMaxScaler(),\n",
       "                                                                         Index(['f0', 'f1', 'f2'], dtype='object'))])),\n",
       "                                       ('models', LinearRegression())]),\n",
       "             n_jobs=-1,\n",
       "             param_grid=[{'models': [LinearRegression()],\n",
       "                          'preprocessor__num': [MinMaxScaler(),\n",
       "                                                StandardScaler(),\n",
       "                                                RobustScaler(),\n",
       "                                                'passthrough']}],\n",
       "             scoring='neg_mean_squared_error')"
      ]
     },
     "execution_count": 26,
     "metadata": {},
     "output_type": "execute_result"
    }
   ],
   "source": [
    "%%time\n",
    "grid_search_2 = GridSearchCV(\n",
    "    pipe_final, \n",
    "    param_grid=param_distributions, \n",
    "    scoring='neg_mean_squared_error', \n",
    "    n_jobs=-1\n",
    ")\n",
    "grid_search_2.fit(x_2_train, y_2_train)"
   ]
  },
  {
   "cell_type": "code",
   "execution_count": 27,
   "metadata": {},
   "outputs": [
    {
     "data": {
      "text/plain": [
       "Pipeline(steps=[('preprocessor',\n",
       "                 ColumnTransformer(remainder='passthrough',\n",
       "                                   transformers=[('num', MinMaxScaler(),\n",
       "                                                  Index(['f0', 'f1', 'f2'], dtype='object'))])),\n",
       "                ('models', LinearRegression())])"
      ]
     },
     "execution_count": 27,
     "metadata": {},
     "output_type": "execute_result"
    }
   ],
   "source": [
    "grid_search_2.best_estimator_"
   ]
  },
  {
   "cell_type": "code",
   "execution_count": 28,
   "metadata": {},
   "outputs": [
    {
     "name": "stdout",
     "output_type": "stream",
     "text": [
      "Средний запас предсказанного сырья в первом регионе 94.97\n",
      "RMSE 40.02970873393434\n"
     ]
    }
   ],
   "source": [
    "pred_2 = grid_search_2.predict(x_2_valid)\n",
    "\n",
    "print('Средний запас предсказанного сырья в первом регионе', round(pred_2.mean(), 2))\n",
    "print('RMSE', mean_squared_error(pred_2, y_2_valid)**0.5)"
   ]
  },
  {
   "cell_type": "markdown",
   "metadata": {},
   "source": [
    "Третья модель выбрала тот же скейлер, что и предыдущие. При этом она показала самый высоукий средний запас предсказанного сырья со средней ошибкой в предсказаниях, равной 40."
   ]
  },
  {
   "cell_type": "markdown",
   "metadata": {},
   "source": [
    "#### Анализ остатков"
   ]
  },
  {
   "cell_type": "code",
   "execution_count": 29,
   "metadata": {},
   "outputs": [
    {
     "data": {
      "image/png": "[encoded data removed]",
      "text/plain": [
       "<Figure size 432x288 with 1 Axes>"
      ]
     },
     "metadata": {
      "needs_background": "light"
     },
     "output_type": "display_data"
    },
    {
     "name": "stdout",
     "output_type": "stream",
     "text": [
      "Среднее по остаткам -0.081\n"
     ]
    }
   ],
   "source": [
    "sns.histplot(y_2_valid - pred_2, kde=False, \n",
    "             bins=15, color = 'blue', alpha=0.5)\n",
    "plt.title('Гистограмма остатков для ЛР третьего региона')\n",
    "\n",
    "plt.axvline((y_2_valid - pred_2).mean(), color='red', linestyle='dashed', linewidth=2, label='Среднее')\n",
    "plt.axvline(0, color='blue', linestyle='dashed', linewidth=2, label='Ноль')\n",
    "plt.legend()\n",
    "plt.show()\n",
    "print(f'Среднее по остаткам {(y_2_valid - pred_2).mean():.3f}')"
   ]
  },
  {
   "cell_type": "markdown",
   "metadata": {},
   "source": [
    "Гистограмма остатков имеет нормальное распределение со средним 0. "
   ]
  },
  {
   "cell_type": "code",
   "execution_count": 30,
   "metadata": {},
   "outputs": [
    {
     "data": {
      "image/png": "[encoded data removed]",
      "text/plain": [
       "<Figure size 432x288 with 1 Axes>"
      ]
     },
     "metadata": {
      "needs_background": "light"
     },
     "output_type": "display_data"
    },
    {
     "name": "stdout",
     "output_type": "stream",
     "text": [
      "Дисперсия остатков 1602.4351479628458\n"
     ]
    }
   ],
   "source": [
    "sns.scatterplot(x=pred_2, y=y_2_valid - pred_2)\n",
    "plt.xlabel('Предсказания модели')\n",
    "plt.ylabel('Остатки')\n",
    "plt.title('Дисперсия остатков model_lr3')\n",
    "plt.show()\n",
    "print(f'Дисперсия остатков {(y_2_valid - pred_2).var()}')"
   ]
  },
  {
   "cell_type": "markdown",
   "metadata": {},
   "source": [
    "Дисперсия равномерная по всей ширине графика."
   ]
  },
  {
   "cell_type": "markdown",
   "metadata": {},
   "source": [
    "### Вывод по моделированию"
   ]
  },
  {
   "cell_type": "markdown",
   "metadata": {},
   "source": [
    "В ходе моделирования мы написали три модели для расчета запасов сырья в трех регионах. Все три модели масштабировали признаки через MinMaxScaler. Теперь сравним среднее предсказанное количество запасов сырья, анализ остатков и RMSE каждой модели:\n",
    "- В третьем регионе по предсказанию среднее предсказанное кол-во запасов больше всего - 94.97 единиц. \n",
    "- При этом среднеквадратичная ошибка ниже всего у второй модели - 0.89 ед.\n",
    "- Анализ остатков показал, что вторая и третья модели имеют остатки, нормально распределенные вокруг нуля. При этом дисперсия остатков везде равномерная. \n",
    "- Среднее по всем трем регионам, исходя из Исследовательского Анализа Данных составило 92.5, 69 и 95 соответственно. Судя по моделированию и исследовательскому анализу данных, третий регион, в среднем, имеет наибольшее кол-во запасов сырья. Далее проверим прибыльность каждого региона и оформим финальный вывод."
   ]
  },
  {
   "cell_type": "markdown",
   "metadata": {},
   "source": [
    "## Подготовка к расчёту прибыли"
   ]
  },
  {
   "cell_type": "markdown",
   "metadata": {},
   "source": [
    "Введем новые константы. Для начала нам нужно рассчитать достаточный объем сырья для безубыточной разработки новой скважины. "
   ]
  },
  {
   "cell_type": "code",
   "execution_count": 31,
   "metadata": {},
   "outputs": [
    {
     "name": "stdout",
     "output_type": "stream",
     "text": [
      "Объем сырья для безубыточной разработки 111.11\n"
     ]
    }
   ],
   "source": [
    "ONE_UNIT_INCOME = 450 # с одной единицы сырья мы получим 450 тыс. руб. \n",
    "BUDGET = 10_000_000 # бюджет на разработку 10 000 000 тыс. руб\n",
    "COUNT=200 # лушчие скважины \n",
    "EXPLOR=500 # разведка\n",
    "\n",
    "state = np.random.RandomState(12345)\n",
    "NUM_SAMPLES=1000\n",
    "alpha = 0.025\n",
    "\n",
    "volume_of_materials = (BUDGET / COUNT) / ONE_UNIT_INCOME\n",
    "print('Объем сырья для безубыточной разработки', round(volume_of_materials, 2))"
   ]
  },
  {
   "cell_type": "markdown",
   "metadata": {},
   "source": [
    "Теперь сравним объем сырья для безубыточной разработки со средним предсказанным объемом сырья на валидации у лучших 200 точек"
   ]
  },
  {
   "cell_type": "code",
   "execution_count": 32,
   "metadata": {},
   "outputs": [
    {
     "name": "stdout",
     "output_type": "stream",
     "text": [
      "Средний предсказанный объем сырья у лучших 200 точек первого региона 155.511654194057\n"
     ]
    }
   ],
   "source": [
    "print('Средний предсказанный объем сырья у лучших 200 точек первого региона', \n",
    "      pd.Series(pred_0).sort_values(ascending=False)[:200].mean())"
   ]
  },
  {
   "cell_type": "code",
   "execution_count": 33,
   "metadata": {},
   "outputs": [
    {
     "name": "stdout",
     "output_type": "stream",
     "text": [
      "Средний предсказанный объем сырья у лучших 200 точек второго региона 138.73013391081716\n"
     ]
    }
   ],
   "source": [
    "print('Средний предсказанный объем сырья у лучших 200 точек второго региона', \n",
    "      pd.Series(pred_1).sort_values(ascending=False)[:200].mean())"
   ]
  },
  {
   "cell_type": "code",
   "execution_count": 34,
   "metadata": {},
   "outputs": [
    {
     "name": "stdout",
     "output_type": "stream",
     "text": [
      "Средний предсказанный объем сырья у лучших 200 точек третьего региона 148.01949329159171\n"
     ]
    }
   ],
   "source": [
    "print('Средний предсказанный объем сырья у лучших 200 точек третьего региона', \n",
    "      pd.Series(pred_2).sort_values(ascending=False)[:200].mean())"
   ]
  },
  {
   "cell_type": "markdown",
   "metadata": {},
   "source": [
    "Теперь соберем предсказания и таргет в один датафрейм для удобных вычеслений"
   ]
  },
  {
   "cell_type": "code",
   "execution_count": 35,
   "metadata": {},
   "outputs": [
    {
     "data": {
      "text/html": [
       "<div>\n",
       "<style scoped>\n",
       "    .dataframe tbody tr th:only-of-type {\n",
       "        vertical-align: middle;\n",
       "    }\n",
       "\n",
       "    .dataframe tbody tr th {\n",
       "        vertical-align: top;\n",
       "    }\n",
       "\n",
       "    .dataframe thead th {\n",
       "        text-align: right;\n",
       "    }\n",
       "</style>\n",
       "<table border=\"1\" class=\"dataframe\">\n",
       "  <thead>\n",
       "    <tr style=\"text-align: right;\">\n",
       "      <th></th>\n",
       "      <th>pred</th>\n",
       "      <th>real</th>\n",
       "    </tr>\n",
       "  </thead>\n",
       "  <tbody>\n",
       "    <tr>\n",
       "      <th>0</th>\n",
       "      <td>95.894952</td>\n",
       "      <td>10.038645</td>\n",
       "    </tr>\n",
       "    <tr>\n",
       "      <th>1</th>\n",
       "      <td>77.572583</td>\n",
       "      <td>114.551489</td>\n",
       "    </tr>\n",
       "    <tr>\n",
       "      <th>2</th>\n",
       "      <td>77.892640</td>\n",
       "      <td>132.603635</td>\n",
       "    </tr>\n",
       "    <tr>\n",
       "      <th>3</th>\n",
       "      <td>90.175134</td>\n",
       "      <td>169.072125</td>\n",
       "    </tr>\n",
       "    <tr>\n",
       "      <th>4</th>\n",
       "      <td>70.510088</td>\n",
       "      <td>122.325180</td>\n",
       "    </tr>\n",
       "  </tbody>\n",
       "</table>\n",
       "</div>"
      ],
      "text/plain": [
       "        pred        real\n",
       "0  95.894952   10.038645\n",
       "1  77.572583  114.551489\n",
       "2  77.892640  132.603635\n",
       "3  90.175134  169.072125\n",
       "4  70.510088  122.325180"
      ]
     },
     "execution_count": 35,
     "metadata": {},
     "output_type": "execute_result"
    }
   ],
   "source": [
    "materials_0 = pd.DataFrame(pd.Series(pred_0))\n",
    "materials_0['real'] = y_0_valid.reset_index(drop=True)\n",
    "materials_0.columns = ['pred', 'real']\n",
    "materials_0.head()"
   ]
  },
  {
   "cell_type": "code",
   "execution_count": 36,
   "metadata": {},
   "outputs": [
    {
     "data": {
      "text/html": [
       "<div>\n",
       "<style scoped>\n",
       "    .dataframe tbody tr th:only-of-type {\n",
       "        vertical-align: middle;\n",
       "    }\n",
       "\n",
       "    .dataframe tbody tr th {\n",
       "        vertical-align: top;\n",
       "    }\n",
       "\n",
       "    .dataframe thead th {\n",
       "        text-align: right;\n",
       "    }\n",
       "</style>\n",
       "<table border=\"1\" class=\"dataframe\">\n",
       "  <thead>\n",
       "    <tr style=\"text-align: right;\">\n",
       "      <th></th>\n",
       "      <th>pred</th>\n",
       "      <th>real</th>\n",
       "    </tr>\n",
       "  </thead>\n",
       "  <tbody>\n",
       "    <tr>\n",
       "      <th>0</th>\n",
       "      <td>82.663314</td>\n",
       "      <td>80.859783</td>\n",
       "    </tr>\n",
       "    <tr>\n",
       "      <th>1</th>\n",
       "      <td>54.431786</td>\n",
       "      <td>53.906522</td>\n",
       "    </tr>\n",
       "    <tr>\n",
       "      <th>2</th>\n",
       "      <td>29.748760</td>\n",
       "      <td>30.132364</td>\n",
       "    </tr>\n",
       "    <tr>\n",
       "      <th>3</th>\n",
       "      <td>53.552133</td>\n",
       "      <td>53.906522</td>\n",
       "    </tr>\n",
       "    <tr>\n",
       "      <th>4</th>\n",
       "      <td>1.243856</td>\n",
       "      <td>0.000000</td>\n",
       "    </tr>\n",
       "  </tbody>\n",
       "</table>\n",
       "</div>"
      ],
      "text/plain": [
       "        pred       real\n",
       "0  82.663314  80.859783\n",
       "1  54.431786  53.906522\n",
       "2  29.748760  30.132364\n",
       "3  53.552133  53.906522\n",
       "4   1.243856   0.000000"
      ]
     },
     "execution_count": 36,
     "metadata": {},
     "output_type": "execute_result"
    }
   ],
   "source": [
    "materials_1 = pd.DataFrame(pd.Series(pred_1))\n",
    "materials_1['real'] = y_1_valid.reset_index(drop=True)\n",
    "materials_1.columns = ['pred', 'real']\n",
    "materials_1.head()"
   ]
  },
  {
   "cell_type": "code",
   "execution_count": 37,
   "metadata": {},
   "outputs": [
    {
     "data": {
      "text/html": [
       "<div>\n",
       "<style scoped>\n",
       "    .dataframe tbody tr th:only-of-type {\n",
       "        vertical-align: middle;\n",
       "    }\n",
       "\n",
       "    .dataframe tbody tr th {\n",
       "        vertical-align: top;\n",
       "    }\n",
       "\n",
       "    .dataframe thead th {\n",
       "        text-align: right;\n",
       "    }\n",
       "</style>\n",
       "<table border=\"1\" class=\"dataframe\">\n",
       "  <thead>\n",
       "    <tr style=\"text-align: right;\">\n",
       "      <th></th>\n",
       "      <th>pred</th>\n",
       "      <th>real</th>\n",
       "    </tr>\n",
       "  </thead>\n",
       "  <tbody>\n",
       "    <tr>\n",
       "      <th>0</th>\n",
       "      <td>93.599633</td>\n",
       "      <td>61.212375</td>\n",
       "    </tr>\n",
       "    <tr>\n",
       "      <th>1</th>\n",
       "      <td>75.105159</td>\n",
       "      <td>41.850118</td>\n",
       "    </tr>\n",
       "    <tr>\n",
       "      <th>2</th>\n",
       "      <td>90.066809</td>\n",
       "      <td>57.776581</td>\n",
       "    </tr>\n",
       "    <tr>\n",
       "      <th>3</th>\n",
       "      <td>105.162375</td>\n",
       "      <td>100.053761</td>\n",
       "    </tr>\n",
       "    <tr>\n",
       "      <th>4</th>\n",
       "      <td>115.303310</td>\n",
       "      <td>109.897122</td>\n",
       "    </tr>\n",
       "  </tbody>\n",
       "</table>\n",
       "</div>"
      ],
      "text/plain": [
       "         pred        real\n",
       "0   93.599633   61.212375\n",
       "1   75.105159   41.850118\n",
       "2   90.066809   57.776581\n",
       "3  105.162375  100.053761\n",
       "4  115.303310  109.897122"
      ]
     },
     "execution_count": 37,
     "metadata": {},
     "output_type": "execute_result"
    }
   ],
   "source": [
    "materials_2 = pd.DataFrame(pd.Series(pred_2))\n",
    "materials_2['real'] = y_2_valid.reset_index(drop=True)\n",
    "materials_2.columns = ['pred', 'real']\n",
    "materials_2.head()"
   ]
  },
  {
   "cell_type": "markdown",
   "metadata": {},
   "source": [
    "### Вывод по подготовке к расчету прибыли"
   ]
  },
  {
   "cell_type": "markdown",
   "metadata": {},
   "source": [
    "Исходя из значений среднего предсказанного объема сырья для 200 лучших точек каждого региона можно сделать вывод ,что каждый из трех регионов пригоден для безубыточной разработки скважины. Теперь остается только посчитать прибыль"
   ]
  },
  {
   "cell_type": "markdown",
   "metadata": {},
   "source": [
    "## Расчёт прибыли и рисков "
   ]
  },
  {
   "cell_type": "code",
   "execution_count": 38,
   "metadata": {},
   "outputs": [],
   "source": [
    "def income(one_unit_income, data, budget, count):\n",
    "    best_points = data.sort_values(['pred'], ascending=False)['real'][:count] # сортируем датасет по столбцу с предсказаниями \n",
    "                                                              # и выбираем первые 200 точек по столбцу с реальными значениями\n",
    "    total_volume = sum(best_points) # суммируем значения\n",
    "    return (total_volume * one_unit_income) - budget  # считаем прибыль - расходы на разработку скважины"
   ]
  },
  {
   "cell_type": "code",
   "execution_count": 39,
   "metadata": {},
   "outputs": [
    {
     "name": "stdout",
     "output_type": "stream",
     "text": [
      "Прибыль первого региона равна 3320826.0431398544\n",
      "Прибыль второго региона равна 2415086.6966815516\n",
      "Прибыль третьего региона равна 2710349.9635998365\n"
     ]
    }
   ],
   "source": [
    "print('Прибыль первого региона равна', income(data=materials_0, \n",
    "                                              one_unit_income=ONE_UNIT_INCOME, \n",
    "                                              budget=BUDGET,\n",
    "                                              count=COUNT\n",
    "                                              ))\n",
    "print('Прибыль второго региона равна', income(data=materials_1, \n",
    "                                              one_unit_income=ONE_UNIT_INCOME, \n",
    "                                              budget=BUDGET,\n",
    "                                              count=COUNT\n",
    "                                              ))\n",
    "print('Прибыль третьего региона равна', income(data=materials_2, \n",
    "                                               one_unit_income=ONE_UNIT_INCOME, \n",
    "                                               budget=BUDGET,\n",
    "                                               count=COUNT\n",
    "                                               ))"
   ]
  },
  {
   "cell_type": "markdown",
   "metadata": {},
   "source": [
    "Теперь посчитаем распределение прибыли с помощью техники Bootstrap для первого региона"
   ]
  },
  {
   "cell_type": "code",
   "execution_count": 40,
   "metadata": {},
   "outputs": [],
   "source": [
    "def bootstrap_income(one_unit_income, data, explor, num_samples, budget, count):\n",
    "    incomes = []\n",
    "    for _ in range(num_samples):\n",
    "        best_points = data.sample(explor, replace=True, random_state=state)\n",
    "        income_value = income(one_unit_income, best_points, budget, count)\n",
    "        incomes.append(income_value)\n",
    "    return incomes"
   ]
  },
  {
   "cell_type": "code",
   "execution_count": 41,
   "metadata": {},
   "outputs": [],
   "source": [
    "bootstrap_first = pd.Series(bootstrap_income(ONE_UNIT_INCOME, materials_0, EXPLOR, NUM_SAMPLES, BUDGET, COUNT))\n",
    "bootstrap_second = pd.Series(bootstrap_income(ONE_UNIT_INCOME, materials_1, EXPLOR, NUM_SAMPLES, BUDGET, COUNT))\n",
    "bootstrap_third = pd.Series(bootstrap_income(ONE_UNIT_INCOME, materials_2, EXPLOR, NUM_SAMPLES, BUDGET, COUNT))"
   ]
  },
  {
   "cell_type": "markdown",
   "metadata": {},
   "source": [
    "После того как мы с помощью бутстрэпа посчитали распределение прибыли - время приступить к расчету доверительного интервала!"
   ]
  },
  {
   "cell_type": "code",
   "execution_count": 42,
   "metadata": {},
   "outputs": [
    {
     "name": "stdout",
     "output_type": "stream",
     "text": [
      "Точка минимум доверительного интервала первого региона -111215.5458904942\n",
      "Точка максимум доверительного интервала первого региона 909766.94155342\n"
     ]
    }
   ],
   "source": [
    "print('Точка минимум доверительного интервала первого региона', bootstrap_first.quantile(q=alpha))\n",
    "print('Точка максимум доверительного интервала первого региона', bootstrap_first.quantile(q=1-alpha))"
   ]
  },
  {
   "cell_type": "code",
   "execution_count": 43,
   "metadata": {
    "scrolled": true
   },
   "outputs": [
    {
     "name": "stdout",
     "output_type": "stream",
     "text": [
      "Точка минимум доверительного интервала второго региона 78050.81075175606\n",
      "Точка максимум доверительного интервала второго региона 862952.0602637421\n"
     ]
    }
   ],
   "source": [
    "print('Точка минимум доверительного интервала второго региона', bootstrap_second.quantile(q=alpha))\n",
    "print('Точка максимум доверительного интервала второго региона', bootstrap_second.quantile(q=1-alpha))"
   ]
  },
  {
   "cell_type": "code",
   "execution_count": 44,
   "metadata": {
    "scrolled": true
   },
   "outputs": [
    {
     "name": "stdout",
     "output_type": "stream",
     "text": [
      "Точка минимум доверительного интервала третьего региона -112227.62537857192\n",
      "Точка максимум доверительного интервала третьего региона 934562.9145511603\n"
     ]
    }
   ],
   "source": [
    "print('Точка минимум доверительного интервала третьего региона', bootstrap_third.quantile(q=alpha))\n",
    "print('Точка максимум доверительного интервала третьего региона', bootstrap_third.quantile(q=1-alpha))"
   ]
  },
  {
   "cell_type": "markdown",
   "metadata": {},
   "source": [
    "После расчета доверительного интервала нам необходимо посчитать риски убыточности для каждого региона по 200 лeчшим точкам. Для этого мы сравним объем сырья каждой точки с объемом для безубыточной разработки и посчитаем число точек, объем сырья которых ниже указанного"
   ]
  },
  {
   "cell_type": "code",
   "execution_count": 45,
   "metadata": {},
   "outputs": [
    {
     "name": "stdout",
     "output_type": "stream",
     "text": [
      "Вероятность убытков больше порогового значения: исключаем первый регион\n",
      "Вероятность 6.9\n"
     ]
    }
   ],
   "source": [
    "count = 0\n",
    "for i in range(1000):\n",
    "    if (bootstrap_first[i] <= 0).any():\n",
    "        count += 1\n",
    "\n",
    "prob = (count / len(bootstrap_first)) * 100\n",
    "\n",
    "if alpha*100 >  prob:\n",
    "    print('Вероятность убытков меньше порогового значения: не исключаем первый регион')\n",
    "else:\n",
    "    print('Вероятность убытков больше порогового значения: исключаем первый регион')\n",
    "    \n",
    "print('Вероятность', prob)"
   ]
  },
  {
   "cell_type": "code",
   "execution_count": 46,
   "metadata": {},
   "outputs": [
    {
     "name": "stdout",
     "output_type": "stream",
     "text": [
      "Вероятность убытков меньше порогового значения: не исключаем второй регион\n",
      "Вероятность 0.7000000000000001\n"
     ]
    }
   ],
   "source": [
    "count = 0\n",
    "for i in range(1000):\n",
    "    if (bootstrap_second[i] <= 0).any():\n",
    "        count += 1\n",
    "\n",
    "prob = (count / len(bootstrap_second)) * 100\n",
    "\n",
    "if alpha*100 >  prob:\n",
    "    print('Вероятность убытков меньше порогового значения: не исключаем второй регион')\n",
    "else:\n",
    "    print('Вероятность убытков больше порогового значения: исключаем второй регион')\n",
    "    \n",
    "print('Вероятность', prob)"
   ]
  },
  {
   "cell_type": "code",
   "execution_count": 47,
   "metadata": {},
   "outputs": [
    {
     "name": "stdout",
     "output_type": "stream",
     "text": [
      "Вероятность убытков больше порогового значения: исключаем третий регион\n",
      "Вероятность 6.5\n"
     ]
    }
   ],
   "source": [
    "count = 0\n",
    "for i in range(1000):\n",
    "    if (bootstrap_third[i] <= 0).any():\n",
    "        count += 1\n",
    "\n",
    "prob = (count / len(bootstrap_third)) * 100\n",
    "\n",
    "if alpha*100 >  prob:\n",
    "    print('Вероятность убытков меньше порогового значения: не исключаем третий регион')\n",
    "else:\n",
    "    print('Вероятность убытков больше порогового значения: исключаем третий регион')\n",
    "    \n",
    "print('Вероятность', prob)"
   ]
  },
  {
   "cell_type": "markdown",
   "metadata": {},
   "source": [
    "### Вывод."
   ]
  },
  {
   "cell_type": "markdown",
   "metadata": {},
   "source": [
    "Исходя из расчетов среднего объема сырья, прибыли, доверительного интервала и анализа рисков можно сделать следующий вывод. Так как, анализ среднего объема сырья показал, что все три региона пригодны для бурения скважины, но анализ рисков показал, что первый и третий регион имеют риски убыточности, равные 6.9% и 6.5% соответственно, что выше порогового значения 2.5%. Таким образом, наиболее выгодным регионом для бурения скважины является Второй регион. Прибыль с него составит 2415087 тыс руб., а доверительный интервал [78051, 862952]. Риск убыточности составил 0.7%"
   ]
  },
  {
   "cell_type": "markdown",
   "metadata": {},
   "source": [
    "## Вывод"
   ]
  },
  {
   "cell_type": "markdown",
   "metadata": {},
   "source": [
    "В ходе выполнения проекта была поставлена задача разработать модель, которая будет предсказывать объем сырья для каждого региона, который в последствие будет необходим нам для расчета прибыльности и принятия решения по целесообразности бурения там скважины. \n",
    "Нам были предоставлены 3 датасета с данными по точкам каждого региона и вот какие закономерности мы там нашли:\n",
    "___\n",
    "Первый регион:\n",
    "- В первом регионе первый признак показал мультимодальное расределение с тремя ярковыраженными пиками. Наблюдается сегментирование. При этом среднее и медиана совпали.\n",
    "- У второго признака сегментация не такая выраженная. При этом гистограмма зеркалит по линии среднего, что указывает на особенность содержания данных. Скорее всего это результаты каких-то измерений.\n",
    "- Третий признак имеет низкую дисперсию и наличие выбросов по обоим хвостам гистограммы. \n",
    "- Целевой признак первого региона имеет нормальное распределение среднее значение составило 92 ед. \n",
    "- Корреляционный анализ показал, что f2 имеет среднюю положительную корреляцию с целевой переменной product. Также мы видим, что у признаков f0 и f1 наблюдается умеренная отрицательная корреляция. В любом случае, мы выяснили, что линейная зависимость в данных присутствует, поэтому Линейная регрессия нам подходит\n",
    "___\n",
    "Второй регион:\n",
    "- Первый признак имеет бимодальное распределение и высокую дисперсию. Данные разделились на две группы.\n",
    "- Второй признак имеет нормальное распределение и низкую дисперсию. По обе стороны графика обнаружены выбросы.\n",
    "- Третий признак имеет преобладание высоких значений, об этом говорит нам смещение среднего вправо. При этом данные сгруппировались и некоторые группы имеют равновероятные значения. \n",
    "- Целевой признак также имеет сгруппированный характер данных. Возможно это связанно с районированием скважин в данном регионе. Замечены пики у мин и макс значений. Среднее значение составило 69\n",
    "- Наблюдается сильная прямопропорциональная корреляция между признаком f2 и целевым product. Линейная зависимость присутствует.\n",
    "___\n",
    "Третий регион:\n",
    "- Все три признака имеют низкую дисперсию и выбросы по обе стороны хвоста. \n",
    "- Целевой признак распределен нормально со средним 95 ед. \n",
    "- Корреляционный анализ показал отсутсвие линейной зависимости в данных. "
   ]
  },
  {
   "cell_type": "markdown",
   "metadata": {},
   "source": [
    "___\n",
    "После исследования мы написали пайплайна для модели линейной регрессии для каждого региона и провели анализ остатков. Вот какие выводы нам удалось сделать: Все три модели масштабировали признаки через MinMaxScaler. Теперь сравним среднее предсказанное количество запасов сырья, анализ остатков и RMSE каждой модели:\n",
    "- В третьем регионе по предсказанию среднее предсказанное кол-во запасов больше всего - 94.97 единиц. \n",
    "- При этом среднеквадратичная ошибка ниже всего у второй модели - 0.89 ед.\n",
    "- Анализ остатков показал, что вторая и третья модели имеют остатки, нормально распределенные вокруг нуля. При этом дисперсия остатков везде равномерная. \n",
    "- Среднее по всем трем регионам, исходя из Исследовательского Анализа Данных составило 92.5, 69 и 95 соответственно. Судя по моделированию и исследовательскому анализу данных, третий регион, в среднем, имеет наибольшее кол-во запасов сырья.\n",
    "___"
   ]
  },
  {
   "cell_type": "markdown",
   "metadata": {},
   "source": [
    "При подсчете прибыли и анализе рисков мы сделали следующий вывод: Исходя из расчетов среднего объема сырья, прибыли, доверительного интервала и анализа рисков можно сделать следующий вывод. Так как, анализ среднего объема сырья показал, что все три региона пригодны для бурения скважины, но анализ рисков показал, что первый и третий регион имеют риски убыточности, равные 6.9% и 6.5% соответственно, что выше порогового значения 2.5%. Таким образом, наиболее выгодным регионом для бурения скважины является Второй регион. Прибыль с него составит 2415087 тыс руб., а доверительный интервал [78051, 862952]. Риск убыточности составил 0.7%"
   ]
  }
 ],
 "metadata": {
  "ExecuteTimeLog": [
   {
    "duration": 703,
    "start_time": "2024-05-11T19:09:04.440Z"
   },
   {
    "duration": 7,
    "start_time": "2024-05-11T19:09:06.312Z"
   },
   {
    "duration": 446,
    "start_time": "2024-05-11T19:09:25.650Z"
   },
   {
    "duration": 197,
    "start_time": "2024-05-11T19:12:33.450Z"
   },
   {
    "duration": 38,
    "start_time": "2024-05-11T19:14:09.651Z"
   },
   {
    "duration": 7,
    "start_time": "2024-05-11T19:14:30.892Z"
   },
   {
    "duration": 209,
    "start_time": "2024-05-11T19:15:38.089Z"
   },
   {
    "duration": 136,
    "start_time": "2024-05-11T19:16:11.678Z"
   },
   {
    "duration": 210,
    "start_time": "2024-05-11T19:17:53.043Z"
   },
   {
    "duration": 218,
    "start_time": "2024-05-11T19:17:57.728Z"
   },
   {
    "duration": 4,
    "start_time": "2024-05-11T19:21:25.118Z"
   },
   {
    "duration": 2359,
    "start_time": "2024-05-11T19:22:23.244Z"
   },
   {
    "duration": 6,
    "start_time": "2024-05-11T19:24:33.436Z"
   },
   {
    "duration": 1747,
    "start_time": "2024-05-11T19:24:56.173Z"
   },
   {
    "duration": 63,
    "start_time": "2024-05-11T19:47:38.959Z"
   },
   {
    "duration": 377,
    "start_time": "2024-05-11T19:48:00.216Z"
   },
   {
    "duration": 2024,
    "start_time": "2024-05-11T19:54:41.136Z"
   },
   {
    "duration": 330,
    "start_time": "2024-05-11T20:19:14.794Z"
   },
   {
    "duration": 364,
    "start_time": "2024-05-11T20:19:33.929Z"
   },
   {
    "duration": 1890,
    "start_time": "2024-05-11T20:21:33.002Z"
   },
   {
    "duration": 398,
    "start_time": "2024-05-11T20:21:58.045Z"
   },
   {
    "duration": 353,
    "start_time": "2024-05-11T20:26:38.845Z"
   },
   {
    "duration": 107,
    "start_time": "2024-05-11T20:27:38.742Z"
   },
   {
    "duration": 13,
    "start_time": "2024-05-11T20:27:43.872Z"
   },
   {
    "duration": 19,
    "start_time": "2024-05-11T20:27:51.212Z"
   },
   {
    "duration": 4815,
    "start_time": "2024-05-11T20:28:47.958Z"
   },
   {
    "duration": 32,
    "start_time": "2024-05-11T20:29:43.549Z"
   },
   {
    "duration": 4,
    "start_time": "2024-05-11T21:02:52.172Z"
   },
   {
    "duration": 24,
    "start_time": "2024-05-11T21:05:06.989Z"
   },
   {
    "duration": 9,
    "start_time": "2024-05-11T21:05:15.188Z"
   },
   {
    "duration": 7,
    "start_time": "2024-05-11T21:06:52.733Z"
   },
   {
    "duration": 2,
    "start_time": "2024-05-11T21:07:40.744Z"
   },
   {
    "duration": 31,
    "start_time": "2024-05-11T21:08:16.185Z"
   },
   {
    "duration": 3,
    "start_time": "2024-05-11T21:10:41.829Z"
   },
   {
    "duration": 3,
    "start_time": "2024-05-11T21:12:19.275Z"
   },
   {
    "duration": 47,
    "start_time": "2024-05-11T21:12:19.719Z"
   },
   {
    "duration": 62,
    "start_time": "2024-05-11T21:12:39.459Z"
   },
   {
    "duration": 372,
    "start_time": "2024-05-11T21:12:44.416Z"
   },
   {
    "duration": 46,
    "start_time": "2024-05-11T21:13:08.022Z"
   },
   {
    "duration": 45,
    "start_time": "2024-05-11T21:13:19.033Z"
   },
   {
    "duration": 4,
    "start_time": "2024-05-11T21:13:29.126Z"
   },
   {
    "duration": 1296,
    "start_time": "2024-05-11T21:13:34.078Z"
   },
   {
    "duration": 151,
    "start_time": "2024-05-11T21:13:35.376Z"
   },
   {
    "duration": 124,
    "start_time": "2024-05-11T21:13:35.529Z"
   },
   {
    "duration": 126,
    "start_time": "2024-05-11T21:13:35.654Z"
   },
   {
    "duration": 6,
    "start_time": "2024-05-11T21:13:35.782Z"
   },
   {
    "duration": 1922,
    "start_time": "2024-05-11T21:13:35.789Z"
   },
   {
    "duration": 370,
    "start_time": "2024-05-11T21:13:37.720Z"
   },
   {
    "duration": 2024,
    "start_time": "2024-05-11T21:13:38.091Z"
   },
   {
    "duration": 338,
    "start_time": "2024-05-11T21:13:40.117Z"
   },
   {
    "duration": 1867,
    "start_time": "2024-05-11T21:13:40.456Z"
   },
   {
    "duration": 343,
    "start_time": "2024-05-11T21:13:42.324Z"
   },
   {
    "duration": 12,
    "start_time": "2024-05-11T21:13:42.668Z"
   },
   {
    "duration": 4,
    "start_time": "2024-05-11T21:13:42.681Z"
   },
   {
    "duration": 184,
    "start_time": "2024-05-11T21:13:42.707Z"
   },
   {
    "duration": 3,
    "start_time": "2024-05-11T21:17:39.161Z"
   },
   {
    "duration": 2299,
    "start_time": "2024-05-11T21:18:08.212Z"
   },
   {
    "duration": 1193,
    "start_time": "2024-05-11T21:18:13.187Z"
   },
   {
    "duration": 153,
    "start_time": "2024-05-11T21:18:14.382Z"
   },
   {
    "duration": 128,
    "start_time": "2024-05-11T21:18:14.537Z"
   },
   {
    "duration": 126,
    "start_time": "2024-05-11T21:18:14.666Z"
   },
   {
    "duration": 18,
    "start_time": "2024-05-11T21:18:14.794Z"
   },
   {
    "duration": 1893,
    "start_time": "2024-05-11T21:18:14.815Z"
   },
   {
    "duration": 376,
    "start_time": "2024-05-11T21:18:16.709Z"
   },
   {
    "duration": 2029,
    "start_time": "2024-05-11T21:18:17.086Z"
   },
   {
    "duration": 339,
    "start_time": "2024-05-11T21:18:19.117Z"
   },
   {
    "duration": 1894,
    "start_time": "2024-05-11T21:18:19.458Z"
   },
   {
    "duration": 370,
    "start_time": "2024-05-11T21:18:21.354Z"
   },
   {
    "duration": 14,
    "start_time": "2024-05-11T21:18:21.726Z"
   },
   {
    "duration": 6,
    "start_time": "2024-05-11T21:18:21.742Z"
   },
   {
    "duration": 2355,
    "start_time": "2024-05-11T21:18:21.751Z"
   },
   {
    "duration": 5,
    "start_time": "2024-05-11T21:19:29.715Z"
   },
   {
    "duration": 1225,
    "start_time": "2024-05-11T21:19:34.820Z"
   },
   {
    "duration": 147,
    "start_time": "2024-05-11T21:19:36.046Z"
   },
   {
    "duration": 130,
    "start_time": "2024-05-11T21:19:36.195Z"
   },
   {
    "duration": 123,
    "start_time": "2024-05-11T21:19:36.328Z"
   },
   {
    "duration": 6,
    "start_time": "2024-05-11T21:19:36.452Z"
   },
   {
    "duration": 1858,
    "start_time": "2024-05-11T21:19:36.460Z"
   },
   {
    "duration": 362,
    "start_time": "2024-05-11T21:19:38.320Z"
   },
   {
    "duration": 1945,
    "start_time": "2024-05-11T21:19:38.683Z"
   },
   {
    "duration": 351,
    "start_time": "2024-05-11T21:19:40.630Z"
   },
   {
    "duration": 1844,
    "start_time": "2024-05-11T21:19:40.983Z"
   },
   {
    "duration": 393,
    "start_time": "2024-05-11T21:19:42.829Z"
   },
   {
    "duration": 10,
    "start_time": "2024-05-11T21:19:43.223Z"
   },
   {
    "duration": 8,
    "start_time": "2024-05-11T21:19:43.234Z"
   },
   {
    "duration": 1977,
    "start_time": "2024-05-11T21:19:43.243Z"
   },
   {
    "duration": 155,
    "start_time": "2024-05-11T21:20:39.197Z"
   },
   {
    "duration": 52,
    "start_time": "2024-05-11T21:22:22.164Z"
   },
   {
    "duration": 2720,
    "start_time": "2024-05-11T21:22:27.007Z"
   },
   {
    "duration": 2553,
    "start_time": "2024-05-11T21:22:56.964Z"
   },
   {
    "duration": 6,
    "start_time": "2024-05-11T21:23:22.951Z"
   },
   {
    "duration": 4,
    "start_time": "2024-05-11T21:23:53.932Z"
   },
   {
    "duration": 102,
    "start_time": "2024-05-11T21:25:24.721Z"
   },
   {
    "duration": 11,
    "start_time": "2024-05-11T21:25:33.800Z"
   },
   {
    "duration": 8,
    "start_time": "2024-05-11T21:26:51.475Z"
   },
   {
    "duration": 8,
    "start_time": "2024-05-11T21:27:19.760Z"
   },
   {
    "duration": 11,
    "start_time": "2024-05-11T21:28:02.178Z"
   },
   {
    "duration": 147,
    "start_time": "2024-05-11T21:31:11.984Z"
   },
   {
    "duration": 319,
    "start_time": "2024-05-11T21:31:24.852Z"
   },
   {
    "duration": 215,
    "start_time": "2024-05-11T21:32:25.506Z"
   },
   {
    "duration": 12,
    "start_time": "2024-05-11T21:39:21.935Z"
   },
   {
    "duration": 27,
    "start_time": "2024-05-11T21:39:43.888Z"
   },
   {
    "duration": 2072,
    "start_time": "2024-05-11T21:40:29.031Z"
   },
   {
    "duration": 2511,
    "start_time": "2024-05-11T21:41:09.212Z"
   },
   {
    "duration": 8,
    "start_time": "2024-05-11T21:41:13.789Z"
   },
   {
    "duration": 7,
    "start_time": "2024-05-11T21:41:47.734Z"
   },
   {
    "duration": 11,
    "start_time": "2024-05-11T21:42:52.027Z"
   },
   {
    "duration": 2465,
    "start_time": "2024-05-11T21:42:52.839Z"
   },
   {
    "duration": 8,
    "start_time": "2024-05-11T21:42:58.638Z"
   },
   {
    "duration": 12,
    "start_time": "2024-05-11T21:43:00.829Z"
   },
   {
    "duration": 2447,
    "start_time": "2024-05-11T21:43:21.781Z"
   },
   {
    "duration": 88,
    "start_time": "2024-05-11T21:43:24.230Z"
   },
   {
    "duration": 21,
    "start_time": "2024-05-11T21:43:27.108Z"
   },
   {
    "duration": 9,
    "start_time": "2024-05-11T21:43:29.323Z"
   },
   {
    "duration": 11,
    "start_time": "2024-05-11T21:43:30.386Z"
   },
   {
    "duration": 11,
    "start_time": "2024-05-11T21:43:31.371Z"
   },
   {
    "duration": 8,
    "start_time": "2024-05-11T21:43:32.378Z"
   },
   {
    "duration": 236,
    "start_time": "2024-05-11T21:47:08.124Z"
   },
   {
    "duration": 227,
    "start_time": "2024-05-11T21:47:43.513Z"
   },
   {
    "duration": 11,
    "start_time": "2024-05-11T21:52:10.888Z"
   },
   {
    "duration": 3668,
    "start_time": "2024-05-11T21:52:31.735Z"
   },
   {
    "duration": 8,
    "start_time": "2024-05-11T21:52:48.162Z"
   },
   {
    "duration": 11,
    "start_time": "2024-05-11T21:53:31.744Z"
   },
   {
    "duration": 10,
    "start_time": "2024-05-11T21:53:38.254Z"
   },
   {
    "duration": 11,
    "start_time": "2024-05-11T21:53:52.991Z"
   },
   {
    "duration": 13,
    "start_time": "2024-05-11T21:54:05.556Z"
   },
   {
    "duration": 171,
    "start_time": "2024-05-11T21:56:12.078Z"
   },
   {
    "duration": 290,
    "start_time": "2024-05-11T21:56:56.367Z"
   },
   {
    "duration": 162,
    "start_time": "2024-05-11T21:58:05.863Z"
   },
   {
    "duration": 41,
    "start_time": "2024-05-11T21:58:44.152Z"
   },
   {
    "duration": 4,
    "start_time": "2024-05-11T22:22:18.246Z"
   },
   {
    "duration": 3,
    "start_time": "2024-05-11T22:22:31.150Z"
   },
   {
    "duration": 3,
    "start_time": "2024-05-11T22:22:38.493Z"
   },
   {
    "duration": 4,
    "start_time": "2024-05-11T22:26:15.892Z"
   },
   {
    "duration": 3,
    "start_time": "2024-05-11T22:28:43.038Z"
   },
   {
    "duration": 3,
    "start_time": "2024-05-11T22:39:54.569Z"
   },
   {
    "duration": 4,
    "start_time": "2024-05-11T22:40:11.026Z"
   },
   {
    "duration": 1496,
    "start_time": "2024-05-12T07:37:03.400Z"
   },
   {
    "duration": 246,
    "start_time": "2024-05-12T07:37:04.898Z"
   },
   {
    "duration": 235,
    "start_time": "2024-05-12T07:37:05.146Z"
   },
   {
    "duration": 236,
    "start_time": "2024-05-12T07:37:05.383Z"
   },
   {
    "duration": 6,
    "start_time": "2024-05-12T07:37:05.621Z"
   },
   {
    "duration": 2269,
    "start_time": "2024-05-12T07:37:05.628Z"
   },
   {
    "duration": 384,
    "start_time": "2024-05-12T07:37:07.899Z"
   },
   {
    "duration": 2313,
    "start_time": "2024-05-12T07:37:08.284Z"
   },
   {
    "duration": 354,
    "start_time": "2024-05-12T07:37:10.599Z"
   },
   {
    "duration": 2033,
    "start_time": "2024-05-12T07:37:10.956Z"
   },
   {
    "duration": 482,
    "start_time": "2024-05-12T07:37:12.990Z"
   },
   {
    "duration": 11,
    "start_time": "2024-05-12T07:37:13.474Z"
   },
   {
    "duration": 3,
    "start_time": "2024-05-12T07:37:13.487Z"
   },
   {
    "duration": 3184,
    "start_time": "2024-05-12T07:37:13.492Z"
   },
   {
    "duration": 8,
    "start_time": "2024-05-12T07:37:16.677Z"
   },
   {
    "duration": 11,
    "start_time": "2024-05-12T07:37:16.686Z"
   },
   {
    "duration": 439,
    "start_time": "2024-05-12T07:37:16.700Z"
   },
   {
    "duration": 220,
    "start_time": "2024-05-12T07:37:17.141Z"
   },
   {
    "duration": 13,
    "start_time": "2024-05-12T07:37:17.363Z"
   },
   {
    "duration": 3714,
    "start_time": "2024-05-12T07:37:17.378Z"
   },
   {
    "duration": 8,
    "start_time": "2024-05-12T07:37:21.093Z"
   },
   {
    "duration": 61,
    "start_time": "2024-05-12T07:37:21.103Z"
   },
   {
    "duration": 368,
    "start_time": "2024-05-12T07:37:21.169Z"
   },
   {
    "duration": 190,
    "start_time": "2024-05-12T07:37:21.539Z"
   },
   {
    "duration": 14,
    "start_time": "2024-05-12T07:37:21.731Z"
   },
   {
    "duration": 3135,
    "start_time": "2024-05-12T07:37:21.746Z"
   },
   {
    "duration": 8,
    "start_time": "2024-05-12T07:37:24.883Z"
   },
   {
    "duration": 72,
    "start_time": "2024-05-12T07:37:24.894Z"
   },
   {
    "duration": 370,
    "start_time": "2024-05-12T07:37:24.968Z"
   },
   {
    "duration": 191,
    "start_time": "2024-05-12T07:37:25.339Z"
   },
   {
    "duration": 4,
    "start_time": "2024-05-12T07:37:25.532Z"
   },
   {
    "duration": 4,
    "start_time": "2024-05-12T07:37:58.234Z"
   },
   {
    "duration": 9,
    "start_time": "2024-05-12T07:47:47.423Z"
   },
   {
    "duration": 9,
    "start_time": "2024-05-12T07:47:55.709Z"
   },
   {
    "duration": 7,
    "start_time": "2024-05-12T07:48:51.055Z"
   },
   {
    "duration": 6,
    "start_time": "2024-05-12T07:51:50.534Z"
   },
   {
    "duration": 6,
    "start_time": "2024-05-12T07:52:11.351Z"
   },
   {
    "duration": 3,
    "start_time": "2024-05-12T08:00:19.506Z"
   },
   {
    "duration": 35,
    "start_time": "2024-05-12T08:02:14.378Z"
   },
   {
    "duration": 4,
    "start_time": "2024-05-12T08:02:18.968Z"
   },
   {
    "duration": 39,
    "start_time": "2024-05-12T08:02:19.586Z"
   },
   {
    "duration": 7,
    "start_time": "2024-05-12T08:02:24.824Z"
   },
   {
    "duration": 11,
    "start_time": "2024-05-12T08:02:54.095Z"
   },
   {
    "duration": 4,
    "start_time": "2024-05-12T08:08:57.995Z"
   },
   {
    "duration": 8,
    "start_time": "2024-05-12T08:08:58.894Z"
   },
   {
    "duration": 5,
    "start_time": "2024-05-12T08:08:59.346Z"
   },
   {
    "duration": 6,
    "start_time": "2024-05-12T08:08:59.886Z"
   },
   {
    "duration": 4,
    "start_time": "2024-05-12T08:09:03.280Z"
   },
   {
    "duration": 13,
    "start_time": "2024-05-12T08:09:04.603Z"
   },
   {
    "duration": 12,
    "start_time": "2024-05-12T08:09:11.023Z"
   },
   {
    "duration": 12,
    "start_time": "2024-05-12T08:09:12.314Z"
   },
   {
    "duration": 744,
    "start_time": "2024-05-12T08:11:22.892Z"
   },
   {
    "duration": 4,
    "start_time": "2024-05-12T08:16:26.344Z"
   },
   {
    "duration": 7,
    "start_time": "2024-05-12T08:16:27.544Z"
   },
   {
    "duration": 5,
    "start_time": "2024-05-12T08:16:27.957Z"
   },
   {
    "duration": 6,
    "start_time": "2024-05-12T08:16:28.282Z"
   },
   {
    "duration": 4,
    "start_time": "2024-05-12T08:16:30.716Z"
   },
   {
    "duration": 11,
    "start_time": "2024-05-12T08:16:31.403Z"
   },
   {
    "duration": 37,
    "start_time": "2024-05-12T08:16:33.139Z"
   },
   {
    "duration": 13,
    "start_time": "2024-05-12T08:22:12.223Z"
   },
   {
    "duration": 9,
    "start_time": "2024-05-12T08:22:48.060Z"
   },
   {
    "duration": 669,
    "start_time": "2024-05-12T08:23:08.321Z"
   },
   {
    "duration": 4,
    "start_time": "2024-05-12T08:28:44.634Z"
   },
   {
    "duration": 35,
    "start_time": "2024-05-12T08:28:49.696Z"
   },
   {
    "duration": 37,
    "start_time": "2024-05-12T08:29:06.184Z"
   },
   {
    "duration": 661,
    "start_time": "2024-05-12T08:29:20.015Z"
   },
   {
    "duration": 3,
    "start_time": "2024-05-12T08:29:55.093Z"
   },
   {
    "duration": 4,
    "start_time": "2024-05-12T08:30:34.436Z"
   },
   {
    "duration": 4,
    "start_time": "2024-05-12T08:31:23.895Z"
   },
   {
    "duration": 8,
    "start_time": "2024-05-12T08:31:39.642Z"
   },
   {
    "duration": 12,
    "start_time": "2024-05-12T08:32:05.001Z"
   },
   {
    "duration": 3,
    "start_time": "2024-05-12T08:32:24.382Z"
   },
   {
    "duration": 11,
    "start_time": "2024-05-12T08:32:24.899Z"
   },
   {
    "duration": 3,
    "start_time": "2024-05-12T08:32:26.209Z"
   },
   {
    "duration": 12,
    "start_time": "2024-05-12T08:32:26.678Z"
   },
   {
    "duration": 3,
    "start_time": "2024-05-12T08:34:27.559Z"
   },
   {
    "duration": 12,
    "start_time": "2024-05-12T08:34:28.294Z"
   },
   {
    "duration": 3,
    "start_time": "2024-05-12T08:34:55.583Z"
   },
   {
    "duration": 295,
    "start_time": "2024-05-12T08:34:56.861Z"
   },
   {
    "duration": 275,
    "start_time": "2024-05-12T08:35:26.130Z"
   },
   {
    "duration": 284,
    "start_time": "2024-05-12T08:35:39.747Z"
   },
   {
    "duration": 773,
    "start_time": "2024-05-12T08:48:47.677Z"
   },
   {
    "duration": 4,
    "start_time": "2024-05-12T08:51:38.459Z"
   },
   {
    "duration": 7,
    "start_time": "2024-05-12T08:51:39.329Z"
   },
   {
    "duration": 7,
    "start_time": "2024-05-12T08:51:39.708Z"
   },
   {
    "duration": 7,
    "start_time": "2024-05-12T08:51:40.322Z"
   },
   {
    "duration": 3,
    "start_time": "2024-05-12T08:51:43.015Z"
   },
   {
    "duration": 11,
    "start_time": "2024-05-12T08:51:43.502Z"
   },
   {
    "duration": 4,
    "start_time": "2024-05-12T08:51:45.881Z"
   },
   {
    "duration": 847,
    "start_time": "2024-05-12T08:51:47.180Z"
   },
   {
    "duration": 5,
    "start_time": "2024-05-12T08:52:12.669Z"
   },
   {
    "duration": 6,
    "start_time": "2024-05-12T08:52:53.454Z"
   },
   {
    "duration": 5,
    "start_time": "2024-05-12T08:53:27.680Z"
   },
   {
    "duration": 5,
    "start_time": "2024-05-12T08:53:44.821Z"
   },
   {
    "duration": 5,
    "start_time": "2024-05-12T08:53:48.753Z"
   },
   {
    "duration": 5,
    "start_time": "2024-05-12T08:54:16.096Z"
   },
   {
    "duration": 6,
    "start_time": "2024-05-12T08:54:44.251Z"
   },
   {
    "duration": 14,
    "start_time": "2024-05-12T09:01:55.557Z"
   },
   {
    "duration": 12,
    "start_time": "2024-05-12T09:02:42.772Z"
   },
   {
    "duration": 12,
    "start_time": "2024-05-12T09:03:10.936Z"
   },
   {
    "duration": 13,
    "start_time": "2024-05-12T09:04:14.033Z"
   },
   {
    "duration": 4,
    "start_time": "2024-05-12T09:04:24.027Z"
   },
   {
    "duration": 15,
    "start_time": "2024-05-12T09:09:23.610Z"
   },
   {
    "duration": 509,
    "start_time": "2024-05-12T09:11:16.934Z"
   },
   {
    "duration": 512,
    "start_time": "2024-05-12T09:13:03.086Z"
   },
   {
    "duration": 491,
    "start_time": "2024-05-12T09:13:06.413Z"
   },
   {
    "duration": 525,
    "start_time": "2024-05-12T09:15:05.348Z"
   },
   {
    "duration": 501,
    "start_time": "2024-05-12T09:15:41.914Z"
   },
   {
    "duration": 307,
    "start_time": "2024-05-12T09:15:43.490Z"
   },
   {
    "duration": 319,
    "start_time": "2024-05-12T09:15:54.666Z"
   },
   {
    "duration": 518,
    "start_time": "2024-05-12T09:16:28.116Z"
   },
   {
    "duration": 1673,
    "start_time": "2024-05-13T04:05:30.854Z"
   },
   {
    "duration": 274,
    "start_time": "2024-05-13T04:05:32.529Z"
   },
   {
    "duration": 245,
    "start_time": "2024-05-13T04:05:32.805Z"
   },
   {
    "duration": 259,
    "start_time": "2024-05-13T04:05:33.052Z"
   },
   {
    "duration": 7,
    "start_time": "2024-05-13T04:05:33.312Z"
   },
   {
    "duration": 2426,
    "start_time": "2024-05-13T04:05:33.321Z"
   },
   {
    "duration": 399,
    "start_time": "2024-05-13T04:05:35.749Z"
   },
   {
    "duration": 2307,
    "start_time": "2024-05-13T04:05:36.151Z"
   },
   {
    "duration": 392,
    "start_time": "2024-05-13T04:05:38.460Z"
   },
   {
    "duration": 2171,
    "start_time": "2024-05-13T04:05:38.855Z"
   },
   {
    "duration": 377,
    "start_time": "2024-05-13T04:05:41.028Z"
   },
   {
    "duration": 12,
    "start_time": "2024-05-13T04:05:41.407Z"
   },
   {
    "duration": 27,
    "start_time": "2024-05-13T04:05:41.421Z"
   },
   {
    "duration": 3548,
    "start_time": "2024-05-13T04:05:41.449Z"
   },
   {
    "duration": 13,
    "start_time": "2024-05-13T04:05:45.000Z"
   },
   {
    "duration": 69,
    "start_time": "2024-05-13T04:05:45.015Z"
   },
   {
    "duration": 494,
    "start_time": "2024-05-13T04:05:45.087Z"
   },
   {
    "duration": 219,
    "start_time": "2024-05-13T04:05:45.583Z"
   },
   {
    "duration": 12,
    "start_time": "2024-05-13T04:05:45.803Z"
   },
   {
    "duration": 3573,
    "start_time": "2024-05-13T04:05:45.817Z"
   },
   {
    "duration": 9,
    "start_time": "2024-05-13T04:05:49.392Z"
   },
   {
    "duration": 24,
    "start_time": "2024-05-13T04:05:49.402Z"
   },
   {
    "duration": 441,
    "start_time": "2024-05-13T04:05:49.429Z"
   },
   {
    "duration": 215,
    "start_time": "2024-05-13T04:05:49.872Z"
   },
   {
    "duration": 16,
    "start_time": "2024-05-13T04:05:50.089Z"
   },
   {
    "duration": 3592,
    "start_time": "2024-05-13T04:05:50.106Z"
   },
   {
    "duration": 9,
    "start_time": "2024-05-13T04:05:53.699Z"
   },
   {
    "duration": 14,
    "start_time": "2024-05-13T04:05:53.712Z"
   },
   {
    "duration": 387,
    "start_time": "2024-05-13T04:05:53.782Z"
   },
   {
    "duration": 203,
    "start_time": "2024-05-13T04:05:54.170Z"
   },
   {
    "duration": 7,
    "start_time": "2024-05-13T04:05:54.375Z"
   },
   {
    "duration": 7,
    "start_time": "2024-05-13T04:05:54.384Z"
   },
   {
    "duration": 5,
    "start_time": "2024-05-13T04:05:54.393Z"
   },
   {
    "duration": 6,
    "start_time": "2024-05-13T04:05:54.399Z"
   },
   {
    "duration": 3,
    "start_time": "2024-05-13T04:05:54.407Z"
   },
   {
    "duration": 12,
    "start_time": "2024-05-13T04:05:54.411Z"
   },
   {
    "duration": 3,
    "start_time": "2024-05-13T04:05:54.425Z"
   },
   {
    "duration": 924,
    "start_time": "2024-05-13T04:05:54.430Z"
   },
   {
    "duration": 5,
    "start_time": "2024-05-13T04:05:55.356Z"
   },
   {
    "duration": 11,
    "start_time": "2024-05-13T04:05:55.362Z"
   },
   {
    "duration": 5,
    "start_time": "2024-05-13T04:05:55.381Z"
   },
   {
    "duration": 552,
    "start_time": "2024-05-13T04:05:55.388Z"
   },
   {
    "duration": 350,
    "start_time": "2024-05-13T04:05:55.942Z"
   },
   {
    "duration": 574,
    "start_time": "2024-05-13T04:05:56.293Z"
   },
   {
    "duration": 40,
    "start_time": "2024-05-13T04:06:53.298Z"
   },
   {
    "duration": 4,
    "start_time": "2024-05-13T04:07:12.988Z"
   },
   {
    "duration": 4,
    "start_time": "2024-05-13T04:07:19.358Z"
   },
   {
    "duration": 4,
    "start_time": "2024-05-13T04:11:55.035Z"
   },
   {
    "duration": 46,
    "start_time": "2024-05-13T04:12:22.826Z"
   },
   {
    "duration": 13,
    "start_time": "2024-05-13T04:13:20.606Z"
   },
   {
    "duration": 3,
    "start_time": "2024-05-13T04:13:58.183Z"
   },
   {
    "duration": 124,
    "start_time": "2024-05-13T04:14:01.301Z"
   },
   {
    "duration": 10,
    "start_time": "2024-05-13T04:14:39.842Z"
   },
   {
    "duration": 5,
    "start_time": "2024-05-13T04:14:53.977Z"
   },
   {
    "duration": 17,
    "start_time": "2024-05-13T04:14:55.952Z"
   },
   {
    "duration": 3,
    "start_time": "2024-05-13T04:19:22.837Z"
   },
   {
    "duration": 10,
    "start_time": "2024-05-13T04:19:24.548Z"
   },
   {
    "duration": 12,
    "start_time": "2024-05-13T04:19:46.382Z"
   },
   {
    "duration": 1398,
    "start_time": "2024-05-13T04:20:06.599Z"
   },
   {
    "duration": 179,
    "start_time": "2024-05-13T04:20:07.999Z"
   },
   {
    "duration": 160,
    "start_time": "2024-05-13T04:20:08.179Z"
   },
   {
    "duration": 161,
    "start_time": "2024-05-13T04:20:08.341Z"
   },
   {
    "duration": 7,
    "start_time": "2024-05-13T04:20:08.503Z"
   },
   {
    "duration": 2415,
    "start_time": "2024-05-13T04:20:08.511Z"
   },
   {
    "duration": 400,
    "start_time": "2024-05-13T04:20:10.928Z"
   },
   {
    "duration": 2440,
    "start_time": "2024-05-13T04:20:11.329Z"
   },
   {
    "duration": 457,
    "start_time": "2024-05-13T04:20:13.771Z"
   },
   {
    "duration": 2228,
    "start_time": "2024-05-13T04:20:14.230Z"
   },
   {
    "duration": 385,
    "start_time": "2024-05-13T04:20:16.460Z"
   },
   {
    "duration": 13,
    "start_time": "2024-05-13T04:20:16.847Z"
   },
   {
    "duration": 30,
    "start_time": "2024-05-13T04:20:16.861Z"
   },
   {
    "duration": 3193,
    "start_time": "2024-05-13T04:20:16.893Z"
   },
   {
    "duration": 8,
    "start_time": "2024-05-13T04:20:20.088Z"
   },
   {
    "duration": 15,
    "start_time": "2024-05-13T04:20:20.098Z"
   },
   {
    "duration": 472,
    "start_time": "2024-05-13T04:20:20.114Z"
   },
   {
    "duration": 230,
    "start_time": "2024-05-13T04:20:20.587Z"
   },
   {
    "duration": 12,
    "start_time": "2024-05-13T04:20:20.819Z"
   },
   {
    "duration": 3665,
    "start_time": "2024-05-13T04:20:20.833Z"
   },
   {
    "duration": 9,
    "start_time": "2024-05-13T04:20:24.500Z"
   },
   {
    "duration": 32,
    "start_time": "2024-05-13T04:20:24.511Z"
   },
   {
    "duration": 426,
    "start_time": "2024-05-13T04:20:24.545Z"
   },
   {
    "duration": 203,
    "start_time": "2024-05-13T04:20:24.973Z"
   },
   {
    "duration": 13,
    "start_time": "2024-05-13T04:20:25.182Z"
   },
   {
    "duration": 3793,
    "start_time": "2024-05-13T04:20:25.197Z"
   },
   {
    "duration": 9,
    "start_time": "2024-05-13T04:20:28.992Z"
   },
   {
    "duration": 80,
    "start_time": "2024-05-13T04:20:29.004Z"
   },
   {
    "duration": 396,
    "start_time": "2024-05-13T04:20:29.087Z"
   },
   {
    "duration": 218,
    "start_time": "2024-05-13T04:20:29.485Z"
   },
   {
    "duration": 5,
    "start_time": "2024-05-13T04:20:29.705Z"
   },
   {
    "duration": 7,
    "start_time": "2024-05-13T04:20:29.711Z"
   },
   {
    "duration": 5,
    "start_time": "2024-05-13T04:20:29.720Z"
   },
   {
    "duration": 7,
    "start_time": "2024-05-13T04:20:29.726Z"
   },
   {
    "duration": 3,
    "start_time": "2024-05-13T04:20:29.734Z"
   },
   {
    "duration": 51,
    "start_time": "2024-05-13T04:20:29.739Z"
   },
   {
    "duration": 3,
    "start_time": "2024-05-13T04:20:29.792Z"
   },
   {
    "duration": 918,
    "start_time": "2024-05-13T04:20:29.796Z"
   },
   {
    "duration": 6,
    "start_time": "2024-05-13T04:20:30.716Z"
   },
   {
    "duration": 38,
    "start_time": "2024-05-13T04:20:30.723Z"
   },
   {
    "duration": 91,
    "start_time": "2024-05-13T04:20:30.763Z"
   },
   {
    "duration": 575,
    "start_time": "2024-05-13T04:20:30.856Z"
   },
   {
    "duration": 353,
    "start_time": "2024-05-13T04:20:31.432Z"
   },
   {
    "duration": 566,
    "start_time": "2024-05-13T04:20:31.786Z"
   },
   {
    "duration": 5,
    "start_time": "2024-05-13T04:21:32.907Z"
   },
   {
    "duration": 13,
    "start_time": "2024-05-13T04:22:01.480Z"
   },
   {
    "duration": 916,
    "start_time": "2024-05-13T04:22:18.732Z"
   },
   {
    "duration": 4,
    "start_time": "2024-05-13T04:23:05.120Z"
   },
   {
    "duration": 4,
    "start_time": "2024-05-13T04:23:15.177Z"
   },
   {
    "duration": 129,
    "start_time": "2024-05-13T04:24:05.951Z"
   },
   {
    "duration": 5,
    "start_time": "2024-05-13T04:24:14.240Z"
   },
   {
    "duration": 10,
    "start_time": "2024-05-13T04:24:16.346Z"
   },
   {
    "duration": 7,
    "start_time": "2024-05-13T04:24:16.672Z"
   },
   {
    "duration": 7,
    "start_time": "2024-05-13T04:24:17.227Z"
   },
   {
    "duration": 3,
    "start_time": "2024-05-13T04:24:19.353Z"
   },
   {
    "duration": 12,
    "start_time": "2024-05-13T04:24:20.778Z"
   },
   {
    "duration": 4,
    "start_time": "2024-05-13T04:24:26.945Z"
   },
   {
    "duration": 878,
    "start_time": "2024-05-13T04:24:37.732Z"
   },
   {
    "duration": 7,
    "start_time": "2024-05-13T04:24:53.115Z"
   },
   {
    "duration": 7,
    "start_time": "2024-05-13T04:24:54.248Z"
   },
   {
    "duration": 9,
    "start_time": "2024-05-13T04:25:45.593Z"
   },
   {
    "duration": 11,
    "start_time": "2024-05-13T04:25:51.723Z"
   },
   {
    "duration": 7,
    "start_time": "2024-05-13T04:25:52.859Z"
   },
   {
    "duration": 6,
    "start_time": "2024-05-13T04:25:53.205Z"
   },
   {
    "duration": 8,
    "start_time": "2024-05-13T04:25:53.576Z"
   },
   {
    "duration": 4,
    "start_time": "2024-05-13T04:25:55.611Z"
   },
   {
    "duration": 12,
    "start_time": "2024-05-13T04:25:56.227Z"
   },
   {
    "duration": 4,
    "start_time": "2024-05-13T04:25:57.361Z"
   },
   {
    "duration": 924,
    "start_time": "2024-05-13T04:25:58.031Z"
   },
   {
    "duration": 6,
    "start_time": "2024-05-13T04:25:58.957Z"
   },
   {
    "duration": 18,
    "start_time": "2024-05-13T04:25:58.964Z"
   },
   {
    "duration": 6,
    "start_time": "2024-05-13T04:25:59.354Z"
   },
   {
    "duration": 593,
    "start_time": "2024-05-13T04:25:59.701Z"
   },
   {
    "duration": 364,
    "start_time": "2024-05-13T04:26:00.296Z"
   },
   {
    "duration": 573,
    "start_time": "2024-05-13T04:26:00.662Z"
   },
   {
    "duration": 3,
    "start_time": "2024-05-13T04:30:32.176Z"
   },
   {
    "duration": 13,
    "start_time": "2024-05-13T04:31:10.295Z"
   },
   {
    "duration": 3,
    "start_time": "2024-05-13T04:31:15.222Z"
   },
   {
    "duration": 15,
    "start_time": "2024-05-13T04:31:17.345Z"
   },
   {
    "duration": 4,
    "start_time": "2024-05-13T04:31:30.608Z"
   },
   {
    "duration": 15,
    "start_time": "2024-05-13T04:31:31.696Z"
   },
   {
    "duration": 5,
    "start_time": "2024-05-13T04:33:59.828Z"
   },
   {
    "duration": 17,
    "start_time": "2024-05-13T04:34:02.642Z"
   },
   {
    "duration": 3,
    "start_time": "2024-05-13T04:34:14.760Z"
   },
   {
    "duration": 12,
    "start_time": "2024-05-13T04:34:18.049Z"
   },
   {
    "duration": 4,
    "start_time": "2024-05-13T04:34:36.549Z"
   },
   {
    "duration": 13,
    "start_time": "2024-05-13T04:34:39.109Z"
   },
   {
    "duration": 20,
    "start_time": "2024-05-13T04:34:58.459Z"
   },
   {
    "duration": 4,
    "start_time": "2024-05-13T04:35:29.966Z"
   },
   {
    "duration": 926,
    "start_time": "2024-05-13T04:35:34.157Z"
   },
   {
    "duration": 898,
    "start_time": "2024-05-13T04:35:46.620Z"
   },
   {
    "duration": 5,
    "start_time": "2024-05-13T04:36:53.935Z"
   },
   {
    "duration": 13,
    "start_time": "2024-05-13T04:37:24.725Z"
   },
   {
    "duration": 3,
    "start_time": "2024-05-13T04:37:32.615Z"
   },
   {
    "duration": 929,
    "start_time": "2024-05-13T04:37:36.061Z"
   },
   {
    "duration": 6,
    "start_time": "2024-05-13T04:37:41.104Z"
   },
   {
    "duration": 6,
    "start_time": "2024-05-13T04:37:43.935Z"
   },
   {
    "duration": 6,
    "start_time": "2024-05-13T04:37:44.737Z"
   },
   {
    "duration": 1662,
    "start_time": "2024-05-13T07:14:07.229Z"
   },
   {
    "duration": 288,
    "start_time": "2024-05-13T07:14:08.893Z"
   },
   {
    "duration": 237,
    "start_time": "2024-05-13T07:14:09.182Z"
   },
   {
    "duration": 236,
    "start_time": "2024-05-13T07:14:09.421Z"
   },
   {
    "duration": 7,
    "start_time": "2024-05-13T07:14:09.659Z"
   },
   {
    "duration": 2373,
    "start_time": "2024-05-13T07:14:09.667Z"
   },
   {
    "duration": 409,
    "start_time": "2024-05-13T07:14:12.042Z"
   },
   {
    "duration": 2516,
    "start_time": "2024-05-13T07:14:12.453Z"
   },
   {
    "duration": 412,
    "start_time": "2024-05-13T07:14:14.971Z"
   },
   {
    "duration": 2235,
    "start_time": "2024-05-13T07:14:15.385Z"
   },
   {
    "duration": 488,
    "start_time": "2024-05-13T07:14:17.622Z"
   },
   {
    "duration": 11,
    "start_time": "2024-05-13T07:14:18.112Z"
   },
   {
    "duration": 7,
    "start_time": "2024-05-13T07:14:18.125Z"
   },
   {
    "duration": 3568,
    "start_time": "2024-05-13T07:14:18.135Z"
   },
   {
    "duration": 12,
    "start_time": "2024-05-13T07:14:21.705Z"
   },
   {
    "duration": 12,
    "start_time": "2024-05-13T07:14:21.719Z"
   },
   {
    "duration": 460,
    "start_time": "2024-05-13T07:14:21.733Z"
   },
   {
    "duration": 211,
    "start_time": "2024-05-13T07:14:22.194Z"
   },
   {
    "duration": 12,
    "start_time": "2024-05-13T07:14:22.406Z"
   },
   {
    "duration": 3475,
    "start_time": "2024-05-13T07:14:22.419Z"
   },
   {
    "duration": 10,
    "start_time": "2024-05-13T07:14:25.896Z"
   },
   {
    "duration": 13,
    "start_time": "2024-05-13T07:14:25.907Z"
   },
   {
    "duration": 448,
    "start_time": "2024-05-13T07:14:25.922Z"
   },
   {
    "duration": 202,
    "start_time": "2024-05-13T07:14:26.381Z"
   },
   {
    "duration": 14,
    "start_time": "2024-05-13T07:14:26.585Z"
   },
   {
    "duration": 3501,
    "start_time": "2024-05-13T07:14:26.600Z"
   },
   {
    "duration": 16,
    "start_time": "2024-05-13T07:14:30.103Z"
   },
   {
    "duration": 42,
    "start_time": "2024-05-13T07:14:30.121Z"
   },
   {
    "duration": 479,
    "start_time": "2024-05-13T07:14:30.165Z"
   },
   {
    "duration": 216,
    "start_time": "2024-05-13T07:14:30.647Z"
   },
   {
    "duration": 6,
    "start_time": "2024-05-13T07:14:30.865Z"
   },
   {
    "duration": 26,
    "start_time": "2024-05-13T07:14:30.883Z"
   },
   {
    "duration": 45,
    "start_time": "2024-05-13T07:14:30.911Z"
   },
   {
    "duration": 81,
    "start_time": "2024-05-13T07:14:30.958Z"
   },
   {
    "duration": 91,
    "start_time": "2024-05-13T07:14:31.041Z"
   },
   {
    "duration": 61,
    "start_time": "2024-05-13T07:14:31.133Z"
   },
   {
    "duration": 33,
    "start_time": "2024-05-13T07:14:31.195Z"
   },
   {
    "duration": 1033,
    "start_time": "2024-05-13T07:14:31.230Z"
   },
   {
    "duration": 6,
    "start_time": "2024-05-13T07:14:32.265Z"
   },
   {
    "duration": 12,
    "start_time": "2024-05-13T07:14:32.273Z"
   },
   {
    "duration": 7,
    "start_time": "2024-05-13T07:14:32.291Z"
   },
   {
    "duration": 593,
    "start_time": "2024-05-13T07:14:32.300Z"
   },
   {
    "duration": 376,
    "start_time": "2024-05-13T07:14:32.895Z"
   },
   {
    "duration": 574,
    "start_time": "2024-05-13T07:14:33.273Z"
   },
   {
    "duration": 3,
    "start_time": "2024-05-13T07:31:40.952Z"
   },
   {
    "duration": 4,
    "start_time": "2024-05-13T07:32:32.753Z"
   },
   {
    "duration": 17,
    "start_time": "2024-05-13T07:32:34.620Z"
   },
   {
    "duration": 5,
    "start_time": "2024-05-13T07:32:40.196Z"
   },
   {
    "duration": 933,
    "start_time": "2024-05-13T07:32:43.192Z"
   },
   {
    "duration": 6,
    "start_time": "2024-05-13T07:32:45.597Z"
   },
   {
    "duration": 7,
    "start_time": "2024-05-13T07:32:47.226Z"
   },
   {
    "duration": 11,
    "start_time": "2024-05-13T07:32:49.269Z"
   },
   {
    "duration": 5,
    "start_time": "2024-05-13T07:36:19.487Z"
   },
   {
    "duration": 8,
    "start_time": "2024-05-13T07:36:26.430Z"
   },
   {
    "duration": 7,
    "start_time": "2024-05-13T07:36:28.621Z"
   },
   {
    "duration": 8,
    "start_time": "2024-05-13T07:36:29.228Z"
   },
   {
    "duration": 4,
    "start_time": "2024-05-13T07:36:36.360Z"
   },
   {
    "duration": 4,
    "start_time": "2024-05-13T07:36:45.477Z"
   },
   {
    "duration": 14,
    "start_time": "2024-05-13T07:36:47.599Z"
   },
   {
    "duration": 4,
    "start_time": "2024-05-13T07:36:58.872Z"
   },
   {
    "duration": 13,
    "start_time": "2024-05-13T07:37:00.499Z"
   },
   {
    "duration": 4,
    "start_time": "2024-05-13T07:37:02.673Z"
   },
   {
    "duration": 939,
    "start_time": "2024-05-13T07:37:05.665Z"
   },
   {
    "duration": 7,
    "start_time": "2024-05-13T07:37:07.893Z"
   },
   {
    "duration": 6,
    "start_time": "2024-05-13T07:37:10.746Z"
   },
   {
    "duration": 6,
    "start_time": "2024-05-13T07:37:11.784Z"
   },
   {
    "duration": 5,
    "start_time": "2024-05-13T07:37:14.452Z"
   },
   {
    "duration": 9,
    "start_time": "2024-05-13T07:37:15.160Z"
   },
   {
    "duration": 7,
    "start_time": "2024-05-13T07:37:16.373Z"
   },
   {
    "duration": 14,
    "start_time": "2024-05-13T07:41:27.155Z"
   },
   {
    "duration": 3,
    "start_time": "2024-05-13T07:41:33.046Z"
   },
   {
    "duration": 13,
    "start_time": "2024-05-13T07:41:35.239Z"
   },
   {
    "duration": 4,
    "start_time": "2024-05-13T07:41:38.966Z"
   },
   {
    "duration": 930,
    "start_time": "2024-05-13T07:41:42.098Z"
   },
   {
    "duration": 6,
    "start_time": "2024-05-13T07:41:43.037Z"
   },
   {
    "duration": 6,
    "start_time": "2024-05-13T07:41:44.318Z"
   },
   {
    "duration": 6,
    "start_time": "2024-05-13T07:41:46.609Z"
   },
   {
    "duration": 563,
    "start_time": "2024-05-13T07:43:36.006Z"
   },
   {
    "duration": 360,
    "start_time": "2024-05-13T07:43:37.602Z"
   },
   {
    "duration": 558,
    "start_time": "2024-05-13T07:43:38.528Z"
   },
   {
    "duration": 601,
    "start_time": "2024-05-13T07:45:53.327Z"
   },
   {
    "duration": 390,
    "start_time": "2024-05-13T07:45:59.574Z"
   },
   {
    "duration": 555,
    "start_time": "2024-05-13T07:46:05.627Z"
   },
   {
    "duration": 1486,
    "start_time": "2024-05-13T07:46:13.261Z"
   },
   {
    "duration": 182,
    "start_time": "2024-05-13T07:46:14.749Z"
   },
   {
    "duration": 160,
    "start_time": "2024-05-13T07:46:14.933Z"
   },
   {
    "duration": 171,
    "start_time": "2024-05-13T07:46:15.094Z"
   },
   {
    "duration": 15,
    "start_time": "2024-05-13T07:46:15.267Z"
   },
   {
    "duration": 2359,
    "start_time": "2024-05-13T07:46:15.283Z"
   },
   {
    "duration": 411,
    "start_time": "2024-05-13T07:46:17.643Z"
   },
   {
    "duration": 2376,
    "start_time": "2024-05-13T07:46:18.056Z"
   },
   {
    "duration": 382,
    "start_time": "2024-05-13T07:46:20.433Z"
   },
   {
    "duration": 2303,
    "start_time": "2024-05-13T07:46:20.817Z"
   },
   {
    "duration": 390,
    "start_time": "2024-05-13T07:46:23.122Z"
   },
   {
    "duration": 12,
    "start_time": "2024-05-13T07:46:23.514Z"
   },
   {
    "duration": 12,
    "start_time": "2024-05-13T07:46:23.528Z"
   },
   {
    "duration": 3549,
    "start_time": "2024-05-13T07:46:23.543Z"
   },
   {
    "duration": 9,
    "start_time": "2024-05-13T07:46:27.093Z"
   },
   {
    "duration": 17,
    "start_time": "2024-05-13T07:46:27.103Z"
   },
   {
    "duration": 474,
    "start_time": "2024-05-13T07:46:27.122Z"
   },
   {
    "duration": 231,
    "start_time": "2024-05-13T07:46:27.598Z"
   },
   {
    "duration": 12,
    "start_time": "2024-05-13T07:46:27.831Z"
   },
   {
    "duration": 3450,
    "start_time": "2024-05-13T07:46:27.845Z"
   },
   {
    "duration": 10,
    "start_time": "2024-05-13T07:46:31.297Z"
   },
   {
    "duration": 42,
    "start_time": "2024-05-13T07:46:31.309Z"
   },
   {
    "duration": 430,
    "start_time": "2024-05-13T07:46:31.353Z"
   },
   {
    "duration": 215,
    "start_time": "2024-05-13T07:46:31.785Z"
   },
   {
    "duration": 15,
    "start_time": "2024-05-13T07:46:32.002Z"
   },
   {
    "duration": 3485,
    "start_time": "2024-05-13T07:46:32.019Z"
   },
   {
    "duration": 10,
    "start_time": "2024-05-13T07:46:35.507Z"
   },
   {
    "duration": 64,
    "start_time": "2024-05-13T07:46:35.519Z"
   },
   {
    "duration": 431,
    "start_time": "2024-05-13T07:46:35.586Z"
   },
   {
    "duration": 210,
    "start_time": "2024-05-13T07:46:36.019Z"
   },
   {
    "duration": 5,
    "start_time": "2024-05-13T07:46:36.231Z"
   },
   {
    "duration": 8,
    "start_time": "2024-05-13T07:46:36.237Z"
   },
   {
    "duration": 6,
    "start_time": "2024-05-13T07:46:36.246Z"
   },
   {
    "duration": 32,
    "start_time": "2024-05-13T07:46:36.254Z"
   },
   {
    "duration": 4,
    "start_time": "2024-05-13T07:46:36.288Z"
   },
   {
    "duration": 19,
    "start_time": "2024-05-13T07:46:36.293Z"
   },
   {
    "duration": 4,
    "start_time": "2024-05-13T07:46:36.314Z"
   },
   {
    "duration": 916,
    "start_time": "2024-05-13T07:46:36.319Z"
   },
   {
    "duration": 6,
    "start_time": "2024-05-13T07:46:37.237Z"
   },
   {
    "duration": 10,
    "start_time": "2024-05-13T07:46:37.245Z"
   },
   {
    "duration": 26,
    "start_time": "2024-05-13T07:46:37.260Z"
   },
   {
    "duration": 590,
    "start_time": "2024-05-13T07:46:37.288Z"
   },
   {
    "duration": 356,
    "start_time": "2024-05-13T07:46:37.883Z"
   },
   {
    "duration": 557,
    "start_time": "2024-05-13T07:46:38.241Z"
   },
   {
    "duration": 3,
    "start_time": "2024-05-13T07:52:24.458Z"
   },
   {
    "duration": 13,
    "start_time": "2024-05-13T07:52:29.743Z"
   },
   {
    "duration": 5,
    "start_time": "2024-05-13T07:52:30.973Z"
   },
   {
    "duration": 887,
    "start_time": "2024-05-13T07:52:31.914Z"
   },
   {
    "duration": 6,
    "start_time": "2024-05-13T07:52:34.679Z"
   },
   {
    "duration": 6,
    "start_time": "2024-05-13T07:52:35.509Z"
   },
   {
    "duration": 7,
    "start_time": "2024-05-13T07:52:36.074Z"
   },
   {
    "duration": 534,
    "start_time": "2024-05-13T07:52:37.892Z"
   },
   {
    "duration": 343,
    "start_time": "2024-05-13T07:52:38.627Z"
   },
   {
    "duration": 538,
    "start_time": "2024-05-13T07:52:39.902Z"
   },
   {
    "duration": 912,
    "start_time": "2024-05-13T07:53:27.759Z"
   },
   {
    "duration": 880,
    "start_time": "2024-05-13T07:53:33.321Z"
   },
   {
    "duration": 6,
    "start_time": "2024-05-13T07:54:17.719Z"
   },
   {
    "duration": 7,
    "start_time": "2024-05-13T07:54:25.831Z"
   },
   {
    "duration": 6,
    "start_time": "2024-05-13T07:54:55.023Z"
   },
   {
    "duration": 5,
    "start_time": "2024-05-13T07:55:18.968Z"
   },
   {
    "duration": 939,
    "start_time": "2024-05-13T07:55:37.644Z"
   },
   {
    "duration": 927,
    "start_time": "2024-05-13T07:56:37.929Z"
   },
   {
    "duration": 912,
    "start_time": "2024-05-13T07:56:43.540Z"
   },
   {
    "duration": 910,
    "start_time": "2024-05-13T07:57:06.394Z"
   },
   {
    "duration": 887,
    "start_time": "2024-05-13T07:57:10.569Z"
   },
   {
    "duration": 9,
    "start_time": "2024-05-13T07:57:11.613Z"
   },
   {
    "duration": 6,
    "start_time": "2024-05-13T07:57:12.163Z"
   },
   {
    "duration": 7,
    "start_time": "2024-05-13T07:57:12.453Z"
   },
   {
    "duration": 6,
    "start_time": "2024-05-13T07:57:13.463Z"
   },
   {
    "duration": 1431,
    "start_time": "2024-05-13T07:57:30.689Z"
   },
   {
    "duration": 186,
    "start_time": "2024-05-13T07:57:32.121Z"
   },
   {
    "duration": 184,
    "start_time": "2024-05-13T07:57:32.309Z"
   },
   {
    "duration": 164,
    "start_time": "2024-05-13T07:57:32.495Z"
   },
   {
    "duration": 7,
    "start_time": "2024-05-13T07:57:32.662Z"
   },
   {
    "duration": 2243,
    "start_time": "2024-05-13T07:57:32.671Z"
   },
   {
    "duration": 405,
    "start_time": "2024-05-13T07:57:34.916Z"
   },
   {
    "duration": 2322,
    "start_time": "2024-05-13T07:57:35.322Z"
   },
   {
    "duration": 370,
    "start_time": "2024-05-13T07:57:37.646Z"
   },
   {
    "duration": 2211,
    "start_time": "2024-05-13T07:57:38.018Z"
   },
   {
    "duration": 381,
    "start_time": "2024-05-13T07:57:40.231Z"
   },
   {
    "duration": 11,
    "start_time": "2024-05-13T07:57:40.614Z"
   },
   {
    "duration": 3,
    "start_time": "2024-05-13T07:57:40.627Z"
   },
   {
    "duration": 3761,
    "start_time": "2024-05-13T07:57:40.633Z"
   },
   {
    "duration": 9,
    "start_time": "2024-05-13T07:57:44.396Z"
   },
   {
    "duration": 15,
    "start_time": "2024-05-13T07:57:44.407Z"
   },
   {
    "duration": 451,
    "start_time": "2024-05-13T07:57:44.424Z"
   },
   {
    "duration": 260,
    "start_time": "2024-05-13T07:57:44.881Z"
   },
   {
    "duration": 12,
    "start_time": "2024-05-13T07:57:45.143Z"
   },
   {
    "duration": 3841,
    "start_time": "2024-05-13T07:57:45.157Z"
   },
   {
    "duration": 9,
    "start_time": "2024-05-13T07:57:49.000Z"
   },
   {
    "duration": 10,
    "start_time": "2024-05-13T07:57:49.011Z"
   },
   {
    "duration": 465,
    "start_time": "2024-05-13T07:57:49.023Z"
   },
   {
    "duration": 202,
    "start_time": "2024-05-13T07:57:49.489Z"
   },
   {
    "duration": 14,
    "start_time": "2024-05-13T07:57:49.692Z"
   },
   {
    "duration": 3599,
    "start_time": "2024-05-13T07:57:49.707Z"
   },
   {
    "duration": 78,
    "start_time": "2024-05-13T07:57:53.308Z"
   },
   {
    "duration": 10,
    "start_time": "2024-05-13T07:57:53.388Z"
   },
   {
    "duration": 482,
    "start_time": "2024-05-13T07:57:53.400Z"
   },
   {
    "duration": 206,
    "start_time": "2024-05-13T07:57:53.884Z"
   },
   {
    "duration": 5,
    "start_time": "2024-05-13T07:57:54.092Z"
   },
   {
    "duration": 14,
    "start_time": "2024-05-13T07:57:54.099Z"
   },
   {
    "duration": 6,
    "start_time": "2024-05-13T07:57:54.114Z"
   },
   {
    "duration": 6,
    "start_time": "2024-05-13T07:57:54.122Z"
   },
   {
    "duration": 3,
    "start_time": "2024-05-13T07:57:54.130Z"
   },
   {
    "duration": 49,
    "start_time": "2024-05-13T07:57:54.135Z"
   },
   {
    "duration": 3,
    "start_time": "2024-05-13T07:57:54.186Z"
   },
   {
    "duration": 916,
    "start_time": "2024-05-13T07:57:54.191Z"
   },
   {
    "duration": 6,
    "start_time": "2024-05-13T07:57:55.109Z"
   },
   {
    "duration": 6,
    "start_time": "2024-05-13T07:57:55.116Z"
   },
   {
    "duration": 6,
    "start_time": "2024-05-13T07:57:55.125Z"
   },
   {
    "duration": 6,
    "start_time": "2024-05-13T07:57:55.133Z"
   },
   {
    "duration": 5,
    "start_time": "2024-05-13T07:57:55.141Z"
   },
   {
    "duration": 50,
    "start_time": "2024-05-13T07:57:55.147Z"
   },
   {
    "duration": 6,
    "start_time": "2024-05-13T08:00:46.838Z"
   },
   {
    "duration": 5,
    "start_time": "2024-05-13T08:00:55.612Z"
   },
   {
    "duration": 5,
    "start_time": "2024-05-13T08:00:57.103Z"
   },
   {
    "duration": 1367,
    "start_time": "2024-05-13T08:03:08.333Z"
   },
   {
    "duration": 191,
    "start_time": "2024-05-13T08:03:09.701Z"
   },
   {
    "duration": 189,
    "start_time": "2024-05-13T08:03:09.894Z"
   },
   {
    "duration": 161,
    "start_time": "2024-05-13T08:03:10.085Z"
   },
   {
    "duration": 6,
    "start_time": "2024-05-13T08:03:10.248Z"
   },
   {
    "duration": 2186,
    "start_time": "2024-05-13T08:03:10.256Z"
   },
   {
    "duration": 414,
    "start_time": "2024-05-13T08:03:12.443Z"
   },
   {
    "duration": 2406,
    "start_time": "2024-05-13T08:03:12.858Z"
   },
   {
    "duration": 388,
    "start_time": "2024-05-13T08:03:15.266Z"
   },
   {
    "duration": 2195,
    "start_time": "2024-05-13T08:03:15.657Z"
   },
   {
    "duration": 456,
    "start_time": "2024-05-13T08:03:17.853Z"
   },
   {
    "duration": 12,
    "start_time": "2024-05-13T08:03:18.310Z"
   },
   {
    "duration": 3,
    "start_time": "2024-05-13T08:03:18.323Z"
   },
   {
    "duration": 3367,
    "start_time": "2024-05-13T08:03:18.327Z"
   },
   {
    "duration": 9,
    "start_time": "2024-05-13T08:03:21.696Z"
   },
   {
    "duration": 25,
    "start_time": "2024-05-13T08:03:21.707Z"
   },
   {
    "duration": 460,
    "start_time": "2024-05-13T08:03:21.734Z"
   },
   {
    "duration": 229,
    "start_time": "2024-05-13T08:03:22.196Z"
   },
   {
    "duration": 12,
    "start_time": "2024-05-13T08:03:22.427Z"
   },
   {
    "duration": 3561,
    "start_time": "2024-05-13T08:03:22.441Z"
   },
   {
    "duration": 9,
    "start_time": "2024-05-13T08:03:26.004Z"
   },
   {
    "duration": 72,
    "start_time": "2024-05-13T08:03:26.015Z"
   },
   {
    "duration": 507,
    "start_time": "2024-05-13T08:03:26.089Z"
   },
   {
    "duration": 204,
    "start_time": "2024-05-13T08:03:26.598Z"
   },
   {
    "duration": 15,
    "start_time": "2024-05-13T08:03:26.804Z"
   },
   {
    "duration": 3579,
    "start_time": "2024-05-13T08:03:26.821Z"
   },
   {
    "duration": 9,
    "start_time": "2024-05-13T08:03:30.401Z"
   },
   {
    "duration": 108,
    "start_time": "2024-05-13T08:03:30.413Z"
   },
   {
    "duration": 460,
    "start_time": "2024-05-13T08:03:30.523Z"
   },
   {
    "duration": 215,
    "start_time": "2024-05-13T08:03:30.985Z"
   },
   {
    "duration": 6,
    "start_time": "2024-05-13T08:03:31.202Z"
   },
   {
    "duration": 53,
    "start_time": "2024-05-13T08:03:31.209Z"
   },
   {
    "duration": 39,
    "start_time": "2024-05-13T08:03:31.264Z"
   },
   {
    "duration": 66,
    "start_time": "2024-05-13T08:03:31.305Z"
   },
   {
    "duration": 26,
    "start_time": "2024-05-13T08:03:31.373Z"
   },
   {
    "duration": 43,
    "start_time": "2024-05-13T08:03:31.401Z"
   },
   {
    "duration": 24,
    "start_time": "2024-05-13T08:03:31.445Z"
   },
   {
    "duration": 910,
    "start_time": "2024-05-13T08:03:31.470Z"
   },
   {
    "duration": 5,
    "start_time": "2024-05-13T08:03:32.382Z"
   },
   {
    "duration": 38,
    "start_time": "2024-05-13T08:03:32.388Z"
   },
   {
    "duration": 8,
    "start_time": "2024-05-13T08:03:32.428Z"
   },
   {
    "duration": 7,
    "start_time": "2024-05-13T08:03:32.438Z"
   },
   {
    "duration": 18,
    "start_time": "2024-05-13T08:03:32.446Z"
   },
   {
    "duration": 29,
    "start_time": "2024-05-13T08:03:32.466Z"
   },
   {
    "duration": 4443,
    "start_time": "2024-05-13T14:36:21.474Z"
   },
   {
    "duration": 265,
    "start_time": "2024-05-13T14:36:25.919Z"
   },
   {
    "duration": 219,
    "start_time": "2024-05-13T14:36:26.185Z"
   },
   {
    "duration": 217,
    "start_time": "2024-05-13T14:36:26.406Z"
   },
   {
    "duration": 6,
    "start_time": "2024-05-13T14:36:26.624Z"
   },
   {
    "duration": 2176,
    "start_time": "2024-05-13T14:36:26.631Z"
   },
   {
    "duration": 406,
    "start_time": "2024-05-13T14:36:28.808Z"
   },
   {
    "duration": 2097,
    "start_time": "2024-05-13T14:36:29.216Z"
   },
   {
    "duration": 350,
    "start_time": "2024-05-13T14:36:31.315Z"
   },
   {
    "duration": 2070,
    "start_time": "2024-05-13T14:36:31.668Z"
   },
   {
    "duration": 418,
    "start_time": "2024-05-13T14:36:33.740Z"
   },
   {
    "duration": 11,
    "start_time": "2024-05-13T14:36:34.165Z"
   },
   {
    "duration": 3,
    "start_time": "2024-05-13T14:36:34.177Z"
   },
   {
    "duration": 3198,
    "start_time": "2024-05-13T14:36:34.181Z"
   },
   {
    "duration": 8,
    "start_time": "2024-05-13T14:36:37.380Z"
   },
   {
    "duration": 19,
    "start_time": "2024-05-13T14:36:37.389Z"
   },
   {
    "duration": 433,
    "start_time": "2024-05-13T14:36:37.410Z"
   },
   {
    "duration": 217,
    "start_time": "2024-05-13T14:36:37.844Z"
   },
   {
    "duration": 12,
    "start_time": "2024-05-13T14:36:38.062Z"
   },
   {
    "duration": 3207,
    "start_time": "2024-05-13T14:36:38.075Z"
   },
   {
    "duration": 8,
    "start_time": "2024-05-13T14:36:41.284Z"
   },
   {
    "duration": 73,
    "start_time": "2024-05-13T14:36:41.293Z"
   },
   {
    "duration": 387,
    "start_time": "2024-05-13T14:36:41.368Z"
   },
   {
    "duration": 201,
    "start_time": "2024-05-13T14:36:41.757Z"
   },
   {
    "duration": 14,
    "start_time": "2024-05-13T14:36:41.965Z"
   },
   {
    "duration": 3603,
    "start_time": "2024-05-13T14:36:41.980Z"
   },
   {
    "duration": 8,
    "start_time": "2024-05-13T14:36:45.584Z"
   },
   {
    "duration": 21,
    "start_time": "2024-05-13T14:36:45.595Z"
   },
   {
    "duration": 434,
    "start_time": "2024-05-13T14:36:45.618Z"
   },
   {
    "duration": 196,
    "start_time": "2024-05-13T14:36:46.054Z"
   },
   {
    "duration": 17,
    "start_time": "2024-05-13T14:36:46.252Z"
   },
   {
    "duration": 21,
    "start_time": "2024-05-13T14:36:46.272Z"
   },
   {
    "duration": 5,
    "start_time": "2024-05-13T14:36:46.294Z"
   },
   {
    "duration": 15,
    "start_time": "2024-05-13T14:36:46.301Z"
   },
   {
    "duration": 4,
    "start_time": "2024-05-13T14:36:46.317Z"
   },
   {
    "duration": 15,
    "start_time": "2024-05-13T14:36:46.322Z"
   },
   {
    "duration": 3,
    "start_time": "2024-05-13T14:36:46.339Z"
   },
   {
    "duration": 790,
    "start_time": "2024-05-13T14:36:46.344Z"
   },
   {
    "duration": 5,
    "start_time": "2024-05-13T14:36:47.136Z"
   },
   {
    "duration": 6,
    "start_time": "2024-05-13T14:36:47.142Z"
   },
   {
    "duration": 18,
    "start_time": "2024-05-13T14:36:47.149Z"
   },
   {
    "duration": 5,
    "start_time": "2024-05-13T14:36:47.168Z"
   },
   {
    "duration": 14,
    "start_time": "2024-05-13T14:36:47.174Z"
   },
   {
    "duration": 8,
    "start_time": "2024-05-13T14:36:47.190Z"
   },
   {
    "duration": 4,
    "start_time": "2024-05-13T14:37:04.082Z"
   },
   {
    "duration": 819,
    "start_time": "2024-05-13T14:37:21.846Z"
   },
   {
    "duration": 6,
    "start_time": "2024-05-13T14:37:23.316Z"
   },
   {
    "duration": 5,
    "start_time": "2024-05-13T14:37:24.031Z"
   },
   {
    "duration": 6,
    "start_time": "2024-05-13T14:37:24.438Z"
   },
   {
    "duration": 6,
    "start_time": "2024-05-13T14:37:25.214Z"
   },
   {
    "duration": 5,
    "start_time": "2024-05-13T14:37:25.718Z"
   },
   {
    "duration": 5,
    "start_time": "2024-05-13T14:37:25.972Z"
   },
   {
    "duration": 7,
    "start_time": "2024-05-13T14:37:43.794Z"
   },
   {
    "duration": 4,
    "start_time": "2024-05-13T14:37:50.192Z"
   },
   {
    "duration": 4,
    "start_time": "2024-05-13T14:38:27.316Z"
   },
   {
    "duration": 9,
    "start_time": "2024-05-13T14:38:30.618Z"
   },
   {
    "duration": 991,
    "start_time": "2024-05-13T15:43:20.551Z"
   },
   {
    "duration": 6,
    "start_time": "2024-05-13T15:43:21.544Z"
   },
   {
    "duration": 18,
    "start_time": "2024-05-13T15:43:21.551Z"
   },
   {
    "duration": 6,
    "start_time": "2024-05-13T15:43:21.745Z"
   },
   {
    "duration": 9,
    "start_time": "2024-05-13T15:45:11.524Z"
   },
   {
    "duration": 11,
    "start_time": "2024-05-13T15:45:14.128Z"
   },
   {
    "duration": 6,
    "start_time": "2024-05-13T15:45:20.373Z"
   },
   {
    "duration": 5,
    "start_time": "2024-05-13T15:45:26.822Z"
   },
   {
    "duration": 6,
    "start_time": "2024-05-13T15:45:37.182Z"
   },
   {
    "duration": 4,
    "start_time": "2024-05-13T15:45:43.326Z"
   },
   {
    "duration": 816,
    "start_time": "2024-05-13T15:46:00.566Z"
   },
   {
    "duration": 5,
    "start_time": "2024-05-13T15:46:05.817Z"
   },
   {
    "duration": 5,
    "start_time": "2024-05-13T15:46:06.809Z"
   },
   {
    "duration": 859,
    "start_time": "2024-05-13T15:46:13.457Z"
   },
   {
    "duration": 4,
    "start_time": "2024-05-13T15:46:22.461Z"
   },
   {
    "duration": 937,
    "start_time": "2024-05-13T15:46:23.184Z"
   },
   {
    "duration": 5,
    "start_time": "2024-05-13T15:46:24.912Z"
   },
   {
    "duration": 6,
    "start_time": "2024-05-13T15:46:25.421Z"
   },
   {
    "duration": 12,
    "start_time": "2024-05-13T15:46:26.092Z"
   },
   {
    "duration": 4,
    "start_time": "2024-05-13T15:46:27.888Z"
   },
   {
    "duration": 933,
    "start_time": "2024-05-13T15:46:38.310Z"
   },
   {
    "duration": 7,
    "start_time": "2024-05-13T15:46:39.842Z"
   },
   {
    "duration": 5,
    "start_time": "2024-05-13T15:46:40.046Z"
   },
   {
    "duration": 6,
    "start_time": "2024-05-13T15:46:40.387Z"
   },
   {
    "duration": 5,
    "start_time": "2024-05-13T15:46:41.877Z"
   },
   {
    "duration": 3,
    "start_time": "2024-05-13T15:46:48.642Z"
   },
   {
    "duration": 800,
    "start_time": "2024-05-13T15:46:49.341Z"
   },
   {
    "duration": 6,
    "start_time": "2024-05-13T15:46:50.143Z"
   },
   {
    "duration": 6,
    "start_time": "2024-05-13T15:46:50.232Z"
   },
   {
    "duration": 6,
    "start_time": "2024-05-13T15:46:50.346Z"
   },
   {
    "duration": 5,
    "start_time": "2024-05-13T15:46:50.708Z"
   },
   {
    "duration": 5,
    "start_time": "2024-05-13T15:46:50.878Z"
   },
   {
    "duration": 5,
    "start_time": "2024-05-13T15:46:51.062Z"
   },
   {
    "duration": 4,
    "start_time": "2024-05-13T15:47:03.935Z"
   },
   {
    "duration": 901,
    "start_time": "2024-05-13T15:47:04.691Z"
   },
   {
    "duration": 6,
    "start_time": "2024-05-13T15:47:09.854Z"
   },
   {
    "duration": 6,
    "start_time": "2024-05-13T15:47:10.013Z"
   },
   {
    "duration": 5,
    "start_time": "2024-05-13T15:47:10.176Z"
   },
   {
    "duration": 6,
    "start_time": "2024-05-13T15:47:10.551Z"
   },
   {
    "duration": 7,
    "start_time": "2024-05-13T15:47:10.766Z"
   },
   {
    "duration": 7,
    "start_time": "2024-05-13T15:47:11.422Z"
   },
   {
    "duration": 8,
    "start_time": "2024-05-13T15:47:17.926Z"
   },
   {
    "duration": 1625,
    "start_time": "2024-05-13T16:02:44.432Z"
   },
   {
    "duration": 281,
    "start_time": "2024-05-13T16:02:46.059Z"
   },
   {
    "duration": 219,
    "start_time": "2024-05-13T16:02:46.342Z"
   },
   {
    "duration": 230,
    "start_time": "2024-05-13T16:02:46.563Z"
   },
   {
    "duration": 7,
    "start_time": "2024-05-13T16:02:46.794Z"
   },
   {
    "duration": 2204,
    "start_time": "2024-05-13T16:02:46.802Z"
   },
   {
    "duration": 382,
    "start_time": "2024-05-13T16:02:49.008Z"
   },
   {
    "duration": 2318,
    "start_time": "2024-05-13T16:02:49.392Z"
   },
   {
    "duration": 381,
    "start_time": "2024-05-13T16:02:51.712Z"
   },
   {
    "duration": 2022,
    "start_time": "2024-05-13T16:02:52.096Z"
   },
   {
    "duration": 417,
    "start_time": "2024-05-13T16:02:54.121Z"
   },
   {
    "duration": 11,
    "start_time": "2024-05-13T16:02:54.540Z"
   },
   {
    "duration": 10,
    "start_time": "2024-05-13T16:02:54.553Z"
   },
   {
    "duration": 3208,
    "start_time": "2024-05-13T16:02:54.564Z"
   },
   {
    "duration": 9,
    "start_time": "2024-05-13T16:02:57.773Z"
   },
   {
    "duration": 78,
    "start_time": "2024-05-13T16:02:57.784Z"
   },
   {
    "duration": 386,
    "start_time": "2024-05-13T16:02:57.865Z"
   },
   {
    "duration": 211,
    "start_time": "2024-05-13T16:02:58.252Z"
   },
   {
    "duration": 11,
    "start_time": "2024-05-13T16:02:58.465Z"
   },
   {
    "duration": 3396,
    "start_time": "2024-05-13T16:02:58.477Z"
   },
   {
    "duration": 10,
    "start_time": "2024-05-13T16:03:01.874Z"
   },
   {
    "duration": 28,
    "start_time": "2024-05-13T16:03:01.886Z"
   },
   {
    "duration": 383,
    "start_time": "2024-05-13T16:03:01.961Z"
   },
   {
    "duration": 208,
    "start_time": "2024-05-13T16:03:02.346Z"
   },
   {
    "duration": 15,
    "start_time": "2024-05-13T16:03:02.556Z"
   },
   {
    "duration": 3704,
    "start_time": "2024-05-13T16:03:02.573Z"
   },
   {
    "duration": 10,
    "start_time": "2024-05-13T16:03:06.278Z"
   },
   {
    "duration": 39,
    "start_time": "2024-05-13T16:03:06.292Z"
   },
   {
    "duration": 386,
    "start_time": "2024-05-13T16:03:06.361Z"
   },
   {
    "duration": 200,
    "start_time": "2024-05-13T16:03:06.748Z"
   },
   {
    "duration": 12,
    "start_time": "2024-05-13T16:03:06.950Z"
   },
   {
    "duration": 21,
    "start_time": "2024-05-13T16:03:06.964Z"
   },
   {
    "duration": 16,
    "start_time": "2024-05-13T16:03:06.987Z"
   },
   {
    "duration": 25,
    "start_time": "2024-05-13T16:03:07.004Z"
   },
   {
    "duration": 13,
    "start_time": "2024-05-13T16:03:07.031Z"
   },
   {
    "duration": 25,
    "start_time": "2024-05-13T16:03:07.046Z"
   },
   {
    "duration": 28,
    "start_time": "2024-05-13T16:03:07.072Z"
   },
   {
    "duration": 901,
    "start_time": "2024-05-13T16:03:07.102Z"
   },
   {
    "duration": 6,
    "start_time": "2024-05-13T16:03:08.005Z"
   },
   {
    "duration": 16,
    "start_time": "2024-05-13T16:03:08.012Z"
   },
   {
    "duration": 16,
    "start_time": "2024-05-13T16:03:08.030Z"
   },
   {
    "duration": 14,
    "start_time": "2024-05-13T16:03:08.047Z"
   },
   {
    "duration": 28,
    "start_time": "2024-05-13T16:03:08.062Z"
   },
   {
    "duration": 29,
    "start_time": "2024-05-13T16:03:08.092Z"
   },
   {
    "duration": 4,
    "start_time": "2024-05-13T16:10:51.048Z"
   },
   {
    "duration": 109,
    "start_time": "2024-05-13T16:11:44.550Z"
   },
   {
    "duration": 8,
    "start_time": "2024-05-13T16:11:47.343Z"
   },
   {
    "duration": 7,
    "start_time": "2024-05-13T16:11:59.660Z"
   },
   {
    "duration": 7,
    "start_time": "2024-05-13T16:12:20.122Z"
   },
   {
    "duration": 7,
    "start_time": "2024-05-13T16:12:30.037Z"
   },
   {
    "duration": 4,
    "start_time": "2024-05-13T16:15:05.531Z"
   },
   {
    "duration": 7,
    "start_time": "2024-05-13T16:15:07.022Z"
   },
   {
    "duration": 8,
    "start_time": "2024-05-13T16:15:07.184Z"
   },
   {
    "duration": 8,
    "start_time": "2024-05-13T16:15:07.384Z"
   },
   {
    "duration": 3,
    "start_time": "2024-05-13T16:15:08.241Z"
   },
   {
    "duration": 11,
    "start_time": "2024-05-13T16:15:12.142Z"
   },
   {
    "duration": 1018,
    "start_time": "2024-05-13T16:16:10.891Z"
   },
   {
    "duration": 6,
    "start_time": "2024-05-13T16:17:56.574Z"
   },
   {
    "duration": 6,
    "start_time": "2024-05-13T16:17:57.829Z"
   },
   {
    "duration": 5,
    "start_time": "2024-05-13T16:18:00.360Z"
   },
   {
    "duration": 6,
    "start_time": "2024-05-13T16:18:10.616Z"
   },
   {
    "duration": 6,
    "start_time": "2024-05-13T16:18:12.779Z"
   },
   {
    "duration": 7,
    "start_time": "2024-05-13T16:18:14.146Z"
   },
   {
    "duration": 8,
    "start_time": "2024-05-13T16:18:26.713Z"
   },
   {
    "duration": 9,
    "start_time": "2024-05-13T16:18:28.626Z"
   },
   {
    "duration": 9,
    "start_time": "2024-05-13T16:18:36.197Z"
   },
   {
    "duration": 1366,
    "start_time": "2024-05-13T16:24:03.255Z"
   },
   {
    "duration": 179,
    "start_time": "2024-05-13T16:24:04.623Z"
   },
   {
    "duration": 149,
    "start_time": "2024-05-13T16:24:04.805Z"
   },
   {
    "duration": 157,
    "start_time": "2024-05-13T16:24:04.956Z"
   },
   {
    "duration": 6,
    "start_time": "2024-05-13T16:24:05.114Z"
   },
   {
    "duration": 2368,
    "start_time": "2024-05-13T16:24:05.121Z"
   },
   {
    "duration": 385,
    "start_time": "2024-05-13T16:24:07.491Z"
   },
   {
    "duration": 2261,
    "start_time": "2024-05-13T16:24:07.878Z"
   },
   {
    "duration": 401,
    "start_time": "2024-05-13T16:24:10.140Z"
   },
   {
    "duration": 2156,
    "start_time": "2024-05-13T16:24:10.544Z"
   },
   {
    "duration": 378,
    "start_time": "2024-05-13T16:24:12.701Z"
   },
   {
    "duration": 13,
    "start_time": "2024-05-13T16:24:13.080Z"
   },
   {
    "duration": 7,
    "start_time": "2024-05-13T16:24:13.094Z"
   },
   {
    "duration": 3274,
    "start_time": "2024-05-13T16:24:13.103Z"
   },
   {
    "duration": 10,
    "start_time": "2024-05-13T16:24:16.380Z"
   },
   {
    "duration": 75,
    "start_time": "2024-05-13T16:24:16.392Z"
   },
   {
    "duration": 457,
    "start_time": "2024-05-13T16:24:16.469Z"
   },
   {
    "duration": 255,
    "start_time": "2024-05-13T16:24:16.928Z"
   },
   {
    "duration": 12,
    "start_time": "2024-05-13T16:24:17.185Z"
   },
   {
    "duration": 3678,
    "start_time": "2024-05-13T16:24:17.198Z"
   },
   {
    "duration": 8,
    "start_time": "2024-05-13T16:24:20.877Z"
   },
   {
    "duration": 25,
    "start_time": "2024-05-13T16:24:20.887Z"
   },
   {
    "duration": 379,
    "start_time": "2024-05-13T16:24:20.969Z"
   },
   {
    "duration": 197,
    "start_time": "2024-05-13T16:24:21.349Z"
   },
   {
    "duration": 23,
    "start_time": "2024-05-13T16:24:21.548Z"
   },
   {
    "duration": 3701,
    "start_time": "2024-05-13T16:24:21.572Z"
   },
   {
    "duration": 9,
    "start_time": "2024-05-13T16:24:25.274Z"
   },
   {
    "duration": 28,
    "start_time": "2024-05-13T16:24:25.286Z"
   },
   {
    "duration": 453,
    "start_time": "2024-05-13T16:24:25.316Z"
   },
   {
    "duration": 207,
    "start_time": "2024-05-13T16:24:25.770Z"
   },
   {
    "duration": 5,
    "start_time": "2024-05-13T16:24:25.978Z"
   },
   {
    "duration": 13,
    "start_time": "2024-05-13T16:24:25.985Z"
   },
   {
    "duration": 7,
    "start_time": "2024-05-13T16:24:26.000Z"
   },
   {
    "duration": 8,
    "start_time": "2024-05-13T16:24:26.009Z"
   },
   {
    "duration": 4,
    "start_time": "2024-05-13T16:24:26.018Z"
   },
   {
    "duration": 41,
    "start_time": "2024-05-13T16:24:26.024Z"
   },
   {
    "duration": 4,
    "start_time": "2024-05-13T16:24:26.067Z"
   },
   {
    "duration": 119,
    "start_time": "2024-05-13T16:24:26.072Z"
   },
   {
    "duration": 0,
    "start_time": "2024-05-13T16:24:26.193Z"
   },
   {
    "duration": 0,
    "start_time": "2024-05-13T16:24:26.194Z"
   },
   {
    "duration": 0,
    "start_time": "2024-05-13T16:24:26.195Z"
   },
   {
    "duration": 0,
    "start_time": "2024-05-13T16:24:26.197Z"
   },
   {
    "duration": 0,
    "start_time": "2024-05-13T16:24:26.198Z"
   },
   {
    "duration": 0,
    "start_time": "2024-05-13T16:24:26.199Z"
   },
   {
    "duration": 4,
    "start_time": "2024-05-13T16:24:56.608Z"
   },
   {
    "duration": 1040,
    "start_time": "2024-05-13T16:25:00.495Z"
   },
   {
    "duration": 7,
    "start_time": "2024-05-13T16:25:30.106Z"
   },
   {
    "duration": 6,
    "start_time": "2024-05-13T16:25:32.349Z"
   },
   {
    "duration": 6,
    "start_time": "2024-05-13T16:25:33.547Z"
   },
   {
    "duration": 10,
    "start_time": "2024-05-13T16:25:36.414Z"
   },
   {
    "duration": 8,
    "start_time": "2024-05-13T16:25:37.313Z"
   },
   {
    "duration": 9,
    "start_time": "2024-05-13T16:25:38.821Z"
   },
   {
    "duration": 1371,
    "start_time": "2024-05-13T16:26:02.595Z"
   },
   {
    "duration": 176,
    "start_time": "2024-05-13T16:26:03.968Z"
   },
   {
    "duration": 142,
    "start_time": "2024-05-13T16:26:04.146Z"
   },
   {
    "duration": 152,
    "start_time": "2024-05-13T16:26:04.290Z"
   },
   {
    "duration": 6,
    "start_time": "2024-05-13T16:26:04.444Z"
   },
   {
    "duration": 2254,
    "start_time": "2024-05-13T16:26:04.461Z"
   },
   {
    "duration": 405,
    "start_time": "2024-05-13T16:26:06.716Z"
   },
   {
    "duration": 2287,
    "start_time": "2024-05-13T16:26:07.123Z"
   },
   {
    "duration": 366,
    "start_time": "2024-05-13T16:26:09.411Z"
   },
   {
    "duration": 2028,
    "start_time": "2024-05-13T16:26:09.780Z"
   },
   {
    "duration": 387,
    "start_time": "2024-05-13T16:26:11.810Z"
   },
   {
    "duration": 14,
    "start_time": "2024-05-13T16:26:12.199Z"
   },
   {
    "duration": 4,
    "start_time": "2024-05-13T16:26:12.214Z"
   },
   {
    "duration": 2952,
    "start_time": "2024-05-13T16:26:12.219Z"
   },
   {
    "duration": 10,
    "start_time": "2024-05-13T16:26:15.172Z"
   },
   {
    "duration": 33,
    "start_time": "2024-05-13T16:26:15.184Z"
   },
   {
    "duration": 391,
    "start_time": "2024-05-13T16:26:15.262Z"
   },
   {
    "duration": 214,
    "start_time": "2024-05-13T16:26:15.661Z"
   },
   {
    "duration": 11,
    "start_time": "2024-05-13T16:26:15.877Z"
   },
   {
    "duration": 3580,
    "start_time": "2024-05-13T16:26:15.890Z"
   },
   {
    "duration": 8,
    "start_time": "2024-05-13T16:26:19.472Z"
   },
   {
    "duration": 15,
    "start_time": "2024-05-13T16:26:19.482Z"
   },
   {
    "duration": 450,
    "start_time": "2024-05-13T16:26:19.499Z"
   },
   {
    "duration": 200,
    "start_time": "2024-05-13T16:26:19.951Z"
   },
   {
    "duration": 17,
    "start_time": "2024-05-13T16:26:20.160Z"
   },
   {
    "duration": 3687,
    "start_time": "2024-05-13T16:26:20.180Z"
   },
   {
    "duration": 10,
    "start_time": "2024-05-13T16:26:23.869Z"
   },
   {
    "duration": 23,
    "start_time": "2024-05-13T16:26:23.883Z"
   },
   {
    "duration": 458,
    "start_time": "2024-05-13T16:26:23.907Z"
   },
   {
    "duration": 193,
    "start_time": "2024-05-13T16:26:24.367Z"
   },
   {
    "duration": 5,
    "start_time": "2024-05-13T16:26:24.562Z"
   },
   {
    "duration": 38,
    "start_time": "2024-05-13T16:26:24.569Z"
   },
   {
    "duration": 27,
    "start_time": "2024-05-13T16:26:24.609Z"
   },
   {
    "duration": 40,
    "start_time": "2024-05-13T16:26:24.638Z"
   },
   {
    "duration": 48,
    "start_time": "2024-05-13T16:26:24.680Z"
   },
   {
    "duration": 32,
    "start_time": "2024-05-13T16:26:24.730Z"
   },
   {
    "duration": 35,
    "start_time": "2024-05-13T16:26:24.763Z"
   },
   {
    "duration": 1068,
    "start_time": "2024-05-13T16:26:24.799Z"
   },
   {
    "duration": 6,
    "start_time": "2024-05-13T16:26:25.868Z"
   },
   {
    "duration": 58,
    "start_time": "2024-05-13T16:26:25.875Z"
   },
   {
    "duration": 44,
    "start_time": "2024-05-13T16:26:25.935Z"
   },
   {
    "duration": 33,
    "start_time": "2024-05-13T16:26:25.981Z"
   },
   {
    "duration": 74,
    "start_time": "2024-05-13T16:26:26.015Z"
   },
   {
    "duration": 43,
    "start_time": "2024-05-13T16:26:26.090Z"
   },
   {
    "duration": 2166,
    "start_time": "2024-05-14T11:20:06.589Z"
   },
   {
    "duration": 419,
    "start_time": "2024-05-14T11:20:08.758Z"
   },
   {
    "duration": 285,
    "start_time": "2024-05-14T11:20:09.178Z"
   },
   {
    "duration": 260,
    "start_time": "2024-05-14T11:20:09.465Z"
   },
   {
    "duration": 7,
    "start_time": "2024-05-14T11:20:09.727Z"
   },
   {
    "duration": 2393,
    "start_time": "2024-05-14T11:20:09.736Z"
   },
   {
    "duration": 422,
    "start_time": "2024-05-14T11:20:12.131Z"
   },
   {
    "duration": 2468,
    "start_time": "2024-05-14T11:20:12.555Z"
   },
   {
    "duration": 409,
    "start_time": "2024-05-14T11:20:15.029Z"
   },
   {
    "duration": 2348,
    "start_time": "2024-05-14T11:20:15.441Z"
   },
   {
    "duration": 405,
    "start_time": "2024-05-14T11:20:17.791Z"
   },
   {
    "duration": 14,
    "start_time": "2024-05-14T11:20:18.198Z"
   },
   {
    "duration": 28,
    "start_time": "2024-05-14T11:20:18.214Z"
   },
   {
    "duration": 3504,
    "start_time": "2024-05-14T11:20:18.244Z"
   },
   {
    "duration": 9,
    "start_time": "2024-05-14T11:20:21.750Z"
   },
   {
    "duration": 69,
    "start_time": "2024-05-14T11:20:21.761Z"
   },
   {
    "duration": 404,
    "start_time": "2024-05-14T11:20:21.833Z"
   },
   {
    "duration": 250,
    "start_time": "2024-05-14T11:20:22.239Z"
   },
   {
    "duration": 12,
    "start_time": "2024-05-14T11:20:22.491Z"
   },
   {
    "duration": 3737,
    "start_time": "2024-05-14T11:20:22.505Z"
   },
   {
    "duration": 9,
    "start_time": "2024-05-14T11:20:26.244Z"
   },
   {
    "duration": 42,
    "start_time": "2024-05-14T11:20:26.254Z"
   },
   {
    "duration": 390,
    "start_time": "2024-05-14T11:20:26.331Z"
   },
   {
    "duration": 212,
    "start_time": "2024-05-14T11:20:26.729Z"
   },
   {
    "duration": 14,
    "start_time": "2024-05-14T11:20:26.943Z"
   },
   {
    "duration": 3482,
    "start_time": "2024-05-14T11:20:26.959Z"
   },
   {
    "duration": 10,
    "start_time": "2024-05-14T11:20:30.528Z"
   },
   {
    "duration": 122,
    "start_time": "2024-05-14T11:20:30.542Z"
   },
   {
    "duration": 399,
    "start_time": "2024-05-14T11:20:30.731Z"
   },
   {
    "duration": 211,
    "start_time": "2024-05-14T11:20:31.131Z"
   },
   {
    "duration": 6,
    "start_time": "2024-05-14T11:20:31.344Z"
   },
   {
    "duration": 75,
    "start_time": "2024-05-14T11:20:31.351Z"
   },
   {
    "duration": 44,
    "start_time": "2024-05-14T11:20:31.428Z"
   },
   {
    "duration": 117,
    "start_time": "2024-05-14T11:20:31.474Z"
   },
   {
    "duration": 71,
    "start_time": "2024-05-14T11:20:31.593Z"
   },
   {
    "duration": 64,
    "start_time": "2024-05-14T11:20:31.666Z"
   },
   {
    "duration": 113,
    "start_time": "2024-05-14T11:20:31.732Z"
   },
   {
    "duration": 1576,
    "start_time": "2024-05-14T11:20:31.847Z"
   },
   {
    "duration": 8,
    "start_time": "2024-05-14T11:20:33.425Z"
   },
   {
    "duration": 365,
    "start_time": "2024-05-14T11:20:33.435Z"
   },
   {
    "duration": 22,
    "start_time": "2024-05-14T11:20:33.801Z"
   },
   {
    "duration": 31,
    "start_time": "2024-05-14T11:20:33.825Z"
   },
   {
    "duration": 31,
    "start_time": "2024-05-14T11:20:33.858Z"
   },
   {
    "duration": 17,
    "start_time": "2024-05-14T11:20:33.891Z"
   },
   {
    "duration": 1510,
    "start_time": "2024-05-14T13:51:42.798Z"
   },
   {
    "duration": 261,
    "start_time": "2024-05-14T13:51:44.310Z"
   },
   {
    "duration": 217,
    "start_time": "2024-05-14T13:51:44.573Z"
   },
   {
    "duration": 234,
    "start_time": "2024-05-14T13:51:44.791Z"
   },
   {
    "duration": 7,
    "start_time": "2024-05-14T13:51:45.026Z"
   },
   {
    "duration": 2256,
    "start_time": "2024-05-14T13:51:45.034Z"
   },
   {
    "duration": 367,
    "start_time": "2024-05-14T13:51:47.291Z"
   },
   {
    "duration": 2133,
    "start_time": "2024-05-14T13:51:47.660Z"
   },
   {
    "duration": 363,
    "start_time": "2024-05-14T13:51:49.795Z"
   },
   {
    "duration": 2036,
    "start_time": "2024-05-14T13:51:50.161Z"
   },
   {
    "duration": 364,
    "start_time": "2024-05-14T13:51:52.199Z"
   },
   {
    "duration": 11,
    "start_time": "2024-05-14T13:51:52.565Z"
   },
   {
    "duration": 3,
    "start_time": "2024-05-14T13:51:52.578Z"
   },
   {
    "duration": 3286,
    "start_time": "2024-05-14T13:51:52.582Z"
   },
   {
    "duration": 9,
    "start_time": "2024-05-14T13:51:55.870Z"
   },
   {
    "duration": 47,
    "start_time": "2024-05-14T13:51:55.880Z"
   },
   {
    "duration": 402,
    "start_time": "2024-05-14T13:51:55.928Z"
   },
   {
    "duration": 201,
    "start_time": "2024-05-14T13:51:56.332Z"
   },
   {
    "duration": 11,
    "start_time": "2024-05-14T13:51:56.535Z"
   },
   {
    "duration": 3730,
    "start_time": "2024-05-14T13:51:56.547Z"
   },
   {
    "duration": 9,
    "start_time": "2024-05-14T13:52:00.279Z"
   },
   {
    "duration": 58,
    "start_time": "2024-05-14T13:52:00.289Z"
   },
   {
    "duration": 478,
    "start_time": "2024-05-14T13:52:00.349Z"
   },
   {
    "duration": 197,
    "start_time": "2024-05-14T13:52:00.828Z"
   },
   {
    "duration": 14,
    "start_time": "2024-05-14T13:52:01.027Z"
   },
   {
    "duration": 3522,
    "start_time": "2024-05-14T13:52:01.042Z"
   },
   {
    "duration": 8,
    "start_time": "2024-05-14T13:52:04.566Z"
   },
   {
    "duration": 21,
    "start_time": "2024-05-14T13:52:04.577Z"
   },
   {
    "duration": 425,
    "start_time": "2024-05-14T13:52:04.601Z"
   },
   {
    "duration": 196,
    "start_time": "2024-05-14T13:52:05.028Z"
   },
   {
    "duration": 4,
    "start_time": "2024-05-14T13:52:05.226Z"
   },
   {
    "duration": 8,
    "start_time": "2024-05-14T13:52:05.231Z"
   },
   {
    "duration": 6,
    "start_time": "2024-05-14T13:52:05.256Z"
   },
   {
    "duration": 19,
    "start_time": "2024-05-14T13:52:05.264Z"
   },
   {
    "duration": 26,
    "start_time": "2024-05-14T13:52:05.284Z"
   },
   {
    "duration": 21,
    "start_time": "2024-05-14T13:52:05.312Z"
   },
   {
    "duration": 3,
    "start_time": "2024-05-14T13:52:05.335Z"
   },
   {
    "duration": 962,
    "start_time": "2024-05-14T13:52:05.339Z"
   },
   {
    "duration": 5,
    "start_time": "2024-05-14T13:52:06.302Z"
   },
   {
    "duration": 13,
    "start_time": "2024-05-14T13:52:06.308Z"
   },
   {
    "duration": 5,
    "start_time": "2024-05-14T13:52:06.322Z"
   },
   {
    "duration": 10,
    "start_time": "2024-05-14T13:52:06.329Z"
   },
   {
    "duration": 13,
    "start_time": "2024-05-14T13:52:06.357Z"
   },
   {
    "duration": 17,
    "start_time": "2024-05-14T13:52:06.372Z"
   },
   {
    "duration": 6,
    "start_time": "2024-05-14T13:56:11.550Z"
   },
   {
    "duration": 8,
    "start_time": "2024-05-14T13:56:18.690Z"
   },
   {
    "duration": 12,
    "start_time": "2024-05-14T13:56:40.609Z"
   },
   {
    "duration": 13,
    "start_time": "2024-05-14T13:57:58.444Z"
   },
   {
    "duration": 3,
    "start_time": "2024-05-14T13:58:01.991Z"
   },
   {
    "duration": 139,
    "start_time": "2024-05-14T13:58:42.093Z"
   },
   {
    "duration": 12,
    "start_time": "2024-05-14T14:24:10.701Z"
   },
   {
    "duration": 24,
    "start_time": "2024-05-14T14:24:26.474Z"
   },
   {
    "duration": 3,
    "start_time": "2024-05-14T14:25:50.703Z"
   },
   {
    "duration": 15,
    "start_time": "2024-05-14T14:25:53.604Z"
   },
   {
    "duration": 12,
    "start_time": "2024-05-14T14:26:34.417Z"
   },
   {
    "duration": 18,
    "start_time": "2024-05-14T14:27:15.816Z"
   },
   {
    "duration": 13,
    "start_time": "2024-05-14T14:27:50.848Z"
   },
   {
    "duration": 15,
    "start_time": "2024-05-14T14:27:55.719Z"
   },
   {
    "duration": 11,
    "start_time": "2024-05-14T14:27:58.902Z"
   },
   {
    "duration": 4,
    "start_time": "2024-05-14T14:28:23.897Z"
   },
   {
    "duration": 15,
    "start_time": "2024-05-14T14:28:27.011Z"
   },
   {
    "duration": 14,
    "start_time": "2024-05-14T14:29:36.573Z"
   },
   {
    "duration": 14,
    "start_time": "2024-05-14T14:29:53.164Z"
   },
   {
    "duration": 15,
    "start_time": "2024-05-14T14:30:00.412Z"
   },
   {
    "duration": 13,
    "start_time": "2024-05-14T14:30:23.981Z"
   },
   {
    "duration": 3,
    "start_time": "2024-05-14T14:30:32.269Z"
   },
   {
    "duration": 22,
    "start_time": "2024-05-14T14:30:46.607Z"
   },
   {
    "duration": 15,
    "start_time": "2024-05-14T14:30:50.046Z"
   },
   {
    "duration": 1313,
    "start_time": "2024-05-14T14:30:58.114Z"
   },
   {
    "duration": 159,
    "start_time": "2024-05-14T14:30:59.428Z"
   },
   {
    "duration": 140,
    "start_time": "2024-05-14T14:30:59.589Z"
   },
   {
    "duration": 155,
    "start_time": "2024-05-14T14:30:59.730Z"
   },
   {
    "duration": 6,
    "start_time": "2024-05-14T14:30:59.887Z"
   },
   {
    "duration": 2097,
    "start_time": "2024-05-14T14:30:59.895Z"
   },
   {
    "duration": 371,
    "start_time": "2024-05-14T14:31:01.994Z"
   },
   {
    "duration": 2134,
    "start_time": "2024-05-14T14:31:02.367Z"
   },
   {
    "duration": 362,
    "start_time": "2024-05-14T14:31:04.502Z"
   },
   {
    "duration": 2025,
    "start_time": "2024-05-14T14:31:04.865Z"
   },
   {
    "duration": 358,
    "start_time": "2024-05-14T14:31:06.891Z"
   },
   {
    "duration": 12,
    "start_time": "2024-05-14T14:31:07.255Z"
   },
   {
    "duration": 15,
    "start_time": "2024-05-14T14:31:07.269Z"
   },
   {
    "duration": 3788,
    "start_time": "2024-05-14T14:31:07.287Z"
   },
   {
    "duration": 9,
    "start_time": "2024-05-14T14:31:11.076Z"
   },
   {
    "duration": 69,
    "start_time": "2024-05-14T14:31:11.087Z"
   },
   {
    "duration": 387,
    "start_time": "2024-05-14T14:31:11.159Z"
   },
   {
    "duration": 218,
    "start_time": "2024-05-14T14:31:11.547Z"
   },
   {
    "duration": 12,
    "start_time": "2024-05-14T14:31:11.767Z"
   },
   {
    "duration": 3802,
    "start_time": "2024-05-14T14:31:11.780Z"
   },
   {
    "duration": 8,
    "start_time": "2024-05-14T14:31:15.584Z"
   },
   {
    "duration": 163,
    "start_time": "2024-05-14T14:31:15.593Z"
   },
   {
    "duration": 504,
    "start_time": "2024-05-14T14:31:15.758Z"
   },
   {
    "duration": 222,
    "start_time": "2024-05-14T14:31:16.264Z"
   },
   {
    "duration": 13,
    "start_time": "2024-05-14T14:31:16.487Z"
   },
   {
    "duration": 3375,
    "start_time": "2024-05-14T14:31:16.502Z"
   },
   {
    "duration": 8,
    "start_time": "2024-05-14T14:31:19.878Z"
   },
   {
    "duration": 13,
    "start_time": "2024-05-14T14:31:19.888Z"
   },
   {
    "duration": 375,
    "start_time": "2024-05-14T14:31:19.960Z"
   },
   {
    "duration": 224,
    "start_time": "2024-05-14T14:31:20.336Z"
   },
   {
    "duration": 6,
    "start_time": "2024-05-14T14:31:20.562Z"
   },
   {
    "duration": 8,
    "start_time": "2024-05-14T14:31:20.570Z"
   },
   {
    "duration": 6,
    "start_time": "2024-05-14T14:31:20.579Z"
   },
   {
    "duration": 12,
    "start_time": "2024-05-14T14:31:20.587Z"
   },
   {
    "duration": 19,
    "start_time": "2024-05-14T14:31:20.601Z"
   },
   {
    "duration": 4,
    "start_time": "2024-05-14T14:31:20.621Z"
   },
   {
    "duration": 47,
    "start_time": "2024-05-14T14:31:20.627Z"
   },
   {
    "duration": 5,
    "start_time": "2024-05-14T14:31:20.675Z"
   },
   {
    "duration": 976,
    "start_time": "2024-05-14T14:31:20.682Z"
   },
   {
    "duration": 8,
    "start_time": "2024-05-14T14:31:21.664Z"
   },
   {
    "duration": 6,
    "start_time": "2024-05-14T14:31:21.676Z"
   },
   {
    "duration": 7,
    "start_time": "2024-05-14T14:31:21.683Z"
   },
   {
    "duration": 10,
    "start_time": "2024-05-14T14:31:21.691Z"
   },
   {
    "duration": 10,
    "start_time": "2024-05-14T14:31:21.702Z"
   },
   {
    "duration": 12,
    "start_time": "2024-05-14T14:31:21.713Z"
   },
   {
    "duration": 3,
    "start_time": "2024-05-14T14:32:11.254Z"
   },
   {
    "duration": 12,
    "start_time": "2024-05-14T14:32:12.735Z"
   },
   {
    "duration": 4,
    "start_time": "2024-05-14T14:32:16.598Z"
   },
   {
    "duration": 971,
    "start_time": "2024-05-14T14:32:17.361Z"
   },
   {
    "duration": 5,
    "start_time": "2024-05-14T14:32:18.334Z"
   },
   {
    "duration": 5,
    "start_time": "2024-05-14T14:32:18.353Z"
   },
   {
    "duration": 6,
    "start_time": "2024-05-14T14:32:18.494Z"
   },
   {
    "duration": 10,
    "start_time": "2024-05-14T14:32:18.858Z"
   },
   {
    "duration": 9,
    "start_time": "2024-05-14T14:32:18.986Z"
   },
   {
    "duration": 9,
    "start_time": "2024-05-14T14:32:19.142Z"
   },
   {
    "duration": 118,
    "start_time": "2024-05-14T14:34:20.382Z"
   },
   {
    "duration": 24,
    "start_time": "2024-05-14T14:35:00.488Z"
   },
   {
    "duration": 17,
    "start_time": "2024-05-14T14:35:23.529Z"
   },
   {
    "duration": 14,
    "start_time": "2024-05-14T14:35:30.270Z"
   },
   {
    "duration": 4,
    "start_time": "2024-05-14T14:35:53.287Z"
   },
   {
    "duration": 6,
    "start_time": "2024-05-14T14:36:14.635Z"
   },
   {
    "duration": 4,
    "start_time": "2024-05-14T14:37:19.097Z"
   },
   {
    "duration": 16,
    "start_time": "2024-05-14T14:37:45.861Z"
   },
   {
    "duration": 3,
    "start_time": "2024-05-14T14:38:38.124Z"
   },
   {
    "duration": 8,
    "start_time": "2024-05-14T14:39:16.423Z"
   },
   {
    "duration": 3,
    "start_time": "2024-05-14T14:39:25.496Z"
   },
   {
    "duration": 306,
    "start_time": "2024-05-14T14:39:28.581Z"
   },
   {
    "duration": 5,
    "start_time": "2024-05-14T14:39:31.426Z"
   },
   {
    "duration": 7,
    "start_time": "2024-05-14T14:39:33.761Z"
   },
   {
    "duration": 6,
    "start_time": "2024-05-14T14:39:35.050Z"
   },
   {
    "duration": 9,
    "start_time": "2024-05-14T14:39:38.632Z"
   },
   {
    "duration": 13,
    "start_time": "2024-05-14T14:39:39.474Z"
   },
   {
    "duration": 9,
    "start_time": "2024-05-14T14:39:41.137Z"
   },
   {
    "duration": 3,
    "start_time": "2024-05-14T14:40:29.699Z"
   },
   {
    "duration": 7,
    "start_time": "2024-05-14T14:40:44.479Z"
   },
   {
    "duration": 4,
    "start_time": "2024-05-14T14:40:58.792Z"
   },
   {
    "duration": 327,
    "start_time": "2024-05-14T14:41:00.032Z"
   },
   {
    "duration": 5,
    "start_time": "2024-05-14T14:41:03.144Z"
   },
   {
    "duration": 5,
    "start_time": "2024-05-14T14:41:04.026Z"
   },
   {
    "duration": 5,
    "start_time": "2024-05-14T14:41:05.218Z"
   },
   {
    "duration": 1397,
    "start_time": "2024-05-14T14:41:11.599Z"
   },
   {
    "duration": 169,
    "start_time": "2024-05-14T14:41:12.997Z"
   },
   {
    "duration": 144,
    "start_time": "2024-05-14T14:41:13.167Z"
   },
   {
    "duration": 145,
    "start_time": "2024-05-14T14:41:13.313Z"
   },
   {
    "duration": 7,
    "start_time": "2024-05-14T14:41:13.460Z"
   },
   {
    "duration": 2314,
    "start_time": "2024-05-14T14:41:13.468Z"
   },
   {
    "duration": 386,
    "start_time": "2024-05-14T14:41:15.783Z"
   },
   {
    "duration": 2138,
    "start_time": "2024-05-14T14:41:16.171Z"
   },
   {
    "duration": 357,
    "start_time": "2024-05-14T14:41:18.310Z"
   },
   {
    "duration": 2017,
    "start_time": "2024-05-14T14:41:18.669Z"
   },
   {
    "duration": 371,
    "start_time": "2024-05-14T14:41:20.688Z"
   },
   {
    "duration": 12,
    "start_time": "2024-05-14T14:41:21.061Z"
   },
   {
    "duration": 3,
    "start_time": "2024-05-14T14:41:21.074Z"
   },
   {
    "duration": 3209,
    "start_time": "2024-05-14T14:41:21.078Z"
   },
   {
    "duration": 8,
    "start_time": "2024-05-14T14:41:24.357Z"
   },
   {
    "duration": 14,
    "start_time": "2024-05-14T14:41:24.366Z"
   },
   {
    "duration": 480,
    "start_time": "2024-05-14T14:41:24.383Z"
   },
   {
    "duration": 221,
    "start_time": "2024-05-14T14:41:24.864Z"
   },
   {
    "duration": 11,
    "start_time": "2024-05-14T14:41:25.087Z"
   },
   {
    "duration": 3474,
    "start_time": "2024-05-14T14:41:25.100Z"
   },
   {
    "duration": 7,
    "start_time": "2024-05-14T14:41:28.576Z"
   },
   {
    "duration": 22,
    "start_time": "2024-05-14T14:41:28.585Z"
   },
   {
    "duration": 382,
    "start_time": "2024-05-14T14:41:28.656Z"
   },
   {
    "duration": 189,
    "start_time": "2024-05-14T14:41:29.039Z"
   },
   {
    "duration": 13,
    "start_time": "2024-05-14T14:41:29.230Z"
   },
   {
    "duration": 3529,
    "start_time": "2024-05-14T14:41:29.244Z"
   },
   {
    "duration": 8,
    "start_time": "2024-05-14T14:41:32.774Z"
   },
   {
    "duration": 19,
    "start_time": "2024-05-14T14:41:32.786Z"
   },
   {
    "duration": 436,
    "start_time": "2024-05-14T14:41:32.806Z"
   },
   {
    "duration": 201,
    "start_time": "2024-05-14T14:41:33.244Z"
   },
   {
    "duration": 12,
    "start_time": "2024-05-14T14:41:33.446Z"
   },
   {
    "duration": 7,
    "start_time": "2024-05-14T14:41:33.460Z"
   },
   {
    "duration": 6,
    "start_time": "2024-05-14T14:41:33.468Z"
   },
   {
    "duration": 6,
    "start_time": "2024-05-14T14:41:33.476Z"
   },
   {
    "duration": 133,
    "start_time": "2024-05-14T14:41:33.483Z"
   },
   {
    "duration": 0,
    "start_time": "2024-05-14T14:41:33.618Z"
   },
   {
    "duration": 0,
    "start_time": "2024-05-14T14:41:33.620Z"
   },
   {
    "duration": 0,
    "start_time": "2024-05-14T14:41:33.621Z"
   },
   {
    "duration": 0,
    "start_time": "2024-05-14T14:41:33.622Z"
   },
   {
    "duration": 0,
    "start_time": "2024-05-14T14:41:33.624Z"
   },
   {
    "duration": 0,
    "start_time": "2024-05-14T14:41:33.626Z"
   },
   {
    "duration": 0,
    "start_time": "2024-05-14T14:41:33.627Z"
   },
   {
    "duration": 0,
    "start_time": "2024-05-14T14:41:33.628Z"
   },
   {
    "duration": 0,
    "start_time": "2024-05-14T14:41:33.630Z"
   },
   {
    "duration": 0,
    "start_time": "2024-05-14T14:41:33.655Z"
   },
   {
    "duration": 11,
    "start_time": "2024-05-14T14:41:52.259Z"
   },
   {
    "duration": 12,
    "start_time": "2024-05-14T14:42:07.243Z"
   },
   {
    "duration": 3,
    "start_time": "2024-05-14T14:42:08.082Z"
   },
   {
    "duration": 7,
    "start_time": "2024-05-14T14:42:09.598Z"
   },
   {
    "duration": 3,
    "start_time": "2024-05-14T14:42:11.315Z"
   },
   {
    "duration": 323,
    "start_time": "2024-05-14T14:42:11.966Z"
   },
   {
    "duration": 6,
    "start_time": "2024-05-14T14:42:13.017Z"
   },
   {
    "duration": 7,
    "start_time": "2024-05-14T14:42:13.948Z"
   },
   {
    "duration": 6,
    "start_time": "2024-05-14T14:42:15.632Z"
   },
   {
    "duration": 10,
    "start_time": "2024-05-14T14:42:16.895Z"
   },
   {
    "duration": 9,
    "start_time": "2024-05-14T14:42:20.405Z"
   },
   {
    "duration": 10,
    "start_time": "2024-05-14T14:42:20.625Z"
   },
   {
    "duration": 1329,
    "start_time": "2024-05-14T14:47:06.886Z"
   },
   {
    "duration": 163,
    "start_time": "2024-05-14T14:47:08.217Z"
   },
   {
    "duration": 144,
    "start_time": "2024-05-14T14:47:08.382Z"
   },
   {
    "duration": 152,
    "start_time": "2024-05-14T14:47:08.528Z"
   },
   {
    "duration": 6,
    "start_time": "2024-05-14T14:47:08.681Z"
   },
   {
    "duration": 2080,
    "start_time": "2024-05-14T14:47:08.689Z"
   },
   {
    "duration": 393,
    "start_time": "2024-05-14T14:47:10.770Z"
   },
   {
    "duration": 2164,
    "start_time": "2024-05-14T14:47:11.164Z"
   },
   {
    "duration": 340,
    "start_time": "2024-05-14T14:47:13.329Z"
   },
   {
    "duration": 2021,
    "start_time": "2024-05-14T14:47:13.672Z"
   },
   {
    "duration": 389,
    "start_time": "2024-05-14T14:47:15.694Z"
   },
   {
    "duration": 11,
    "start_time": "2024-05-14T14:47:16.085Z"
   },
   {
    "duration": 3,
    "start_time": "2024-05-14T14:47:16.098Z"
   },
   {
    "duration": 3071,
    "start_time": "2024-05-14T14:47:16.103Z"
   },
   {
    "duration": 8,
    "start_time": "2024-05-14T14:47:19.175Z"
   },
   {
    "duration": 10,
    "start_time": "2024-05-14T14:47:19.185Z"
   },
   {
    "duration": 428,
    "start_time": "2024-05-14T14:47:19.197Z"
   },
   {
    "duration": 227,
    "start_time": "2024-05-14T14:47:19.626Z"
   },
   {
    "duration": 17,
    "start_time": "2024-05-14T14:47:19.855Z"
   },
   {
    "duration": 3587,
    "start_time": "2024-05-14T14:47:19.874Z"
   },
   {
    "duration": 8,
    "start_time": "2024-05-14T14:47:23.464Z"
   },
   {
    "duration": 23,
    "start_time": "2024-05-14T14:47:23.474Z"
   },
   {
    "duration": 473,
    "start_time": "2024-05-14T14:47:23.499Z"
   },
   {
    "duration": 185,
    "start_time": "2024-05-14T14:47:23.973Z"
   },
   {
    "duration": 13,
    "start_time": "2024-05-14T14:47:24.160Z"
   },
   {
    "duration": 3599,
    "start_time": "2024-05-14T14:47:24.175Z"
   },
   {
    "duration": 8,
    "start_time": "2024-05-14T14:47:27.776Z"
   },
   {
    "duration": 70,
    "start_time": "2024-05-14T14:47:27.787Z"
   },
   {
    "duration": 381,
    "start_time": "2024-05-14T14:47:27.859Z"
   },
   {
    "duration": 190,
    "start_time": "2024-05-14T14:47:28.242Z"
   },
   {
    "duration": 5,
    "start_time": "2024-05-14T14:47:28.433Z"
   },
   {
    "duration": 19,
    "start_time": "2024-05-14T14:47:28.439Z"
   },
   {
    "duration": 11,
    "start_time": "2024-05-14T14:47:28.459Z"
   },
   {
    "duration": 7,
    "start_time": "2024-05-14T14:47:28.471Z"
   },
   {
    "duration": 12,
    "start_time": "2024-05-14T14:47:28.479Z"
   },
   {
    "duration": 3,
    "start_time": "2024-05-14T14:47:28.492Z"
   },
   {
    "duration": 12,
    "start_time": "2024-05-14T14:47:28.497Z"
   },
   {
    "duration": 3,
    "start_time": "2024-05-14T14:47:28.511Z"
   },
   {
    "duration": 378,
    "start_time": "2024-05-14T14:47:28.515Z"
   },
   {
    "duration": 5,
    "start_time": "2024-05-14T14:47:28.895Z"
   },
   {
    "duration": 17,
    "start_time": "2024-05-14T14:47:28.902Z"
   },
   {
    "duration": 14,
    "start_time": "2024-05-14T14:47:28.920Z"
   },
   {
    "duration": 20,
    "start_time": "2024-05-14T14:47:28.935Z"
   },
   {
    "duration": 33,
    "start_time": "2024-05-14T14:47:28.956Z"
   },
   {
    "duration": 16,
    "start_time": "2024-05-14T14:47:28.990Z"
   },
   {
    "duration": 13,
    "start_time": "2024-05-14T14:48:40.383Z"
   },
   {
    "duration": 1365,
    "start_time": "2024-05-14T14:48:46.691Z"
   },
   {
    "duration": 166,
    "start_time": "2024-05-14T14:48:48.058Z"
   },
   {
    "duration": 144,
    "start_time": "2024-05-14T14:48:48.226Z"
   },
   {
    "duration": 144,
    "start_time": "2024-05-14T14:48:48.372Z"
   },
   {
    "duration": 6,
    "start_time": "2024-05-14T14:48:48.518Z"
   },
   {
    "duration": 2163,
    "start_time": "2024-05-14T14:48:48.526Z"
   },
   {
    "duration": 368,
    "start_time": "2024-05-14T14:48:50.690Z"
   },
   {
    "duration": 2147,
    "start_time": "2024-05-14T14:48:51.060Z"
   },
   {
    "duration": 342,
    "start_time": "2024-05-14T14:48:53.209Z"
   },
   {
    "duration": 2029,
    "start_time": "2024-05-14T14:48:53.553Z"
   },
   {
    "duration": 377,
    "start_time": "2024-05-14T14:48:55.584Z"
   },
   {
    "duration": 10,
    "start_time": "2024-05-14T14:48:55.963Z"
   },
   {
    "duration": 7,
    "start_time": "2024-05-14T14:48:55.975Z"
   },
   {
    "duration": 3282,
    "start_time": "2024-05-14T14:48:55.983Z"
   },
   {
    "duration": 8,
    "start_time": "2024-05-14T14:48:59.267Z"
   },
   {
    "duration": 28,
    "start_time": "2024-05-14T14:48:59.276Z"
   },
   {
    "duration": 381,
    "start_time": "2024-05-14T14:48:59.356Z"
   },
   {
    "duration": 219,
    "start_time": "2024-05-14T14:48:59.738Z"
   },
   {
    "duration": 11,
    "start_time": "2024-05-14T14:48:59.959Z"
   },
   {
    "duration": 3694,
    "start_time": "2024-05-14T14:48:59.971Z"
   },
   {
    "duration": 8,
    "start_time": "2024-05-14T14:49:03.667Z"
   },
   {
    "duration": 28,
    "start_time": "2024-05-14T14:49:03.676Z"
   },
   {
    "duration": 437,
    "start_time": "2024-05-14T14:49:03.706Z"
   },
   {
    "duration": 197,
    "start_time": "2024-05-14T14:49:04.145Z"
   },
   {
    "duration": 28,
    "start_time": "2024-05-14T14:49:04.344Z"
   },
   {
    "duration": 3601,
    "start_time": "2024-05-14T14:49:04.374Z"
   },
   {
    "duration": 9,
    "start_time": "2024-05-14T14:49:07.976Z"
   },
   {
    "duration": 36,
    "start_time": "2024-05-14T14:49:07.988Z"
   },
   {
    "duration": 375,
    "start_time": "2024-05-14T14:49:08.057Z"
   },
   {
    "duration": 196,
    "start_time": "2024-05-14T14:49:08.433Z"
   },
   {
    "duration": 4,
    "start_time": "2024-05-14T14:49:08.630Z"
   },
   {
    "duration": 21,
    "start_time": "2024-05-14T14:49:08.635Z"
   },
   {
    "duration": 6,
    "start_time": "2024-05-14T14:49:08.657Z"
   },
   {
    "duration": 8,
    "start_time": "2024-05-14T14:49:08.664Z"
   },
   {
    "duration": 21,
    "start_time": "2024-05-14T14:49:08.673Z"
   },
   {
    "duration": 6,
    "start_time": "2024-05-14T14:49:08.695Z"
   },
   {
    "duration": 15,
    "start_time": "2024-05-14T14:49:08.703Z"
   },
   {
    "duration": 14,
    "start_time": "2024-05-14T14:49:08.719Z"
   },
   {
    "duration": 347,
    "start_time": "2024-05-14T14:49:08.734Z"
   },
   {
    "duration": 6,
    "start_time": "2024-05-14T14:49:09.083Z"
   },
   {
    "duration": 5,
    "start_time": "2024-05-14T14:49:09.090Z"
   },
   {
    "duration": 5,
    "start_time": "2024-05-14T14:49:09.096Z"
   },
   {
    "duration": 9,
    "start_time": "2024-05-14T14:49:09.102Z"
   },
   {
    "duration": 11,
    "start_time": "2024-05-14T14:49:09.112Z"
   },
   {
    "duration": 38,
    "start_time": "2024-05-14T14:49:09.125Z"
   },
   {
    "duration": 1287,
    "start_time": "2024-05-14T20:48:04.764Z"
   },
   {
    "duration": 572,
    "start_time": "2024-05-14T20:48:06.053Z"
   },
   {
    "duration": 516,
    "start_time": "2024-05-14T20:48:06.626Z"
   },
   {
    "duration": 528,
    "start_time": "2024-05-14T20:48:07.143Z"
   },
   {
    "duration": 5,
    "start_time": "2024-05-14T20:48:07.673Z"
   },
   {
    "duration": 2225,
    "start_time": "2024-05-14T20:48:07.679Z"
   },
   {
    "duration": 343,
    "start_time": "2024-05-14T20:48:09.905Z"
   },
   {
    "duration": 2013,
    "start_time": "2024-05-14T20:48:10.250Z"
   },
   {
    "duration": 277,
    "start_time": "2024-05-14T20:48:12.265Z"
   },
   {
    "duration": 2160,
    "start_time": "2024-05-14T20:48:12.545Z"
   },
   {
    "duration": 299,
    "start_time": "2024-05-14T20:48:14.706Z"
   },
   {
    "duration": 10,
    "start_time": "2024-05-14T20:48:15.006Z"
   },
   {
    "duration": 30,
    "start_time": "2024-05-14T20:48:15.017Z"
   },
   {
    "duration": 2172,
    "start_time": "2024-05-14T20:48:15.049Z"
   },
   {
    "duration": 13,
    "start_time": "2024-05-14T20:48:17.223Z"
   },
   {
    "duration": 54,
    "start_time": "2024-05-14T20:48:17.238Z"
   },
   {
    "duration": 357,
    "start_time": "2024-05-14T20:48:17.294Z"
   },
   {
    "duration": 304,
    "start_time": "2024-05-14T20:48:17.653Z"
   },
   {
    "duration": 10,
    "start_time": "2024-05-14T20:48:17.958Z"
   },
   {
    "duration": 2645,
    "start_time": "2024-05-14T20:48:17.969Z"
   },
   {
    "duration": 12,
    "start_time": "2024-05-14T20:48:20.615Z"
   },
   {
    "duration": 11,
    "start_time": "2024-05-14T20:48:20.629Z"
   },
   {
    "duration": 419,
    "start_time": "2024-05-14T20:48:20.642Z"
   },
   {
    "duration": 304,
    "start_time": "2024-05-14T20:48:21.062Z"
   },
   {
    "duration": 23,
    "start_time": "2024-05-14T20:48:21.367Z"
   },
   {
    "duration": 2721,
    "start_time": "2024-05-14T20:48:21.391Z"
   },
   {
    "duration": 12,
    "start_time": "2024-05-14T20:48:24.114Z"
   },
   {
    "duration": 63,
    "start_time": "2024-05-14T20:48:24.129Z"
   },
   {
    "duration": 354,
    "start_time": "2024-05-14T20:48:24.201Z"
   },
   {
    "duration": 317,
    "start_time": "2024-05-14T20:48:24.557Z"
   },
   {
    "duration": 13,
    "start_time": "2024-05-14T20:48:24.875Z"
   },
   {
    "duration": 8,
    "start_time": "2024-05-14T20:48:24.889Z"
   },
   {
    "duration": 5,
    "start_time": "2024-05-14T20:48:24.899Z"
   },
   {
    "duration": 9,
    "start_time": "2024-05-14T20:48:24.905Z"
   },
   {
    "duration": 7,
    "start_time": "2024-05-14T20:48:24.915Z"
   },
   {
    "duration": 2,
    "start_time": "2024-05-14T20:48:24.923Z"
   },
   {
    "duration": 19,
    "start_time": "2024-05-14T20:48:24.927Z"
   },
   {
    "duration": 3,
    "start_time": "2024-05-14T20:48:24.947Z"
   },
   {
    "duration": 311,
    "start_time": "2024-05-14T20:48:24.951Z"
   },
   {
    "duration": 5,
    "start_time": "2024-05-14T20:48:25.263Z"
   },
   {
    "duration": 4,
    "start_time": "2024-05-14T20:48:25.269Z"
   },
   {
    "duration": 8,
    "start_time": "2024-05-14T20:48:25.284Z"
   },
   {
    "duration": 17,
    "start_time": "2024-05-14T20:48:25.297Z"
   },
   {
    "duration": 15,
    "start_time": "2024-05-14T20:48:25.315Z"
   },
   {
    "duration": 11,
    "start_time": "2024-05-14T20:48:25.331Z"
   },
   {
    "duration": 5,
    "start_time": "2024-05-14T20:51:24.421Z"
   },
   {
    "duration": 3,
    "start_time": "2024-05-14T20:53:47.450Z"
   },
   {
    "duration": 1429,
    "start_time": "2024-05-15T04:37:27.769Z"
   },
   {
    "duration": 225,
    "start_time": "2024-05-15T04:37:29.202Z"
   },
   {
    "duration": 187,
    "start_time": "2024-05-15T04:37:29.428Z"
   },
   {
    "duration": 192,
    "start_time": "2024-05-15T04:37:29.617Z"
   },
   {
    "duration": 5,
    "start_time": "2024-05-15T04:37:29.811Z"
   },
   {
    "duration": 1976,
    "start_time": "2024-05-15T04:37:29.818Z"
   },
   {
    "duration": 362,
    "start_time": "2024-05-15T04:37:31.804Z"
   },
   {
    "duration": 1770,
    "start_time": "2024-05-15T04:37:32.167Z"
   },
   {
    "duration": 328,
    "start_time": "2024-05-15T04:37:33.938Z"
   },
   {
    "duration": 1742,
    "start_time": "2024-05-15T04:37:34.268Z"
   },
   {
    "duration": 349,
    "start_time": "2024-05-15T04:37:36.012Z"
   },
   {
    "duration": 10,
    "start_time": "2024-05-15T04:37:36.362Z"
   },
   {
    "duration": 12,
    "start_time": "2024-05-15T04:37:36.373Z"
   },
   {
    "duration": 2517,
    "start_time": "2024-05-15T04:37:36.386Z"
   },
   {
    "duration": 7,
    "start_time": "2024-05-15T04:37:38.904Z"
   },
   {
    "duration": 10,
    "start_time": "2024-05-15T04:37:38.912Z"
   },
   {
    "duration": 434,
    "start_time": "2024-05-15T04:37:38.926Z"
   },
   {
    "duration": 192,
    "start_time": "2024-05-15T04:37:39.361Z"
   },
   {
    "duration": 10,
    "start_time": "2024-05-15T04:37:39.554Z"
   },
   {
    "duration": 2838,
    "start_time": "2024-05-15T04:37:39.565Z"
   },
   {
    "duration": 7,
    "start_time": "2024-05-15T04:37:42.404Z"
   },
   {
    "duration": 29,
    "start_time": "2024-05-15T04:37:42.412Z"
   },
   {
    "duration": 415,
    "start_time": "2024-05-15T04:37:42.443Z"
   },
   {
    "duration": 159,
    "start_time": "2024-05-15T04:37:42.859Z"
   },
   {
    "duration": 12,
    "start_time": "2024-05-15T04:37:43.019Z"
   },
   {
    "duration": 2771,
    "start_time": "2024-05-15T04:37:43.032Z"
   },
   {
    "duration": 7,
    "start_time": "2024-05-15T04:37:45.804Z"
   },
   {
    "duration": 17,
    "start_time": "2024-05-15T04:37:45.814Z"
   },
   {
    "duration": 417,
    "start_time": "2024-05-15T04:37:45.834Z"
   },
   {
    "duration": 177,
    "start_time": "2024-05-15T04:37:46.253Z"
   },
   {
    "duration": 3,
    "start_time": "2024-05-15T04:37:46.432Z"
   },
   {
    "duration": 24,
    "start_time": "2024-05-15T04:37:46.436Z"
   },
   {
    "duration": 9,
    "start_time": "2024-05-15T04:37:46.461Z"
   },
   {
    "duration": 14,
    "start_time": "2024-05-15T04:37:46.471Z"
   },
   {
    "duration": 21,
    "start_time": "2024-05-15T04:37:46.487Z"
   },
   {
    "duration": 14,
    "start_time": "2024-05-15T04:37:46.509Z"
   },
   {
    "duration": 24,
    "start_time": "2024-05-15T04:37:46.524Z"
   },
   {
    "duration": 20,
    "start_time": "2024-05-15T04:37:46.549Z"
   },
   {
    "duration": 289,
    "start_time": "2024-05-15T04:37:46.570Z"
   },
   {
    "duration": 5,
    "start_time": "2024-05-15T04:37:46.860Z"
   },
   {
    "duration": 12,
    "start_time": "2024-05-15T04:37:46.866Z"
   },
   {
    "duration": 14,
    "start_time": "2024-05-15T04:37:46.880Z"
   },
   {
    "duration": 17,
    "start_time": "2024-05-15T04:37:46.896Z"
   },
   {
    "duration": 43,
    "start_time": "2024-05-15T04:37:46.914Z"
   },
   {
    "duration": 14,
    "start_time": "2024-05-15T04:37:46.958Z"
   },
   {
    "duration": 3,
    "start_time": "2024-05-15T06:24:22.339Z"
   },
   {
    "duration": 6,
    "start_time": "2024-05-15T06:24:40.943Z"
   },
   {
    "duration": 6,
    "start_time": "2024-05-15T06:24:45.399Z"
   },
   {
    "duration": 23,
    "start_time": "2024-05-15T06:25:32.928Z"
   },
   {
    "duration": 11,
    "start_time": "2024-05-15T06:25:37.195Z"
   },
   {
    "duration": 20,
    "start_time": "2024-05-15T06:25:45.673Z"
   },
   {
    "duration": 7,
    "start_time": "2024-05-15T06:25:46.886Z"
   },
   {
    "duration": 739,
    "start_time": "2024-05-15T06:30:57.905Z"
   },
   {
    "duration": 719,
    "start_time": "2024-05-15T06:31:03.917Z"
   },
   {
    "duration": 379,
    "start_time": "2024-05-15T06:31:41.271Z"
   },
   {
    "duration": 2,
    "start_time": "2024-05-15T06:32:22.507Z"
   },
   {
    "duration": 105,
    "start_time": "2024-05-15T06:33:31.623Z"
   },
   {
    "duration": 9,
    "start_time": "2024-05-15T06:33:35.508Z"
   },
   {
    "duration": 11,
    "start_time": "2024-05-15T06:33:40.436Z"
   },
   {
    "duration": 10,
    "start_time": "2024-05-15T06:33:59.713Z"
   },
   {
    "duration": 3,
    "start_time": "2024-05-15T06:34:06.233Z"
   },
   {
    "duration": 5,
    "start_time": "2024-05-15T06:34:09.454Z"
   },
   {
    "duration": 7,
    "start_time": "2024-05-15T06:34:25.868Z"
   },
   {
    "duration": 5,
    "start_time": "2024-05-15T06:34:44.600Z"
   },
   {
    "duration": 10,
    "start_time": "2024-05-15T06:34:49.521Z"
   },
   {
    "duration": 9,
    "start_time": "2024-05-15T06:35:07.793Z"
   },
   {
    "duration": 7,
    "start_time": "2024-05-15T06:35:35.067Z"
   },
   {
    "duration": 8,
    "start_time": "2024-05-15T06:35:57.026Z"
   },
   {
    "duration": 13,
    "start_time": "2024-05-15T06:36:35.861Z"
   },
   {
    "duration": 14,
    "start_time": "2024-05-15T06:36:41.280Z"
   },
   {
    "duration": 8,
    "start_time": "2024-05-15T06:36:48.086Z"
   },
   {
    "duration": 8,
    "start_time": "2024-05-15T06:36:52.828Z"
   },
   {
    "duration": 9,
    "start_time": "2024-05-15T06:36:55.673Z"
   },
   {
    "duration": 8,
    "start_time": "2024-05-15T06:37:03.423Z"
   },
   {
    "duration": 9,
    "start_time": "2024-05-15T06:37:08.059Z"
   },
   {
    "duration": 7,
    "start_time": "2024-05-15T06:37:26.183Z"
   },
   {
    "duration": 7,
    "start_time": "2024-05-15T06:37:38.057Z"
   },
   {
    "duration": 8,
    "start_time": "2024-05-15T06:37:47.254Z"
   },
   {
    "duration": 8,
    "start_time": "2024-05-15T06:38:15.429Z"
   },
   {
    "duration": 8,
    "start_time": "2024-05-15T06:38:39.678Z"
   },
   {
    "duration": 11,
    "start_time": "2024-05-15T06:39:18.105Z"
   },
   {
    "duration": 8,
    "start_time": "2024-05-15T06:39:20.128Z"
   },
   {
    "duration": 10,
    "start_time": "2024-05-15T06:39:20.508Z"
   },
   {
    "duration": 8,
    "start_time": "2024-05-15T06:39:23.732Z"
   },
   {
    "duration": 8,
    "start_time": "2024-05-15T06:39:24.160Z"
   },
   {
    "duration": 8,
    "start_time": "2024-05-15T06:39:24.604Z"
   },
   {
    "duration": 3,
    "start_time": "2024-05-15T06:39:28.997Z"
   },
   {
    "duration": 3,
    "start_time": "2024-05-15T06:41:11.516Z"
   },
   {
    "duration": 3,
    "start_time": "2024-05-15T06:41:47.807Z"
   },
   {
    "duration": 3,
    "start_time": "2024-05-15T06:42:34.673Z"
   },
   {
    "duration": 12,
    "start_time": "2024-05-15T06:43:27.047Z"
   },
   {
    "duration": 3,
    "start_time": "2024-05-15T06:43:44.139Z"
   },
   {
    "duration": 15,
    "start_time": "2024-05-15T06:43:47.077Z"
   },
   {
    "duration": 14,
    "start_time": "2024-05-15T06:45:34.562Z"
   },
   {
    "duration": 3,
    "start_time": "2024-05-15T06:46:50.852Z"
   },
   {
    "duration": 18,
    "start_time": "2024-05-15T06:46:52.944Z"
   },
   {
    "duration": 12,
    "start_time": "2024-05-15T06:51:51.298Z"
   },
   {
    "duration": 4,
    "start_time": "2024-05-15T06:52:34.973Z"
   },
   {
    "duration": 7,
    "start_time": "2024-05-15T06:52:53.131Z"
   },
   {
    "duration": 1190,
    "start_time": "2024-05-15T06:53:07.016Z"
   },
   {
    "duration": 4,
    "start_time": "2024-05-15T06:53:11.959Z"
   },
   {
    "duration": 4,
    "start_time": "2024-05-15T06:53:13.758Z"
   },
   {
    "duration": 6,
    "start_time": "2024-05-15T06:53:14.267Z"
   },
   {
    "duration": 8,
    "start_time": "2024-05-15T06:53:20.131Z"
   },
   {
    "duration": 8,
    "start_time": "2024-05-15T06:53:20.933Z"
   },
   {
    "duration": 8,
    "start_time": "2024-05-15T06:53:23.328Z"
   },
   {
    "duration": 5,
    "start_time": "2024-05-15T06:55:55.941Z"
   },
   {
    "duration": 7,
    "start_time": "2024-05-15T06:55:57.384Z"
   },
   {
    "duration": 6,
    "start_time": "2024-05-15T06:55:57.563Z"
   },
   {
    "duration": 6,
    "start_time": "2024-05-15T06:55:57.682Z"
   },
   {
    "duration": 7,
    "start_time": "2024-05-15T06:55:57.966Z"
   },
   {
    "duration": 8,
    "start_time": "2024-05-15T06:55:58.115Z"
   },
   {
    "duration": 8,
    "start_time": "2024-05-15T06:55:58.865Z"
   },
   {
    "duration": 2,
    "start_time": "2024-05-15T06:56:02.039Z"
   },
   {
    "duration": 13,
    "start_time": "2024-05-15T06:56:05.479Z"
   },
   {
    "duration": 3,
    "start_time": "2024-05-15T06:56:06.816Z"
   },
   {
    "duration": 1187,
    "start_time": "2024-05-15T06:56:07.492Z"
   },
   {
    "duration": 10,
    "start_time": "2024-05-15T06:56:08.680Z"
   },
   {
    "duration": 9,
    "start_time": "2024-05-15T06:56:09.396Z"
   },
   {
    "duration": 1254,
    "start_time": "2024-05-15T06:56:22.987Z"
   },
   {
    "duration": 139,
    "start_time": "2024-05-15T06:56:24.243Z"
   },
   {
    "duration": 114,
    "start_time": "2024-05-15T06:56:24.383Z"
   },
   {
    "duration": 120,
    "start_time": "2024-05-15T06:56:24.499Z"
   },
   {
    "duration": 8,
    "start_time": "2024-05-15T06:56:24.620Z"
   },
   {
    "duration": 1864,
    "start_time": "2024-05-15T06:56:24.630Z"
   },
   {
    "duration": 338,
    "start_time": "2024-05-15T06:56:26.495Z"
   },
   {
    "duration": 1751,
    "start_time": "2024-05-15T06:56:26.834Z"
   },
   {
    "duration": 299,
    "start_time": "2024-05-15T06:56:28.586Z"
   },
   {
    "duration": 1814,
    "start_time": "2024-05-15T06:56:28.901Z"
   },
   {
    "duration": 355,
    "start_time": "2024-05-15T06:56:30.716Z"
   },
   {
    "duration": 9,
    "start_time": "2024-05-15T06:56:31.073Z"
   },
   {
    "duration": 95,
    "start_time": "2024-05-15T06:56:31.083Z"
   },
   {
    "duration": 2444,
    "start_time": "2024-05-15T06:56:31.180Z"
   },
   {
    "duration": 8,
    "start_time": "2024-05-15T06:56:33.625Z"
   },
   {
    "duration": 68,
    "start_time": "2024-05-15T06:56:33.634Z"
   },
   {
    "duration": 351,
    "start_time": "2024-05-15T06:56:33.704Z"
   },
   {
    "duration": 189,
    "start_time": "2024-05-15T06:56:34.056Z"
   },
   {
    "duration": 9,
    "start_time": "2024-05-15T06:56:34.246Z"
   },
   {
    "duration": 2648,
    "start_time": "2024-05-15T06:56:34.256Z"
   },
   {
    "duration": 7,
    "start_time": "2024-05-15T06:56:36.905Z"
   },
   {
    "duration": 36,
    "start_time": "2024-05-15T06:56:36.914Z"
   },
   {
    "duration": 413,
    "start_time": "2024-05-15T06:56:36.951Z"
   },
   {
    "duration": 171,
    "start_time": "2024-05-15T06:56:37.365Z"
   },
   {
    "duration": 11,
    "start_time": "2024-05-15T06:56:37.537Z"
   },
   {
    "duration": 2754,
    "start_time": "2024-05-15T06:56:37.549Z"
   },
   {
    "duration": 7,
    "start_time": "2024-05-15T06:56:40.305Z"
   },
   {
    "duration": 225,
    "start_time": "2024-05-15T06:56:40.315Z"
   },
   {
    "duration": 419,
    "start_time": "2024-05-15T06:56:40.542Z"
   },
   {
    "duration": 165,
    "start_time": "2024-05-15T06:56:40.963Z"
   },
   {
    "duration": 4,
    "start_time": "2024-05-15T06:56:41.129Z"
   },
   {
    "duration": 18,
    "start_time": "2024-05-15T06:56:41.134Z"
   },
   {
    "duration": 23,
    "start_time": "2024-05-15T06:56:41.154Z"
   },
   {
    "duration": 19,
    "start_time": "2024-05-15T06:56:41.178Z"
   },
   {
    "duration": 11,
    "start_time": "2024-05-15T06:56:41.199Z"
   },
   {
    "duration": 29,
    "start_time": "2024-05-15T06:56:41.212Z"
   },
   {
    "duration": 41,
    "start_time": "2024-05-15T06:56:41.242Z"
   },
   {
    "duration": 29,
    "start_time": "2024-05-15T06:56:41.284Z"
   },
   {
    "duration": 21,
    "start_time": "2024-05-15T06:56:41.314Z"
   },
   {
    "duration": 14,
    "start_time": "2024-05-15T06:56:41.337Z"
   },
   {
    "duration": 1200,
    "start_time": "2024-05-15T06:56:41.352Z"
   },
   {
    "duration": 102,
    "start_time": "2024-05-15T06:56:42.553Z"
   },
   {
    "duration": 0,
    "start_time": "2024-05-15T06:56:42.656Z"
   },
   {
    "duration": 0,
    "start_time": "2024-05-15T06:56:42.657Z"
   },
   {
    "duration": 0,
    "start_time": "2024-05-15T06:56:42.658Z"
   },
   {
    "duration": 0,
    "start_time": "2024-05-15T06:56:42.659Z"
   },
   {
    "duration": 0,
    "start_time": "2024-05-15T06:56:42.659Z"
   },
   {
    "duration": 4,
    "start_time": "2024-05-15T06:56:44.859Z"
   },
   {
    "duration": 1187,
    "start_time": "2024-05-15T06:57:00.656Z"
   },
   {
    "duration": 144,
    "start_time": "2024-05-15T06:57:01.844Z"
   },
   {
    "duration": 123,
    "start_time": "2024-05-15T06:57:01.990Z"
   },
   {
    "duration": 117,
    "start_time": "2024-05-15T06:57:02.115Z"
   },
   {
    "duration": 6,
    "start_time": "2024-05-15T06:57:02.233Z"
   },
   {
    "duration": 1852,
    "start_time": "2024-05-15T06:57:02.240Z"
   },
   {
    "duration": 334,
    "start_time": "2024-05-15T06:57:04.094Z"
   },
   {
    "duration": 1864,
    "start_time": "2024-05-15T06:57:04.430Z"
   },
   {
    "duration": 342,
    "start_time": "2024-05-15T06:57:06.296Z"
   },
   {
    "duration": 1771,
    "start_time": "2024-05-15T06:57:06.640Z"
   },
   {
    "duration": 347,
    "start_time": "2024-05-15T06:57:08.412Z"
   },
   {
    "duration": 10,
    "start_time": "2024-05-15T06:57:08.761Z"
   },
   {
    "duration": 12,
    "start_time": "2024-05-15T06:57:08.772Z"
   },
   {
    "duration": 2419,
    "start_time": "2024-05-15T06:57:08.785Z"
   },
   {
    "duration": 8,
    "start_time": "2024-05-15T06:57:11.205Z"
   },
   {
    "duration": 24,
    "start_time": "2024-05-15T06:57:11.214Z"
   },
   {
    "duration": 411,
    "start_time": "2024-05-15T06:57:11.239Z"
   },
   {
    "duration": 189,
    "start_time": "2024-05-15T06:57:11.652Z"
   },
   {
    "duration": 9,
    "start_time": "2024-05-15T06:57:11.842Z"
   },
   {
    "duration": 2654,
    "start_time": "2024-05-15T06:57:11.853Z"
   },
   {
    "duration": 7,
    "start_time": "2024-05-15T06:57:14.508Z"
   },
   {
    "duration": 19,
    "start_time": "2024-05-15T06:57:14.517Z"
   },
   {
    "duration": 349,
    "start_time": "2024-05-15T06:57:14.602Z"
   },
   {
    "duration": 172,
    "start_time": "2024-05-15T06:57:14.953Z"
   },
   {
    "duration": 12,
    "start_time": "2024-05-15T06:57:15.126Z"
   },
   {
    "duration": 2773,
    "start_time": "2024-05-15T06:57:15.139Z"
   },
   {
    "duration": 7,
    "start_time": "2024-05-15T06:57:17.913Z"
   },
   {
    "duration": 83,
    "start_time": "2024-05-15T06:57:17.923Z"
   },
   {
    "duration": 438,
    "start_time": "2024-05-15T06:57:18.008Z"
   },
   {
    "duration": 176,
    "start_time": "2024-05-15T06:57:18.448Z"
   },
   {
    "duration": 3,
    "start_time": "2024-05-15T06:57:18.626Z"
   },
   {
    "duration": 15,
    "start_time": "2024-05-15T06:57:18.630Z"
   },
   {
    "duration": 10,
    "start_time": "2024-05-15T06:57:18.646Z"
   },
   {
    "duration": 32,
    "start_time": "2024-05-15T06:57:18.657Z"
   },
   {
    "duration": 20,
    "start_time": "2024-05-15T06:57:18.691Z"
   },
   {
    "duration": 8,
    "start_time": "2024-05-15T06:57:18.713Z"
   },
   {
    "duration": 19,
    "start_time": "2024-05-15T06:57:18.723Z"
   },
   {
    "duration": 9,
    "start_time": "2024-05-15T06:57:18.744Z"
   },
   {
    "duration": 18,
    "start_time": "2024-05-15T06:57:18.755Z"
   },
   {
    "duration": 4,
    "start_time": "2024-05-15T06:57:18.775Z"
   },
   {
    "duration": 1202,
    "start_time": "2024-05-15T06:57:18.780Z"
   },
   {
    "duration": 5,
    "start_time": "2024-05-15T06:57:19.984Z"
   },
   {
    "duration": 16,
    "start_time": "2024-05-15T06:57:19.990Z"
   },
   {
    "duration": 11,
    "start_time": "2024-05-15T06:57:20.007Z"
   },
   {
    "duration": 20,
    "start_time": "2024-05-15T06:57:20.019Z"
   },
   {
    "duration": 18,
    "start_time": "2024-05-15T06:57:20.041Z"
   },
   {
    "duration": 41,
    "start_time": "2024-05-15T06:57:20.060Z"
   },
   {
    "duration": 4,
    "start_time": "2024-05-15T06:57:45.825Z"
   },
   {
    "duration": 6,
    "start_time": "2024-05-15T06:57:47.773Z"
   },
   {
    "duration": 6,
    "start_time": "2024-05-15T06:57:47.893Z"
   },
   {
    "duration": 6,
    "start_time": "2024-05-15T06:57:48.039Z"
   },
   {
    "duration": 7,
    "start_time": "2024-05-15T06:57:48.425Z"
   },
   {
    "duration": 8,
    "start_time": "2024-05-15T06:57:48.569Z"
   },
   {
    "duration": 8,
    "start_time": "2024-05-15T06:57:48.724Z"
   },
   {
    "duration": 3,
    "start_time": "2024-05-15T06:57:49.612Z"
   },
   {
    "duration": 13,
    "start_time": "2024-05-15T06:57:51.978Z"
   },
   {
    "duration": 3,
    "start_time": "2024-05-15T06:57:53.451Z"
   },
   {
    "duration": 1200,
    "start_time": "2024-05-15T06:57:54.085Z"
   },
   {
    "duration": 4,
    "start_time": "2024-05-15T06:57:55.287Z"
   },
   {
    "duration": 22,
    "start_time": "2024-05-15T06:57:55.292Z"
   },
   {
    "duration": 17,
    "start_time": "2024-05-15T06:57:55.315Z"
   },
   {
    "duration": 7,
    "start_time": "2024-05-15T06:57:55.589Z"
   },
   {
    "duration": 7,
    "start_time": "2024-05-15T06:57:56.396Z"
   },
   {
    "duration": 8,
    "start_time": "2024-05-15T06:57:57.176Z"
   },
   {
    "duration": 8,
    "start_time": "2024-05-15T06:58:54.967Z"
   },
   {
    "duration": 7,
    "start_time": "2024-05-15T06:59:01.398Z"
   },
   {
    "duration": 8,
    "start_time": "2024-05-15T06:59:12.306Z"
   },
   {
    "duration": 8,
    "start_time": "2024-05-15T06:59:27.022Z"
   },
   {
    "duration": 1221,
    "start_time": "2024-05-15T07:04:44.484Z"
   },
   {
    "duration": 139,
    "start_time": "2024-05-15T07:04:45.707Z"
   },
   {
    "duration": 117,
    "start_time": "2024-05-15T07:04:45.848Z"
   },
   {
    "duration": 121,
    "start_time": "2024-05-15T07:04:45.966Z"
   },
   {
    "duration": 6,
    "start_time": "2024-05-15T07:04:46.088Z"
   },
   {
    "duration": 1810,
    "start_time": "2024-05-15T07:04:46.101Z"
   },
   {
    "duration": 362,
    "start_time": "2024-05-15T07:04:47.913Z"
   },
   {
    "duration": 1883,
    "start_time": "2024-05-15T07:04:48.276Z"
   },
   {
    "duration": 326,
    "start_time": "2024-05-15T07:04:50.161Z"
   },
   {
    "duration": 1804,
    "start_time": "2024-05-15T07:04:50.489Z"
   },
   {
    "duration": 367,
    "start_time": "2024-05-15T07:04:52.301Z"
   },
   {
    "duration": 11,
    "start_time": "2024-05-15T07:04:52.669Z"
   },
   {
    "duration": 22,
    "start_time": "2024-05-15T07:04:52.681Z"
   },
   {
    "duration": 2317,
    "start_time": "2024-05-15T07:04:52.705Z"
   },
   {
    "duration": 79,
    "start_time": "2024-05-15T07:04:55.023Z"
   },
   {
    "duration": 98,
    "start_time": "2024-05-15T07:04:55.104Z"
   },
   {
    "duration": 355,
    "start_time": "2024-05-15T07:04:55.203Z"
   },
   {
    "duration": 213,
    "start_time": "2024-05-15T07:04:55.560Z"
   },
   {
    "duration": 9,
    "start_time": "2024-05-15T07:04:55.774Z"
   },
   {
    "duration": 2618,
    "start_time": "2024-05-15T07:04:55.785Z"
   },
   {
    "duration": 8,
    "start_time": "2024-05-15T07:04:58.404Z"
   },
   {
    "duration": 14,
    "start_time": "2024-05-15T07:04:58.413Z"
   },
   {
    "duration": 420,
    "start_time": "2024-05-15T07:04:58.429Z"
   },
   {
    "duration": 168,
    "start_time": "2024-05-15T07:04:58.851Z"
   },
   {
    "duration": 11,
    "start_time": "2024-05-15T07:04:59.020Z"
   },
   {
    "duration": 2889,
    "start_time": "2024-05-15T07:04:59.032Z"
   },
   {
    "duration": 10,
    "start_time": "2024-05-15T07:05:01.923Z"
   },
   {
    "duration": 66,
    "start_time": "2024-05-15T07:05:01.936Z"
   },
   {
    "duration": 445,
    "start_time": "2024-05-15T07:05:02.004Z"
   },
   {
    "duration": 177,
    "start_time": "2024-05-15T07:05:02.451Z"
   },
   {
    "duration": 5,
    "start_time": "2024-05-15T07:05:02.629Z"
   },
   {
    "duration": 51,
    "start_time": "2024-05-15T07:05:02.635Z"
   },
   {
    "duration": 29,
    "start_time": "2024-05-15T07:05:02.687Z"
   },
   {
    "duration": 63,
    "start_time": "2024-05-15T07:05:02.717Z"
   },
   {
    "duration": 32,
    "start_time": "2024-05-15T07:05:02.782Z"
   },
   {
    "duration": 50,
    "start_time": "2024-05-15T07:05:02.815Z"
   },
   {
    "duration": 59,
    "start_time": "2024-05-15T07:05:02.866Z"
   },
   {
    "duration": 43,
    "start_time": "2024-05-15T07:05:02.926Z"
   },
   {
    "duration": 30,
    "start_time": "2024-05-15T07:05:02.971Z"
   },
   {
    "duration": 46,
    "start_time": "2024-05-15T07:05:03.003Z"
   },
   {
    "duration": 1257,
    "start_time": "2024-05-15T07:05:03.051Z"
   },
   {
    "duration": 5,
    "start_time": "2024-05-15T07:05:04.310Z"
   },
   {
    "duration": 31,
    "start_time": "2024-05-15T07:05:04.316Z"
   },
   {
    "duration": 28,
    "start_time": "2024-05-15T07:05:04.348Z"
   },
   {
    "duration": 39,
    "start_time": "2024-05-15T07:05:04.378Z"
   },
   {
    "duration": 30,
    "start_time": "2024-05-15T07:05:04.419Z"
   },
   {
    "duration": 15,
    "start_time": "2024-05-15T07:05:04.450Z"
   }
  ],
  "kernelspec": {
   "display_name": "Python 3 (ipykernel)",
   "language": "python",
   "name": "python3"
  },
  "language_info": {
   "codemirror_mode": {
    "name": "ipython",
    "version": 3
   },
   "file_extension": ".py",
   "mimetype": "text/x-python",
   "name": "python",
   "nbconvert_exporter": "python",
   "pygments_lexer": "ipython3",
   "version": "3.11.7"
  },
  "toc": {
   "base_numbering": 1,
   "nav_menu": {},
   "number_sections": true,
   "sideBar": true,
   "skip_h1_title": true,
   "title_cell": "Table of Contents",
   "title_sidebar": "Contents",
   "toc_cell": false,
   "toc_position": {
    "height": "calc(100% - 180px)",
    "left": "10px",
    "top": "150px",
    "width": "372px"
   },
   "toc_section_display": true,
   "toc_window_display": true
  }
 },
 "nbformat": 4,
 "nbformat_minor": 4
}
