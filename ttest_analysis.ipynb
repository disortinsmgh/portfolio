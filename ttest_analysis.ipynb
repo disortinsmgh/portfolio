{
 "cells": [
  {
   "cell_type": "markdown",
   "id": "91872dd7",
   "metadata": {},
   "source": [
    "# Описание проекта"
   ]
  },
  {
   "cell_type": "markdown",
   "id": "e8ba7ab4",
   "metadata": {},
   "source": [
    "Я являюсь аналитиком популярного сервиса аренды самокатов GoFast. Мне передали данные о некоторых пользователях из нескольких городов, а также об их поездках. Необходимо проанализировать данные и ответитить на ряд вопросов, которые могут помочь вырасти бизнесу:\n",
    " - Тратят ли пользователи с подпиской больше времени на поездки?\n",
    " - Можно ли сказать, что расстояние, которое проезжают пользователи с подпиской за одну поездку, не превышает 3130 метров?\n",
    " - Будет ли помесячная выручка от пользователей с подпиской по месяцам выше, чем выручка от пользователей без подписки?\n",
    " - Как обновление серверов отразится на количество обращений пользователей?\n",
    "____\n",
    "Для анализа будет представлено три файла с данными:\n",
    "  - Пользователи — `users_go.csv`:\n",
    "    * __user_id__ - уникальный идентификатор пользователя\n",
    "    * __name__\t - имя пользователя\n",
    "    * __age__\t - возраст\n",
    "    * __city__\t - город\n",
    "    * __subscription_type__ - тип подписки (free, ultra)\n",
    "____\n",
    "  - Поездки — `rides_go.csv`:\n",
    "\t* __user_id__\t- уникальный идентификатор пользователя\n",
    "    * __distance__\t- расстояние, которое пользователь проехал в текущей сессии (в метрах)\n",
    "    * __duration__ - продолжительность сессии (в минутах) — время с того момента, как пользователь нажал кнопку «Начать поездку» до момента, как он нажал кнопку «Завершить поездку»\n",
    "    * __date__\t- дата совершения поездки\n",
    "___\n",
    "  - Подписки — `subscriptions_go.csv`:\n",
    "    * __subscription_type__ -\tтип подписки\n",
    "    * __minute_price__\t- стоимость одной минуты поездки по данной подписке\n",
    "    * __start_ride_price__ -\tстоимость начала поездки\n",
    "    * __subscription_fee__\t- стоимость ежемесячного платежа\n",
    "___\n",
    "Приступим к нашему исследованию. Для начала импортируем необходимые библиотеки."
   ]
  },
  {
   "cell_type": "code",
   "execution_count": 1,
   "id": "72576667",
   "metadata": {},
   "outputs": [],
   "source": [
    "import pandas as pd\n",
    "import numpy as np\n",
    "import matplotlib.pyplot as plt\n",
    "import scipy.stats as st\n",
    "from scipy.stats import binom, poisson"
   ]
  },
  {
   "cell_type": "markdown",
   "id": "c42cbe00",
   "metadata": {},
   "source": [
    "#### Шаг 1. Загрузка данных"
   ]
  },
  {
   "cell_type": "markdown",
   "id": "7b52e7b5",
   "metadata": {},
   "source": [
    "Загрузим все три датафрейма и проверим их содержимое"
   ]
  },
  {
   "cell_type": "code",
   "execution_count": 2,
   "id": "eff9f206",
   "metadata": {
    "scrolled": true
   },
   "outputs": [
    {
     "name": "stdout",
     "output_type": "stream",
     "text": [
      "      user_id     name  age          city subscription_type\n",
      "572       573     Петр   23     Краснодар             ultra\n",
      "1521     1522   Никита   25  Екатеринбург              free\n",
      "1151     1152  Альбина   21     Пятигорск              free\n",
      "622       623    Нелли   19  Екатеринбург             ultra\n",
      "446       447     Майя   19        Москва             ultra\n",
      "\n",
      "<class 'pandas.core.frame.DataFrame'>\n",
      "RangeIndex: 1565 entries, 0 to 1564\n",
      "Data columns (total 5 columns):\n",
      " #   Column             Non-Null Count  Dtype \n",
      "---  ------             --------------  ----- \n",
      " 0   user_id            1565 non-null   int64 \n",
      " 1   name               1565 non-null   object\n",
      " 2   age                1565 non-null   int64 \n",
      " 3   city               1565 non-null   object\n",
      " 4   subscription_type  1565 non-null   object\n",
      "dtypes: int64(2), object(3)\n",
      "memory usage: 61.3+ KB\n"
     ]
    }
   ],
   "source": [
    "users = pd.read_csv('/datasets/users_go.csv') # пользователи\n",
    "print(users.sample(5))\n",
    "print()\n",
    "users.info()"
   ]
  },
  {
   "cell_type": "markdown",
   "id": "19bbe9a7",
   "metadata": {},
   "source": [
    "В датафрейме с информацией о пользователях присутсвует 1565 строк, в который отсутствуют пропущенные значения. "
   ]
  },
  {
   "cell_type": "code",
   "execution_count": 3,
   "id": "11145889",
   "metadata": {},
   "outputs": [
    {
     "name": "stdout",
     "output_type": "stream",
     "text": [
      "       user_id     distance   duration        date\n",
      "3714       399  4240.395709  22.600989  2021-09-01\n",
      "5715       610  2995.765382  14.559330  2021-11-20\n",
      "7569       776  4175.218256  22.946896  2021-12-09\n",
      "4046       436  3004.453808  15.014846  2021-02-20\n",
      "13714     1225  4698.701271  22.397403  2021-05-22\n",
      "\n",
      "<class 'pandas.core.frame.DataFrame'>\n",
      "RangeIndex: 18068 entries, 0 to 18067\n",
      "Data columns (total 4 columns):\n",
      " #   Column    Non-Null Count  Dtype  \n",
      "---  ------    --------------  -----  \n",
      " 0   user_id   18068 non-null  int64  \n",
      " 1   distance  18068 non-null  float64\n",
      " 2   duration  18068 non-null  float64\n",
      " 3   date      18068 non-null  object \n",
      "dtypes: float64(2), int64(1), object(1)\n",
      "memory usage: 564.8+ KB\n"
     ]
    }
   ],
   "source": [
    "rides = pd.read_csv('/datasets/rides_go.csv') # поездки\n",
    "print(rides.sample(5))\n",
    "print()\n",
    "rides.info()"
   ]
  },
  {
   "cell_type": "markdown",
   "id": "9490253a",
   "metadata": {},
   "source": [
    "В датафрейме с информацией о поездках присутствует 18068 строк и, также, отсуствуют пропуски."
   ]
  },
  {
   "cell_type": "code",
   "execution_count": 4,
   "id": "83101108",
   "metadata": {},
   "outputs": [
    {
     "name": "stdout",
     "output_type": "stream",
     "text": [
      "  subscription_type  minute_price  start_ride_price  subscription_fee\n",
      "0              free             8                50                 0\n",
      "1             ultra             6                 0               199\n",
      "\n",
      "<class 'pandas.core.frame.DataFrame'>\n",
      "RangeIndex: 2 entries, 0 to 1\n",
      "Data columns (total 4 columns):\n",
      " #   Column             Non-Null Count  Dtype \n",
      "---  ------             --------------  ----- \n",
      " 0   subscription_type  2 non-null      object\n",
      " 1   minute_price       2 non-null      int64 \n",
      " 2   start_ride_price   2 non-null      int64 \n",
      " 3   subscription_fee   2 non-null      int64 \n",
      "dtypes: int64(3), object(1)\n",
      "memory usage: 192.0+ bytes\n"
     ]
    }
   ],
   "source": [
    "subscriptions = pd.read_csv('/datasets/subscriptions_go.csv')\n",
    "print(subscriptions)\n",
    "print()\n",
    "subscriptions.info()"
   ]
  },
  {
   "cell_type": "markdown",
   "id": "cc820ea0",
   "metadata": {},
   "source": [
    "В датафрейме с информацией о подписках всего две строки, каждая из которых содержит информацию о бесплатной и ультра подписке соответственно."
   ]
  },
  {
   "cell_type": "markdown",
   "id": "e95ebca7",
   "metadata": {},
   "source": [
    "#### Шаг 2. Предобработка данных"
   ]
  },
  {
   "cell_type": "markdown",
   "id": "bbd4bde2",
   "metadata": {},
   "source": [
    "Нашу предобработку мы начнем с изменения типов данных в столбцах наших датафреймов. В датафрейме с информацией о поездках столбец с датой совершения поездки содержит тип данных `object`. Приведем тип данных к `datetime`"
   ]
  },
  {
   "cell_type": "code",
   "execution_count": 5,
   "id": "af6d202c",
   "metadata": {
    "scrolled": true
   },
   "outputs": [
    {
     "name": "stdout",
     "output_type": "stream",
     "text": [
      "<class 'pandas.core.frame.DataFrame'>\n",
      "RangeIndex: 18068 entries, 0 to 18067\n",
      "Data columns (total 4 columns):\n",
      " #   Column    Non-Null Count  Dtype         \n",
      "---  ------    --------------  -----         \n",
      " 0   user_id   18068 non-null  int64         \n",
      " 1   distance  18068 non-null  float64       \n",
      " 2   duration  18068 non-null  float64       \n",
      " 3   date      18068 non-null  datetime64[ns]\n",
      "dtypes: datetime64[ns](1), float64(2), int64(1)\n",
      "memory usage: 564.8 KB\n"
     ]
    }
   ],
   "source": [
    "rides['date'] = pd.to_datetime(rides['date'], format='%Y-%m-%d')\n",
    "rides.info()"
   ]
  },
  {
   "cell_type": "markdown",
   "id": "78666a1a",
   "metadata": {},
   "source": [
    "Для дальнейшего исследования добавим в датафрейм отдельный столбец, который будет содержать в себе месяц поездки"
   ]
  },
  {
   "cell_type": "code",
   "execution_count": 6,
   "id": "602ddd7e",
   "metadata": {},
   "outputs": [
    {
     "data": {
      "text/html": [
       "<div>\n",
       "<style scoped>\n",
       "    .dataframe tbody tr th:only-of-type {\n",
       "        vertical-align: middle;\n",
       "    }\n",
       "\n",
       "    .dataframe tbody tr th {\n",
       "        vertical-align: top;\n",
       "    }\n",
       "\n",
       "    .dataframe thead th {\n",
       "        text-align: right;\n",
       "    }\n",
       "</style>\n",
       "<table border=\"1\" class=\"dataframe\">\n",
       "  <thead>\n",
       "    <tr style=\"text-align: right;\">\n",
       "      <th></th>\n",
       "      <th>user_id</th>\n",
       "      <th>distance</th>\n",
       "      <th>duration</th>\n",
       "      <th>date</th>\n",
       "      <th>month</th>\n",
       "    </tr>\n",
       "  </thead>\n",
       "  <tbody>\n",
       "    <tr>\n",
       "      <th>0</th>\n",
       "      <td>1</td>\n",
       "      <td>4409.919140</td>\n",
       "      <td>25.599769</td>\n",
       "      <td>2021-01-01</td>\n",
       "      <td>1</td>\n",
       "    </tr>\n",
       "    <tr>\n",
       "      <th>1</th>\n",
       "      <td>1</td>\n",
       "      <td>2617.592153</td>\n",
       "      <td>15.816871</td>\n",
       "      <td>2021-01-18</td>\n",
       "      <td>1</td>\n",
       "    </tr>\n",
       "    <tr>\n",
       "      <th>2</th>\n",
       "      <td>1</td>\n",
       "      <td>754.159807</td>\n",
       "      <td>6.232113</td>\n",
       "      <td>2021-04-20</td>\n",
       "      <td>4</td>\n",
       "    </tr>\n",
       "    <tr>\n",
       "      <th>3</th>\n",
       "      <td>1</td>\n",
       "      <td>2694.783254</td>\n",
       "      <td>18.511000</td>\n",
       "      <td>2021-08-11</td>\n",
       "      <td>8</td>\n",
       "    </tr>\n",
       "    <tr>\n",
       "      <th>4</th>\n",
       "      <td>1</td>\n",
       "      <td>4028.687306</td>\n",
       "      <td>26.265803</td>\n",
       "      <td>2021-08-28</td>\n",
       "      <td>8</td>\n",
       "    </tr>\n",
       "  </tbody>\n",
       "</table>\n",
       "</div>"
      ],
      "text/plain": [
       "   user_id     distance   duration       date  month\n",
       "0        1  4409.919140  25.599769 2021-01-01      1\n",
       "1        1  2617.592153  15.816871 2021-01-18      1\n",
       "2        1   754.159807   6.232113 2021-04-20      4\n",
       "3        1  2694.783254  18.511000 2021-08-11      8\n",
       "4        1  4028.687306  26.265803 2021-08-28      8"
      ]
     },
     "execution_count": 6,
     "metadata": {},
     "output_type": "execute_result"
    }
   ],
   "source": [
    "rides['month'] = rides['date'].dt.month\n",
    "rides.head()\n"
   ]
  },
  {
   "cell_type": "markdown",
   "id": "58a2d4e9",
   "metadata": {},
   "source": [
    "Округлим значения в столбце с продолжительностью поездок для того, чтобы в дальнейшем было удобнее считать выручку"
   ]
  },
  {
   "cell_type": "code",
   "execution_count": 7,
   "id": "de707ea9",
   "metadata": {},
   "outputs": [],
   "source": [
    "rides['duration'] = np.ceil(rides['duration'])"
   ]
  },
  {
   "cell_type": "markdown",
   "id": "8d4338b1",
   "metadata": {},
   "source": [
    "Как мы и выяснили на этапе знакомства с данными, пропуски в них отсуствуют, давайте проанализируем датасеты на наличие дубликатов."
   ]
  },
  {
   "cell_type": "code",
   "execution_count": 8,
   "id": "224ffd05",
   "metadata": {
    "scrolled": true
   },
   "outputs": [
    {
     "name": "stdout",
     "output_type": "stream",
     "text": [
      "Количество повторяющихся строк: 31\n",
      "\n"
     ]
    },
    {
     "data": {
      "text/plain": [
       "0       False\n",
       "1       False\n",
       "2       False\n",
       "3       False\n",
       "4       False\n",
       "        ...  \n",
       "1560     True\n",
       "1561     True\n",
       "1562     True\n",
       "1563     True\n",
       "1564     True\n",
       "Length: 1565, dtype: bool"
      ]
     },
     "execution_count": 8,
     "metadata": {},
     "output_type": "execute_result"
    }
   ],
   "source": [
    "print('Количество повторяющихся строк:', users.duplicated().sum())\n",
    "print()\n",
    "users.duplicated()"
   ]
  },
  {
   "cell_type": "markdown",
   "id": "016e012b",
   "metadata": {},
   "source": [
    "Очевидно, при сборе данных с конца датафрейма случайно добавили 31 строку, которые соответствуют уже существующим в датафрейме строкам. Их можно удалить."
   ]
  },
  {
   "cell_type": "code",
   "execution_count": 9,
   "id": "10459439",
   "metadata": {},
   "outputs": [
    {
     "name": "stdout",
     "output_type": "stream",
     "text": [
      "Процент удаленных данных составляет 1.98 %\n"
     ]
    }
   ],
   "source": [
    "users = users.drop_duplicates().reset_index(drop=True)\n",
    "print(f'Процент удаленных данных составляет {round((31/1565)*100, 2)} %')"
   ]
  },
  {
   "cell_type": "markdown",
   "id": "bace8260",
   "metadata": {},
   "source": [
    "Допустимые 1.98%. Теперь проверим датафрейм с поездками на наличие дубликатов."
   ]
  },
  {
   "cell_type": "code",
   "execution_count": 10,
   "id": "761a6bc5",
   "metadata": {},
   "outputs": [
    {
     "data": {
      "text/plain": [
       "0"
      ]
     },
     "execution_count": 10,
     "metadata": {},
     "output_type": "execute_result"
    }
   ],
   "source": [
    "rides.duplicated().sum()"
   ]
  },
  {
   "cell_type": "markdown",
   "id": "48889ea9",
   "metadata": {},
   "source": [
    "Явные дубликаты отсуствуют, а неявные искать смысла нет, т.к. мы имеем дело с числами. Но неявные дубликаты в датафрейме с пользователями все же проверить стоит."
   ]
  },
  {
   "cell_type": "code",
   "execution_count": 11,
   "id": "48db8056",
   "metadata": {},
   "outputs": [
    {
     "data": {
      "text/plain": [
       "array(['Агата', 'Аделина', 'Адель', 'Айдар', 'Александр', 'Александра',\n",
       "       'Алексей', 'Алина', 'Алиса', 'Алия', 'Алла', 'Альберт', 'Альбина',\n",
       "       'Алёна', 'Амалия', 'Амина', 'Амир', 'Анастасия', 'Анатолий',\n",
       "       'Ангелина', 'Андрей', 'Анжелика', 'Анна', 'Антон', 'Антонина',\n",
       "       'Ариана', 'Арина', 'Арсен', 'Арсений', 'Артемий', 'Артур', 'Артём',\n",
       "       'Богдан', 'Борис', 'Вадим', 'Валентина', 'Валерий', 'Валерия',\n",
       "       'Варвара', 'Василий', 'Василина', 'Василиса', 'Вера', 'Вероника',\n",
       "       'Виктор', 'Виктория', 'Виолетта', 'Виталий', 'Виталина', 'Влад',\n",
       "       'Влада', 'Владимир', 'Владислав', 'Владислава', 'Всеволод',\n",
       "       'Вячеслав', 'Галина', 'Георгий', 'Герман', 'Глеб', 'Гордей',\n",
       "       'Григорий', 'Давид', 'Дамир', 'Даниил', 'Данил', 'Данила',\n",
       "       'Даниэль', 'Дарина', 'Дарья', 'Демид', 'Денис', 'Диана', 'Дмитрий',\n",
       "       'Ева', 'Евгений', 'Евгения', 'Егор', 'Екатерина', 'Елена',\n",
       "       'Елизавета', 'Елисей', 'Есения', 'Жанна', 'Зарина', 'Захар',\n",
       "       'Злата', 'Иван', 'Игнат', 'Игорь', 'Ильдар', 'Илья', 'Инна',\n",
       "       'Ирина', 'Камилла', 'Карина', 'Каролина', 'Кира', 'Кирилл',\n",
       "       'Константин', 'Кристина', 'Ксения', 'Лариса', 'Лев', 'Леонид',\n",
       "       'Лиана', 'Лидия', 'Лилия', 'Любовь', 'Людмила', 'Мадина', 'Майя',\n",
       "       'Макар', 'Максим', 'Марат', 'Маргарита', 'Марина', 'Мария', 'Марк',\n",
       "       'Марсель', 'Матвей', 'Мелания', 'Милана', 'Милена', 'Мирон',\n",
       "       'Мирослав', 'Мирослава', 'Михаил', 'Назар', 'Наталия', 'Наталья',\n",
       "       'Наташа', 'Нелли', 'Ника', 'Никита', 'Николай', 'Нина', 'Одиссей',\n",
       "       'Оксана', 'Олег', 'Олеся', 'Ольга', 'Павел', 'Петр', 'Платон',\n",
       "       'Полина', 'Радмир', 'Рамиль', 'Регина', 'Роберт', 'Родион',\n",
       "       'Роман', 'Ростислав', 'Руслан', 'Рустам', 'Савелий', 'Самир',\n",
       "       'Самира', 'Светлана', 'Святогор', 'Святослав', 'Семен', 'Сергей',\n",
       "       'Снежана', 'София', 'Софья', 'Станислав', 'Степан', 'Стефания',\n",
       "       'Таисия', 'Тамара', 'Тамерлан', 'Татьяна', 'Тимофей', 'Тимур',\n",
       "       'Тихон', 'Ульяна', 'Федор', 'Эвелина', 'Эдуард', 'Элина',\n",
       "       'Эльвира', 'Эльмира', 'Эмилия', 'Эмиль', 'Юлиана', 'Юлия', 'Юрий',\n",
       "       'Ян', 'Яна', 'Яромир', 'Ярослав', 'Ярослава', 'Ясмина'],\n",
       "      dtype=object)"
      ]
     },
     "execution_count": 11,
     "metadata": {},
     "output_type": "execute_result"
    }
   ],
   "source": [
    "users['name'].sort_values().unique()"
   ]
  },
  {
   "cell_type": "markdown",
   "id": "5851942b",
   "metadata": {},
   "source": [
    "Столько красивых имен и ни одно не повторяется! Теперь проверим столбец с населенными пунктами. "
   ]
  },
  {
   "cell_type": "code",
   "execution_count": 12,
   "id": "85635579",
   "metadata": {},
   "outputs": [
    {
     "data": {
      "text/plain": [
       "array(['Екатеринбург', 'Краснодар', 'Москва', 'Омск', 'Пятигорск',\n",
       "       'Ростов-на-Дону', 'Сочи', 'Тюмень'], dtype=object)"
      ]
     },
     "execution_count": 12,
     "metadata": {},
     "output_type": "execute_result"
    }
   ],
   "source": [
    "users['city'].sort_values().unique()"
   ]
  },
  {
   "cell_type": "markdown",
   "id": "1d0b970b",
   "metadata": {},
   "source": [
    "**Вывод:**\n",
    " - Изменили тип данных в столбце `date` датафрейма с информацией о поездках с `object` на  `datetime`;\n",
    " - Добавили в датафрейм отдельный столбец с месяцем поездок для дальнейшего исследования;\n",
    " - Округлили значения в столбце с продолжительностью поездок;\n",
    " - Удалили 31 строку дубликат (1.98% данных). Дубликаты находились на последних строках датафрейма. Очевидно их добавили случайно или же произошла какая-то техническая ошибка."
   ]
  },
  {
   "cell_type": "markdown",
   "id": "212593c7",
   "metadata": {},
   "source": [
    "#### Шаг 3. Исследовательский анализ данных"
   ]
  },
  {
   "cell_type": "markdown",
   "id": "934afea8",
   "metadata": {},
   "source": [
    "На данном этапе мы проведем исследование данных в столбцах для выявления некоторых закономерностей. Для начала напишем функцию, которая будет нам помогать с построением графиков."
   ]
  },
  {
   "cell_type": "code",
   "execution_count": 13,
   "id": "ce3bc159",
   "metadata": {},
   "outputs": [],
   "source": [
    "def autolabel(rects, labels=None, height_factor=1.01):\n",
    "    for i, rect in enumerate(rects):\n",
    "        height = rect.get_height()\n",
    "        if labels is not None:\n",
    "            try:\n",
    "                label = labels[i]\n",
    "            except (TypeError, KeyError):\n",
    "                label = ' '\n",
    "        else:\n",
    "            label = '%d' % int(height)\n",
    "        ax.text(rect.get_x() + rect.get_width()/2., height_factor*height,\n",
    "                '{}'.format(label),\n",
    "                ha='center', va='bottom')"
   ]
  },
  {
   "cell_type": "markdown",
   "id": "5171b8a1",
   "metadata": {},
   "source": [
    "##### Частота встречаемости городов"
   ]
  },
  {
   "cell_type": "code",
   "execution_count": 14,
   "id": "11040586",
   "metadata": {},
   "outputs": [
    {
     "data": {
      "image/png": "[encoded data removed]",
      "text/plain": [
       "<Figure size 504x360 with 1 Axes>"
      ]
     },
     "metadata": {
      "needs_background": "light"
     },
     "output_type": "display_data"
    }
   ],
   "source": [
    "users['city'].value_counts(ascending=True).plot.bar(figsize=(7, 5))\n",
    "plt.title('Диаграмма частоты встречаемости городов')\n",
    "plt.ylabel('Частота')\n",
    "ax = plt.gca()\n",
    "autolabel(ax.patches, height_factor=1)\n",
    "plt.show()"
   ]
  },
  {
   "cell_type": "markdown",
   "id": "d15c6e6f",
   "metadata": {},
   "source": [
    "Судя по диаграмме в нашем датафрейме чаще всего встречаются пользователи из Пятигорска. На втором месте по числу пользователей находится Екатеринбург. Последнее место по числу пользователей отдается Москве. Видимо сервис по аренде самокатов чаще всего предоставляет свои услуги в регионах."
   ]
  },
  {
   "cell_type": "markdown",
   "id": "e17ccbca",
   "metadata": {},
   "source": [
    "##### Соотношение пользователей с подпиской и без."
   ]
  },
  {
   "cell_type": "code",
   "execution_count": 15,
   "id": "222546c0",
   "metadata": {},
   "outputs": [
    {
     "data": {
      "image/png": "[encoded data removed]",
      "text/plain": [
       "<Figure size 432x360 with 1 Axes>"
      ]
     },
     "metadata": {
      "needs_background": "light"
     },
     "output_type": "display_data"
    },
    {
     "name": "stdout",
     "output_type": "stream",
     "text": [
      "Доля пользователей без подписки составляет 0.54\n",
      "Доля пользователей с подпиской составляет 0.46\n"
     ]
    }
   ],
   "source": [
    "users['subscription_type'].value_counts().plot.bar(figsize=(6, 5))\n",
    "plt.title('Соотношение пользователей с платной/бесплатной подпиской')\n",
    "plt.ylabel('Частота')\n",
    "ax = plt.gca()\n",
    "autolabel(ax.patches, height_factor=0.85)\n",
    "plt.show()\n",
    "\n",
    "print('Доля пользователей без подписки составляет', round(users[users['subscription_type'] == 'free']['name'].count() / users['subscription_type'].count(), 2))\n",
    "print('Доля пользователей с подпиской составляет', round(users[users['subscription_type'] == 'ultra']['name'].count() / users['subscription_type'].count(), 2))"
   ]
  },
  {
   "cell_type": "markdown",
   "id": "5ff147b1",
   "metadata": {},
   "source": [
    "На графике видно, что в датасете чаще всего встречаются пользователи с бесплатной подпиской. То есть люди чаще всего пользуются разовыми поездками, нежели покупают абонементы для бесплатного старта поездки. Очевидно, что такие пользователи могут думать, что не так часто ездят для покупки подписки и дешевле будет просто каждый раз оплачивать старт, нежели брать подписку. При этом если сравнивать доли пользователей с подпиской и без, то можно сделать вывод о том, что их примерно одинаковое количество."
   ]
  },
  {
   "cell_type": "markdown",
   "id": "ff9aa666",
   "metadata": {},
   "source": [
    "##### Возраст пользователей"
   ]
  },
  {
   "cell_type": "code",
   "execution_count": 16,
   "id": "59a25f3a",
   "metadata": {},
   "outputs": [
    {
     "data": {
      "image/png": "[encoded data removed]",
      "text/plain": [
       "<Figure size 432x288 with 1 Axes>"
      ]
     },
     "metadata": {
      "needs_background": "light"
     },
     "output_type": "display_data"
    },
    {
     "data": {
      "text/plain": [
       "count    1534.000000\n",
       "mean       24.903520\n",
       "std         4.572367\n",
       "min        12.000000\n",
       "25%        22.000000\n",
       "50%        25.000000\n",
       "75%        28.000000\n",
       "max        43.000000\n",
       "Name: age, dtype: float64"
      ]
     },
     "execution_count": 16,
     "metadata": {},
     "output_type": "execute_result"
    }
   ],
   "source": [
    "plt.hist(users['age'], bins=len(users['age'].unique()))\n",
    "plt.title('Возраст пользователей')\n",
    "plt.xlabel('Возраст, лет')\n",
    "plt.ylabel('Количество пользователей')\n",
    "plt.grid(True)\n",
    "plt.show()\n",
    "\n",
    "users['age'].describe()"
   ]
  },
  {
   "cell_type": "markdown",
   "id": "caa442fb",
   "metadata": {},
   "source": [
    "Как оказалось, чаще всего в данных встречаются пользователи в возрасте 25 лет. Самые молодые пользователи, которые представлены в датасете имеют возраст 12 лет. Самым старшим пользователям 43 года. Данные в столбце распределены нормально и собираются вокруг значения 25."
   ]
  },
  {
   "cell_type": "markdown",
   "id": "c32151d0",
   "metadata": {},
   "source": [
    "#####  Расстояние, которое пользователь преодолел за одну поездку;"
   ]
  },
  {
   "cell_type": "code",
   "execution_count": 17,
   "id": "32889501",
   "metadata": {},
   "outputs": [
    {
     "data": {
      "image/png": "[encoded data removed]",
      "text/plain": [
       "<Figure size 432x288 with 1 Axes>"
      ]
     },
     "metadata": {
      "needs_background": "light"
     },
     "output_type": "display_data"
    },
    {
     "data": {
      "text/plain": [
       "count    18068.000000\n",
       "mean      3070.659976\n",
       "std       1116.831209\n",
       "min          0.855683\n",
       "25%       2543.226360\n",
       "50%       3133.609994\n",
       "75%       3776.222735\n",
       "max       7211.007745\n",
       "Name: distance, dtype: float64"
      ]
     },
     "execution_count": 17,
     "metadata": {},
     "output_type": "execute_result"
    }
   ],
   "source": [
    "plt.hist(rides['distance'], bins=50)\n",
    "plt.grid(True)\n",
    "plt.title('Расстояние, пройденное пользователем за одну поездку')\n",
    "plt.xlabel('Расстояние, м')\n",
    "plt.ylabel('Количество пользователей')\n",
    "plt.show()\n",
    "\n",
    "rides['distance'].describe()"
   ]
  },
  {
   "cell_type": "markdown",
   "id": "fe5a49df",
   "metadata": {},
   "source": [
    "Судя по гистограмме пользователи чаще всего проезжают чуть больше 3 км, медианное значение составляет 3133 м, а среднее 3070 - Различие между медианой и средним не такое уж и сильное, соответственно выбросы в данных практически отсутствуют. Присутствует два пика, смахивает на бимодальное распределение. Причем один пик приходится на приблизительно 600 м, а второй на медиану. Думаю эти пики обусловлены тем, что пользователи разделились на тех, кому нужно проехать короткую дистанцию (например от дома до магазина, от остановки до дома и т.д.), и тех, кто проезжает дистанцию подлиннее (например прогулка по улице на самокате, поездка от работы до дома и т.д.). Самая максимальная длина поездки составляет 7211 м, а самая короткая менее 1 м."
   ]
  },
  {
   "cell_type": "markdown",
   "id": "3e75fb50",
   "metadata": {},
   "source": [
    "##### Продолжительность поездок"
   ]
  },
  {
   "cell_type": "code",
   "execution_count": 18,
   "id": "78bdf4aa",
   "metadata": {},
   "outputs": [
    {
     "data": {
      "image/png": "[encoded data removed]",
      "text/plain": [
       "<Figure size 432x288 with 1 Axes>"
      ]
     },
     "metadata": {
      "needs_background": "light"
     },
     "output_type": "display_data"
    },
    {
     "data": {
      "text/plain": [
       "count    18068.000000\n",
       "mean        18.303520\n",
       "std          6.094928\n",
       "min          1.000000\n",
       "25%         14.000000\n",
       "50%         18.000000\n",
       "75%         22.000000\n",
       "max         41.000000\n",
       "Name: duration, dtype: float64"
      ]
     },
     "execution_count": 18,
     "metadata": {},
     "output_type": "execute_result"
    }
   ],
   "source": [
    "plt.hist(rides['duration'], bins=40)\n",
    "plt.grid(True)\n",
    "plt.title('Продолжительность поездок')\n",
    "plt.xlabel('Продолжительность, мин')\n",
    "plt.ylabel('Количество пользователей')\n",
    "plt.show()\n",
    "\n",
    "rides['duration'].describe()"
   ]
  },
  {
   "cell_type": "markdown",
   "id": "ba38874b",
   "metadata": {},
   "source": [
    "Наши данные о длительности поездок распределены нормально. Среднее и медианное значения практически одинаковые и равняются 18.3 и 18 минутам соответствено. Именно столько времени обычно уходит у пользователей на поездки. Присутсвует небольшой пик в поездках до одной минуты. Возможно, это связано с тем, что пользователь передумал брать самокат в аренду выбрав другой способ передвижения. Или же пользователь случайно нажал на кнопку завершения поездки. Есть также возможность того, что техники проверяли работоспособность самокатов на месте, запуская их на короткое время. Вариантов может быть много, в любом случае тут не о чем переживать. Самая продолжительная поездка длилась около 41 минуты."
   ]
  },
  {
   "cell_type": "markdown",
   "id": "e2d286f4",
   "metadata": {},
   "source": [
    "**Вывод**"
   ]
  },
  {
   "cell_type": "markdown",
   "id": "8774b3c5",
   "metadata": {},
   "source": [
    "В ходе исследовательского анализа данных были сделаны следующие выводы:\n",
    "   - В данных чаще всего встречаются пользователи из регионов. На Первом месте находится Пятигорск, потом Екатеринбург. Москва занимает последнее место;\n",
    "   - Доля пользователей без подписки составляет 54% от всех данных. Остальные 46% приходятся на подписчиков сервиса. Скорее всего большинство пользователей не так часто пользуется самокатами, поэтому им выгоднее заплатить за старт поездки, нежели брать себе подписку;\n",
    "   - Чаще всего встречаются подьзователи возрастом 25 лет;\n",
    "   - В чаще всего пользователь проезжает расстояние равное 3,1 км. Времени, как правило, на это уходит порядка 18 минут. Бывают поездки и подлинее и подольше. Например самая длинная составляет 7,2 км, а самая долгая целых 41 минуту!\n",
    "   - Пользователи разделились на тех кто совершает короткие поездки и поездки на более длительные дистанции."
   ]
  },
  {
   "cell_type": "markdown",
   "id": "4ef51331",
   "metadata": {},
   "source": [
    "#### Шаг 4. Объединение данных"
   ]
  },
  {
   "cell_type": "markdown",
   "id": "4df09860",
   "metadata": {},
   "source": [
    "##### Объединение данных о пользователях в один датафрейм"
   ]
  },
  {
   "cell_type": "code",
   "execution_count": 19,
   "id": "fdd6bc8c",
   "metadata": {},
   "outputs": [
    {
     "name": "stdout",
     "output_type": "stream",
     "text": [
      "<class 'pandas.core.frame.DataFrame'>\n",
      "Int64Index: 18068 entries, 0 to 18067\n",
      "Data columns (total 9 columns):\n",
      " #   Column             Non-Null Count  Dtype         \n",
      "---  ------             --------------  -----         \n",
      " 0   user_id            18068 non-null  int64         \n",
      " 1   distance           18068 non-null  float64       \n",
      " 2   duration           18068 non-null  float64       \n",
      " 3   date               18068 non-null  datetime64[ns]\n",
      " 4   month              18068 non-null  int64         \n",
      " 5   name               18068 non-null  object        \n",
      " 6   age                18068 non-null  int64         \n",
      " 7   city               18068 non-null  object        \n",
      " 8   subscription_type  18068 non-null  object        \n",
      "dtypes: datetime64[ns](1), float64(2), int64(3), object(3)\n",
      "memory usage: 1.4+ MB\n",
      "None\n"
     ]
    },
    {
     "data": {
      "text/html": [
       "<div>\n",
       "<style scoped>\n",
       "    .dataframe tbody tr th:only-of-type {\n",
       "        vertical-align: middle;\n",
       "    }\n",
       "\n",
       "    .dataframe tbody tr th {\n",
       "        vertical-align: top;\n",
       "    }\n",
       "\n",
       "    .dataframe thead th {\n",
       "        text-align: right;\n",
       "    }\n",
       "</style>\n",
       "<table border=\"1\" class=\"dataframe\">\n",
       "  <thead>\n",
       "    <tr style=\"text-align: right;\">\n",
       "      <th></th>\n",
       "      <th>user_id</th>\n",
       "      <th>distance</th>\n",
       "      <th>duration</th>\n",
       "      <th>date</th>\n",
       "      <th>month</th>\n",
       "      <th>name</th>\n",
       "      <th>age</th>\n",
       "      <th>city</th>\n",
       "      <th>subscription_type</th>\n",
       "    </tr>\n",
       "  </thead>\n",
       "  <tbody>\n",
       "    <tr>\n",
       "      <th>12714</th>\n",
       "      <td>1154</td>\n",
       "      <td>5101.223191</td>\n",
       "      <td>18.0</td>\n",
       "      <td>2021-09-20</td>\n",
       "      <td>9</td>\n",
       "      <td>Виолетта</td>\n",
       "      <td>27</td>\n",
       "      <td>Омск</td>\n",
       "      <td>free</td>\n",
       "    </tr>\n",
       "    <tr>\n",
       "      <th>7434</th>\n",
       "      <td>766</td>\n",
       "      <td>4354.875857</td>\n",
       "      <td>19.0</td>\n",
       "      <td>2021-09-12</td>\n",
       "      <td>9</td>\n",
       "      <td>Алёна</td>\n",
       "      <td>24</td>\n",
       "      <td>Краснодар</td>\n",
       "      <td>free</td>\n",
       "    </tr>\n",
       "    <tr>\n",
       "      <th>10159</th>\n",
       "      <td>968</td>\n",
       "      <td>2192.519644</td>\n",
       "      <td>20.0</td>\n",
       "      <td>2021-11-06</td>\n",
       "      <td>11</td>\n",
       "      <td>Павел</td>\n",
       "      <td>35</td>\n",
       "      <td>Краснодар</td>\n",
       "      <td>free</td>\n",
       "    </tr>\n",
       "    <tr>\n",
       "      <th>12007</th>\n",
       "      <td>1102</td>\n",
       "      <td>3478.859437</td>\n",
       "      <td>21.0</td>\n",
       "      <td>2021-03-28</td>\n",
       "      <td>3</td>\n",
       "      <td>Нелли</td>\n",
       "      <td>29</td>\n",
       "      <td>Тюмень</td>\n",
       "      <td>free</td>\n",
       "    </tr>\n",
       "    <tr>\n",
       "      <th>16799</th>\n",
       "      <td>1443</td>\n",
       "      <td>556.644088</td>\n",
       "      <td>10.0</td>\n",
       "      <td>2021-08-11</td>\n",
       "      <td>8</td>\n",
       "      <td>Виктория</td>\n",
       "      <td>23</td>\n",
       "      <td>Сочи</td>\n",
       "      <td>free</td>\n",
       "    </tr>\n",
       "  </tbody>\n",
       "</table>\n",
       "</div>"
      ],
      "text/plain": [
       "       user_id     distance  duration       date  month      name  age  \\\n",
       "12714     1154  5101.223191      18.0 2021-09-20      9  Виолетта   27   \n",
       "7434       766  4354.875857      19.0 2021-09-12      9     Алёна   24   \n",
       "10159      968  2192.519644      20.0 2021-11-06     11     Павел   35   \n",
       "12007     1102  3478.859437      21.0 2021-03-28      3     Нелли   29   \n",
       "16799     1443   556.644088      10.0 2021-08-11      8  Виктория   23   \n",
       "\n",
       "            city subscription_type  \n",
       "12714       Омск              free  \n",
       "7434   Краснодар              free  \n",
       "10159  Краснодар              free  \n",
       "12007     Тюмень              free  \n",
       "16799       Сочи              free  "
      ]
     },
     "execution_count": 19,
     "metadata": {},
     "output_type": "execute_result"
    }
   ],
   "source": [
    "data = rides.merge(users, on='user_id', how='left')\n",
    "print(data.info())\n",
    "data.sample(5)\n"
   ]
  },
  {
   "cell_type": "code",
   "execution_count": 20,
   "id": "03ca14ed",
   "metadata": {},
   "outputs": [
    {
     "name": "stdout",
     "output_type": "stream",
     "text": [
      "<class 'pandas.core.frame.DataFrame'>\n",
      "Int64Index: 18068 entries, 0 to 18067\n",
      "Data columns (total 12 columns):\n",
      " #   Column             Non-Null Count  Dtype         \n",
      "---  ------             --------------  -----         \n",
      " 0   user_id            18068 non-null  int64         \n",
      " 1   distance           18068 non-null  float64       \n",
      " 2   duration           18068 non-null  float64       \n",
      " 3   date               18068 non-null  datetime64[ns]\n",
      " 4   month              18068 non-null  int64         \n",
      " 5   name               18068 non-null  object        \n",
      " 6   age                18068 non-null  int64         \n",
      " 7   city               18068 non-null  object        \n",
      " 8   subscription_type  18068 non-null  object        \n",
      " 9   minute_price       18068 non-null  int64         \n",
      " 10  start_ride_price   18068 non-null  int64         \n",
      " 11  subscription_fee   18068 non-null  int64         \n",
      "dtypes: datetime64[ns](1), float64(2), int64(6), object(3)\n",
      "memory usage: 1.8+ MB\n",
      "None\n"
     ]
    },
    {
     "data": {
      "text/html": [
       "<div>\n",
       "<style scoped>\n",
       "    .dataframe tbody tr th:only-of-type {\n",
       "        vertical-align: middle;\n",
       "    }\n",
       "\n",
       "    .dataframe tbody tr th {\n",
       "        vertical-align: top;\n",
       "    }\n",
       "\n",
       "    .dataframe thead th {\n",
       "        text-align: right;\n",
       "    }\n",
       "</style>\n",
       "<table border=\"1\" class=\"dataframe\">\n",
       "  <thead>\n",
       "    <tr style=\"text-align: right;\">\n",
       "      <th></th>\n",
       "      <th>user_id</th>\n",
       "      <th>distance</th>\n",
       "      <th>duration</th>\n",
       "      <th>date</th>\n",
       "      <th>month</th>\n",
       "      <th>name</th>\n",
       "      <th>age</th>\n",
       "      <th>city</th>\n",
       "      <th>subscription_type</th>\n",
       "      <th>minute_price</th>\n",
       "      <th>start_ride_price</th>\n",
       "      <th>subscription_fee</th>\n",
       "    </tr>\n",
       "  </thead>\n",
       "  <tbody>\n",
       "    <tr>\n",
       "      <th>17810</th>\n",
       "      <td>1517</td>\n",
       "      <td>4227.123353</td>\n",
       "      <td>18.0</td>\n",
       "      <td>2021-01-21</td>\n",
       "      <td>1</td>\n",
       "      <td>Давид</td>\n",
       "      <td>25</td>\n",
       "      <td>Тюмень</td>\n",
       "      <td>free</td>\n",
       "      <td>8</td>\n",
       "      <td>50</td>\n",
       "      <td>0</td>\n",
       "    </tr>\n",
       "    <tr>\n",
       "      <th>12187</th>\n",
       "      <td>1115</td>\n",
       "      <td>2566.991879</td>\n",
       "      <td>24.0</td>\n",
       "      <td>2021-07-22</td>\n",
       "      <td>7</td>\n",
       "      <td>Анна</td>\n",
       "      <td>29</td>\n",
       "      <td>Екатеринбург</td>\n",
       "      <td>free</td>\n",
       "      <td>8</td>\n",
       "      <td>50</td>\n",
       "      <td>0</td>\n",
       "    </tr>\n",
       "    <tr>\n",
       "      <th>7077</th>\n",
       "      <td>739</td>\n",
       "      <td>4632.663259</td>\n",
       "      <td>28.0</td>\n",
       "      <td>2021-04-26</td>\n",
       "      <td>4</td>\n",
       "      <td>Ярослав</td>\n",
       "      <td>19</td>\n",
       "      <td>Пятигорск</td>\n",
       "      <td>free</td>\n",
       "      <td>8</td>\n",
       "      <td>50</td>\n",
       "      <td>0</td>\n",
       "    </tr>\n",
       "    <tr>\n",
       "      <th>12650</th>\n",
       "      <td>1150</td>\n",
       "      <td>3144.502689</td>\n",
       "      <td>16.0</td>\n",
       "      <td>2021-09-17</td>\n",
       "      <td>9</td>\n",
       "      <td>Рамиль</td>\n",
       "      <td>19</td>\n",
       "      <td>Омск</td>\n",
       "      <td>free</td>\n",
       "      <td>8</td>\n",
       "      <td>50</td>\n",
       "      <td>0</td>\n",
       "    </tr>\n",
       "    <tr>\n",
       "      <th>12410</th>\n",
       "      <td>1132</td>\n",
       "      <td>2147.383253</td>\n",
       "      <td>20.0</td>\n",
       "      <td>2021-07-12</td>\n",
       "      <td>7</td>\n",
       "      <td>Наталия</td>\n",
       "      <td>20</td>\n",
       "      <td>Москва</td>\n",
       "      <td>free</td>\n",
       "      <td>8</td>\n",
       "      <td>50</td>\n",
       "      <td>0</td>\n",
       "    </tr>\n",
       "  </tbody>\n",
       "</table>\n",
       "</div>"
      ],
      "text/plain": [
       "       user_id     distance  duration       date  month     name  age  \\\n",
       "17810     1517  4227.123353      18.0 2021-01-21      1    Давид   25   \n",
       "12187     1115  2566.991879      24.0 2021-07-22      7     Анна   29   \n",
       "7077       739  4632.663259      28.0 2021-04-26      4  Ярослав   19   \n",
       "12650     1150  3144.502689      16.0 2021-09-17      9   Рамиль   19   \n",
       "12410     1132  2147.383253      20.0 2021-07-12      7  Наталия   20   \n",
       "\n",
       "               city subscription_type  minute_price  start_ride_price  \\\n",
       "17810        Тюмень              free             8                50   \n",
       "12187  Екатеринбург              free             8                50   \n",
       "7077      Пятигорск              free             8                50   \n",
       "12650          Омск              free             8                50   \n",
       "12410        Москва              free             8                50   \n",
       "\n",
       "       subscription_fee  \n",
       "17810                 0  \n",
       "12187                 0  \n",
       "7077                  0  \n",
       "12650                 0  \n",
       "12410                 0  "
      ]
     },
     "execution_count": 20,
     "metadata": {},
     "output_type": "execute_result"
    }
   ],
   "source": [
    "data = data.merge(subscriptions, how='left', on='subscription_type')\n",
    "print(data.info())\n",
    "data.sample(5)"
   ]
  },
  {
   "cell_type": "markdown",
   "id": "5e7534b5",
   "metadata": {},
   "source": [
    "Мы объединили три датафрейма в один, теперь можно разбить наш большой датафрейм на более маленькие по признакам"
   ]
  },
  {
   "cell_type": "markdown",
   "id": "4c826fca",
   "metadata": {},
   "source": [
    "##### Создание датафреймов с пользователями, в зависимости от наличия подписки"
   ]
  },
  {
   "cell_type": "code",
   "execution_count": 21,
   "id": "03c57ced",
   "metadata": {},
   "outputs": [
    {
     "name": "stdout",
     "output_type": "stream",
     "text": [
      "<class 'pandas.core.frame.DataFrame'>\n",
      "Int64Index: 11568 entries, 6500 to 18067\n",
      "Data columns (total 12 columns):\n",
      " #   Column             Non-Null Count  Dtype         \n",
      "---  ------             --------------  -----         \n",
      " 0   user_id            11568 non-null  int64         \n",
      " 1   distance           11568 non-null  float64       \n",
      " 2   duration           11568 non-null  float64       \n",
      " 3   date               11568 non-null  datetime64[ns]\n",
      " 4   month              11568 non-null  int64         \n",
      " 5   name               11568 non-null  object        \n",
      " 6   age                11568 non-null  int64         \n",
      " 7   city               11568 non-null  object        \n",
      " 8   subscription_type  11568 non-null  object        \n",
      " 9   minute_price       11568 non-null  int64         \n",
      " 10  start_ride_price   11568 non-null  int64         \n",
      " 11  subscription_fee   11568 non-null  int64         \n",
      "dtypes: datetime64[ns](1), float64(2), int64(6), object(3)\n",
      "memory usage: 1.1+ MB\n"
     ]
    }
   ],
   "source": [
    "freesub = data[data['subscription_type'] == 'free']\n",
    "freesub.info()"
   ]
  },
  {
   "cell_type": "code",
   "execution_count": 22,
   "id": "d66ebc8b",
   "metadata": {},
   "outputs": [
    {
     "name": "stdout",
     "output_type": "stream",
     "text": [
      "<class 'pandas.core.frame.DataFrame'>\n",
      "Int64Index: 6500 entries, 0 to 6499\n",
      "Data columns (total 12 columns):\n",
      " #   Column             Non-Null Count  Dtype         \n",
      "---  ------             --------------  -----         \n",
      " 0   user_id            6500 non-null   int64         \n",
      " 1   distance           6500 non-null   float64       \n",
      " 2   duration           6500 non-null   float64       \n",
      " 3   date               6500 non-null   datetime64[ns]\n",
      " 4   month              6500 non-null   int64         \n",
      " 5   name               6500 non-null   object        \n",
      " 6   age                6500 non-null   int64         \n",
      " 7   city               6500 non-null   object        \n",
      " 8   subscription_type  6500 non-null   object        \n",
      " 9   minute_price       6500 non-null   int64         \n",
      " 10  start_ride_price   6500 non-null   int64         \n",
      " 11  subscription_fee   6500 non-null   int64         \n",
      "dtypes: datetime64[ns](1), float64(2), int64(6), object(3)\n",
      "memory usage: 660.2+ KB\n"
     ]
    }
   ],
   "source": [
    "ultrasub = data[data['subscription_type'] == 'ultra']\n",
    "ultrasub.info()"
   ]
  },
  {
   "cell_type": "markdown",
   "id": "fb2881c5",
   "metadata": {},
   "source": [
    "Готово! Ни одной строки не пропустили. Теперь у нас два датафрейма, которые различаются между собой наличием подписки у пользователей."
   ]
  },
  {
   "cell_type": "markdown",
   "id": "5f7b1f8d",
   "metadata": {},
   "source": [
    "##### Визуализация данных о продолжительности и расстоянию поездок у пользователей с подпиской и без"
   ]
  },
  {
   "cell_type": "markdown",
   "id": "a3d50ece",
   "metadata": {},
   "source": [
    "Начнем наш аналис с пользователей, у которых подписка на сервис отсутствует."
   ]
  },
  {
   "cell_type": "code",
   "execution_count": 23,
   "id": "bbb3a917",
   "metadata": {},
   "outputs": [
    {
     "data": {
      "image/png": "[encoded data removed]",
      "text/plain": [
       "<Figure size 432x288 with 1 Axes>"
      ]
     },
     "metadata": {
      "needs_background": "light"
     },
     "output_type": "display_data"
    },
    {
     "data": {
      "text/plain": [
       "count    11568.000000\n",
       "mean        17.890992\n",
       "std          6.330250\n",
       "min          1.000000\n",
       "25%         13.000000\n",
       "50%         18.000000\n",
       "75%         22.000000\n",
       "max         35.000000\n",
       "Name: duration, dtype: float64"
      ]
     },
     "execution_count": 23,
     "metadata": {},
     "output_type": "execute_result"
    }
   ],
   "source": [
    "plt.hist(freesub['duration'], bins=35)\n",
    "plt.title('Продолжительность поездок у пользователей без подписки')\n",
    "plt.xlabel('Продолжительность поездок')\n",
    "plt.ylabel('Количество пользователей')\n",
    "plt.grid(True)\n",
    "plt.show()\n",
    "\n",
    "freesub['duration'].describe()"
   ]
  },
  {
   "cell_type": "markdown",
   "id": "73b3b654",
   "metadata": {},
   "source": [
    "Медианное и среднее значение продолжительности поездок у пользователей без подписки практически не различается и составляет 18 и 17.9 минут соответственно. При этом максимальная по продолжительности поездка длилась 35 минут. Заметны аномальные значения для промежутка до 1 минуты. Такая же ситуация наблюдалась в датафрейме до разделения на статусы пользователей, причины мы уже обсудили выше. Также есть вероятность, что такой пик образовался из-за того, что пользователь без подписки впервые решает попробовать для себя самокат и в первую минуту понимает, что не справится с управлением, что в итоге и приводет к немедленной остановке поездки. Распределение при этом нормальное. Давайте проверим какие пользователи берут самокат на время до 1 минуты."
   ]
  },
  {
   "cell_type": "code",
   "execution_count": 24,
   "id": "8abc69fc",
   "metadata": {
    "scrolled": true
   },
   "outputs": [
    {
     "data": {
      "text/html": [
       "<div>\n",
       "<style scoped>\n",
       "    .dataframe tbody tr th:only-of-type {\n",
       "        vertical-align: middle;\n",
       "    }\n",
       "\n",
       "    .dataframe tbody tr th {\n",
       "        vertical-align: top;\n",
       "    }\n",
       "\n",
       "    .dataframe thead th {\n",
       "        text-align: right;\n",
       "    }\n",
       "</style>\n",
       "<table border=\"1\" class=\"dataframe\">\n",
       "  <thead>\n",
       "    <tr style=\"text-align: right;\">\n",
       "      <th></th>\n",
       "      <th>user_id</th>\n",
       "      <th>distance</th>\n",
       "      <th>duration</th>\n",
       "      <th>month</th>\n",
       "      <th>age</th>\n",
       "      <th>minute_price</th>\n",
       "      <th>start_ride_price</th>\n",
       "      <th>subscription_fee</th>\n",
       "    </tr>\n",
       "  </thead>\n",
       "  <tbody>\n",
       "    <tr>\n",
       "      <th>count</th>\n",
       "      <td>95.000000</td>\n",
       "      <td>95.000000</td>\n",
       "      <td>95.0</td>\n",
       "      <td>95.000000</td>\n",
       "      <td>95.000000</td>\n",
       "      <td>95.0</td>\n",
       "      <td>95.0</td>\n",
       "      <td>95.0</td>\n",
       "    </tr>\n",
       "    <tr>\n",
       "      <th>mean</th>\n",
       "      <td>1092.210526</td>\n",
       "      <td>5113.176549</td>\n",
       "      <td>1.0</td>\n",
       "      <td>6.484211</td>\n",
       "      <td>25.442105</td>\n",
       "      <td>8.0</td>\n",
       "      <td>50.0</td>\n",
       "      <td>0.0</td>\n",
       "    </tr>\n",
       "    <tr>\n",
       "      <th>std</th>\n",
       "      <td>244.028551</td>\n",
       "      <td>658.254104</td>\n",
       "      <td>0.0</td>\n",
       "      <td>3.709858</td>\n",
       "      <td>4.350876</td>\n",
       "      <td>0.0</td>\n",
       "      <td>0.0</td>\n",
       "      <td>0.0</td>\n",
       "    </tr>\n",
       "    <tr>\n",
       "      <th>min</th>\n",
       "      <td>701.000000</td>\n",
       "      <td>4030.308008</td>\n",
       "      <td>1.0</td>\n",
       "      <td>1.000000</td>\n",
       "      <td>13.000000</td>\n",
       "      <td>8.0</td>\n",
       "      <td>50.0</td>\n",
       "      <td>0.0</td>\n",
       "    </tr>\n",
       "    <tr>\n",
       "      <th>25%</th>\n",
       "      <td>901.000000</td>\n",
       "      <td>4611.510820</td>\n",
       "      <td>1.0</td>\n",
       "      <td>3.000000</td>\n",
       "      <td>22.500000</td>\n",
       "      <td>8.0</td>\n",
       "      <td>50.0</td>\n",
       "      <td>0.0</td>\n",
       "    </tr>\n",
       "    <tr>\n",
       "      <th>50%</th>\n",
       "      <td>1069.000000</td>\n",
       "      <td>5052.769411</td>\n",
       "      <td>1.0</td>\n",
       "      <td>6.000000</td>\n",
       "      <td>25.000000</td>\n",
       "      <td>8.0</td>\n",
       "      <td>50.0</td>\n",
       "      <td>0.0</td>\n",
       "    </tr>\n",
       "    <tr>\n",
       "      <th>75%</th>\n",
       "      <td>1310.500000</td>\n",
       "      <td>5488.459099</td>\n",
       "      <td>1.0</td>\n",
       "      <td>10.000000</td>\n",
       "      <td>29.000000</td>\n",
       "      <td>8.0</td>\n",
       "      <td>50.0</td>\n",
       "      <td>0.0</td>\n",
       "    </tr>\n",
       "    <tr>\n",
       "      <th>max</th>\n",
       "      <td>1524.000000</td>\n",
       "      <td>7211.007745</td>\n",
       "      <td>1.0</td>\n",
       "      <td>12.000000</td>\n",
       "      <td>36.000000</td>\n",
       "      <td>8.0</td>\n",
       "      <td>50.0</td>\n",
       "      <td>0.0</td>\n",
       "    </tr>\n",
       "  </tbody>\n",
       "</table>\n",
       "</div>"
      ],
      "text/plain": [
       "           user_id     distance  duration      month        age  minute_price  \\\n",
       "count    95.000000    95.000000      95.0  95.000000  95.000000          95.0   \n",
       "mean   1092.210526  5113.176549       1.0   6.484211  25.442105           8.0   \n",
       "std     244.028551   658.254104       0.0   3.709858   4.350876           0.0   \n",
       "min     701.000000  4030.308008       1.0   1.000000  13.000000           8.0   \n",
       "25%     901.000000  4611.510820       1.0   3.000000  22.500000           8.0   \n",
       "50%    1069.000000  5052.769411       1.0   6.000000  25.000000           8.0   \n",
       "75%    1310.500000  5488.459099       1.0  10.000000  29.000000           8.0   \n",
       "max    1524.000000  7211.007745       1.0  12.000000  36.000000           8.0   \n",
       "\n",
       "       start_ride_price  subscription_fee  \n",
       "count              95.0              95.0  \n",
       "mean               50.0               0.0  \n",
       "std                 0.0               0.0  \n",
       "min                50.0               0.0  \n",
       "25%                50.0               0.0  \n",
       "50%                50.0               0.0  \n",
       "75%                50.0               0.0  \n",
       "max                50.0               0.0  "
      ]
     },
     "execution_count": 24,
     "metadata": {},
     "output_type": "execute_result"
    }
   ],
   "source": [
    "freesub[freesub['duration'] <= 1].describe()"
   ]
  },
  {
   "cell_type": "markdown",
   "id": "ff718eef",
   "metadata": {},
   "source": [
    "Мы имеем 95 строк с временем поездок до одной минуты. При этом средняя дистанция поездок составляет чуть больше 5 км. Довольно странно, ведь самокат, максимальная скорость которого составляет 21 км/ч даже при всем желании за полминуты 5 км не проедет. Стоит уточнить этот момент у тех кто выгружал данные. Возможно при подсчете продолжительности поездки произошел какой-то сбой и время поездки попросту не считалось. 95 строк от 11568 составляют 0.8%. Тем не менее удалять эти строки мы не будем. При подсчете выручки используем логическую индексацию, чтобы эти строки не исказили наши подсчеты и мы получили приближенные к реальному значения выручки."
   ]
  },
  {
   "cell_type": "code",
   "execution_count": 25,
   "id": "dea6e6e3",
   "metadata": {},
   "outputs": [
    {
     "data": {
      "image/png": "[encoded data removed]",
      "text/plain": [
       "<Figure size 432x288 with 1 Axes>"
      ]
     },
     "metadata": {
      "needs_background": "light"
     },
     "output_type": "display_data"
    },
    {
     "data": {
      "text/plain": [
       "count    11568.000000\n",
       "mean      3045.495282\n",
       "std       1246.173806\n",
       "min          0.855683\n",
       "25%       2366.562689\n",
       "50%       3114.648465\n",
       "75%       3905.697894\n",
       "max       7211.007745\n",
       "Name: distance, dtype: float64"
      ]
     },
     "execution_count": 25,
     "metadata": {},
     "output_type": "execute_result"
    }
   ],
   "source": [
    "plt.hist(freesub['distance'], bins=200)\n",
    "plt.title('Дистанция поездок у пользователей без подписки')\n",
    "plt.xlabel('Дистанция поездок')\n",
    "plt.ylabel('Количество пользователей')\n",
    "plt.grid(True)\n",
    "plt.show()\n",
    "\n",
    "freesub['distance'].describe()"
   ]
  },
  {
   "cell_type": "markdown",
   "id": "5988633f",
   "metadata": {},
   "source": [
    "Медианное и среднее значения дистанции поездок пользователей без подписки имеют небольшое различие. Медиана составляет 3114 м, а среднее 3045. Возьмем как показатель центральной тенденции медиану, т.к. она устойчивее к выбросам. Пользователи с бесплатной подпиской по преждему делятся на тех, кто совершает поездки на короткие дистанции и тех, кто выбирает дистанции подлинее. При этом заметно, что на проммежутке от 2500-3500 заметен небольшой провал в гистограмме. Напрашивается вывод, что пользователи совершающие поездки на длинные дистанции делятся еще на две группы. Короткие поездки, как правило, находятся в диапазоне до 1500 м, а более продолжительные по дистанции начинаются от 2000 м. Максимальная дистанция, которую проходили пользователи с бесплатной подпиской составляет 7211 м."
   ]
  },
  {
   "cell_type": "markdown",
   "id": "6331e595",
   "metadata": {},
   "source": [
    "Начнем проверку датафрейма с пользователями, которые пользуются подпиской."
   ]
  },
  {
   "cell_type": "code",
   "execution_count": 26,
   "id": "37d12439",
   "metadata": {},
   "outputs": [
    {
     "data": {
      "image/png": "[encoded data removed]",
      "text/plain": [
       "<Figure size 432x288 with 1 Axes>"
      ]
     },
     "metadata": {
      "needs_background": "light"
     },
     "output_type": "display_data"
    },
    {
     "data": {
      "text/plain": [
       "count    6500.000000\n",
       "mean       19.037692\n",
       "std         5.577439\n",
       "min         4.000000\n",
       "25%        15.000000\n",
       "50%        19.000000\n",
       "75%        22.000000\n",
       "max        41.000000\n",
       "Name: duration, dtype: float64"
      ]
     },
     "execution_count": 26,
     "metadata": {},
     "output_type": "execute_result"
    }
   ],
   "source": [
    "plt.hist(ultrasub['duration'], bins=35)\n",
    "plt.title('Продолжительность поездок у пользователей c подпиской')\n",
    "plt.xlabel('Продолжительность поездок')\n",
    "plt.ylabel('Количество пользователей')\n",
    "plt.grid(True)\n",
    "plt.show()\n",
    "\n",
    "ultrasub['duration'].describe()"
   ]
  },
  {
   "cell_type": "markdown",
   "id": "9f718322",
   "metadata": {},
   "source": [
    "На гистограмме отсутствует пик на проммежутке до 1 минуты. Очевидно, что история с короткими поездками свойственна только для пользователей, которые не имеют в своем арсенале подписку. Возможно, что пользователи с подпиской при аренде самоката не размышляют о том, стоит ли тратить деньги на поездку или нет, т.к. старт у них бесплатный. Тут могут быть и другие причины. Распределение среди пользователей с подпиской стремится к нормальному и собирается вокруг медианного значения 19 минут. Максимальная поездка составляет 41 минуту. а вот минимальная уже 4 минуты. Очевидно, что это поездки по типу \"доехать до магазина\" или же \"даехать от остановки до дома\"."
   ]
  },
  {
   "cell_type": "code",
   "execution_count": 27,
   "id": "4852e61b",
   "metadata": {},
   "outputs": [
    {
     "data": {
      "image/png": "[encoded data removed]",
      "text/plain": [
       "<Figure size 432x288 with 1 Axes>"
      ]
     },
     "metadata": {
      "needs_background": "light"
     },
     "output_type": "display_data"
    },
    {
     "data": {
      "text/plain": [
       "count    6500.000000\n",
       "mean     3115.445388\n",
       "std       836.895330\n",
       "min       244.210438\n",
       "25%      2785.444017\n",
       "50%      3148.637229\n",
       "75%      3560.574425\n",
       "max      5699.769662\n",
       "Name: distance, dtype: float64"
      ]
     },
     "execution_count": 27,
     "metadata": {},
     "output_type": "execute_result"
    }
   ],
   "source": [
    "plt.hist(ultrasub['distance'], bins=200)\n",
    "plt.title('Дистанция поездок у пользователей с подпиской')\n",
    "plt.xlabel('Дистанция поездок')\n",
    "plt.ylabel('Количество пользователей')\n",
    "plt.grid(True)\n",
    "plt.show()\n",
    "\n",
    "ultrasub['distance'].describe()"
   ]
  },
  {
   "cell_type": "markdown",
   "id": "ae637a81",
   "metadata": {},
   "source": [
    "На гистограмме дистанции поездок мы также наблюдаем две категории поездок: дальние и короткие. При этом короткими по расстоянию поездками  мы будем считать поездки до 2000 м. Начиная от 2500 и далее - поездки на дальние дистанции. Также стоит отметить что порог поездок на дальние и короткие дистанции у пользователей с подпиской выше на 500 м. Среднее и медиана практически равны и составляют 3115 и 3148 соответственно. Самая длинная дистанция составляет 5699 м, а самая короткая 244 м."
   ]
  },
  {
   "cell_type": "markdown",
   "id": "bf941903",
   "metadata": {},
   "source": [
    "**Вывод**"
   ]
  },
  {
   "cell_type": "markdown",
   "id": "9395b163",
   "metadata": {},
   "source": [
    "В ходе исследования продолжительности поездок и их дистанции для разных пользователей, в зависимости от наличия подписки были выявлены следующие закономерности:\n",
    " - Средняя продолжительность поездки у пользователей без подписки составляет 18 минут. Пользователи с подпиской в среднем тратят 19 минут на поездку;\n",
    " - Средняя дистанция поездки у пользователей без подписки составляет 3114 м. Пользователи с подпиской в среднем проезжают около 3148 м.;\n",
    " - Сильных различий между продолжительностью поездок и дистанцией у пользователей с подпиской и без не наблюдается;\n",
    " - У обеих групп наблюдается кластеризация на две группы: поездки на короткую и длинную дистанции. При этом в зависимости от наличия подписки проммежутки для двух типов дистанции различаются. Так, например:\n",
    "     * Для пользователей без подписки короткой дистанцией будет считаться поездка до 1500 м, а длинной дистанцией - поездка от 2000 м.\n",
    "     * Для пользователей с подпиской короткой дистанцией будет считаться поездка до 2000 м, а длинной дистанцией - поездка от 2500 м.\n",
    " - У пользователей без подписки наблюдается пик на значениях до 1 минуты. При этом дистанции таких поездок составляют чуть больше 5 км. Причины этого пика лучше уточнять у тех, кто выгружал данные."
   ]
  },
  {
   "cell_type": "markdown",
   "id": "402d620f",
   "metadata": {},
   "source": [
    "#### Шаг 5. Подсчёт выручки"
   ]
  },
  {
   "cell_type": "markdown",
   "id": "0212c019",
   "metadata": {},
   "source": [
    "##### Датафрейм с агрегированными данными по каждому пользователю"
   ]
  },
  {
   "cell_type": "code",
   "execution_count": 28,
   "id": "210685c7",
   "metadata": {
    "scrolled": true
   },
   "outputs": [
    {
     "data": {
      "text/html": [
       "<div>\n",
       "<style scoped>\n",
       "    .dataframe tbody tr th:only-of-type {\n",
       "        vertical-align: middle;\n",
       "    }\n",
       "\n",
       "    .dataframe tbody tr th {\n",
       "        vertical-align: top;\n",
       "    }\n",
       "\n",
       "    .dataframe thead th {\n",
       "        text-align: right;\n",
       "    }\n",
       "</style>\n",
       "<table border=\"1\" class=\"dataframe\">\n",
       "  <thead>\n",
       "    <tr style=\"text-align: right;\">\n",
       "      <th></th>\n",
       "      <th>user_id</th>\n",
       "      <th>month</th>\n",
       "      <th>distance</th>\n",
       "      <th>duration</th>\n",
       "      <th>count</th>\n",
       "      <th>subscription_type</th>\n",
       "      <th>minute_price</th>\n",
       "      <th>start_ride_price</th>\n",
       "      <th>subscription_fee</th>\n",
       "    </tr>\n",
       "  </thead>\n",
       "  <tbody>\n",
       "    <tr>\n",
       "      <th>0</th>\n",
       "      <td>1</td>\n",
       "      <td>1</td>\n",
       "      <td>7027.511294</td>\n",
       "      <td>42.0</td>\n",
       "      <td>2</td>\n",
       "      <td>ultra</td>\n",
       "      <td>6</td>\n",
       "      <td>0</td>\n",
       "      <td>199</td>\n",
       "    </tr>\n",
       "    <tr>\n",
       "      <th>1</th>\n",
       "      <td>1</td>\n",
       "      <td>4</td>\n",
       "      <td>754.159807</td>\n",
       "      <td>7.0</td>\n",
       "      <td>1</td>\n",
       "      <td>ultra</td>\n",
       "      <td>6</td>\n",
       "      <td>0</td>\n",
       "      <td>199</td>\n",
       "    </tr>\n",
       "    <tr>\n",
       "      <th>2</th>\n",
       "      <td>1</td>\n",
       "      <td>8</td>\n",
       "      <td>6723.470560</td>\n",
       "      <td>46.0</td>\n",
       "      <td>2</td>\n",
       "      <td>ultra</td>\n",
       "      <td>6</td>\n",
       "      <td>0</td>\n",
       "      <td>199</td>\n",
       "    </tr>\n",
       "    <tr>\n",
       "      <th>3</th>\n",
       "      <td>1</td>\n",
       "      <td>10</td>\n",
       "      <td>5809.911100</td>\n",
       "      <td>32.0</td>\n",
       "      <td>2</td>\n",
       "      <td>ultra</td>\n",
       "      <td>6</td>\n",
       "      <td>0</td>\n",
       "      <td>199</td>\n",
       "    </tr>\n",
       "    <tr>\n",
       "      <th>4</th>\n",
       "      <td>1</td>\n",
       "      <td>11</td>\n",
       "      <td>7003.499363</td>\n",
       "      <td>56.0</td>\n",
       "      <td>3</td>\n",
       "      <td>ultra</td>\n",
       "      <td>6</td>\n",
       "      <td>0</td>\n",
       "      <td>199</td>\n",
       "    </tr>\n",
       "  </tbody>\n",
       "</table>\n",
       "</div>"
      ],
      "text/plain": [
       "   user_id  month     distance  duration  count subscription_type  \\\n",
       "0        1      1  7027.511294      42.0      2             ultra   \n",
       "1        1      4   754.159807       7.0      1             ultra   \n",
       "2        1      8  6723.470560      46.0      2             ultra   \n",
       "3        1     10  5809.911100      32.0      2             ultra   \n",
       "4        1     11  7003.499363      56.0      3             ultra   \n",
       "\n",
       "   minute_price  start_ride_price  subscription_fee  \n",
       "0             6                 0               199  \n",
       "1             6                 0               199  \n",
       "2             6                 0               199  \n",
       "3             6                 0               199  \n",
       "4             6                 0               199  "
      ]
     },
     "metadata": {},
     "output_type": "display_data"
    }
   ],
   "source": [
    "grouped_data = data.groupby(['user_id', 'month']\n",
    "                           ).agg({'distance':'sum', 'duration':['sum', 'count'],\n",
    "                                  'subscription_type':'first',\n",
    "                                  'minute_price':'first',\n",
    "                                  'start_ride_price':'first',\n",
    "                                  'subscription_fee':'first'})\n",
    "\n",
    "grouped_data.columns = ['distance', 'duration', 'count',\n",
    "                         'subscription_type', 'minute_price',\n",
    "                         'start_ride_price', 'subscription_fee']\n",
    "grouped_data.reset_index(inplace=True)\n",
    "display(grouped_data.head())\n"
   ]
  },
  {
   "cell_type": "markdown",
   "id": "c97f99b1",
   "metadata": {},
   "source": [
    "Мы создали датафрейм с агрегированной информацией по поездкам у каждого пользователя, в зависимости от месяца. Теперь приступим к подсчетам выручки, которую принес каждый пользователь в зависимости от месяца. "
   ]
  },
  {
   "cell_type": "markdown",
   "id": "abb37f3e",
   "metadata": {},
   "source": [
    "Код ревьюера\n",
    "df_agg_rev = data.groupby(['user_id', 'month']).agg({'distance':'sum', 'duration':['sum', 'count']})\n",
    "display(df_agg_rev.head(3))\n",
    "\n",
    "df_agg_rev.columns = {'distance', 'duration', 'count'} # Здесь ошибка в переименовании столбцов\n",
    "display(df_agg_rev.head(3))\n"
   ]
  },
  {
   "cell_type": "markdown",
   "id": "ea3bdb6d",
   "metadata": {},
   "source": [
    "Код ревьюера\n",
    "\n",
    "df_aggregated = data.groupby(['user_id', 'month']\n",
    "                           ).agg({'distance':'sum', 'duration':['sum', 'count'],\n",
    "                                  'subscription_type':'first',\n",
    "                                  'minute_price':'first',\n",
    "                                  'start_ride_price':'first',\n",
    "                                  'subscription_fee':'first'})\n",
    "\n",
    "Переименование столбцов\n",
    "df_aggregated.columns = ['sum_distance', 'sum_duration', 'count',\n",
    "                         'subscription_type', 'minute_price',\n",
    "                         'start_ride_price', 'subscription_fee']\n",
    "Сброс индекса\n",
    "df_aggregated.reset_index(inplace=True)\n",
    "\n",
    "display(df_aggregated.head())\n",
    "print(df_aggregated.shape[0])"
   ]
  },
  {
   "cell_type": "markdown",
   "id": "0bbf40a7",
   "metadata": {},
   "source": [
    "##### Подсчет выручки"
   ]
  },
  {
   "cell_type": "code",
   "execution_count": 29,
   "id": "279b7e3b",
   "metadata": {},
   "outputs": [
    {
     "data": {
      "text/html": [
       "<div>\n",
       "<style scoped>\n",
       "    .dataframe tbody tr th:only-of-type {\n",
       "        vertical-align: middle;\n",
       "    }\n",
       "\n",
       "    .dataframe tbody tr th {\n",
       "        vertical-align: top;\n",
       "    }\n",
       "\n",
       "    .dataframe thead th {\n",
       "        text-align: right;\n",
       "    }\n",
       "</style>\n",
       "<table border=\"1\" class=\"dataframe\">\n",
       "  <thead>\n",
       "    <tr style=\"text-align: right;\">\n",
       "      <th></th>\n",
       "      <th>user_id</th>\n",
       "      <th>month</th>\n",
       "      <th>distance</th>\n",
       "      <th>duration</th>\n",
       "      <th>count</th>\n",
       "      <th>subscription_type</th>\n",
       "      <th>minute_price</th>\n",
       "      <th>start_ride_price</th>\n",
       "      <th>subscription_fee</th>\n",
       "      <th>income</th>\n",
       "    </tr>\n",
       "  </thead>\n",
       "  <tbody>\n",
       "    <tr>\n",
       "      <th>0</th>\n",
       "      <td>1</td>\n",
       "      <td>1</td>\n",
       "      <td>7027.511294</td>\n",
       "      <td>42.0</td>\n",
       "      <td>2</td>\n",
       "      <td>ultra</td>\n",
       "      <td>6</td>\n",
       "      <td>0</td>\n",
       "      <td>199</td>\n",
       "      <td>451.0</td>\n",
       "    </tr>\n",
       "    <tr>\n",
       "      <th>1</th>\n",
       "      <td>1</td>\n",
       "      <td>4</td>\n",
       "      <td>754.159807</td>\n",
       "      <td>7.0</td>\n",
       "      <td>1</td>\n",
       "      <td>ultra</td>\n",
       "      <td>6</td>\n",
       "      <td>0</td>\n",
       "      <td>199</td>\n",
       "      <td>241.0</td>\n",
       "    </tr>\n",
       "    <tr>\n",
       "      <th>2</th>\n",
       "      <td>1</td>\n",
       "      <td>8</td>\n",
       "      <td>6723.470560</td>\n",
       "      <td>46.0</td>\n",
       "      <td>2</td>\n",
       "      <td>ultra</td>\n",
       "      <td>6</td>\n",
       "      <td>0</td>\n",
       "      <td>199</td>\n",
       "      <td>475.0</td>\n",
       "    </tr>\n",
       "    <tr>\n",
       "      <th>3</th>\n",
       "      <td>1</td>\n",
       "      <td>10</td>\n",
       "      <td>5809.911100</td>\n",
       "      <td>32.0</td>\n",
       "      <td>2</td>\n",
       "      <td>ultra</td>\n",
       "      <td>6</td>\n",
       "      <td>0</td>\n",
       "      <td>199</td>\n",
       "      <td>391.0</td>\n",
       "    </tr>\n",
       "    <tr>\n",
       "      <th>4</th>\n",
       "      <td>1</td>\n",
       "      <td>11</td>\n",
       "      <td>7003.499363</td>\n",
       "      <td>56.0</td>\n",
       "      <td>3</td>\n",
       "      <td>ultra</td>\n",
       "      <td>6</td>\n",
       "      <td>0</td>\n",
       "      <td>199</td>\n",
       "      <td>535.0</td>\n",
       "    </tr>\n",
       "    <tr>\n",
       "      <th>5</th>\n",
       "      <td>1</td>\n",
       "      <td>12</td>\n",
       "      <td>6751.629942</td>\n",
       "      <td>28.0</td>\n",
       "      <td>2</td>\n",
       "      <td>ultra</td>\n",
       "      <td>6</td>\n",
       "      <td>0</td>\n",
       "      <td>199</td>\n",
       "      <td>367.0</td>\n",
       "    </tr>\n",
       "    <tr>\n",
       "      <th>6</th>\n",
       "      <td>2</td>\n",
       "      <td>3</td>\n",
       "      <td>10187.723006</td>\n",
       "      <td>63.0</td>\n",
       "      <td>3</td>\n",
       "      <td>ultra</td>\n",
       "      <td>6</td>\n",
       "      <td>0</td>\n",
       "      <td>199</td>\n",
       "      <td>577.0</td>\n",
       "    </tr>\n",
       "    <tr>\n",
       "      <th>7</th>\n",
       "      <td>2</td>\n",
       "      <td>4</td>\n",
       "      <td>6164.381824</td>\n",
       "      <td>40.0</td>\n",
       "      <td>2</td>\n",
       "      <td>ultra</td>\n",
       "      <td>6</td>\n",
       "      <td>0</td>\n",
       "      <td>199</td>\n",
       "      <td>439.0</td>\n",
       "    </tr>\n",
       "    <tr>\n",
       "      <th>8</th>\n",
       "      <td>2</td>\n",
       "      <td>6</td>\n",
       "      <td>3255.338202</td>\n",
       "      <td>14.0</td>\n",
       "      <td>1</td>\n",
       "      <td>ultra</td>\n",
       "      <td>6</td>\n",
       "      <td>0</td>\n",
       "      <td>199</td>\n",
       "      <td>283.0</td>\n",
       "    </tr>\n",
       "    <tr>\n",
       "      <th>9</th>\n",
       "      <td>2</td>\n",
       "      <td>7</td>\n",
       "      <td>6780.722964</td>\n",
       "      <td>48.0</td>\n",
       "      <td>2</td>\n",
       "      <td>ultra</td>\n",
       "      <td>6</td>\n",
       "      <td>0</td>\n",
       "      <td>199</td>\n",
       "      <td>487.0</td>\n",
       "    </tr>\n",
       "  </tbody>\n",
       "</table>\n",
       "</div>"
      ],
      "text/plain": [
       "   user_id  month      distance  duration  count subscription_type  \\\n",
       "0        1      1   7027.511294      42.0      2             ultra   \n",
       "1        1      4    754.159807       7.0      1             ultra   \n",
       "2        1      8   6723.470560      46.0      2             ultra   \n",
       "3        1     10   5809.911100      32.0      2             ultra   \n",
       "4        1     11   7003.499363      56.0      3             ultra   \n",
       "5        1     12   6751.629942      28.0      2             ultra   \n",
       "6        2      3  10187.723006      63.0      3             ultra   \n",
       "7        2      4   6164.381824      40.0      2             ultra   \n",
       "8        2      6   3255.338202      14.0      1             ultra   \n",
       "9        2      7   6780.722964      48.0      2             ultra   \n",
       "\n",
       "   minute_price  start_ride_price  subscription_fee  income  \n",
       "0             6                 0               199   451.0  \n",
       "1             6                 0               199   241.0  \n",
       "2             6                 0               199   475.0  \n",
       "3             6                 0               199   391.0  \n",
       "4             6                 0               199   535.0  \n",
       "5             6                 0               199   367.0  \n",
       "6             6                 0               199   577.0  \n",
       "7             6                 0               199   439.0  \n",
       "8             6                 0               199   283.0  \n",
       "9             6                 0               199   487.0  "
      ]
     },
     "execution_count": 29,
     "metadata": {},
     "output_type": "execute_result"
    }
   ],
   "source": [
    "grouped_data['income'] = (\n",
    "    grouped_data['start_ride_price'] * grouped_data['count'] \n",
    "    + grouped_data['minute_price'] * grouped_data['duration'] \n",
    "    + grouped_data['subscription_fee']\n",
    ")\n",
    "\n",
    "grouped_data.head(10)"
   ]
  },
  {
   "cell_type": "markdown",
   "id": "a19450b7",
   "metadata": {},
   "source": [
    "Вот мы и посчитали выручку, которую принес каждый пользователь помесячно."
   ]
  },
  {
   "cell_type": "markdown",
   "id": "41545ac0",
   "metadata": {},
   "source": [
    "#### Шаг 6. Проверка гипотез"
   ]
  },
  {
   "cell_type": "markdown",
   "id": "724a1993",
   "metadata": {},
   "source": [
    "Теперь приступим к проверке гипотез, используя статистические методы."
   ]
  },
  {
   "cell_type": "markdown",
   "id": "a05bb366",
   "metadata": {},
   "source": [
    "#####  Тратят ли пользователи с подпиской больше времени на поездки?"
   ]
  },
  {
   "cell_type": "markdown",
   "id": "c4be812d",
   "metadata": {},
   "source": [
    "Чтобы оценить высказывание о том, что пользователи с подпиской тратят больше времени на поездки сформируем **Нулевую** гипотезу и  **Альтернативную** гипотезу:\n",
    " - **H0**: Среднее время, которое тратят на поездки пользователи с подпиской равно среднему времене, которое тратят на поездки пользователи без подписки;\n",
    " - **H1**: Среднее время, которое тратят пользователи с подпиской на поездки больше, чем у пользователей без подписки.\n",
    " \n",
    " Уровень статистической значимости `alpha` будем считать равным 5%\n",
    " \n",
    " Мы имеем дело с двумя независимыми выборками из двух независимых генеральных совокупностей, поэтому использовать будем `ttest_ind` из библиотеки `scipy.stats`\n",
    " \n",
    " Т.к. в альтернативной гипотезе мы допускаем факт, что пользователи с подпиской тратят **больше** времени, то используем односторонний тест, где в аргументе `alternative` укажем параметр `greater`"
   ]
  },
  {
   "cell_type": "code",
   "execution_count": 30,
   "id": "91cacdd5",
   "metadata": {},
   "outputs": [
    {
     "name": "stdout",
     "output_type": "stream",
     "text": [
      "P-value равно: 2.4959453720736625e-34\n",
      "Отвергаем нулевую гипотезу, т.к. есть основания предполагать, что пользователи с подпиской тратят на поездки больше времени, чем пользователи без подписки\n"
     ]
    }
   ],
   "source": [
    "alpha = 0.05\n",
    "timecomp = st.ttest_ind(ultrasub['duration'], freesub['duration'], alternative='greater')\n",
    "print(f'P-value равно: {timecomp.pvalue}')\n",
    "\n",
    "\n",
    "if timecomp.pvalue < alpha:\n",
    "    print('Отвергаем нулевую гипотезу, т.к. есть основания предполагать, что пользователи с подпиской тратят на поездки больше времени, чем пользователи без подписки')\n",
    "else:\n",
    "    print('Нет оснований отвергнуть нулевую гипотезу')"
   ]
  },
  {
   "cell_type": "markdown",
   "id": "a532e1c5",
   "metadata": {},
   "source": [
    "p-value в нашем исследовании имеет экстремально низкое значение, гораздо меньше, чем заданный уровень стат. значимости. Следовательно есть основания предполагать, что пользователи с подпиской действительно тратят на поездки больше времени, а это значит, что такие пользователи  \"выгоднее\" для компании."
   ]
  },
  {
   "cell_type": "markdown",
   "id": "127a612a",
   "metadata": {},
   "source": [
    "##### Можно ли сказать, что расстояние, которое проезжают пользователи с подпиской за одну поездку, не превышает оптимальное с точки зрения износа для самоката расстояние 3130 м."
   ]
  },
  {
   "cell_type": "markdown",
   "id": "45014605",
   "metadata": {},
   "source": [
    "Начнем с формулировки гипотез:\n",
    " - **H0**: Расстояние, которое проезжает пользователь с подпиской за одну поездку равно 3130 м.\n",
    " - **H1**: Расстояние, которое проезжает пользователь с подпиской за одну поездку больше 3130 м. \n",
    "  \n",
    "Уровень статистической значимости `alpha` будем считать равным 5%\n",
    "Мы имеем дело с анализом одной выборки, где альтернативная гипотеза принимает значения по правую сторону от заданной величины. Используем метод `ttest_1samp`, в аргументе `alternative` укажем параметр `greater` "
   ]
  },
  {
   "cell_type": "code",
   "execution_count": 31,
   "id": "0bff323e",
   "metadata": {
    "scrolled": true
   },
   "outputs": [
    {
     "name": "stdout",
     "output_type": "stream",
     "text": [
      "P-value равно: 0.9195368847849785\n",
      "Нет оснований отвергнуть нулевую гипотезу\n"
     ]
    }
   ],
   "source": [
    "value = 3130\n",
    "distultra = st.ttest_1samp(ultrasub['distance'], value, alternative='greater')\n",
    "\n",
    "print(f'P-value равно: {distultra.pvalue}')\n",
    "\n",
    "\n",
    "if distultra.pvalue < alpha:\n",
    "    print('Отвергаем нулевую гипотезу, т.к. есть основания предполагать, что пользователи с подпиской в среднем проезжают меньшее расстояние, по сравнению с оптимальным с точки зрения износа для самоката')\n",
    "else:\n",
    "    print('Нет оснований отвергнуть нулевую гипотезу')"
   ]
  },
  {
   "cell_type": "markdown",
   "id": "ef826e14",
   "metadata": {},
   "source": [
    "p-value равно 92%, следовательно у нас нет оснований отвергнуть нулевую гипотезу о равенстве среднего расстояния, которое проезжает пользователь с подпиской за одну поездку, 3130 м. При этом мы также не отклоняем гипотезу о том, что пользователи проезжают расстояние меньше заявленного, т.к. в разрезе нашего исследования рассматривалась правосторонняя гипотеза. Можно сказать, что расстояние, которое проезжают пользователи с подпиской за одну поездку не превышает оптимальное с точки зрения износа самоката"
   ]
  },
  {
   "cell_type": "markdown",
   "id": "5a149a7b",
   "metadata": {},
   "source": [
    "##### Сравнение помесячной выручки пользователей с подпиской и без."
   ]
  },
  {
   "cell_type": "markdown",
   "id": "f9e3c809",
   "metadata": {},
   "source": [
    "Гипотезы будут звучать так:\n",
    " - **H0**: Помесячные выручки пользователей с подпиской и без равны.\n",
    " - **H1**: Помесячная выручка у пользователей с подпиской выше.\n",
    " \n",
    " Уровень стат. значимости устанавливаем 5%\n",
    " Мы имеем дело с двумя независимыми выборками, где в качестве альтернативной гипотезы будет взята правосторонняя. Используем метод `ttest_ind`."
   ]
  },
  {
   "cell_type": "code",
   "execution_count": 32,
   "id": "295b20a3",
   "metadata": {},
   "outputs": [
    {
     "name": "stdout",
     "output_type": "stream",
     "text": [
      "P-value равно: 1.8850394384715216e-31\n",
      "Отвергаем нулевую гипотезу, т.к. есть основания предполагать, что пользователи с подпиской приносят больше выручки помесячно, нежели пользователи без подписки\n"
     ]
    }
   ],
   "source": [
    "monthly_income = st.ttest_ind(\n",
    "    grouped_data[grouped_data['subscription_type'] == 'ultra']['income'],\n",
    "    grouped_data[grouped_data['subscription_type'] == 'free']['income'],\n",
    "    alternative='greater'\n",
    ")\n",
    "print(f'P-value равно: {monthly_income.pvalue}')\n",
    "\n",
    "\n",
    "if monthly_income.pvalue < alpha:\n",
    "    print('Отвергаем нулевую гипотезу, т.к. есть основания предполагать, что пользователи с подпиской приносят больше выручки помесячно, нежели пользователи без подписки')\n",
    "else:\n",
    "    print('Нет оснований отвергнуть нулевую гипотезу')"
   ]
  },
  {
   "cell_type": "markdown",
   "id": "91f18879",
   "metadata": {},
   "source": [
    "Тест показал нам, что есть основания отвергнуть нулевую гипотезу о равенстве помесячной выручки пользователей с подписками и без в пользу альтернативной. Пользователи с подпиской приносят больше выручки помесячно, нежели пользователи без подписки."
   ]
  },
  {
   "cell_type": "markdown",
   "id": "a749a7fb",
   "metadata": {},
   "source": [
    "##### Количество обращений в техподдержку до и после обновления сервера. "
   ]
  },
  {
   "cell_type": "markdown",
   "id": "1b68b70d",
   "metadata": {},
   "source": [
    "В данном случае мы имеем дело с двумя зависимыми выборками, т.к. мы проверяем среднии одной генеральной совокупности (пользователей сервиса) до и после обновления. Типичный пример для t-теста для зависимых (парных) выборок. Используем метот из библиотеки `scipy.stats.ttest_rel()`, где в качестве аргументов будут использованы выборки до и после изменений. Т.к. в качестве альтернативной гипотезы мы будем проверять высказывание о снижении количества обращений (среднее выборки после изменений меньше среднего выборки до изменений), в качестве аргумента `alternative` мы используем параметр `less` (площадь фигуры под левым хвостом). При передаче параметров в аргументы метода на первом месте будет стоять выборка до изменений, а на втором - выборка после изменений, т.к. порядок важен."
   ]
  },
  {
   "cell_type": "markdown",
   "id": "61213c5e",
   "metadata": {},
   "source": [
    "#### Шаг 7. Распределения"
   ]
  },
  {
   "cell_type": "markdown",
   "id": "adda166e",
   "metadata": {},
   "source": [
    "##### Отделу маркетинга GoFast поставили задачу: нужно провести акцию с раздачей промокодов на один бесплатный месяц подписки, в рамках которой как минимум 100 существующих клиентов должны продлить эту подписку. То есть по завершении периода действия подписки пользователь может либо отказаться от неё, либо продлить, совершив соответствующий платёж.  Эта акция уже проводилась ранее и по итогу выяснилось, что после бесплатного пробного периода подписку продлевают 10 % пользователей. Выясните, какое минимальное количество промокодов нужно разослать, чтобы вероятность не выполнить план была примерно 5 %. Подберите параметры распределения, описывающего эту ситуацию, постройте график распределения и сформулируйте ответ на вопрос о количестве промокодов."
   ]
  },
  {
   "cell_type": "markdown",
   "id": "f96b5091",
   "metadata": {},
   "source": [
    "Для выполнения этой задачи идеально подойдет биномиальное распределение, т.к. каждая отправка промокода по факту является экспериментом Бернулии с двумя исходами, где:\n",
    " - **p = 10%** - клиент продлил подписку;\n",
    " - **1 - p** - клиент не продлил подписку;\n",
    " \n",
    "Для определения количество промокодов мы должны найти такое количество **n**(число отправленных промокодом), при котором вероятность не выполнить план будет составлять **5%**.\n",
    "В качестве параметра **k** мы берем минимальное количество клиентов, которые должны продлить подписку  - 100.\n",
    "Уровень стат значимости мы ставим **5%**. \n",
    "___\n",
    "Формула вероятности выполнения плана будет выглядеть так: **P(X>=k) = 1 - P(X<k)**\n",
    "___\n",
    "Мы будем искать такое **n**, при котором **P(X<k) > alpha**"
   ]
  },
  {
   "cell_type": "code",
   "execution_count": 33,
   "id": "ec67a2e8",
   "metadata": {},
   "outputs": [
    {
     "data": {
      "image/png": "[encoded data removed]",
      "text/plain": [
       "<Figure size 432x288 with 1 Axes>"
      ]
     },
     "metadata": {
      "needs_background": "light"
     },
     "output_type": "display_data"
    },
    {
     "name": "stdout",
     "output_type": "stream",
     "text": [
      "Минимальное количество промокодов, которые нужно разослать составляет 1161\n"
     ]
    }
   ],
   "source": [
    "p = 0.1\n",
    "k = 99\n",
    "alpha = 0.05\n",
    "\n",
    "distr = []\n",
    "\n",
    "for n in range(0, 2000):\n",
    "    distr.append(st.binom.cdf(k, n, p))\n",
    "\n",
    "    \n",
    "plt.plot(distr)\n",
    "plt.title('График распределения вероятности не выполнить план')\n",
    "plt.xlabel('Количество пользователей')\n",
    "plt.ylabel('Вероятность')\n",
    "plt.show()\n",
    "\n",
    "print('Минимальное количество промокодов, которые нужно разослать составляет', pd.Series(distr)[pd.Series(distr) <= alpha].index.min())"
   ]
  },
  {
   "cell_type": "markdown",
   "id": "06a15061",
   "metadata": {},
   "source": [
    "##### 7.2 Отдел маркетинга рассылает клиентам push-уведомления в мобильном приложении. Клиенты могут открыть его или не открывать. Известно, что уведомления открывают около 40 % получивших клиентов. Отдел планирует разослать 1 млн уведомлений. С помощью аппроксимации постройте примерный график распределения и оцените вероятность того, что уведомление откроют не более 399,5 тыс. пользователей."
   ]
  },
  {
   "cell_type": "markdown",
   "id": "dc4ca84f",
   "metadata": {},
   "source": [
    "Для решения этой задачи будем использовать биномиальное распределение, а именно аппроксимацию биномиального распределения нормальным. У нас есть общее количество уведомлений **n = 1 млн**. Нам нужно узнать вероятность того, что уведомление откроют не более **k = 399500** пользователей, при условии, что вероятность открытия уведомления составляет **p = 0.4**.\n",
    "Для того, чтобы аппроксимировать биномиальное распределение нормальным вопрользуемся следующими свойствами:\n",
    " - **mu = n * p** - математическое ожидание биномиального распределения;\n",
    " - **sigma **2 = n * p * (1 - p)** - дисперсия биномиального распределения."
   ]
  },
  {
   "cell_type": "code",
   "execution_count": 34,
   "id": "1056b3f8",
   "metadata": {},
   "outputs": [
    {
     "data": {
      "image/png": "[encoded data removed]",
      "text/plain": [
       "<Figure size 432x288 with 1 Axes>"
      ]
     },
     "metadata": {
      "needs_background": "light"
     },
     "output_type": "display_data"
    },
    {
     "name": "stdout",
     "output_type": "stream",
     "text": [
      "Вероятность того, что уведомление откроет не более 399,5 тыс. пользователей составляет 15.37 %\n"
     ]
    }
   ],
   "source": [
    "n = 1000000\n",
    "p = 0.4\n",
    "k = 399500\n",
    "\n",
    "mu = n*p\n",
    "sigma = np.sqrt(n * p * (1 - p)) \n",
    "\n",
    "distr = st.norm(mu, sigma)\n",
    "x = np.linspace(mu - 3 * sigma, mu + 3 * sigma, 100)\n",
    "y = distr.pdf(x) #генерация значений плотности вероятности для каждого значения x\n",
    "\n",
    "plt.plot(x, y)\n",
    "plt.xlabel('Количество пользователей')\n",
    "plt.ylabel('Вероятность')\n",
    "plt.title('График распределения')\n",
    "plt.grid(True)\n",
    "plt.show()\n",
    "\n",
    "print(f'Вероятность того, что уведомление откроет не более 399,5 тыс. пользователей составляет {round(distr.cdf(k) * 100, 2)} %')"
   ]
  },
  {
   "cell_type": "markdown",
   "id": "9e7f749b",
   "metadata": {},
   "source": [
    "#### Вывод"
   ]
  },
  {
   "cell_type": "markdown",
   "id": "90f413b6",
   "metadata": {},
   "source": [
    "В ходе данного исследования мы анализировали информацию о пользователях сервиса по аренде самокатов GoFast. Перед нами стояла задача провести статистические исследования и проверить несколько гипотез:\n",
    "  1. Тратят ли пользователи с подпиской больше времени на поездки, чем пользователи без подписки;\n",
    "  2. Можно ли сказать, что расстояние, которое проезжают пользователи с подпиской за одну поездку, не превышает оптимальное с точки зрения износа для самоката расстояние 3130 м;\n",
    "  3. Помесячная выручка пользователей с подпиской выше, чем у пользователей без подписки.\n"
   ]
  },
  {
   "cell_type": "markdown",
   "id": "16e2ea7f",
   "metadata": {},
   "source": [
    "Прежде чем приступить к статистическому анализу данных, мы занялись предобработкой данных, в ходе которой были выполнены следующие действия:\n",
    " - Изменили тип данных в столбце `date` датафрейма с информацией о поездках с `object` на  `datetime`;\n",
    " - Добавили в датафрейм отдельный столбец с месяцем поездок для дальнейшего исследования;\n",
    " - Округлили значения в столбце с продолжительностью поездок;\n",
    " - Удалили 31 строку дубликат (1.98% данных). Дубликаты находились на последних строках датафрейма. Очевидно их добавили случайно или же произошла какая-то техническая ошибка."
   ]
  },
  {
   "attachments": {
    "%D0%B8%D0%B7%D0%BE%D0%B1%D1%80%D0%B0%D0%B6%D0%B5%D0%BD%D0%B8%D0%B5-2.png": {
     "image/png": "[encoded data removed]"
    },
    "%D0%B8%D0%B7%D0%BE%D0%B1%D1%80%D0%B0%D0%B6%D0%B5%D0%BD%D0%B8%D0%B5-3.png": {
     "image/png": "[encoded data removed]"
    },
    "%D0%B8%D0%B7%D0%BE%D0%B1%D1%80%D0%B0%D0%B6%D0%B5%D0%BD%D0%B8%D0%B5-4.png": {
     "image/png": "[encoded data removed]"
    },
    "%D0%B8%D0%B7%D0%BE%D0%B1%D1%80%D0%B0%D0%B6%D0%B5%D0%BD%D0%B8%D0%B5-5.png": {
     "image/png": "[encoded data removed]"
    },
    "%D0%B8%D0%B7%D0%BE%D0%B1%D1%80%D0%B0%D0%B6%D0%B5%D0%BD%D0%B8%D0%B5.png": {
     "image/png": "[encoded data removed]"
    }
   },
   "cell_type": "markdown",
   "id": "68df492c",
   "metadata": {},
   "source": [
    "После того, как мы провели т.н. preprocessing, мы приступили к исследовательскому анализу данных в ходе которого были выявлены следующие закономерности:\n",
    " 1. **Частота встречаемости городов**\n",
    " ![%D0%B8%D0%B7%D0%BE%D0%B1%D1%80%D0%B0%D0%B6%D0%B5%D0%BD%D0%B8%D0%B5.png](attachment:%D0%B8%D0%B7%D0%BE%D0%B1%D1%80%D0%B0%D0%B6%D0%B5%D0%BD%D0%B8%D0%B5.png)\n",
    " Судя по диаграмме в нашем датафрейме чаще всего встречаются пользователи из Пятигорска. На втором месте по числу пользователей находится Екатеринбург. Последнее место по числу пользователей отдается Москве. Видимо сервис по аренде самокатов чаще всего предоставляет свои услуги в регионах.\n",
    " 2. **Соотношение пользователей с подпиской и без**\n",
    "![%D0%B8%D0%B7%D0%BE%D0%B1%D1%80%D0%B0%D0%B6%D0%B5%D0%BD%D0%B8%D0%B5-2.png](attachment:%D0%B8%D0%B7%D0%BE%D0%B1%D1%80%D0%B0%D0%B6%D0%B5%D0%BD%D0%B8%D0%B5-2.png)\n",
    "Доля пользователей без подписки составляет 54%. Пользователи с подпиской, соответственно, составляют 46%. На графике видно, что в датасете чаще всего встречаются пользователи с бесплатной подпиской. То есть люди чаще всего пользуются разовыми поездками, нежели покупают абонементы для бесплатного старта поездки. Очевидно, что такие пользователи могут думать, что не так часто ездят для покупки подписки и дешевле будет просто каждый раз оплачивать старт, нежели брать подписку. При этом если сравнивать доли пользователей с подпиской и без, то можно сделать вывод о том, что их примерно одинаковое количество.\n",
    " 3. **Возраст пользователей**\n",
    " ![%D0%B8%D0%B7%D0%BE%D0%B1%D1%80%D0%B0%D0%B6%D0%B5%D0%BD%D0%B8%D0%B5-3.png](attachment:%D0%B8%D0%B7%D0%BE%D0%B1%D1%80%D0%B0%D0%B6%D0%B5%D0%BD%D0%B8%D0%B5-3.png)\n",
    "Как оказалось, чаще всего в данных встречаются пользователи в возрасте 25 лет. Самые молодые пользователи, которые представлены в датасете имеют возраст 12 лет. Самым старшим пользователям 43 года. Данные в столбце распределены нормально и собираются вокруг значения 25.\n",
    " 4. **Расстояние, которое пользователи преодолевают за одну поездку**\n",
    " ![%D0%B8%D0%B7%D0%BE%D0%B1%D1%80%D0%B0%D0%B6%D0%B5%D0%BD%D0%B8%D0%B5-4.png](attachment:%D0%B8%D0%B7%D0%BE%D0%B1%D1%80%D0%B0%D0%B6%D0%B5%D0%BD%D0%B8%D0%B5-4.png)\n",
    "Судя по гистограмме пользователи чаще всего проезжают чуть больше 3 км, медианное значение составляет 3133 м, а среднее 3070 - Различие между медианой и средним не такое уж и сильное, соответственно выбросы в данных практически отсутствуют. Присутствует два пика, смахивает на бимодальное распределение. Причем один пик приходится на приблизительно 600 м, а второй на медиану. Думаю эти пики обусловлены тем, что пользователи разделились на тех, кому нужно проехать короткую дистанцию (например от дома до магазина, от остановки до дома и т.д.), и тех, кто проезжает дистанцию подлиннее (например прогулка по улице на самокате, поездка от работы до дома и т.д.). Самая максимальная длина поездки составляет 7211 м, а самая короткая менее 1 м.\n",
    " 5. **Продолжительность поездок**\n",
    " ![%D0%B8%D0%B7%D0%BE%D0%B1%D1%80%D0%B0%D0%B6%D0%B5%D0%BD%D0%B8%D0%B5-5.png](attachment:%D0%B8%D0%B7%D0%BE%D0%B1%D1%80%D0%B0%D0%B6%D0%B5%D0%BD%D0%B8%D0%B5-5.png)\n",
    "Наши данные о длительности поездок распределены нормально. Среднее и медианное значения практически одинаковые и равняются 18.3 и 18 минутам соответствено. Именно столько времени обычно уходит у пользователей на поездки. Присутсвует небольшой пик в поездках до одной минуты. Возможно, это связано с тем, что пользователь передумал брать самокат в аренду выбрав другой способ передвижения. Или же пользователь случайно нажал на кнопку завершения поездки. Есть также возможность того, что техники проверяли работоспособность самокатов на месте, запуская их на короткое время. Вариантов может быть много, в любом случае тут не о чем переживать. Самая продолжительная поездка длилась около 41 минуты."
   ]
  },
  {
   "cell_type": "markdown",
   "id": "95e9cfc8",
   "metadata": {},
   "source": [
    "**Вывод**"
   ]
  },
  {
   "cell_type": "markdown",
   "id": "2d0c0f67",
   "metadata": {},
   "source": [
    "В ходе исследовательского анализа данных были сделаны следующие выводы:\n",
    "   - В данных чаще всего встречаются пользователи из регионов. На Первом месте находится Пятигорск, потом Екатеринбург. Москва занимает последнее место;\n",
    "   - Доля пользователей без подписки составляет 54% от всех данных. Остальные 46% приходятся на подписчиков сервиса. Скорее всего большинство пользователей не так часто пользуется самокатами, поэтому им выгоднее заплатить за старт поездки, нежели брать себе подписку;\n",
    "   - Чаще всего встречаются подьзователи возрастом 25 лет;\n",
    "   - В чаще всего пользователь проезжает расстояние равное 3,1 км. Времени, как правило, на это уходит порядка 18 минут. Бывают поездки и подлинее и подольше. Например самая длинная составляет 7,2 км, а самая долгая целых 41 минуту!\n",
    "   - Пользователи разделились на тех кто совершает короткие поездки и поездки на более длительные дистанции."
   ]
  },
  {
   "attachments": {
    "%D0%B8%D0%B7%D0%BE%D0%B1%D1%80%D0%B0%D0%B6%D0%B5%D0%BD%D0%B8%D0%B5-2.png": {
     "image/png": "[encoded data removed]"
    },
    "%D0%B8%D0%B7%D0%BE%D0%B1%D1%80%D0%B0%D0%B6%D0%B5%D0%BD%D0%B8%D0%B5-3.png": {
     "image/png": "[encoded data removed]"
    },
    "%D0%B8%D0%B7%D0%BE%D0%B1%D1%80%D0%B0%D0%B6%D0%B5%D0%BD%D0%B8%D0%B5-4.png": {
     "image/png": "[encoded data removed]"
    },
    "%D0%B8%D0%B7%D0%BE%D0%B1%D1%80%D0%B0%D0%B6%D0%B5%D0%BD%D0%B8%D0%B5.png": {
     "image/png": "[encoded data removed]"
    }
   },
   "cell_type": "markdown",
   "id": "c096781e",
   "metadata": {},
   "source": [
    "Далее мы объединили три датафрейма в один для того, чтобы потом создать два отдельных датафрейма в зависимости от наличия подписки у пользователей. После чего еще раз провели исследование времени и расстояния, которые пользователи тратят и преодолевают, в зависимости от наличия подписки. Вот что нам удалось выяснить:\n",
    "![%D0%B8%D0%B7%D0%BE%D0%B1%D1%80%D0%B0%D0%B6%D0%B5%D0%BD%D0%B8%D0%B5.png](attachment:%D0%B8%D0%B7%D0%BE%D0%B1%D1%80%D0%B0%D0%B6%D0%B5%D0%BD%D0%B8%D0%B5.png)\n",
    "Медианное и среднее значение продолжительности поездок у пользователей без подписки практически не различается и составляет 18 и 17.9 минут соответственно. При этом максимальная по продолжительности поездка длилась 35 минут. Заметны аномальные значения для промежутка до 1 минуты. Такая же ситуация наблюдалась в датафрейме до разделения на статусы пользователей, причины мы уже обсудили выше. Также есть вероятность, что такой пик образовался из-за того, что пользователь без подписки впервые решает попробовать для себя самокат и в первую минуту понимает, что не справится с управлением, что в итоге и приводет к немедленной остановке поездки. Распределение при этом нормальное. Давайте проверим какие пользователи берут самокат на время до 1 минуты.\n",
    "Далее мы посмотрели строки со значениями длительности одной поездки до 1 минуты и вот что нам удалось выяснить. Мы имеем 95 строк с временем поездок до одной минуты. При этом средняя дистанция поездок составляет чуть больше 5 км. Довольно странно, ведь самокат, максимальная скорость которого составляет 21 км/ч даже при всем желании за полминуты 5 км не проедет. Стоит уточнить этот момент у тех кто выгружал данные. Возможно при подсчете продолжительности поездки произошел какой-то сбой и время поездки попросту не считалось. 95 строк от 11568 составляют 0.8%. Тем не менее удалять эти строки мы не будем. При подсчете выручки используем логическую индексацию, чтобы эти строки не исказили наши подсчеты и мы получили приближенные к реальному значения выручки.\n",
    " ![%D0%B8%D0%B7%D0%BE%D0%B1%D1%80%D0%B0%D0%B6%D0%B5%D0%BD%D0%B8%D0%B5-2.png](attachment:%D0%B8%D0%B7%D0%BE%D0%B1%D1%80%D0%B0%D0%B6%D0%B5%D0%BD%D0%B8%D0%B5-2.png)\n",
    " Медианное и среднее значения дистанции поездок пользователей без подписки имеют небольшое различие. Медиана составляет 3114 м, а среднее 3045. Возьмем как показатель центральной тенденции медиану, т.к. она устойчивее к выбросам. Пользователи с бесплатной подпиской по преждему делятся на тех, кто совершает поездки на короткие дистанции и тех, кто выбирает дистанции подлинее. При этом заметно, что на проммежутке от 2500-3500 заметен небольшой провал в гистограмме. Напрашивается вывод, что пользователи совершающие поездки на длинные дистанции делятся еще на две группы. Короткие поездки, как правило, находятся в диапазоне до 1500 м, а более продолжительные по дистанции начинаются от 2000 м. Максимальная дистанция, которую проходили пользователи с бесплатной подпиской составляет 7211 м.\n",
    " ![%D0%B8%D0%B7%D0%BE%D0%B1%D1%80%D0%B0%D0%B6%D0%B5%D0%BD%D0%B8%D0%B5-3.png](attachment:%D0%B8%D0%B7%D0%BE%D0%B1%D1%80%D0%B0%D0%B6%D0%B5%D0%BD%D0%B8%D0%B5-3.png)\n",
    " На гистограмме отсутствует пик на проммежутке до 1 минуты. Очевидно, что история с короткими поездками свойственна только для пользователей, которые не имеют в своем арсенале подписку. Возможно, что пользователи с подпиской при аренде самоката не размышляют о том, стоит ли тратить деньги на поездку или нет, т.к. старт у них бесплатный. Тут могут быть и другие причины. Распределение среди пользователей с подпиской стремится к нормальному и собирается вокруг медианного значения 19 минут. Максимальная поездка составляет 41 минуту. а вот минимальная уже 4 минуты. Очевидно, что это поездки по типу \"доехать до магазина\" или же \"даехать от остановки до дома\".\n",
    " ![%D0%B8%D0%B7%D0%BE%D0%B1%D1%80%D0%B0%D0%B6%D0%B5%D0%BD%D0%B8%D0%B5-4.png](attachment:%D0%B8%D0%B7%D0%BE%D0%B1%D1%80%D0%B0%D0%B6%D0%B5%D0%BD%D0%B8%D0%B5-4.png)\n",
    " На гистограмме дистанции поездок мы также наблюдаем две категории поездок: дальние и короткие. При этом короткими по расстоянию поездками  мы будем считать поездки до 2000 м. Начиная от 2500 и далее - поездки на дальние дистанции. Также стоит отметить что порог поездок на дальние и короткие дистанции у пользователей с подпиской выше на 500 м. Среднее и медиана практически равны и составляют 3115 и 3148 соответственно. Самая длинная дистанция составляет 5699 м, а самая короткая 244 м."
   ]
  },
  {
   "cell_type": "markdown",
   "id": "7aea70b8",
   "metadata": {},
   "source": [
    "**Вывод**"
   ]
  },
  {
   "cell_type": "markdown",
   "id": "aa04f975",
   "metadata": {},
   "source": [
    "В ходе исследования продолжительности поездок и их дистанции для разных пользователей, в зависимости от наличия подписки были выявлены следующие закономерности:\n",
    " - Средняя продолжительность поездки у пользователей без подписки составляет 18 минут. Пользователи с подпиской в среднем тратят 19 минут на поездку;\n",
    " - Средняя дистанция поездки у пользователей без подписки составляет 3114 м. Пользователи с подпиской в среднем проезжают около 3148 м.;\n",
    " - Сильных различий между продолжительностью поездок и дистанцией у пользователей с подпиской и без не наблюдается;\n",
    " - У обеих групп наблюдается кластеризация на две группы: поездки на короткую и длинную дистанции. При этом в зависимости от наличия подписки проммежутки для двух типов дистанции различаются. Так, например:\n",
    "     * Для пользователей без подписки короткой дистанцией будет считаться поездка до 1500 м, а длинной дистанцией - поездка от 2000 м.\n",
    "     * Для пользователей с подпиской короткой дистанцией будет считаться поездка до 2000 м, а длинной дистанцией - поездка от 2500 м.\n",
    " - У пользователей без подписки наблюдается пик на значениях до 1 минуты. При этом дистанции таких поездок составляют чуть больше 5 км. Причины этого пика лучше уточнять у тех, кто выгружал данные."
   ]
  },
  {
   "cell_type": "markdown",
   "id": "42878048",
   "metadata": {},
   "source": [
    "После объединения данный и разбивки на два датафрейма мы создали еще один датафрейм с агрегированными данными о поездках каждого пользователя, в зависимости от месяца поездок и подсчитали выручку, которую принес каждый пользователь помесясно. Если какой-то из месяцев отсутствует в датафрейме, то это значит, что у пользователя просто напросто не было поездок за этот месяц. "
   ]
  },
  {
   "cell_type": "markdown",
   "id": "39462745",
   "metadata": {},
   "source": [
    "После агрегирования данных мы приступили к проверке статистических гипотез.\n",
    " 1. **Тратят ли пользователи с подпиской больше времени на поездки**.\n",
    "\n",
    "Чтобы оценить высказывание о том, что пользователи с подпиской тратят больше времени на поездки сформируем **Нулевую** гипотезу и  **Альтернативную** гипотезу:\n",
    " - **H0**: Среднее время, которое тратят на поездки пользователи с подпиской равно среднему времене, которое тратят на поездки пользователи без подписки;\n",
    " - **H1**: Среднее время, которое тратят пользователи с подпиской на поездки больше, чем у пользователей без подписки.\n",
    "В ходе исследования вероятность того, что мы получим такие же или более выраженные значения, при условии, что нулевая гипотеза верна оказалась настолько низка, что мы с уверенностью можем отвергать нулевую гипотезу в пользу альтернативной. \n",
    " \n",
    " 2. **Можно ли сказать, что расстояние, которое проезжают пользователи с подпиской за одну поездку, не превышает оптимальное с точки зрения износа для самоката расстояние 3130 м** \n",
    "Начнем с формулировки гипотез:\n",
    " - **H0**: Расстояние, которое проезжает пользователь с подпиской за одну поездку равно 3130 м.\n",
    " - **H1**: Расстояние, которое проезжает пользователь с подпиской за одну поездку больше 3130 м. \n",
    "В ходе исследования вероятность того, что мы получим такие же или более выраженные значения, при условии, что нулевая гипотеза верна оказалась равна 92%. У нас нет оснований отвергать нулевую гипотезу. При этом мы также не отклоняем гипотезу о том, что пользователи проезжают расстояние меньше заявленного, т.к. в разрезе нашего исследования рассматривалась правосторонняя гипотеза. Можно сказать, что расстояние, которое проезжают пользователи с подпиской за одну поездку не превышает оптимальное с точки зрения износа самоката\n",
    " \n",
    " 3. **Сравнение помесячной выручки пользователей**\n",
    "Гипотезы будут звучать так:\n",
    " - **H0**: Помесячные выручки пользователей с подпиской и без равны.\n",
    " - **H1**: Помесячная выручка у пользователей с подпиской выше.\n",
    "\n",
    "Тест показал нам, что есть основания отвергнуть нулевую гипотезу о равенстве помесячной выручки пользователей с подписками и без в пользу альтернативной. Пользователи с подпиской приносят больше выручки помесячно, нежели пользователи без подписки.\n",
    " 4. **Количество обращений в техподдержку**\n",
    "Перед нами стоит задача выяснить какой тест применять для исследования уровня обращений в техподдержку до и после обновления серверов. В данном случае мы имеем дело с двумя зависимыми выборками, т.к. мы проверяем среднии одной генеральной совокупности (пользователей сервиса) до и после обновления. Типичный пример для t-теста для зависимых (парных) выборок. Используем метот из библиотеки `scipy.stats.ttest_rel()`, где в качестве аргументов будут использованы выборки до и после изменений. Т.к. в качестве альтернативной гипотезы мы будем проверять высказывание о снижении количества обращений (среднее выборки после изменений меньше среднего выборки до изменений), в качестве аргумента `alternative` мы используем параметр `less` (площадь фигуры под левым хвостом). При передаче параметров в аргументы метода на первом месте будет стоять выборка до изменений, а на втором - выборка после изменений, т.к. порядок важен. "
   ]
  },
  {
   "attachments": {
    "%D0%B8%D0%B7%D0%BE%D0%B1%D1%80%D0%B0%D0%B6%D0%B5%D0%BD%D0%B8%D0%B5-2.png": {
     "image/png": "[encoded data removed]"
    },
    "%D0%B8%D0%B7%D0%BE%D0%B1%D1%80%D0%B0%D0%B6%D0%B5%D0%BD%D0%B8%D0%B5.png": {
     "image/png": "[encoded data removed]"
    }
   },
   "cell_type": "markdown",
   "id": "2e62b5d5",
   "metadata": {},
   "source": [
    "После проверки гипотез мы приступили к решению задач и построению распределений.\n",
    "В первой задаче нам необходимо выяснить количество отправленных промокодов, необходимое для того, чтобы как минимум 100 пользователей продлили подпискую. Эту задачу мы решили с помощью биномиального распределения, т.к. у каждой отправки промокода есть два исхода:\n",
    " - клиент продлил подписку;\n",
    " - клиент не продлил подписку;\n",
    "Мы получили следующий график распределения:\n",
    "![%D0%B8%D0%B7%D0%BE%D0%B1%D1%80%D0%B0%D0%B6%D0%B5%D0%BD%D0%B8%D0%B5.png](attachment:%D0%B8%D0%B7%D0%BE%D0%B1%D1%80%D0%B0%D0%B6%D0%B5%D0%BD%D0%B8%D0%B5.png)\n",
    "Исходя из этого распределения нам нужно отправить **1161 промокод**, чтобы с вероятностью в 10% продлились минимум 100 пользователей.\n",
    "___\n",
    "В следующей задаче нам необходимо было выявить вероятность того, что из 1 млн пользовалетей 399,5 тыс. откроют письмо. Тут мы аппроксимировали биномиальное распределение нормальным. и получили следующий график распределения:\n",
    "![%D0%B8%D0%B7%D0%BE%D0%B1%D1%80%D0%B0%D0%B6%D0%B5%D0%BD%D0%B8%D0%B5-2.png](attachment:%D0%B8%D0%B7%D0%BE%D0%B1%D1%80%D0%B0%D0%B6%D0%B5%D0%BD%D0%B8%D0%B5-2.png)\n",
    "Как оказалось, вероятность того, что письмо откроет 399,5 тыс. пользователей составила **15,37**%"
   ]
  },
  {
   "cell_type": "markdown",
   "id": "2825e6b8",
   "metadata": {},
   "source": [
    "Мы провели большое исследование, проверили несколько гипотез, которые в дальнейшем помогут бизнесу принять решение по развитию."
   ]
  }
 ],
 "metadata": {
  "ExecuteTimeLog": [
   {
    "duration": 745,
    "start_time": "2023-08-07T19:53:51.777Z"
   },
   {
    "duration": 1935,
    "start_time": "2023-08-07T19:53:59.986Z"
   },
   {
    "duration": 161,
    "start_time": "2023-08-07T19:57:56.144Z"
   },
   {
    "duration": 92,
    "start_time": "2023-08-07T19:58:07.654Z"
   },
   {
    "duration": 60,
    "start_time": "2023-08-07T19:58:20.889Z"
   },
   {
    "duration": 52,
    "start_time": "2023-08-07T19:58:24.073Z"
   },
   {
    "duration": 91,
    "start_time": "2023-08-07T19:58:39.622Z"
   },
   {
    "duration": 58,
    "start_time": "2023-08-07T19:59:04.226Z"
   },
   {
    "duration": 48,
    "start_time": "2023-08-07T19:59:09.996Z"
   },
   {
    "duration": 118,
    "start_time": "2023-08-07T19:59:35.524Z"
   },
   {
    "duration": 200,
    "start_time": "2023-08-07T19:59:45.364Z"
   },
   {
    "duration": 226,
    "start_time": "2023-08-07T19:59:52.252Z"
   },
   {
    "duration": 208,
    "start_time": "2023-08-07T19:59:56.126Z"
   },
   {
    "duration": 81,
    "start_time": "2023-08-07T20:00:00.382Z"
   },
   {
    "duration": 75,
    "start_time": "2023-08-07T20:01:41.497Z"
   },
   {
    "duration": 770,
    "start_time": "2023-08-07T20:02:04.933Z"
   },
   {
    "duration": 96,
    "start_time": "2023-08-07T20:02:11.676Z"
   },
   {
    "duration": 150,
    "start_time": "2023-08-07T20:05:05.828Z"
   },
   {
    "duration": 67,
    "start_time": "2023-08-07T20:05:13.050Z"
   },
   {
    "duration": 63,
    "start_time": "2023-08-07T20:05:18.307Z"
   },
   {
    "duration": 721,
    "start_time": "2023-08-07T20:07:26.733Z"
   },
   {
    "duration": 69,
    "start_time": "2023-08-07T20:07:39.854Z"
   },
   {
    "duration": 61,
    "start_time": "2023-08-07T20:07:53.887Z"
   },
   {
    "duration": 71,
    "start_time": "2023-08-07T20:08:22.837Z"
   },
   {
    "duration": 91,
    "start_time": "2023-08-07T20:08:30.454Z"
   },
   {
    "duration": 40,
    "start_time": "2023-08-07T20:08:34.313Z"
   },
   {
    "duration": 77,
    "start_time": "2023-08-07T20:08:43.794Z"
   },
   {
    "duration": 59,
    "start_time": "2023-08-07T20:08:55.130Z"
   },
   {
    "duration": 57,
    "start_time": "2023-08-07T20:11:12.988Z"
   },
   {
    "duration": 12,
    "start_time": "2023-08-07T20:22:26.732Z"
   },
   {
    "duration": 1959,
    "start_time": "2023-08-07T20:22:45.709Z"
   },
   {
    "duration": 9,
    "start_time": "2023-08-07T20:23:42.585Z"
   },
   {
    "duration": 21,
    "start_time": "2023-08-07T20:23:51.818Z"
   },
   {
    "duration": 12,
    "start_time": "2023-08-07T20:26:48.395Z"
   },
   {
    "duration": 26,
    "start_time": "2023-08-07T20:27:00.056Z"
   },
   {
    "duration": 19,
    "start_time": "2023-08-07T20:27:20.142Z"
   },
   {
    "duration": 11,
    "start_time": "2023-08-07T20:27:26.823Z"
   },
   {
    "duration": 38,
    "start_time": "2023-08-07T20:28:11.178Z"
   },
   {
    "duration": 22,
    "start_time": "2023-08-07T20:28:15.903Z"
   },
   {
    "duration": 8,
    "start_time": "2023-08-07T20:29:23.314Z"
   },
   {
    "duration": 15,
    "start_time": "2023-08-07T20:29:29.828Z"
   },
   {
    "duration": 13,
    "start_time": "2023-08-07T20:30:55.718Z"
   },
   {
    "duration": 18,
    "start_time": "2023-08-07T20:31:16.604Z"
   },
   {
    "duration": 14,
    "start_time": "2023-08-07T20:31:42.039Z"
   },
   {
    "duration": 23,
    "start_time": "2023-08-07T20:32:01.096Z"
   },
   {
    "duration": 20,
    "start_time": "2023-08-07T20:32:06.343Z"
   },
   {
    "duration": 6,
    "start_time": "2023-08-07T20:36:53.711Z"
   },
   {
    "duration": 12,
    "start_time": "2023-08-07T20:37:01.608Z"
   },
   {
    "duration": 7,
    "start_time": "2023-08-07T20:37:07.146Z"
   },
   {
    "duration": 8,
    "start_time": "2023-08-07T20:37:20.907Z"
   },
   {
    "duration": 41,
    "start_time": "2023-08-07T20:37:29.045Z"
   },
   {
    "duration": 10,
    "start_time": "2023-08-07T20:38:19.058Z"
   },
   {
    "duration": 25,
    "start_time": "2023-08-07T20:38:52.784Z"
   },
   {
    "duration": 30,
    "start_time": "2023-08-07T20:39:32.654Z"
   },
   {
    "duration": 15,
    "start_time": "2023-08-07T20:39:40.397Z"
   },
   {
    "duration": 117,
    "start_time": "2023-08-07T20:40:13.769Z"
   },
   {
    "duration": 12,
    "start_time": "2023-08-07T20:40:18.534Z"
   },
   {
    "duration": 16,
    "start_time": "2023-08-07T20:40:21.695Z"
   },
   {
    "duration": 8,
    "start_time": "2023-08-07T20:41:17.222Z"
   },
   {
    "duration": 18,
    "start_time": "2023-08-07T20:42:05.275Z"
   },
   {
    "duration": 18,
    "start_time": "2023-08-07T20:42:17.691Z"
   },
   {
    "duration": 63,
    "start_time": "2023-08-07T20:47:09.912Z"
   },
   {
    "duration": 9,
    "start_time": "2023-08-07T20:47:29.724Z"
   },
   {
    "duration": 10,
    "start_time": "2023-08-07T20:47:41.745Z"
   },
   {
    "duration": 15,
    "start_time": "2023-08-07T20:48:47.248Z"
   },
   {
    "duration": 10,
    "start_time": "2023-08-07T20:49:12.910Z"
   },
   {
    "duration": 17,
    "start_time": "2023-08-07T20:49:20.754Z"
   },
   {
    "duration": 9,
    "start_time": "2023-08-07T20:50:24.510Z"
   },
   {
    "duration": 21,
    "start_time": "2023-08-07T20:50:33.806Z"
   },
   {
    "duration": 15,
    "start_time": "2023-08-07T20:50:47.986Z"
   },
   {
    "duration": 34,
    "start_time": "2023-08-07T20:52:30.201Z"
   },
   {
    "duration": 26,
    "start_time": "2023-08-07T20:52:35.874Z"
   },
   {
    "duration": 17,
    "start_time": "2023-08-07T20:52:41.357Z"
   },
   {
    "duration": 24,
    "start_time": "2023-08-07T20:54:34.042Z"
   },
   {
    "duration": 8,
    "start_time": "2023-08-07T20:54:40.542Z"
   },
   {
    "duration": 18,
    "start_time": "2023-08-07T20:55:43.414Z"
   },
   {
    "duration": 18,
    "start_time": "2023-08-07T20:56:36.476Z"
   },
   {
    "duration": 1342,
    "start_time": "2023-08-11T16:55:25.850Z"
   },
   {
    "duration": 140,
    "start_time": "2023-08-11T16:55:27.194Z"
   },
   {
    "duration": 437,
    "start_time": "2023-08-11T16:55:27.336Z"
   },
   {
    "duration": 67,
    "start_time": "2023-08-11T16:55:27.775Z"
   },
   {
    "duration": 14,
    "start_time": "2023-08-11T16:55:27.843Z"
   },
   {
    "duration": 53,
    "start_time": "2023-08-11T16:55:27.859Z"
   },
   {
    "duration": 9,
    "start_time": "2023-08-11T16:55:27.914Z"
   },
   {
    "duration": 6,
    "start_time": "2023-08-11T16:55:27.925Z"
   },
   {
    "duration": 11,
    "start_time": "2023-08-11T16:55:27.933Z"
   },
   {
    "duration": 5,
    "start_time": "2023-08-11T16:55:27.946Z"
   },
   {
    "duration": 16,
    "start_time": "2023-08-11T16:55:27.953Z"
   },
   {
    "duration": 1277,
    "start_time": "2023-08-15T18:35:13.866Z"
   },
   {
    "duration": 117,
    "start_time": "2023-08-15T18:35:15.146Z"
   },
   {
    "duration": 172,
    "start_time": "2023-08-15T18:35:15.264Z"
   },
   {
    "duration": 65,
    "start_time": "2023-08-15T18:35:15.438Z"
   },
   {
    "duration": 13,
    "start_time": "2023-08-15T18:35:15.504Z"
   },
   {
    "duration": 12,
    "start_time": "2023-08-15T18:35:15.519Z"
   },
   {
    "duration": 8,
    "start_time": "2023-08-15T18:35:15.533Z"
   },
   {
    "duration": 5,
    "start_time": "2023-08-15T18:35:15.543Z"
   },
   {
    "duration": 9,
    "start_time": "2023-08-15T18:35:15.549Z"
   },
   {
    "duration": 6,
    "start_time": "2023-08-15T18:35:15.574Z"
   },
   {
    "duration": 29,
    "start_time": "2023-08-15T18:35:15.581Z"
   },
   {
    "duration": 99,
    "start_time": "2023-08-15T18:37:24.085Z"
   },
   {
    "duration": 8,
    "start_time": "2023-08-15T18:37:39.886Z"
   },
   {
    "duration": 149,
    "start_time": "2023-08-15T18:37:48.990Z"
   },
   {
    "duration": 77,
    "start_time": "2023-08-15T18:38:03.588Z"
   },
   {
    "duration": 13,
    "start_time": "2023-08-15T18:44:01.936Z"
   },
   {
    "duration": 188,
    "start_time": "2023-08-15T18:45:03.765Z"
   },
   {
    "duration": 8,
    "start_time": "2023-08-15T18:45:13.170Z"
   },
   {
    "duration": 1862,
    "start_time": "2023-08-15T18:45:18.593Z"
   },
   {
    "duration": 2067,
    "start_time": "2023-08-15T18:45:25.989Z"
   },
   {
    "duration": 9,
    "start_time": "2023-08-15T18:47:03.144Z"
   },
   {
    "duration": 141,
    "start_time": "2023-08-15T18:47:21.433Z"
   },
   {
    "duration": 125,
    "start_time": "2023-08-15T18:50:10.394Z"
   },
   {
    "duration": 131,
    "start_time": "2023-08-15T18:50:32.520Z"
   },
   {
    "duration": 150,
    "start_time": "2023-08-15T18:51:32.121Z"
   },
   {
    "duration": 126,
    "start_time": "2023-08-15T18:51:37.081Z"
   },
   {
    "duration": 132,
    "start_time": "2023-08-15T18:52:01.565Z"
   },
   {
    "duration": 138,
    "start_time": "2023-08-15T18:52:09.536Z"
   },
   {
    "duration": 132,
    "start_time": "2023-08-15T18:52:16.430Z"
   },
   {
    "duration": 136,
    "start_time": "2023-08-15T18:52:35.750Z"
   },
   {
    "duration": 398,
    "start_time": "2023-08-15T18:54:23.606Z"
   },
   {
    "duration": 173,
    "start_time": "2023-08-15T18:56:04.304Z"
   },
   {
    "duration": 139,
    "start_time": "2023-08-15T18:56:18.439Z"
   },
   {
    "duration": 136,
    "start_time": "2023-08-15T18:57:04.892Z"
   },
   {
    "duration": 149,
    "start_time": "2023-08-15T18:59:28.164Z"
   },
   {
    "duration": 177,
    "start_time": "2023-08-15T19:00:33.169Z"
   },
   {
    "duration": 143,
    "start_time": "2023-08-15T19:00:46.160Z"
   },
   {
    "duration": 136,
    "start_time": "2023-08-15T19:04:31.213Z"
   },
   {
    "duration": 99,
    "start_time": "2023-08-15T19:04:43.293Z"
   },
   {
    "duration": 9,
    "start_time": "2023-08-15T19:05:06.322Z"
   },
   {
    "duration": 194,
    "start_time": "2023-08-15T19:05:21.378Z"
   },
   {
    "duration": 104,
    "start_time": "2023-08-15T19:06:00.298Z"
   },
   {
    "duration": 9,
    "start_time": "2023-08-15T19:06:03.551Z"
   },
   {
    "duration": 10,
    "start_time": "2023-08-15T19:06:07.995Z"
   },
   {
    "duration": 1993,
    "start_time": "2023-08-15T19:06:14.600Z"
   },
   {
    "duration": 10,
    "start_time": "2023-08-15T19:06:24.752Z"
   },
   {
    "duration": 85,
    "start_time": "2023-08-15T19:06:35.618Z"
   },
   {
    "duration": 9,
    "start_time": "2023-08-15T19:06:52.569Z"
   },
   {
    "duration": 11,
    "start_time": "2023-08-15T19:07:08.635Z"
   },
   {
    "duration": 215,
    "start_time": "2023-08-15T19:07:13.969Z"
   },
   {
    "duration": 2068,
    "start_time": "2023-08-15T19:08:47.628Z"
   },
   {
    "duration": 2344,
    "start_time": "2023-08-15T19:08:55.966Z"
   },
   {
    "duration": 10,
    "start_time": "2023-08-15T19:09:15.095Z"
   },
   {
    "duration": 10,
    "start_time": "2023-08-15T19:09:28.430Z"
   },
   {
    "duration": 105,
    "start_time": "2023-08-15T19:09:36.598Z"
   },
   {
    "duration": 565,
    "start_time": "2023-08-15T19:10:20.291Z"
   },
   {
    "duration": 4,
    "start_time": "2023-08-15T19:12:49.393Z"
   },
   {
    "duration": 158,
    "start_time": "2023-08-15T19:14:48.999Z"
   },
   {
    "duration": 166,
    "start_time": "2023-08-15T19:15:07.316Z"
   },
   {
    "duration": 188,
    "start_time": "2023-08-15T19:15:35.641Z"
   },
   {
    "duration": 214,
    "start_time": "2023-08-15T19:15:57.962Z"
   },
   {
    "duration": 182,
    "start_time": "2023-08-15T19:16:10.729Z"
   },
   {
    "duration": 4,
    "start_time": "2023-08-15T19:17:07.314Z"
   },
   {
    "duration": 202,
    "start_time": "2023-08-15T19:17:23.040Z"
   },
   {
    "duration": 187,
    "start_time": "2023-08-15T19:17:29.826Z"
   },
   {
    "duration": 185,
    "start_time": "2023-08-15T19:17:33.948Z"
   },
   {
    "duration": 197,
    "start_time": "2023-08-15T19:17:41.396Z"
   },
   {
    "duration": 187,
    "start_time": "2023-08-15T19:17:48.356Z"
   },
   {
    "duration": 167,
    "start_time": "2023-08-15T19:17:51.598Z"
   },
   {
    "duration": 137,
    "start_time": "2023-08-15T19:18:12.849Z"
   },
   {
    "duration": 154,
    "start_time": "2023-08-15T19:18:20.405Z"
   },
   {
    "duration": 149,
    "start_time": "2023-08-15T19:18:26.458Z"
   },
   {
    "duration": 161,
    "start_time": "2023-08-15T19:18:44.166Z"
   },
   {
    "duration": 148,
    "start_time": "2023-08-15T19:18:50.753Z"
   },
   {
    "duration": 166,
    "start_time": "2023-08-15T19:19:00.852Z"
   },
   {
    "duration": 127,
    "start_time": "2023-08-15T19:19:04.313Z"
   },
   {
    "duration": 139,
    "start_time": "2023-08-15T19:19:17.812Z"
   },
   {
    "duration": 155,
    "start_time": "2023-08-15T19:23:11.065Z"
   },
   {
    "duration": 157,
    "start_time": "2023-08-15T19:23:29.064Z"
   },
   {
    "duration": 144,
    "start_time": "2023-08-15T19:25:09.997Z"
   },
   {
    "duration": 143,
    "start_time": "2023-08-15T19:25:58.614Z"
   },
   {
    "duration": 137,
    "start_time": "2023-08-15T19:26:26.486Z"
   },
   {
    "duration": 132,
    "start_time": "2023-08-15T19:26:39.407Z"
   },
   {
    "duration": 176,
    "start_time": "2023-08-15T19:26:48.961Z"
   },
   {
    "duration": 159,
    "start_time": "2023-08-15T19:27:09.573Z"
   },
   {
    "duration": 163,
    "start_time": "2023-08-15T19:29:32.450Z"
   },
   {
    "duration": 5,
    "start_time": "2023-08-15T19:30:25.130Z"
   },
   {
    "duration": 9,
    "start_time": "2023-08-15T19:31:07.038Z"
   },
   {
    "duration": 113,
    "start_time": "2023-08-15T19:31:23.331Z"
   },
   {
    "duration": 12,
    "start_time": "2023-08-15T19:31:27.366Z"
   },
   {
    "duration": 11,
    "start_time": "2023-08-15T19:31:42.504Z"
   },
   {
    "duration": 181,
    "start_time": "2023-08-15T19:31:59.098Z"
   },
   {
    "duration": 184,
    "start_time": "2023-08-15T19:32:34.842Z"
   },
   {
    "duration": 151,
    "start_time": "2023-08-15T19:32:43.919Z"
   },
   {
    "duration": 145,
    "start_time": "2023-08-15T19:32:53.622Z"
   },
   {
    "duration": 170,
    "start_time": "2023-08-15T19:33:12.030Z"
   },
   {
    "duration": 186,
    "start_time": "2023-08-15T19:33:45.038Z"
   },
   {
    "duration": 133,
    "start_time": "2023-08-15T19:33:58.560Z"
   },
   {
    "duration": 156,
    "start_time": "2023-08-15T19:34:04.498Z"
   },
   {
    "duration": 338,
    "start_time": "2023-08-15T19:34:59.828Z"
   },
   {
    "duration": 308,
    "start_time": "2023-08-15T19:35:12.630Z"
   },
   {
    "duration": 314,
    "start_time": "2023-08-15T19:35:19.657Z"
   },
   {
    "duration": 262,
    "start_time": "2023-08-15T19:35:49.500Z"
   },
   {
    "duration": 276,
    "start_time": "2023-08-15T19:36:01.254Z"
   },
   {
    "duration": 154,
    "start_time": "2023-08-15T19:36:14.878Z"
   },
   {
    "duration": 168,
    "start_time": "2023-08-15T19:37:01.598Z"
   },
   {
    "duration": 192,
    "start_time": "2023-08-15T19:37:24.371Z"
   },
   {
    "duration": 183,
    "start_time": "2023-08-15T19:37:39.627Z"
   },
   {
    "duration": 837,
    "start_time": "2023-08-15T19:38:04.627Z"
   },
   {
    "duration": 10,
    "start_time": "2023-08-15T19:38:41.504Z"
   },
   {
    "duration": 186,
    "start_time": "2023-08-15T19:40:32.732Z"
   },
   {
    "duration": 191,
    "start_time": "2023-08-15T19:41:06.189Z"
   },
   {
    "duration": 254,
    "start_time": "2023-08-15T19:43:20.350Z"
   },
   {
    "duration": 177,
    "start_time": "2023-08-15T19:43:27.417Z"
   },
   {
    "duration": 168,
    "start_time": "2023-08-15T19:46:59.437Z"
   },
   {
    "duration": 232,
    "start_time": "2023-08-15T19:47:11.993Z"
   },
   {
    "duration": 234,
    "start_time": "2023-08-15T19:47:36.166Z"
   },
   {
    "duration": 224,
    "start_time": "2023-08-15T19:47:44.402Z"
   },
   {
    "duration": 87577,
    "start_time": "2023-08-15T19:50:51.761Z"
   },
   {
    "duration": 6452,
    "start_time": "2023-08-15T19:53:28.512Z"
   },
   {
    "duration": 265,
    "start_time": "2023-08-15T19:53:44.560Z"
   },
   {
    "duration": 252,
    "start_time": "2023-08-15T19:54:16.719Z"
   },
   {
    "duration": 141,
    "start_time": "2023-08-15T20:06:20.199Z"
   },
   {
    "duration": 219,
    "start_time": "2023-08-15T20:06:31.461Z"
   },
   {
    "duration": 243,
    "start_time": "2023-08-15T20:07:43.959Z"
   },
   {
    "duration": 52,
    "start_time": "2023-08-16T09:26:02.288Z"
   },
   {
    "duration": 1394,
    "start_time": "2023-08-16T09:26:11.847Z"
   },
   {
    "duration": 102,
    "start_time": "2023-08-16T09:26:13.244Z"
   },
   {
    "duration": 173,
    "start_time": "2023-08-16T09:26:13.348Z"
   },
   {
    "duration": 69,
    "start_time": "2023-08-16T09:26:13.522Z"
   },
   {
    "duration": 77,
    "start_time": "2023-08-16T09:26:13.594Z"
   },
   {
    "duration": 14,
    "start_time": "2023-08-16T09:26:13.672Z"
   },
   {
    "duration": 9,
    "start_time": "2023-08-16T09:26:13.687Z"
   },
   {
    "duration": 8,
    "start_time": "2023-08-16T09:26:13.697Z"
   },
   {
    "duration": 17,
    "start_time": "2023-08-16T09:26:13.706Z"
   },
   {
    "duration": 6,
    "start_time": "2023-08-16T09:26:13.725Z"
   },
   {
    "duration": 8,
    "start_time": "2023-08-16T09:26:13.732Z"
   },
   {
    "duration": 6,
    "start_time": "2023-08-16T09:26:13.774Z"
   },
   {
    "duration": 216,
    "start_time": "2023-08-16T09:26:13.781Z"
   },
   {
    "duration": 160,
    "start_time": "2023-08-16T09:26:14.000Z"
   },
   {
    "duration": 178,
    "start_time": "2023-08-16T09:26:14.161Z"
   },
   {
    "duration": 229,
    "start_time": "2023-08-16T09:26:14.341Z"
   },
   {
    "duration": 221,
    "start_time": "2023-08-16T09:26:14.575Z"
   },
   {
    "duration": 10,
    "start_time": "2023-08-16T09:26:14.798Z"
   },
   {
    "duration": 24,
    "start_time": "2023-08-16T09:26:30.365Z"
   },
   {
    "duration": 81,
    "start_time": "2023-08-16T09:26:51.992Z"
   },
   {
    "duration": 20,
    "start_time": "2023-08-16T09:26:55.693Z"
   },
   {
    "duration": 20,
    "start_time": "2023-08-16T09:27:04.752Z"
   },
   {
    "duration": 31,
    "start_time": "2023-08-16T09:27:20.254Z"
   },
   {
    "duration": 23,
    "start_time": "2023-08-16T09:27:46.061Z"
   },
   {
    "duration": 34,
    "start_time": "2023-08-16T09:27:55.498Z"
   },
   {
    "duration": 48,
    "start_time": "2023-08-16T09:28:04.396Z"
   },
   {
    "duration": 11,
    "start_time": "2023-08-16T09:29:31.018Z"
   },
   {
    "duration": 48,
    "start_time": "2023-08-16T09:29:42.857Z"
   },
   {
    "duration": 109,
    "start_time": "2023-08-16T09:32:33.411Z"
   },
   {
    "duration": 8,
    "start_time": "2023-08-16T09:32:37.407Z"
   },
   {
    "duration": 18,
    "start_time": "2023-08-16T09:32:48.492Z"
   },
   {
    "duration": 10,
    "start_time": "2023-08-16T09:33:09.896Z"
   },
   {
    "duration": 20,
    "start_time": "2023-08-16T09:33:20.594Z"
   },
   {
    "duration": 222,
    "start_time": "2023-08-16T09:36:42.260Z"
   },
   {
    "duration": 162,
    "start_time": "2023-08-16T09:36:55.497Z"
   },
   {
    "duration": 235,
    "start_time": "2023-08-16T09:37:24.881Z"
   },
   {
    "duration": 190,
    "start_time": "2023-08-16T09:37:35.331Z"
   },
   {
    "duration": 230,
    "start_time": "2023-08-16T09:37:43.125Z"
   },
   {
    "duration": 135,
    "start_time": "2023-08-16T09:37:58.610Z"
   },
   {
    "duration": 142,
    "start_time": "2023-08-16T09:38:04.557Z"
   },
   {
    "duration": 218,
    "start_time": "2023-08-16T09:38:11.631Z"
   },
   {
    "duration": 205,
    "start_time": "2023-08-16T09:38:43.513Z"
   },
   {
    "duration": 202,
    "start_time": "2023-08-16T09:39:41.774Z"
   },
   {
    "duration": 329,
    "start_time": "2023-08-16T09:41:11.777Z"
   },
   {
    "duration": 213,
    "start_time": "2023-08-16T09:41:18.050Z"
   },
   {
    "duration": 221,
    "start_time": "2023-08-16T09:41:35.418Z"
   },
   {
    "duration": 235,
    "start_time": "2023-08-16T09:45:45.921Z"
   },
   {
    "duration": 179,
    "start_time": "2023-08-16T09:50:58.742Z"
   },
   {
    "duration": 337,
    "start_time": "2023-08-16T09:51:05.707Z"
   },
   {
    "duration": 248,
    "start_time": "2023-08-16T09:51:12.390Z"
   },
   {
    "duration": 446,
    "start_time": "2023-08-16T09:52:22.003Z"
   },
   {
    "duration": 287,
    "start_time": "2023-08-16T09:53:20.612Z"
   },
   {
    "duration": 396,
    "start_time": "2023-08-16T09:54:50.335Z"
   },
   {
    "duration": 533,
    "start_time": "2023-08-16T10:01:38.906Z"
   },
   {
    "duration": 997,
    "start_time": "2023-08-16T14:58:14.322Z"
   },
   {
    "duration": 42,
    "start_time": "2023-08-16T14:58:15.321Z"
   },
   {
    "duration": 37,
    "start_time": "2023-08-16T14:58:15.364Z"
   },
   {
    "duration": 23,
    "start_time": "2023-08-16T14:58:15.403Z"
   },
   {
    "duration": 13,
    "start_time": "2023-08-16T14:58:15.427Z"
   },
   {
    "duration": 15,
    "start_time": "2023-08-16T14:58:15.442Z"
   },
   {
    "duration": 16,
    "start_time": "2023-08-16T14:58:15.458Z"
   },
   {
    "duration": 6,
    "start_time": "2023-08-16T14:58:15.475Z"
   },
   {
    "duration": 13,
    "start_time": "2023-08-16T14:58:15.482Z"
   },
   {
    "duration": 14,
    "start_time": "2023-08-16T14:58:15.497Z"
   },
   {
    "duration": 23,
    "start_time": "2023-08-16T14:58:15.513Z"
   },
   {
    "duration": 22,
    "start_time": "2023-08-16T14:58:15.538Z"
   },
   {
    "duration": 199,
    "start_time": "2023-08-16T14:58:15.561Z"
   },
   {
    "duration": 126,
    "start_time": "2023-08-16T14:58:15.762Z"
   },
   {
    "duration": 143,
    "start_time": "2023-08-16T14:58:15.890Z"
   },
   {
    "duration": 197,
    "start_time": "2023-08-16T14:58:16.035Z"
   },
   {
    "duration": 185,
    "start_time": "2023-08-16T14:58:16.234Z"
   },
   {
    "duration": 26,
    "start_time": "2023-08-16T14:58:16.420Z"
   },
   {
    "duration": 44,
    "start_time": "2023-08-16T14:58:16.447Z"
   },
   {
    "duration": 12,
    "start_time": "2023-08-16T14:58:16.492Z"
   },
   {
    "duration": 14,
    "start_time": "2023-08-16T14:58:16.506Z"
   },
   {
    "duration": 243,
    "start_time": "2023-08-16T14:58:16.522Z"
   },
   {
    "duration": 424,
    "start_time": "2023-08-16T14:58:16.766Z"
   },
   {
    "duration": 252,
    "start_time": "2023-08-16T14:58:17.192Z"
   },
   {
    "duration": 345,
    "start_time": "2023-08-16T14:58:17.445Z"
   },
   {
    "duration": 1735,
    "start_time": "2023-08-16T19:30:48.740Z"
   },
   {
    "duration": 124,
    "start_time": "2023-08-16T19:30:50.477Z"
   },
   {
    "duration": 103,
    "start_time": "2023-08-16T19:30:50.603Z"
   },
   {
    "duration": 83,
    "start_time": "2023-08-16T19:30:50.710Z"
   },
   {
    "duration": 24,
    "start_time": "2023-08-16T19:30:50.796Z"
   },
   {
    "duration": 22,
    "start_time": "2023-08-16T19:30:50.826Z"
   },
   {
    "duration": 19,
    "start_time": "2023-08-16T19:30:50.852Z"
   },
   {
    "duration": 15,
    "start_time": "2023-08-16T19:30:50.873Z"
   },
   {
    "duration": 20,
    "start_time": "2023-08-16T19:30:50.890Z"
   },
   {
    "duration": 65,
    "start_time": "2023-08-16T19:30:50.913Z"
   },
   {
    "duration": 8,
    "start_time": "2023-08-16T19:30:50.982Z"
   },
   {
    "duration": 30,
    "start_time": "2023-08-16T19:30:50.993Z"
   },
   {
    "duration": 459,
    "start_time": "2023-08-16T19:30:51.026Z"
   },
   {
    "duration": 224,
    "start_time": "2023-08-16T19:30:51.489Z"
   },
   {
    "duration": 297,
    "start_time": "2023-08-16T19:30:51.717Z"
   },
   {
    "duration": 274,
    "start_time": "2023-08-16T19:30:52.021Z"
   },
   {
    "duration": 357,
    "start_time": "2023-08-16T19:30:52.300Z"
   },
   {
    "duration": 59,
    "start_time": "2023-08-16T19:30:52.661Z"
   },
   {
    "duration": 51,
    "start_time": "2023-08-16T19:30:52.733Z"
   },
   {
    "duration": 86,
    "start_time": "2023-08-16T19:30:52.786Z"
   },
   {
    "duration": 51,
    "start_time": "2023-08-16T19:30:52.876Z"
   },
   {
    "duration": 501,
    "start_time": "2023-08-16T19:30:52.930Z"
   },
   {
    "duration": 793,
    "start_time": "2023-08-16T19:30:53.438Z"
   },
   {
    "duration": 339,
    "start_time": "2023-08-16T19:30:54.238Z"
   },
   {
    "duration": 493,
    "start_time": "2023-08-16T19:30:54.579Z"
   },
   {
    "duration": 29,
    "start_time": "2023-08-16T19:39:08.165Z"
   },
   {
    "duration": 12,
    "start_time": "2023-08-16T19:42:39.114Z"
   },
   {
    "duration": 45,
    "start_time": "2023-08-16T19:42:47.036Z"
   },
   {
    "duration": 4,
    "start_time": "2023-08-16T19:45:50.427Z"
   },
   {
    "duration": 52,
    "start_time": "2023-08-16T19:45:50.433Z"
   },
   {
    "duration": 44,
    "start_time": "2023-08-16T19:45:50.487Z"
   },
   {
    "duration": 26,
    "start_time": "2023-08-16T19:45:50.534Z"
   },
   {
    "duration": 13,
    "start_time": "2023-08-16T19:45:50.562Z"
   },
   {
    "duration": 12,
    "start_time": "2023-08-16T19:45:50.577Z"
   },
   {
    "duration": 20,
    "start_time": "2023-08-16T19:45:50.591Z"
   },
   {
    "duration": 89,
    "start_time": "2023-08-16T19:45:50.615Z"
   },
   {
    "duration": 71,
    "start_time": "2023-08-16T19:45:50.706Z"
   },
   {
    "duration": 34,
    "start_time": "2023-08-16T19:45:50.780Z"
   },
   {
    "duration": 12,
    "start_time": "2023-08-16T19:45:50.816Z"
   },
   {
    "duration": 19,
    "start_time": "2023-08-16T19:45:50.830Z"
   },
   {
    "duration": 16,
    "start_time": "2023-08-16T19:45:50.852Z"
   },
   {
    "duration": 298,
    "start_time": "2023-08-16T19:45:50.870Z"
   },
   {
    "duration": 364,
    "start_time": "2023-08-16T19:45:51.174Z"
   },
   {
    "duration": 349,
    "start_time": "2023-08-16T19:45:51.539Z"
   },
   {
    "duration": 446,
    "start_time": "2023-08-16T19:45:51.890Z"
   },
   {
    "duration": 306,
    "start_time": "2023-08-16T19:45:52.339Z"
   },
   {
    "duration": 33,
    "start_time": "2023-08-16T19:45:52.647Z"
   },
   {
    "duration": 81,
    "start_time": "2023-08-16T19:45:52.683Z"
   },
   {
    "duration": 18,
    "start_time": "2023-08-16T19:45:52.766Z"
   },
   {
    "duration": 24,
    "start_time": "2023-08-16T19:45:52.786Z"
   },
   {
    "duration": 301,
    "start_time": "2023-08-16T19:45:52.813Z"
   },
   {
    "duration": 433,
    "start_time": "2023-08-16T19:45:53.117Z"
   },
   {
    "duration": 299,
    "start_time": "2023-08-16T19:45:53.552Z"
   },
   {
    "duration": 645,
    "start_time": "2023-08-16T19:45:53.853Z"
   },
   {
    "duration": 239,
    "start_time": "2023-08-16T19:46:56.027Z"
   },
   {
    "duration": 244,
    "start_time": "2023-08-16T19:47:17.631Z"
   },
   {
    "duration": 245,
    "start_time": "2023-08-16T19:47:21.934Z"
   },
   {
    "duration": 298,
    "start_time": "2023-08-16T19:47:26.573Z"
   },
   {
    "duration": 320,
    "start_time": "2023-08-16T19:47:31.056Z"
   },
   {
    "duration": 279,
    "start_time": "2023-08-16T19:47:36.357Z"
   },
   {
    "duration": 253,
    "start_time": "2023-08-16T19:47:40.004Z"
   },
   {
    "duration": 337,
    "start_time": "2023-08-16T19:49:32.330Z"
   },
   {
    "duration": 563,
    "start_time": "2023-08-16T19:49:36.789Z"
   },
   {
    "duration": 218,
    "start_time": "2023-08-16T19:49:40.257Z"
   },
   {
    "duration": 288,
    "start_time": "2023-08-16T19:49:45.364Z"
   },
   {
    "duration": 312,
    "start_time": "2023-08-16T19:50:20.923Z"
   },
   {
    "duration": 242,
    "start_time": "2023-08-16T19:50:24.551Z"
   },
   {
    "duration": 48,
    "start_time": "2023-08-16T20:08:51.109Z"
   },
   {
    "duration": 59,
    "start_time": "2023-08-16T20:09:29.984Z"
   },
   {
    "duration": 10,
    "start_time": "2023-08-16T20:10:53.589Z"
   },
   {
    "duration": 10,
    "start_time": "2023-08-16T20:11:03.710Z"
   },
   {
    "duration": 1633,
    "start_time": "2023-08-16T20:11:10.853Z"
   },
   {
    "duration": 89,
    "start_time": "2023-08-16T20:11:12.493Z"
   },
   {
    "duration": 65,
    "start_time": "2023-08-16T20:11:12.584Z"
   },
   {
    "duration": 48,
    "start_time": "2023-08-16T20:11:12.655Z"
   },
   {
    "duration": 27,
    "start_time": "2023-08-16T20:11:12.709Z"
   },
   {
    "duration": 58,
    "start_time": "2023-08-16T20:11:12.743Z"
   },
   {
    "duration": 28,
    "start_time": "2023-08-16T20:11:12.809Z"
   },
   {
    "duration": 64,
    "start_time": "2023-08-16T20:11:12.845Z"
   },
   {
    "duration": 23,
    "start_time": "2023-08-16T20:11:12.918Z"
   },
   {
    "duration": 36,
    "start_time": "2023-08-16T20:11:12.948Z"
   },
   {
    "duration": 19,
    "start_time": "2023-08-16T20:11:12.991Z"
   },
   {
    "duration": 42,
    "start_time": "2023-08-16T20:11:13.017Z"
   },
   {
    "duration": 23,
    "start_time": "2023-08-16T20:11:13.073Z"
   },
   {
    "duration": 380,
    "start_time": "2023-08-16T20:11:13.102Z"
   },
   {
    "duration": 241,
    "start_time": "2023-08-16T20:11:13.490Z"
   },
   {
    "duration": 329,
    "start_time": "2023-08-16T20:11:13.739Z"
   },
   {
    "duration": 461,
    "start_time": "2023-08-16T20:11:14.076Z"
   },
   {
    "duration": 419,
    "start_time": "2023-08-16T20:11:14.544Z"
   },
   {
    "duration": 91,
    "start_time": "2023-08-16T20:11:14.970Z"
   },
   {
    "duration": 156,
    "start_time": "2023-08-16T20:11:15.076Z"
   },
   {
    "duration": 111,
    "start_time": "2023-08-16T20:11:15.239Z"
   },
   {
    "duration": 92,
    "start_time": "2023-08-16T20:11:15.365Z"
   },
   {
    "duration": 447,
    "start_time": "2023-08-16T20:11:15.477Z"
   },
   {
    "duration": 101,
    "start_time": "2023-08-16T20:11:15.932Z"
   },
   {
    "duration": 705,
    "start_time": "2023-08-16T20:11:16.040Z"
   },
   {
    "duration": 512,
    "start_time": "2023-08-16T20:11:16.752Z"
   },
   {
    "duration": 727,
    "start_time": "2023-08-16T20:11:17.271Z"
   },
   {
    "duration": 358,
    "start_time": "2023-08-16T20:11:37.909Z"
   },
   {
    "duration": 29,
    "start_time": "2023-08-16T20:13:14.742Z"
   },
   {
    "duration": 51,
    "start_time": "2023-08-16T20:13:43.190Z"
   },
   {
    "duration": 61,
    "start_time": "2023-08-16T20:14:02.970Z"
   },
   {
    "duration": 44,
    "start_time": "2023-08-16T20:17:08.908Z"
   },
   {
    "duration": 95,
    "start_time": "2023-08-16T20:17:18.712Z"
   },
   {
    "duration": 53,
    "start_time": "2023-08-16T20:17:36.589Z"
   },
   {
    "duration": 39,
    "start_time": "2023-08-16T20:17:50.754Z"
   },
   {
    "duration": 218,
    "start_time": "2023-08-16T20:18:05.556Z"
   },
   {
    "duration": 59,
    "start_time": "2023-08-16T20:18:12.393Z"
   },
   {
    "duration": 59,
    "start_time": "2023-08-16T20:18:14.784Z"
   },
   {
    "duration": 53,
    "start_time": "2023-08-16T20:20:11.683Z"
   },
   {
    "duration": 57,
    "start_time": "2023-08-16T20:22:22.213Z"
   },
   {
    "duration": 11,
    "start_time": "2023-08-16T20:26:37.837Z"
   },
   {
    "duration": 1656,
    "start_time": "2023-08-16T20:26:44.645Z"
   },
   {
    "duration": 78,
    "start_time": "2023-08-16T20:26:46.305Z"
   },
   {
    "duration": 126,
    "start_time": "2023-08-16T20:26:46.386Z"
   },
   {
    "duration": 51,
    "start_time": "2023-08-16T20:26:46.517Z"
   },
   {
    "duration": 22,
    "start_time": "2023-08-16T20:26:46.574Z"
   },
   {
    "duration": 136,
    "start_time": "2023-08-16T20:26:46.599Z"
   },
   {
    "duration": 41,
    "start_time": "2023-08-16T20:26:46.741Z"
   },
   {
    "duration": 87,
    "start_time": "2023-08-16T20:26:46.787Z"
   },
   {
    "duration": 92,
    "start_time": "2023-08-16T20:26:46.877Z"
   },
   {
    "duration": 66,
    "start_time": "2023-08-16T20:26:46.973Z"
   },
   {
    "duration": 33,
    "start_time": "2023-08-16T20:26:47.044Z"
   },
   {
    "duration": 84,
    "start_time": "2023-08-16T20:26:47.079Z"
   },
   {
    "duration": 27,
    "start_time": "2023-08-16T20:26:47.166Z"
   },
   {
    "duration": 383,
    "start_time": "2023-08-16T20:26:47.195Z"
   },
   {
    "duration": 241,
    "start_time": "2023-08-16T20:26:47.580Z"
   },
   {
    "duration": 263,
    "start_time": "2023-08-16T20:26:47.824Z"
   },
   {
    "duration": 356,
    "start_time": "2023-08-16T20:26:48.090Z"
   },
   {
    "duration": 373,
    "start_time": "2023-08-16T20:26:48.448Z"
   },
   {
    "duration": 60,
    "start_time": "2023-08-16T20:26:48.827Z"
   },
   {
    "duration": 151,
    "start_time": "2023-08-16T20:26:48.894Z"
   },
   {
    "duration": 52,
    "start_time": "2023-08-16T20:26:49.052Z"
   },
   {
    "duration": 52,
    "start_time": "2023-08-16T20:26:49.107Z"
   },
   {
    "duration": 356,
    "start_time": "2023-08-16T20:26:49.165Z"
   },
   {
    "duration": 59,
    "start_time": "2023-08-16T20:26:49.530Z"
   },
   {
    "duration": 1015,
    "start_time": "2023-08-16T20:26:49.602Z"
   },
   {
    "duration": 298,
    "start_time": "2023-08-16T20:26:50.620Z"
   },
   {
    "duration": 548,
    "start_time": "2023-08-16T20:26:50.922Z"
   },
   {
    "duration": 347,
    "start_time": "2023-08-16T20:28:03.355Z"
   },
   {
    "duration": 51,
    "start_time": "2023-08-16T20:28:58.267Z"
   },
   {
    "duration": 41,
    "start_time": "2023-08-16T20:33:22.366Z"
   },
   {
    "duration": 38,
    "start_time": "2023-08-16T20:34:34.065Z"
   },
   {
    "duration": 118,
    "start_time": "2023-08-16T20:35:04.322Z"
   },
   {
    "duration": 90,
    "start_time": "2023-08-16T20:36:11.267Z"
   },
   {
    "duration": 773,
    "start_time": "2023-08-16T20:36:35.634Z"
   },
   {
    "duration": 180,
    "start_time": "2023-08-16T20:37:05.685Z"
   },
   {
    "duration": 70,
    "start_time": "2023-08-16T20:37:20.976Z"
   },
   {
    "duration": 9,
    "start_time": "2023-08-16T20:41:35.243Z"
   },
   {
    "duration": 12,
    "start_time": "2023-08-16T20:43:49.247Z"
   },
   {
    "duration": 9,
    "start_time": "2023-08-16T20:43:55.603Z"
   },
   {
    "duration": 15,
    "start_time": "2023-08-16T20:44:06.270Z"
   },
   {
    "duration": 52,
    "start_time": "2023-08-16T20:44:12.730Z"
   },
   {
    "duration": 1361,
    "start_time": "2023-08-16T20:44:47.438Z"
   },
   {
    "duration": 1619,
    "start_time": "2023-08-16T20:44:57.031Z"
   },
   {
    "duration": 24,
    "start_time": "2023-08-16T20:45:09.251Z"
   },
   {
    "duration": 53,
    "start_time": "2023-08-16T20:45:19.413Z"
   },
   {
    "duration": 34,
    "start_time": "2023-08-16T20:45:27.471Z"
   },
   {
    "duration": 25,
    "start_time": "2023-08-16T20:45:32.089Z"
   },
   {
    "duration": 7,
    "start_time": "2023-08-16T20:47:12.695Z"
   },
   {
    "duration": 18,
    "start_time": "2023-08-16T20:47:24.359Z"
   },
   {
    "duration": 30,
    "start_time": "2023-08-16T20:47:46.591Z"
   },
   {
    "duration": 17,
    "start_time": "2023-08-16T20:48:12.636Z"
   },
   {
    "duration": 18,
    "start_time": "2023-08-16T20:48:24.389Z"
   },
   {
    "duration": 43,
    "start_time": "2023-08-16T20:48:34.222Z"
   },
   {
    "duration": 37,
    "start_time": "2023-08-16T20:48:40.670Z"
   },
   {
    "duration": 22,
    "start_time": "2023-08-16T20:52:02.398Z"
   },
   {
    "duration": 21,
    "start_time": "2023-08-16T20:52:23.837Z"
   },
   {
    "duration": 32,
    "start_time": "2023-08-16T20:53:25.938Z"
   },
   {
    "duration": 24,
    "start_time": "2023-08-16T20:53:31.881Z"
   },
   {
    "duration": 22,
    "start_time": "2023-08-16T20:54:03.559Z"
   },
   {
    "duration": 24,
    "start_time": "2023-08-16T20:54:08.278Z"
   },
   {
    "duration": 17,
    "start_time": "2023-08-16T20:54:18.378Z"
   },
   {
    "duration": 18,
    "start_time": "2023-08-16T20:54:22.981Z"
   },
   {
    "duration": 1397,
    "start_time": "2023-08-17T14:51:35.859Z"
   },
   {
    "duration": 121,
    "start_time": "2023-08-17T14:51:37.260Z"
   },
   {
    "duration": 175,
    "start_time": "2023-08-17T14:51:37.382Z"
   },
   {
    "duration": 68,
    "start_time": "2023-08-17T14:51:37.559Z"
   },
   {
    "duration": 14,
    "start_time": "2023-08-17T14:51:37.628Z"
   },
   {
    "duration": 15,
    "start_time": "2023-08-17T14:51:37.643Z"
   },
   {
    "duration": 5,
    "start_time": "2023-08-17T14:51:37.660Z"
   },
   {
    "duration": 19,
    "start_time": "2023-08-17T14:51:37.667Z"
   },
   {
    "duration": 5,
    "start_time": "2023-08-17T14:51:37.688Z"
   },
   {
    "duration": 8,
    "start_time": "2023-08-17T14:51:37.696Z"
   },
   {
    "duration": 6,
    "start_time": "2023-08-17T14:51:37.706Z"
   },
   {
    "duration": 21,
    "start_time": "2023-08-17T14:51:37.714Z"
   },
   {
    "duration": 7,
    "start_time": "2023-08-17T14:51:37.757Z"
   },
   {
    "duration": 205,
    "start_time": "2023-08-17T14:51:37.766Z"
   },
   {
    "duration": 156,
    "start_time": "2023-08-17T14:51:37.974Z"
   },
   {
    "duration": 193,
    "start_time": "2023-08-17T14:51:38.132Z"
   },
   {
    "duration": 264,
    "start_time": "2023-08-17T14:51:38.327Z"
   },
   {
    "duration": 206,
    "start_time": "2023-08-17T14:51:38.593Z"
   },
   {
    "duration": 40,
    "start_time": "2023-08-17T14:51:38.800Z"
   },
   {
    "duration": 47,
    "start_time": "2023-08-17T14:51:38.861Z"
   },
   {
    "duration": 20,
    "start_time": "2023-08-17T14:51:38.911Z"
   },
   {
    "duration": 37,
    "start_time": "2023-08-17T14:51:38.933Z"
   },
   {
    "duration": 248,
    "start_time": "2023-08-17T14:51:38.973Z"
   },
   {
    "duration": 54,
    "start_time": "2023-08-17T14:51:39.223Z"
   },
   {
    "duration": 391,
    "start_time": "2023-08-17T14:51:39.279Z"
   },
   {
    "duration": 308,
    "start_time": "2023-08-17T14:51:39.672Z"
   },
   {
    "duration": 390,
    "start_time": "2023-08-17T14:51:39.982Z"
   },
   {
    "duration": 19,
    "start_time": "2023-08-17T14:51:40.374Z"
   },
   {
    "duration": 18,
    "start_time": "2023-08-17T14:52:51.189Z"
   },
   {
    "duration": 1540,
    "start_time": "2023-08-17T14:53:14.341Z"
   },
   {
    "duration": 16,
    "start_time": "2023-08-17T14:53:41.023Z"
   },
   {
    "duration": 17,
    "start_time": "2023-08-17T14:56:47.572Z"
   },
   {
    "duration": 1393,
    "start_time": "2023-08-17T14:57:04.621Z"
   },
   {
    "duration": 1457,
    "start_time": "2023-08-17T14:57:16.878Z"
   },
   {
    "duration": 1428,
    "start_time": "2023-08-17T14:57:29.997Z"
   },
   {
    "duration": 1389,
    "start_time": "2023-08-17T14:57:38.200Z"
   },
   {
    "duration": 17,
    "start_time": "2023-08-17T14:58:05.442Z"
   },
   {
    "duration": 1361,
    "start_time": "2023-08-17T18:01:06.025Z"
   },
   {
    "duration": 88,
    "start_time": "2023-08-17T18:01:07.389Z"
   },
   {
    "duration": 80,
    "start_time": "2023-08-17T18:01:07.478Z"
   },
   {
    "duration": 61,
    "start_time": "2023-08-17T18:01:07.560Z"
   },
   {
    "duration": 14,
    "start_time": "2023-08-17T18:01:07.622Z"
   },
   {
    "duration": 24,
    "start_time": "2023-08-17T18:01:07.637Z"
   },
   {
    "duration": 5,
    "start_time": "2023-08-17T18:01:07.663Z"
   },
   {
    "duration": 22,
    "start_time": "2023-08-17T18:01:07.670Z"
   },
   {
    "duration": 26,
    "start_time": "2023-08-17T18:01:07.694Z"
   },
   {
    "duration": 15,
    "start_time": "2023-08-17T18:01:07.722Z"
   },
   {
    "duration": 15,
    "start_time": "2023-08-17T18:01:07.738Z"
   },
   {
    "duration": 5,
    "start_time": "2023-08-17T18:01:07.754Z"
   },
   {
    "duration": 10,
    "start_time": "2023-08-17T18:01:07.760Z"
   },
   {
    "duration": 165,
    "start_time": "2023-08-17T18:01:07.772Z"
   },
   {
    "duration": 134,
    "start_time": "2023-08-17T18:01:07.939Z"
   },
   {
    "duration": 156,
    "start_time": "2023-08-17T18:01:08.074Z"
   },
   {
    "duration": 209,
    "start_time": "2023-08-17T18:01:08.233Z"
   },
   {
    "duration": 185,
    "start_time": "2023-08-17T18:01:08.443Z"
   },
   {
    "duration": 28,
    "start_time": "2023-08-17T18:01:08.634Z"
   },
   {
    "duration": 29,
    "start_time": "2023-08-17T18:01:08.663Z"
   },
   {
    "duration": 13,
    "start_time": "2023-08-17T18:01:08.694Z"
   },
   {
    "duration": 35,
    "start_time": "2023-08-17T18:01:08.709Z"
   },
   {
    "duration": 189,
    "start_time": "2023-08-17T18:01:08.745Z"
   },
   {
    "duration": 27,
    "start_time": "2023-08-17T18:01:08.936Z"
   },
   {
    "duration": 358,
    "start_time": "2023-08-17T18:01:08.965Z"
   },
   {
    "duration": 278,
    "start_time": "2023-08-17T18:01:09.325Z"
   },
   {
    "duration": 367,
    "start_time": "2023-08-17T18:01:09.605Z"
   },
   {
    "duration": 12,
    "start_time": "2023-08-17T18:01:09.975Z"
   },
   {
    "duration": 29,
    "start_time": "2023-08-17T18:01:54.518Z"
   },
   {
    "duration": 2613,
    "start_time": "2023-08-17T18:02:24.756Z"
   },
   {
    "duration": 21,
    "start_time": "2023-08-17T18:02:35.750Z"
   },
   {
    "duration": 54,
    "start_time": "2023-08-17T18:03:57.603Z"
   },
   {
    "duration": 13,
    "start_time": "2023-08-17T18:04:08.475Z"
   },
   {
    "duration": 15,
    "start_time": "2023-08-17T18:04:42.598Z"
   },
   {
    "duration": 20,
    "start_time": "2023-08-17T18:05:06.710Z"
   },
   {
    "duration": 21,
    "start_time": "2023-08-17T18:05:38.455Z"
   },
   {
    "duration": 961,
    "start_time": "2023-08-17T18:05:55.912Z"
   },
   {
    "duration": 693,
    "start_time": "2023-08-17T18:06:02.250Z"
   },
   {
    "duration": 19,
    "start_time": "2023-08-17T18:06:09.688Z"
   },
   {
    "duration": 21,
    "start_time": "2023-08-17T18:06:20.409Z"
   },
   {
    "duration": 14,
    "start_time": "2023-08-17T18:07:54.327Z"
   },
   {
    "duration": 21,
    "start_time": "2023-08-17T18:08:04.767Z"
   },
   {
    "duration": 21,
    "start_time": "2023-08-17T18:08:22.452Z"
   },
   {
    "duration": 23,
    "start_time": "2023-08-17T18:08:25.722Z"
   },
   {
    "duration": 19,
    "start_time": "2023-08-17T18:08:29.409Z"
   },
   {
    "duration": 56,
    "start_time": "2023-08-17T18:08:37.953Z"
   },
   {
    "duration": 58,
    "start_time": "2023-08-17T18:08:40.691Z"
   },
   {
    "duration": 29,
    "start_time": "2023-08-17T18:08:42.662Z"
   },
   {
    "duration": 20,
    "start_time": "2023-08-17T18:09:55.522Z"
   },
   {
    "duration": 20,
    "start_time": "2023-08-17T18:10:08.345Z"
   },
   {
    "duration": 28,
    "start_time": "2023-08-17T18:11:18.810Z"
   },
   {
    "duration": 30,
    "start_time": "2023-08-17T18:13:14.279Z"
   },
   {
    "duration": 25,
    "start_time": "2023-08-17T18:13:38.803Z"
   },
   {
    "duration": 24,
    "start_time": "2023-08-17T18:13:45.841Z"
   },
   {
    "duration": 23,
    "start_time": "2023-08-17T18:14:14.323Z"
   },
   {
    "duration": 32,
    "start_time": "2023-08-17T18:14:24.610Z"
   },
   {
    "duration": 75,
    "start_time": "2023-08-17T18:14:42.869Z"
   },
   {
    "duration": 22,
    "start_time": "2023-08-17T18:14:52.115Z"
   },
   {
    "duration": 34,
    "start_time": "2023-08-17T18:15:00.295Z"
   },
   {
    "duration": 258,
    "start_time": "2023-08-17T18:15:10.161Z"
   },
   {
    "duration": 24,
    "start_time": "2023-08-17T18:15:16.322Z"
   },
   {
    "duration": 261,
    "start_time": "2023-08-17T18:15:35.798Z"
   },
   {
    "duration": 15,
    "start_time": "2023-08-17T18:15:46.222Z"
   },
   {
    "duration": 272,
    "start_time": "2023-08-17T18:16:13.899Z"
   },
   {
    "duration": 10,
    "start_time": "2023-08-17T18:16:21.532Z"
   },
   {
    "duration": 22,
    "start_time": "2023-08-17T18:16:51.662Z"
   },
   {
    "duration": 16,
    "start_time": "2023-08-17T18:17:01.742Z"
   },
   {
    "duration": 15,
    "start_time": "2023-08-17T18:17:10.272Z"
   },
   {
    "duration": 13,
    "start_time": "2023-08-17T18:17:13.851Z"
   },
   {
    "duration": 14,
    "start_time": "2023-08-17T18:20:11.958Z"
   },
   {
    "duration": 26,
    "start_time": "2023-08-17T18:20:19.713Z"
   },
   {
    "duration": 20,
    "start_time": "2023-08-17T18:20:36.552Z"
   },
   {
    "duration": 24,
    "start_time": "2023-08-17T18:20:42.701Z"
   },
   {
    "duration": 13,
    "start_time": "2023-08-17T18:21:25.156Z"
   },
   {
    "duration": 13,
    "start_time": "2023-08-17T18:21:35.211Z"
   },
   {
    "duration": 14,
    "start_time": "2023-08-17T18:21:46.095Z"
   },
   {
    "duration": 18,
    "start_time": "2023-08-17T18:23:18.823Z"
   },
   {
    "duration": 29,
    "start_time": "2023-08-17T18:23:28.670Z"
   },
   {
    "duration": 5,
    "start_time": "2023-08-17T18:29:02.155Z"
   },
   {
    "duration": 16,
    "start_time": "2023-08-17T18:29:19.463Z"
   },
   {
    "duration": 51,
    "start_time": "2023-08-18T22:17:26.991Z"
   },
   {
    "duration": 1409,
    "start_time": "2023-08-18T22:17:36.482Z"
   },
   {
    "duration": 153,
    "start_time": "2023-08-18T22:17:37.903Z"
   },
   {
    "duration": 216,
    "start_time": "2023-08-18T22:17:38.058Z"
   },
   {
    "duration": 74,
    "start_time": "2023-08-18T22:17:38.280Z"
   },
   {
    "duration": 30,
    "start_time": "2023-08-18T22:17:38.357Z"
   },
   {
    "duration": 19,
    "start_time": "2023-08-18T22:17:38.389Z"
   },
   {
    "duration": 4,
    "start_time": "2023-08-18T22:17:38.410Z"
   },
   {
    "duration": 12,
    "start_time": "2023-08-18T22:17:38.415Z"
   },
   {
    "duration": 7,
    "start_time": "2023-08-18T22:17:38.429Z"
   },
   {
    "duration": 37,
    "start_time": "2023-08-18T22:17:38.437Z"
   },
   {
    "duration": 16,
    "start_time": "2023-08-18T22:17:38.477Z"
   },
   {
    "duration": 12,
    "start_time": "2023-08-18T22:17:38.497Z"
   },
   {
    "duration": 6,
    "start_time": "2023-08-18T22:17:38.511Z"
   },
   {
    "duration": 206,
    "start_time": "2023-08-18T22:17:38.520Z"
   },
   {
    "duration": 182,
    "start_time": "2023-08-18T22:17:38.728Z"
   },
   {
    "duration": 198,
    "start_time": "2023-08-18T22:17:38.911Z"
   },
   {
    "duration": 229,
    "start_time": "2023-08-18T22:17:39.111Z"
   },
   {
    "duration": 232,
    "start_time": "2023-08-18T22:17:39.342Z"
   },
   {
    "duration": 42,
    "start_time": "2023-08-18T22:17:39.576Z"
   },
   {
    "duration": 51,
    "start_time": "2023-08-18T22:17:39.619Z"
   },
   {
    "duration": 28,
    "start_time": "2023-08-18T22:17:39.671Z"
   },
   {
    "duration": 15,
    "start_time": "2023-08-18T22:17:39.707Z"
   },
   {
    "duration": 220,
    "start_time": "2023-08-18T22:17:39.724Z"
   },
   {
    "duration": 49,
    "start_time": "2023-08-18T22:17:39.946Z"
   },
   {
    "duration": 448,
    "start_time": "2023-08-18T22:17:40.000Z"
   },
   {
    "duration": 355,
    "start_time": "2023-08-18T22:17:40.450Z"
   },
   {
    "duration": 466,
    "start_time": "2023-08-18T22:17:40.812Z"
   },
   {
    "duration": 36,
    "start_time": "2023-08-18T22:17:41.280Z"
   },
   {
    "duration": 13,
    "start_time": "2023-08-18T22:17:41.318Z"
   },
   {
    "duration": 6,
    "start_time": "2023-08-18T22:17:41.335Z"
   },
   {
    "duration": 6,
    "start_time": "2023-08-18T22:17:53.043Z"
   },
   {
    "duration": 7,
    "start_time": "2023-08-18T22:18:06.395Z"
   },
   {
    "duration": 6,
    "start_time": "2023-08-18T22:18:13.400Z"
   },
   {
    "duration": 9,
    "start_time": "2023-08-18T22:18:20.590Z"
   },
   {
    "duration": 9,
    "start_time": "2023-08-18T22:18:25.089Z"
   },
   {
    "duration": 20,
    "start_time": "2023-08-18T22:18:47.276Z"
   },
   {
    "duration": 20,
    "start_time": "2023-08-18T22:18:54.352Z"
   },
   {
    "duration": 119,
    "start_time": "2023-08-18T22:20:40.909Z"
   },
   {
    "duration": 14,
    "start_time": "2023-08-18T22:21:02.397Z"
   },
   {
    "duration": 7,
    "start_time": "2023-08-18T22:22:24.595Z"
   },
   {
    "duration": 5,
    "start_time": "2023-08-18T22:23:16.491Z"
   },
   {
    "duration": 15,
    "start_time": "2023-08-18T22:23:29.377Z"
   },
   {
    "duration": 6,
    "start_time": "2023-08-18T22:26:28.981Z"
   },
   {
    "duration": 12,
    "start_time": "2023-08-18T22:26:41.796Z"
   },
   {
    "duration": 5,
    "start_time": "2023-08-18T22:26:47.710Z"
   },
   {
    "duration": 27,
    "start_time": "2023-08-18T22:27:13.388Z"
   },
   {
    "duration": 21,
    "start_time": "2023-08-18T22:27:19.694Z"
   },
   {
    "duration": 8,
    "start_time": "2023-08-18T22:27:32.811Z"
   },
   {
    "duration": 20,
    "start_time": "2023-08-18T22:28:51.751Z"
   },
   {
    "duration": 7,
    "start_time": "2023-08-18T22:29:06.253Z"
   },
   {
    "duration": 8,
    "start_time": "2023-08-18T22:29:55.119Z"
   },
   {
    "duration": 106,
    "start_time": "2023-08-18T22:33:06.795Z"
   },
   {
    "duration": 7,
    "start_time": "2023-08-18T22:33:10.719Z"
   },
   {
    "duration": 7,
    "start_time": "2023-08-18T22:33:24.817Z"
   },
   {
    "duration": 8,
    "start_time": "2023-08-18T22:33:29.407Z"
   },
   {
    "duration": 7,
    "start_time": "2023-08-18T22:33:47.046Z"
   },
   {
    "duration": 8,
    "start_time": "2023-08-18T22:34:03.023Z"
   },
   {
    "duration": 13,
    "start_time": "2023-08-18T23:11:29.178Z"
   },
   {
    "duration": 6,
    "start_time": "2023-08-18T23:11:40.684Z"
   },
   {
    "duration": 7,
    "start_time": "2023-08-18T23:12:05.635Z"
   },
   {
    "duration": 10,
    "start_time": "2023-08-18T23:12:22.948Z"
   },
   {
    "duration": 12,
    "start_time": "2023-08-18T23:12:27.004Z"
   },
   {
    "duration": 14,
    "start_time": "2023-08-18T23:12:30.254Z"
   },
   {
    "duration": 9,
    "start_time": "2023-08-18T23:12:42.910Z"
   },
   {
    "duration": 6,
    "start_time": "2023-08-18T23:15:12.121Z"
   },
   {
    "duration": 6,
    "start_time": "2023-08-18T23:15:30.633Z"
   },
   {
    "duration": 5,
    "start_time": "2023-08-18T23:15:47.405Z"
   },
   {
    "duration": 12,
    "start_time": "2023-08-18T23:19:20.085Z"
   },
   {
    "duration": 7,
    "start_time": "2023-08-18T23:19:42.724Z"
   },
   {
    "duration": 5,
    "start_time": "2023-08-18T23:31:51.002Z"
   },
   {
    "duration": 7,
    "start_time": "2023-08-18T23:37:12.887Z"
   },
   {
    "duration": 9,
    "start_time": "2023-08-18T23:46:44.316Z"
   },
   {
    "duration": 9,
    "start_time": "2023-08-18T23:46:53.637Z"
   },
   {
    "duration": 10,
    "start_time": "2023-08-18T23:47:06.798Z"
   },
   {
    "duration": 8,
    "start_time": "2023-08-18T23:47:36.797Z"
   },
   {
    "duration": 9,
    "start_time": "2023-08-18T23:47:50.095Z"
   },
   {
    "duration": 22,
    "start_time": "2023-08-18T23:48:44.759Z"
   },
   {
    "duration": 20,
    "start_time": "2023-08-18T23:48:51.456Z"
   },
   {
    "duration": 6,
    "start_time": "2023-08-18T23:55:01.596Z"
   },
   {
    "duration": 9,
    "start_time": "2023-08-18T23:56:48.640Z"
   },
   {
    "duration": 9,
    "start_time": "2023-08-18T23:56:53.391Z"
   },
   {
    "duration": 1418,
    "start_time": "2023-08-20T12:52:25.441Z"
   },
   {
    "duration": 135,
    "start_time": "2023-08-20T12:52:26.869Z"
   },
   {
    "duration": 493,
    "start_time": "2023-08-20T12:52:27.006Z"
   },
   {
    "duration": 84,
    "start_time": "2023-08-20T12:52:27.503Z"
   },
   {
    "duration": 15,
    "start_time": "2023-08-20T12:52:27.589Z"
   },
   {
    "duration": 13,
    "start_time": "2023-08-20T12:52:27.606Z"
   },
   {
    "duration": 3,
    "start_time": "2023-08-20T12:52:27.621Z"
   },
   {
    "duration": 11,
    "start_time": "2023-08-20T12:52:27.626Z"
   },
   {
    "duration": 6,
    "start_time": "2023-08-20T12:52:27.638Z"
   },
   {
    "duration": 15,
    "start_time": "2023-08-20T12:52:27.658Z"
   },
   {
    "duration": 6,
    "start_time": "2023-08-20T12:52:27.676Z"
   },
   {
    "duration": 16,
    "start_time": "2023-08-20T12:52:27.686Z"
   },
   {
    "duration": 5,
    "start_time": "2023-08-20T12:52:27.703Z"
   },
   {
    "duration": 200,
    "start_time": "2023-08-20T12:52:27.709Z"
   },
   {
    "duration": 169,
    "start_time": "2023-08-20T12:52:27.910Z"
   },
   {
    "duration": 182,
    "start_time": "2023-08-20T12:52:28.088Z"
   },
   {
    "duration": 248,
    "start_time": "2023-08-20T12:52:28.272Z"
   },
   {
    "duration": 252,
    "start_time": "2023-08-20T12:52:28.522Z"
   },
   {
    "duration": 41,
    "start_time": "2023-08-20T12:52:28.782Z"
   },
   {
    "duration": 59,
    "start_time": "2023-08-20T12:52:28.825Z"
   },
   {
    "duration": 20,
    "start_time": "2023-08-20T12:52:28.886Z"
   },
   {
    "duration": 15,
    "start_time": "2023-08-20T12:52:28.908Z"
   },
   {
    "duration": 288,
    "start_time": "2023-08-20T12:52:28.926Z"
   },
   {
    "duration": 49,
    "start_time": "2023-08-20T12:52:29.216Z"
   },
   {
    "duration": 623,
    "start_time": "2023-08-20T12:52:29.268Z"
   },
   {
    "duration": 210,
    "start_time": "2023-08-20T12:52:29.896Z"
   },
   {
    "duration": 429,
    "start_time": "2023-08-20T12:52:30.108Z"
   },
   {
    "duration": 59,
    "start_time": "2023-08-20T12:52:30.541Z"
   },
   {
    "duration": 61,
    "start_time": "2023-08-20T12:52:30.602Z"
   },
   {
    "duration": 65,
    "start_time": "2023-08-20T12:52:30.665Z"
   },
   {
    "duration": 59,
    "start_time": "2023-08-20T12:52:30.733Z"
   },
   {
    "duration": 37,
    "start_time": "2023-08-20T12:52:30.795Z"
   },
   {
    "duration": 16,
    "start_time": "2023-08-20T12:57:30.450Z"
   },
   {
    "duration": 7,
    "start_time": "2023-08-20T12:57:38.009Z"
   },
   {
    "duration": 8,
    "start_time": "2023-08-20T13:06:44.247Z"
   },
   {
    "duration": 8,
    "start_time": "2023-08-20T13:06:56.311Z"
   },
   {
    "duration": 163,
    "start_time": "2023-08-20T13:38:08.614Z"
   },
   {
    "duration": 154,
    "start_time": "2023-08-20T13:38:35.977Z"
   },
   {
    "duration": 170,
    "start_time": "2023-08-20T13:38:43.156Z"
   },
   {
    "duration": 156,
    "start_time": "2023-08-20T13:38:53.082Z"
   },
   {
    "duration": 148,
    "start_time": "2023-08-20T13:39:38.079Z"
   },
   {
    "duration": 172,
    "start_time": "2023-08-20T13:41:11.113Z"
   },
   {
    "duration": 374,
    "start_time": "2023-08-20T13:42:19.766Z"
   },
   {
    "duration": 134,
    "start_time": "2023-08-20T13:42:40.188Z"
   },
   {
    "duration": 501,
    "start_time": "2023-08-20T13:47:57.498Z"
   },
   {
    "duration": 128,
    "start_time": "2023-08-20T13:49:44.795Z"
   },
   {
    "duration": 458,
    "start_time": "2023-08-20T13:49:57.842Z"
   },
   {
    "duration": 434,
    "start_time": "2023-08-20T13:50:09.992Z"
   },
   {
    "duration": 33047,
    "start_time": "2023-08-20T13:50:16.402Z"
   },
   {
    "duration": 4587,
    "start_time": "2023-08-20T13:51:30.884Z"
   },
   {
    "duration": 1232,
    "start_time": "2023-08-20T13:52:04.218Z"
   },
   {
    "duration": 403,
    "start_time": "2023-08-20T13:57:20.287Z"
   },
   {
    "duration": 185,
    "start_time": "2023-08-20T13:57:29.778Z"
   },
   {
    "duration": 215,
    "start_time": "2023-08-20T13:57:54.556Z"
   },
   {
    "duration": 234,
    "start_time": "2023-08-20T13:58:02.043Z"
   },
   {
    "duration": 109,
    "start_time": "2023-08-20T13:59:52.016Z"
   },
   {
    "duration": 315,
    "start_time": "2023-08-20T13:59:58.130Z"
   },
   {
    "duration": 299,
    "start_time": "2023-08-20T14:00:11.339Z"
   },
   {
    "duration": 322,
    "start_time": "2023-08-20T14:00:20.905Z"
   },
   {
    "duration": 298,
    "start_time": "2023-08-20T14:00:33.582Z"
   },
   {
    "duration": 373,
    "start_time": "2023-08-20T14:00:48.223Z"
   },
   {
    "duration": 329,
    "start_time": "2023-08-20T14:01:01.006Z"
   },
   {
    "duration": 154,
    "start_time": "2023-08-20T14:03:25.226Z"
   },
   {
    "duration": 404,
    "start_time": "2023-08-20T14:06:02.604Z"
   },
   {
    "duration": 780,
    "start_time": "2023-08-20T14:06:15.829Z"
   },
   {
    "duration": 317,
    "start_time": "2023-08-20T14:06:27.914Z"
   },
   {
    "duration": 162,
    "start_time": "2023-08-20T14:06:38.852Z"
   },
   {
    "duration": 250,
    "start_time": "2023-08-20T14:06:54.352Z"
   },
   {
    "duration": 280,
    "start_time": "2023-08-20T14:07:04.549Z"
   },
   {
    "duration": 196,
    "start_time": "2023-08-20T14:07:44.649Z"
   },
   {
    "duration": 221,
    "start_time": "2023-08-20T14:07:55.132Z"
   },
   {
    "duration": 192,
    "start_time": "2023-08-20T14:08:24.706Z"
   },
   {
    "duration": 350,
    "start_time": "2023-08-20T14:09:07.152Z"
   },
   {
    "duration": 413,
    "start_time": "2023-08-20T14:09:51.230Z"
   },
   {
    "duration": 396,
    "start_time": "2023-08-20T14:10:25.467Z"
   },
   {
    "duration": 397,
    "start_time": "2023-08-20T14:11:26.324Z"
   },
   {
    "duration": 402,
    "start_time": "2023-08-20T14:11:33.043Z"
   },
   {
    "duration": 404,
    "start_time": "2023-08-20T14:12:07.594Z"
   },
   {
    "duration": 395,
    "start_time": "2023-08-20T14:12:20.949Z"
   },
   {
    "duration": 424,
    "start_time": "2023-08-20T14:13:19.983Z"
   },
   {
    "duration": 438,
    "start_time": "2023-08-20T14:13:53.153Z"
   },
   {
    "duration": 391,
    "start_time": "2023-08-20T14:14:24.304Z"
   },
   {
    "duration": 499,
    "start_time": "2023-08-20T14:15:09.419Z"
   },
   {
    "duration": 3,
    "start_time": "2023-08-20T14:17:18.338Z"
   },
   {
    "duration": 22,
    "start_time": "2023-08-20T14:27:09.274Z"
   },
   {
    "duration": 10,
    "start_time": "2023-08-20T14:27:17.883Z"
   },
   {
    "duration": 8,
    "start_time": "2023-08-20T14:27:39.878Z"
   },
   {
    "duration": 7,
    "start_time": "2023-08-20T14:27:44.119Z"
   },
   {
    "duration": 16,
    "start_time": "2023-08-20T14:28:11.492Z"
   },
   {
    "duration": 12,
    "start_time": "2023-08-20T14:28:15.931Z"
   },
   {
    "duration": 10,
    "start_time": "2023-08-20T14:30:47.957Z"
   },
   {
    "duration": 5,
    "start_time": "2023-08-20T14:31:15.648Z"
   },
   {
    "duration": 145,
    "start_time": "2023-08-20T14:31:21.358Z"
   },
   {
    "duration": 16,
    "start_time": "2023-08-20T14:33:45.483Z"
   },
   {
    "duration": 111,
    "start_time": "2023-08-20T14:34:19.149Z"
   },
   {
    "duration": 11,
    "start_time": "2023-08-20T14:34:27.450Z"
   },
   {
    "duration": 156,
    "start_time": "2023-08-20T14:35:28.642Z"
   },
   {
    "duration": 221,
    "start_time": "2023-08-20T14:40:51.209Z"
   },
   {
    "duration": 190,
    "start_time": "2023-08-20T14:41:42.511Z"
   },
   {
    "duration": 196,
    "start_time": "2023-08-20T14:43:27.740Z"
   },
   {
    "duration": 249,
    "start_time": "2023-08-20T14:43:34.517Z"
   },
   {
    "duration": 206,
    "start_time": "2023-08-20T14:43:39.239Z"
   },
   {
    "duration": 171,
    "start_time": "2023-08-20T14:43:44.884Z"
   },
   {
    "duration": 208,
    "start_time": "2023-08-20T14:43:49.512Z"
   },
   {
    "duration": 137,
    "start_time": "2023-08-20T15:34:24.055Z"
   },
   {
    "duration": 1335,
    "start_time": "2023-08-20T16:01:21.989Z"
   },
   {
    "duration": 117,
    "start_time": "2023-08-20T16:01:23.326Z"
   },
   {
    "duration": 434,
    "start_time": "2023-08-20T16:01:23.445Z"
   },
   {
    "duration": 73,
    "start_time": "2023-08-20T16:01:23.881Z"
   },
   {
    "duration": 21,
    "start_time": "2023-08-20T16:01:23.956Z"
   },
   {
    "duration": 42,
    "start_time": "2023-08-20T16:01:23.979Z"
   },
   {
    "duration": 48,
    "start_time": "2023-08-20T16:01:24.023Z"
   },
   {
    "duration": 10,
    "start_time": "2023-08-20T16:01:24.073Z"
   },
   {
    "duration": 6,
    "start_time": "2023-08-20T16:01:24.085Z"
   },
   {
    "duration": 10,
    "start_time": "2023-08-20T16:01:24.094Z"
   },
   {
    "duration": 9,
    "start_time": "2023-08-20T16:01:24.106Z"
   },
   {
    "duration": 12,
    "start_time": "2023-08-20T16:01:24.118Z"
   },
   {
    "duration": 5,
    "start_time": "2023-08-20T16:01:24.132Z"
   },
   {
    "duration": 227,
    "start_time": "2023-08-20T16:01:24.139Z"
   },
   {
    "duration": 139,
    "start_time": "2023-08-20T16:01:24.369Z"
   },
   {
    "duration": 177,
    "start_time": "2023-08-20T16:01:24.510Z"
   },
   {
    "duration": 218,
    "start_time": "2023-08-20T16:01:24.690Z"
   },
   {
    "duration": 207,
    "start_time": "2023-08-20T16:01:24.910Z"
   },
   {
    "duration": 46,
    "start_time": "2023-08-20T16:01:25.119Z"
   },
   {
    "duration": 35,
    "start_time": "2023-08-20T16:01:25.168Z"
   },
   {
    "duration": 14,
    "start_time": "2023-08-20T16:01:25.205Z"
   },
   {
    "duration": 42,
    "start_time": "2023-08-20T16:01:25.221Z"
   },
   {
    "duration": 205,
    "start_time": "2023-08-20T16:01:25.268Z"
   },
   {
    "duration": 31,
    "start_time": "2023-08-20T16:01:25.475Z"
   },
   {
    "duration": 419,
    "start_time": "2023-08-20T16:01:25.507Z"
   },
   {
    "duration": 311,
    "start_time": "2023-08-20T16:01:25.928Z"
   },
   {
    "duration": 382,
    "start_time": "2023-08-20T16:01:26.242Z"
   },
   {
    "duration": 47,
    "start_time": "2023-08-20T16:01:26.627Z"
   },
   {
    "duration": 13,
    "start_time": "2023-08-20T16:01:26.676Z"
   },
   {
    "duration": 10,
    "start_time": "2023-08-20T16:01:26.691Z"
   },
   {
    "duration": 7,
    "start_time": "2023-08-20T16:01:26.702Z"
   },
   {
    "duration": 16,
    "start_time": "2023-08-20T16:01:26.711Z"
   },
   {
    "duration": 381,
    "start_time": "2023-08-20T16:01:26.729Z"
   },
   {
    "duration": 177,
    "start_time": "2023-08-20T16:01:27.111Z"
   },
   {
    "duration": 24,
    "start_time": "2023-08-20T17:08:21.654Z"
   },
   {
    "duration": 25,
    "start_time": "2023-08-20T17:08:39.335Z"
   },
   {
    "duration": 1139,
    "start_time": "2023-08-20T17:08:45.686Z"
   },
   {
    "duration": 44,
    "start_time": "2023-08-20T17:08:46.827Z"
   },
   {
    "duration": 40,
    "start_time": "2023-08-20T17:08:46.873Z"
   },
   {
    "duration": 25,
    "start_time": "2023-08-20T17:08:46.914Z"
   },
   {
    "duration": 15,
    "start_time": "2023-08-20T17:08:46.941Z"
   },
   {
    "duration": 25,
    "start_time": "2023-08-20T17:08:46.958Z"
   },
   {
    "duration": 4,
    "start_time": "2023-08-20T17:08:46.985Z"
   },
   {
    "duration": 15,
    "start_time": "2023-08-20T17:08:46.991Z"
   },
   {
    "duration": 7,
    "start_time": "2023-08-20T17:08:47.008Z"
   },
   {
    "duration": 15,
    "start_time": "2023-08-20T17:08:47.017Z"
   },
   {
    "duration": 23,
    "start_time": "2023-08-20T17:08:47.034Z"
   },
   {
    "duration": 20,
    "start_time": "2023-08-20T17:08:47.059Z"
   },
   {
    "duration": 15,
    "start_time": "2023-08-20T17:08:47.081Z"
   },
   {
    "duration": 184,
    "start_time": "2023-08-20T17:08:47.099Z"
   },
   {
    "duration": 152,
    "start_time": "2023-08-20T17:08:47.285Z"
   },
   {
    "duration": 162,
    "start_time": "2023-08-20T17:08:47.439Z"
   },
   {
    "duration": 215,
    "start_time": "2023-08-20T17:08:47.602Z"
   },
   {
    "duration": 194,
    "start_time": "2023-08-20T17:08:47.819Z"
   },
   {
    "duration": 43,
    "start_time": "2023-08-20T17:08:48.015Z"
   },
   {
    "duration": 32,
    "start_time": "2023-08-20T17:08:48.060Z"
   },
   {
    "duration": 14,
    "start_time": "2023-08-20T17:08:48.093Z"
   },
   {
    "duration": 11,
    "start_time": "2023-08-20T17:08:48.109Z"
   },
   {
    "duration": 226,
    "start_time": "2023-08-20T17:08:48.122Z"
   },
   {
    "duration": 44,
    "start_time": "2023-08-20T17:08:48.350Z"
   },
   {
    "duration": 428,
    "start_time": "2023-08-20T17:08:48.395Z"
   },
   {
    "duration": 376,
    "start_time": "2023-08-20T17:08:48.825Z"
   },
   {
    "duration": 388,
    "start_time": "2023-08-20T17:08:49.202Z"
   },
   {
    "duration": 26,
    "start_time": "2023-08-20T17:08:49.592Z"
   },
   {
    "duration": 1927,
    "start_time": "2023-08-20T17:08:49.620Z"
   },
   {
    "duration": 0,
    "start_time": "2023-08-20T17:08:51.549Z"
   },
   {
    "duration": 0,
    "start_time": "2023-08-20T17:08:51.550Z"
   },
   {
    "duration": 0,
    "start_time": "2023-08-20T17:08:51.552Z"
   },
   {
    "duration": 0,
    "start_time": "2023-08-20T17:08:51.553Z"
   },
   {
    "duration": 0,
    "start_time": "2023-08-20T17:08:51.554Z"
   },
   {
    "duration": 30,
    "start_time": "2023-08-20T17:09:04.630Z"
   },
   {
    "duration": 1132,
    "start_time": "2023-08-20T17:09:19.193Z"
   },
   {
    "duration": 52,
    "start_time": "2023-08-20T17:09:20.327Z"
   },
   {
    "duration": 38,
    "start_time": "2023-08-20T17:09:20.381Z"
   },
   {
    "duration": 24,
    "start_time": "2023-08-20T17:09:20.421Z"
   },
   {
    "duration": 15,
    "start_time": "2023-08-20T17:09:20.447Z"
   },
   {
    "duration": 19,
    "start_time": "2023-08-20T17:09:20.464Z"
   },
   {
    "duration": 4,
    "start_time": "2023-08-20T17:09:20.485Z"
   },
   {
    "duration": 10,
    "start_time": "2023-08-20T17:09:20.491Z"
   },
   {
    "duration": 6,
    "start_time": "2023-08-20T17:09:20.503Z"
   },
   {
    "duration": 12,
    "start_time": "2023-08-20T17:09:20.511Z"
   },
   {
    "duration": 46,
    "start_time": "2023-08-20T17:09:20.524Z"
   },
   {
    "duration": 13,
    "start_time": "2023-08-20T17:09:20.571Z"
   },
   {
    "duration": 21,
    "start_time": "2023-08-20T17:09:20.586Z"
   },
   {
    "duration": 180,
    "start_time": "2023-08-20T17:09:20.610Z"
   },
   {
    "duration": 153,
    "start_time": "2023-08-20T17:09:20.792Z"
   },
   {
    "duration": 179,
    "start_time": "2023-08-20T17:09:20.946Z"
   },
   {
    "duration": 240,
    "start_time": "2023-08-20T17:09:21.127Z"
   },
   {
    "duration": 210,
    "start_time": "2023-08-20T17:09:21.371Z"
   },
   {
    "duration": 28,
    "start_time": "2023-08-20T17:09:21.582Z"
   },
   {
    "duration": 29,
    "start_time": "2023-08-20T17:09:21.612Z"
   },
   {
    "duration": 21,
    "start_time": "2023-08-20T17:09:21.660Z"
   },
   {
    "duration": 26,
    "start_time": "2023-08-20T17:09:21.682Z"
   },
   {
    "duration": 209,
    "start_time": "2023-08-20T17:09:21.709Z"
   },
   {
    "duration": 52,
    "start_time": "2023-08-20T17:09:21.920Z"
   },
   {
    "duration": 395,
    "start_time": "2023-08-20T17:09:21.974Z"
   },
   {
    "duration": 302,
    "start_time": "2023-08-20T17:09:22.371Z"
   },
   {
    "duration": 365,
    "start_time": "2023-08-20T17:09:22.675Z"
   },
   {
    "duration": 42,
    "start_time": "2023-08-20T17:09:23.041Z"
   },
   {
    "duration": 15,
    "start_time": "2023-08-20T17:09:23.085Z"
   },
   {
    "duration": 35,
    "start_time": "2023-08-20T17:09:23.101Z"
   },
   {
    "duration": 5,
    "start_time": "2023-08-20T17:09:23.138Z"
   },
   {
    "duration": 10,
    "start_time": "2023-08-20T17:09:23.144Z"
   },
   {
    "duration": 377,
    "start_time": "2023-08-20T17:09:23.155Z"
   },
   {
    "duration": 166,
    "start_time": "2023-08-20T17:09:23.534Z"
   },
   {
    "duration": 1136,
    "start_time": "2023-08-20T17:09:38.304Z"
   },
   {
    "duration": 44,
    "start_time": "2023-08-20T17:09:39.442Z"
   },
   {
    "duration": 39,
    "start_time": "2023-08-20T17:09:39.488Z"
   },
   {
    "duration": 25,
    "start_time": "2023-08-20T17:09:39.529Z"
   },
   {
    "duration": 17,
    "start_time": "2023-08-20T17:09:39.557Z"
   },
   {
    "duration": 20,
    "start_time": "2023-08-20T17:09:39.576Z"
   },
   {
    "duration": 4,
    "start_time": "2023-08-20T17:09:39.598Z"
   },
   {
    "duration": 39,
    "start_time": "2023-08-20T17:09:39.604Z"
   },
   {
    "duration": 22,
    "start_time": "2023-08-20T17:09:39.645Z"
   },
   {
    "duration": 10,
    "start_time": "2023-08-20T17:09:39.672Z"
   },
   {
    "duration": 6,
    "start_time": "2023-08-20T17:09:39.684Z"
   },
   {
    "duration": 5,
    "start_time": "2023-08-20T17:09:39.692Z"
   },
   {
    "duration": 5,
    "start_time": "2023-08-20T17:09:39.698Z"
   },
   {
    "duration": 202,
    "start_time": "2023-08-20T17:09:39.705Z"
   },
   {
    "duration": 146,
    "start_time": "2023-08-20T17:09:39.909Z"
   },
   {
    "duration": 168,
    "start_time": "2023-08-20T17:09:40.058Z"
   },
   {
    "duration": 221,
    "start_time": "2023-08-20T17:09:40.229Z"
   },
   {
    "duration": 220,
    "start_time": "2023-08-20T17:09:40.452Z"
   },
   {
    "duration": 31,
    "start_time": "2023-08-20T17:09:40.674Z"
   },
   {
    "duration": 30,
    "start_time": "2023-08-20T17:09:40.707Z"
   },
   {
    "duration": 18,
    "start_time": "2023-08-20T17:09:40.757Z"
   },
   {
    "duration": 15,
    "start_time": "2023-08-20T17:09:40.776Z"
   },
   {
    "duration": 212,
    "start_time": "2023-08-20T17:09:40.793Z"
   },
   {
    "duration": 29,
    "start_time": "2023-08-20T17:09:41.007Z"
   },
   {
    "duration": 408,
    "start_time": "2023-08-20T17:09:41.038Z"
   },
   {
    "duration": 299,
    "start_time": "2023-08-20T17:09:41.448Z"
   },
   {
    "duration": 392,
    "start_time": "2023-08-20T17:09:41.748Z"
   },
   {
    "duration": 45,
    "start_time": "2023-08-20T17:09:42.141Z"
   },
   {
    "duration": 15,
    "start_time": "2023-08-20T17:09:42.188Z"
   },
   {
    "duration": 5,
    "start_time": "2023-08-20T17:09:42.205Z"
   },
   {
    "duration": 12,
    "start_time": "2023-08-20T17:09:42.212Z"
   },
   {
    "duration": 10,
    "start_time": "2023-08-20T17:09:42.226Z"
   },
   {
    "duration": 469,
    "start_time": "2023-08-20T17:09:42.237Z"
   },
   {
    "duration": 173,
    "start_time": "2023-08-20T17:09:42.708Z"
   },
   {
    "duration": 1182,
    "start_time": "2023-08-20T17:10:12.533Z"
   },
   {
    "duration": 43,
    "start_time": "2023-08-20T17:10:13.718Z"
   },
   {
    "duration": 40,
    "start_time": "2023-08-20T17:10:13.763Z"
   },
   {
    "duration": 25,
    "start_time": "2023-08-20T17:10:13.805Z"
   },
   {
    "duration": 13,
    "start_time": "2023-08-20T17:10:13.831Z"
   },
   {
    "duration": 15,
    "start_time": "2023-08-20T17:10:13.846Z"
   },
   {
    "duration": 5,
    "start_time": "2023-08-20T17:10:13.863Z"
   },
   {
    "duration": 22,
    "start_time": "2023-08-20T17:10:13.870Z"
   },
   {
    "duration": 6,
    "start_time": "2023-08-20T17:10:13.894Z"
   },
   {
    "duration": 8,
    "start_time": "2023-08-20T17:10:13.902Z"
   },
   {
    "duration": 5,
    "start_time": "2023-08-20T17:10:13.911Z"
   },
   {
    "duration": 7,
    "start_time": "2023-08-20T17:10:13.918Z"
   },
   {
    "duration": 7,
    "start_time": "2023-08-20T17:10:13.927Z"
   },
   {
    "duration": 194,
    "start_time": "2023-08-20T17:10:13.956Z"
   },
   {
    "duration": 151,
    "start_time": "2023-08-20T17:10:14.151Z"
   },
   {
    "duration": 170,
    "start_time": "2023-08-20T17:10:14.304Z"
   },
   {
    "duration": 212,
    "start_time": "2023-08-20T17:10:14.476Z"
   },
   {
    "duration": 200,
    "start_time": "2023-08-20T17:10:14.690Z"
   },
   {
    "duration": 28,
    "start_time": "2023-08-20T17:10:14.892Z"
   },
   {
    "duration": 46,
    "start_time": "2023-08-20T17:10:14.921Z"
   },
   {
    "duration": 14,
    "start_time": "2023-08-20T17:10:14.969Z"
   },
   {
    "duration": 13,
    "start_time": "2023-08-20T17:10:14.984Z"
   },
   {
    "duration": 211,
    "start_time": "2023-08-20T17:10:14.998Z"
   },
   {
    "duration": 46,
    "start_time": "2023-08-20T17:10:15.212Z"
   },
   {
    "duration": 383,
    "start_time": "2023-08-20T17:10:15.260Z"
   },
   {
    "duration": 300,
    "start_time": "2023-08-20T17:10:15.645Z"
   },
   {
    "duration": 368,
    "start_time": "2023-08-20T17:10:15.946Z"
   },
   {
    "duration": 39,
    "start_time": "2023-08-20T17:10:16.317Z"
   },
   {
    "duration": 13,
    "start_time": "2023-08-20T17:10:16.358Z"
   },
   {
    "duration": 5,
    "start_time": "2023-08-20T17:10:16.372Z"
   },
   {
    "duration": 10,
    "start_time": "2023-08-20T17:10:16.379Z"
   },
   {
    "duration": 31,
    "start_time": "2023-08-20T17:10:16.390Z"
   },
   {
    "duration": 343,
    "start_time": "2023-08-20T17:10:16.423Z"
   },
   {
    "duration": 172,
    "start_time": "2023-08-20T17:10:16.767Z"
   },
   {
    "duration": 11,
    "start_time": "2023-08-20T17:14:03.800Z"
   },
   {
    "duration": 1143,
    "start_time": "2023-08-20T17:14:11.974Z"
   },
   {
    "duration": 43,
    "start_time": "2023-08-20T17:14:13.119Z"
   },
   {
    "duration": 39,
    "start_time": "2023-08-20T17:14:13.163Z"
   },
   {
    "duration": 24,
    "start_time": "2023-08-20T17:14:13.205Z"
   },
   {
    "duration": 14,
    "start_time": "2023-08-20T17:14:13.231Z"
   },
   {
    "duration": 16,
    "start_time": "2023-08-20T17:14:13.247Z"
   },
   {
    "duration": 4,
    "start_time": "2023-08-20T17:14:13.265Z"
   },
   {
    "duration": 20,
    "start_time": "2023-08-20T17:14:13.272Z"
   },
   {
    "duration": 7,
    "start_time": "2023-08-20T17:14:13.294Z"
   },
   {
    "duration": 9,
    "start_time": "2023-08-20T17:14:13.303Z"
   },
   {
    "duration": 6,
    "start_time": "2023-08-20T17:14:13.313Z"
   },
   {
    "duration": 7,
    "start_time": "2023-08-20T17:14:13.321Z"
   },
   {
    "duration": 29,
    "start_time": "2023-08-20T17:14:13.329Z"
   },
   {
    "duration": 211,
    "start_time": "2023-08-20T17:14:13.359Z"
   },
   {
    "duration": 149,
    "start_time": "2023-08-20T17:14:13.572Z"
   },
   {
    "duration": 171,
    "start_time": "2023-08-20T17:14:13.723Z"
   },
   {
    "duration": 226,
    "start_time": "2023-08-20T17:14:13.896Z"
   },
   {
    "duration": 205,
    "start_time": "2023-08-20T17:14:14.123Z"
   },
   {
    "duration": 45,
    "start_time": "2023-08-20T17:14:14.330Z"
   },
   {
    "duration": 32,
    "start_time": "2023-08-20T17:14:14.377Z"
   },
   {
    "duration": 14,
    "start_time": "2023-08-20T17:14:14.411Z"
   },
   {
    "duration": 38,
    "start_time": "2023-08-20T17:14:14.427Z"
   },
   {
    "duration": 207,
    "start_time": "2023-08-20T17:14:14.467Z"
   },
   {
    "duration": 31,
    "start_time": "2023-08-20T17:14:14.676Z"
   },
   {
    "duration": 391,
    "start_time": "2023-08-20T17:14:14.709Z"
   },
   {
    "duration": 299,
    "start_time": "2023-08-20T17:14:15.102Z"
   },
   {
    "duration": 372,
    "start_time": "2023-08-20T17:14:15.402Z"
   },
   {
    "duration": 29,
    "start_time": "2023-08-20T17:14:15.777Z"
   },
   {
    "duration": 15,
    "start_time": "2023-08-20T17:14:15.808Z"
   },
   {
    "duration": 20,
    "start_time": "2023-08-20T17:14:15.824Z"
   },
   {
    "duration": 7,
    "start_time": "2023-08-20T17:14:15.856Z"
   },
   {
    "duration": 10,
    "start_time": "2023-08-20T17:14:15.865Z"
   },
   {
    "duration": 11,
    "start_time": "2023-08-20T17:14:15.877Z"
   },
   {
    "duration": 372,
    "start_time": "2023-08-20T17:14:15.890Z"
   },
   {
    "duration": 174,
    "start_time": "2023-08-20T17:14:16.264Z"
   },
   {
    "duration": 1105,
    "start_time": "2023-08-20T17:14:39.248Z"
   },
   {
    "duration": 42,
    "start_time": "2023-08-20T17:14:40.357Z"
   },
   {
    "duration": 37,
    "start_time": "2023-08-20T17:14:40.401Z"
   },
   {
    "duration": 25,
    "start_time": "2023-08-20T17:14:40.440Z"
   },
   {
    "duration": 15,
    "start_time": "2023-08-20T17:14:40.467Z"
   },
   {
    "duration": 14,
    "start_time": "2023-08-20T17:14:40.484Z"
   },
   {
    "duration": 34,
    "start_time": "2023-08-20T17:14:40.500Z"
   },
   {
    "duration": 12,
    "start_time": "2023-08-20T17:14:40.536Z"
   },
   {
    "duration": 29,
    "start_time": "2023-08-20T17:14:40.549Z"
   },
   {
    "duration": 10,
    "start_time": "2023-08-20T17:14:40.580Z"
   },
   {
    "duration": 6,
    "start_time": "2023-08-20T17:14:40.592Z"
   },
   {
    "duration": 7,
    "start_time": "2023-08-20T17:14:40.600Z"
   },
   {
    "duration": 11,
    "start_time": "2023-08-20T17:14:40.609Z"
   },
   {
    "duration": 178,
    "start_time": "2023-08-20T17:14:40.623Z"
   },
   {
    "duration": 147,
    "start_time": "2023-08-20T17:14:40.804Z"
   },
   {
    "duration": 162,
    "start_time": "2023-08-20T17:14:40.956Z"
   },
   {
    "duration": 223,
    "start_time": "2023-08-20T17:14:41.120Z"
   },
   {
    "duration": 202,
    "start_time": "2023-08-20T17:14:41.344Z"
   },
   {
    "duration": 35,
    "start_time": "2023-08-20T17:14:41.548Z"
   },
   {
    "duration": 30,
    "start_time": "2023-08-20T17:14:41.585Z"
   },
   {
    "duration": 40,
    "start_time": "2023-08-20T17:14:41.617Z"
   },
   {
    "duration": 14,
    "start_time": "2023-08-20T17:14:41.659Z"
   },
   {
    "duration": 200,
    "start_time": "2023-08-20T17:14:41.675Z"
   },
   {
    "duration": 30,
    "start_time": "2023-08-20T17:14:41.877Z"
   },
   {
    "duration": 409,
    "start_time": "2023-08-20T17:14:41.909Z"
   },
   {
    "duration": 299,
    "start_time": "2023-08-20T17:14:42.320Z"
   },
   {
    "duration": 373,
    "start_time": "2023-08-20T17:14:42.621Z"
   },
   {
    "duration": 29,
    "start_time": "2023-08-20T17:14:42.995Z"
   },
   {
    "duration": 33,
    "start_time": "2023-08-20T17:14:43.025Z"
   },
   {
    "duration": 6,
    "start_time": "2023-08-20T17:14:43.059Z"
   },
   {
    "duration": 10,
    "start_time": "2023-08-20T17:14:43.067Z"
   },
   {
    "duration": 10,
    "start_time": "2023-08-20T17:14:43.079Z"
   },
   {
    "duration": 392,
    "start_time": "2023-08-20T17:14:43.091Z"
   },
   {
    "duration": 166,
    "start_time": "2023-08-20T17:14:43.485Z"
   },
   {
    "duration": 1147,
    "start_time": "2023-08-20T17:15:20.076Z"
   },
   {
    "duration": 43,
    "start_time": "2023-08-20T17:15:21.225Z"
   },
   {
    "duration": 40,
    "start_time": "2023-08-20T17:15:21.270Z"
   },
   {
    "duration": 24,
    "start_time": "2023-08-20T17:15:21.312Z"
   },
   {
    "duration": 14,
    "start_time": "2023-08-20T17:15:21.338Z"
   },
   {
    "duration": 14,
    "start_time": "2023-08-20T17:15:21.353Z"
   },
   {
    "duration": 4,
    "start_time": "2023-08-20T17:15:21.369Z"
   },
   {
    "duration": 14,
    "start_time": "2023-08-20T17:15:21.375Z"
   },
   {
    "duration": 7,
    "start_time": "2023-08-20T17:15:21.391Z"
   },
   {
    "duration": 9,
    "start_time": "2023-08-20T17:15:21.401Z"
   },
   {
    "duration": 6,
    "start_time": "2023-08-20T17:15:21.412Z"
   },
   {
    "duration": 40,
    "start_time": "2023-08-20T17:15:21.420Z"
   },
   {
    "duration": 11,
    "start_time": "2023-08-20T17:15:21.462Z"
   },
   {
    "duration": 182,
    "start_time": "2023-08-20T17:15:21.474Z"
   },
   {
    "duration": 137,
    "start_time": "2023-08-20T17:15:21.658Z"
   },
   {
    "duration": 182,
    "start_time": "2023-08-20T17:15:21.797Z"
   },
   {
    "duration": 219,
    "start_time": "2023-08-20T17:15:21.981Z"
   },
   {
    "duration": 196,
    "start_time": "2023-08-20T17:15:22.201Z"
   },
   {
    "duration": 30,
    "start_time": "2023-08-20T17:15:22.398Z"
   },
   {
    "duration": 51,
    "start_time": "2023-08-20T17:15:22.429Z"
   },
   {
    "duration": 15,
    "start_time": "2023-08-20T17:15:22.482Z"
   },
   {
    "duration": 14,
    "start_time": "2023-08-20T17:15:22.498Z"
   },
   {
    "duration": 212,
    "start_time": "2023-08-20T17:15:22.514Z"
   },
   {
    "duration": 42,
    "start_time": "2023-08-20T17:15:22.728Z"
   },
   {
    "duration": 386,
    "start_time": "2023-08-20T17:15:22.772Z"
   },
   {
    "duration": 299,
    "start_time": "2023-08-20T17:15:23.160Z"
   },
   {
    "duration": 388,
    "start_time": "2023-08-20T17:15:23.461Z"
   },
   {
    "duration": 32,
    "start_time": "2023-08-20T17:15:23.858Z"
   },
   {
    "duration": 16,
    "start_time": "2023-08-20T17:15:23.892Z"
   },
   {
    "duration": 5,
    "start_time": "2023-08-20T17:15:23.909Z"
   },
   {
    "duration": 14,
    "start_time": "2023-08-20T17:15:23.916Z"
   },
   {
    "duration": 9,
    "start_time": "2023-08-20T17:15:23.957Z"
   },
   {
    "duration": 382,
    "start_time": "2023-08-20T17:15:23.968Z"
   },
   {
    "duration": 161,
    "start_time": "2023-08-20T17:15:24.356Z"
   },
   {
    "duration": 1182,
    "start_time": "2023-08-20T17:15:59.549Z"
   },
   {
    "duration": 44,
    "start_time": "2023-08-20T17:16:00.733Z"
   },
   {
    "duration": 40,
    "start_time": "2023-08-20T17:16:00.778Z"
   },
   {
    "duration": 28,
    "start_time": "2023-08-20T17:16:00.820Z"
   },
   {
    "duration": 27,
    "start_time": "2023-08-20T17:16:00.850Z"
   },
   {
    "duration": 60,
    "start_time": "2023-08-20T17:16:00.879Z"
   },
   {
    "duration": 69,
    "start_time": "2023-08-20T17:16:00.940Z"
   },
   {
    "duration": 59,
    "start_time": "2023-08-20T17:16:01.010Z"
   },
   {
    "duration": 51,
    "start_time": "2023-08-20T17:16:01.071Z"
   },
   {
    "duration": 42,
    "start_time": "2023-08-20T17:16:01.124Z"
   },
   {
    "duration": 36,
    "start_time": "2023-08-20T17:16:01.167Z"
   },
   {
    "duration": 52,
    "start_time": "2023-08-20T17:16:01.205Z"
   },
   {
    "duration": 33,
    "start_time": "2023-08-20T17:16:01.259Z"
   },
   {
    "duration": 220,
    "start_time": "2023-08-20T17:16:01.294Z"
   },
   {
    "duration": 142,
    "start_time": "2023-08-20T17:16:01.516Z"
   },
   {
    "duration": 176,
    "start_time": "2023-08-20T17:16:01.659Z"
   },
   {
    "duration": 225,
    "start_time": "2023-08-20T17:16:01.837Z"
   },
   {
    "duration": 200,
    "start_time": "2023-08-20T17:16:02.064Z"
   },
   {
    "duration": 31,
    "start_time": "2023-08-20T17:16:02.266Z"
   },
   {
    "duration": 60,
    "start_time": "2023-08-20T17:16:02.298Z"
   },
   {
    "duration": 16,
    "start_time": "2023-08-20T17:16:02.359Z"
   },
   {
    "duration": 57,
    "start_time": "2023-08-20T17:16:02.377Z"
   },
   {
    "duration": 212,
    "start_time": "2023-08-20T17:16:02.436Z"
   },
   {
    "duration": 29,
    "start_time": "2023-08-20T17:16:02.656Z"
   },
   {
    "duration": 385,
    "start_time": "2023-08-20T17:16:02.687Z"
   },
   {
    "duration": 322,
    "start_time": "2023-08-20T17:16:03.074Z"
   },
   {
    "duration": 379,
    "start_time": "2023-08-20T17:16:03.398Z"
   },
   {
    "duration": 33,
    "start_time": "2023-08-20T17:16:03.778Z"
   },
   {
    "duration": 15,
    "start_time": "2023-08-20T17:16:03.813Z"
   },
   {
    "duration": 29,
    "start_time": "2023-08-20T17:16:03.830Z"
   },
   {
    "duration": 22,
    "start_time": "2023-08-20T17:16:03.861Z"
   },
   {
    "duration": 25,
    "start_time": "2023-08-20T17:16:03.885Z"
   },
   {
    "duration": 376,
    "start_time": "2023-08-20T17:16:03.912Z"
   },
   {
    "duration": 170,
    "start_time": "2023-08-20T17:16:04.290Z"
   },
   {
    "duration": 1159,
    "start_time": "2023-08-20T17:17:10.365Z"
   },
   {
    "duration": 42,
    "start_time": "2023-08-20T17:17:11.527Z"
   },
   {
    "duration": 37,
    "start_time": "2023-08-20T17:17:11.571Z"
   },
   {
    "duration": 25,
    "start_time": "2023-08-20T17:17:11.610Z"
   },
   {
    "duration": 14,
    "start_time": "2023-08-20T17:17:11.637Z"
   },
   {
    "duration": 13,
    "start_time": "2023-08-20T17:17:11.653Z"
   },
   {
    "duration": 4,
    "start_time": "2023-08-20T17:17:11.667Z"
   },
   {
    "duration": 11,
    "start_time": "2023-08-20T17:17:11.672Z"
   },
   {
    "duration": 11,
    "start_time": "2023-08-20T17:17:11.685Z"
   },
   {
    "duration": 18,
    "start_time": "2023-08-20T17:17:11.699Z"
   },
   {
    "duration": 6,
    "start_time": "2023-08-20T17:17:11.719Z"
   },
   {
    "duration": 8,
    "start_time": "2023-08-20T17:17:11.727Z"
   },
   {
    "duration": 4,
    "start_time": "2023-08-20T17:17:11.757Z"
   },
   {
    "duration": 195,
    "start_time": "2023-08-20T17:17:11.763Z"
   },
   {
    "duration": 150,
    "start_time": "2023-08-20T17:17:11.960Z"
   },
   {
    "duration": 182,
    "start_time": "2023-08-20T17:17:12.112Z"
   },
   {
    "duration": 214,
    "start_time": "2023-08-20T17:17:12.296Z"
   },
   {
    "duration": 213,
    "start_time": "2023-08-20T17:17:12.512Z"
   },
   {
    "duration": 42,
    "start_time": "2023-08-20T17:17:12.727Z"
   },
   {
    "duration": 32,
    "start_time": "2023-08-20T17:17:12.771Z"
   },
   {
    "duration": 16,
    "start_time": "2023-08-20T17:17:12.805Z"
   },
   {
    "duration": 39,
    "start_time": "2023-08-20T17:17:12.822Z"
   },
   {
    "duration": 202,
    "start_time": "2023-08-20T17:17:12.863Z"
   },
   {
    "duration": 31,
    "start_time": "2023-08-20T17:17:13.067Z"
   },
   {
    "duration": 414,
    "start_time": "2023-08-20T17:17:13.100Z"
   },
   {
    "duration": 316,
    "start_time": "2023-08-20T17:17:13.517Z"
   },
   {
    "duration": 387,
    "start_time": "2023-08-20T17:17:13.835Z"
   },
   {
    "duration": 46,
    "start_time": "2023-08-20T17:17:14.225Z"
   },
   {
    "duration": 15,
    "start_time": "2023-08-20T17:17:14.273Z"
   },
   {
    "duration": 11,
    "start_time": "2023-08-20T17:17:14.290Z"
   },
   {
    "duration": 8,
    "start_time": "2023-08-20T17:17:14.303Z"
   },
   {
    "duration": 22,
    "start_time": "2023-08-20T17:17:14.312Z"
   },
   {
    "duration": 377,
    "start_time": "2023-08-20T17:17:14.336Z"
   },
   {
    "duration": 167,
    "start_time": "2023-08-20T17:17:14.715Z"
   },
   {
    "duration": 1112,
    "start_time": "2023-08-20T17:17:26.415Z"
   },
   {
    "duration": 44,
    "start_time": "2023-08-20T17:17:27.529Z"
   },
   {
    "duration": 39,
    "start_time": "2023-08-20T17:17:27.574Z"
   },
   {
    "duration": 24,
    "start_time": "2023-08-20T17:17:27.615Z"
   },
   {
    "duration": 13,
    "start_time": "2023-08-20T17:17:27.641Z"
   },
   {
    "duration": 12,
    "start_time": "2023-08-20T17:17:27.655Z"
   },
   {
    "duration": 4,
    "start_time": "2023-08-20T17:17:27.669Z"
   },
   {
    "duration": 15,
    "start_time": "2023-08-20T17:17:27.675Z"
   },
   {
    "duration": 6,
    "start_time": "2023-08-20T17:17:27.692Z"
   },
   {
    "duration": 15,
    "start_time": "2023-08-20T17:17:27.700Z"
   },
   {
    "duration": 8,
    "start_time": "2023-08-20T17:17:27.717Z"
   },
   {
    "duration": 36,
    "start_time": "2023-08-20T17:17:27.726Z"
   },
   {
    "duration": 6,
    "start_time": "2023-08-20T17:17:27.764Z"
   },
   {
    "duration": 189,
    "start_time": "2023-08-20T17:17:27.773Z"
   },
   {
    "duration": 145,
    "start_time": "2023-08-20T17:17:27.964Z"
   },
   {
    "duration": 170,
    "start_time": "2023-08-20T17:17:28.111Z"
   },
   {
    "duration": 247,
    "start_time": "2023-08-20T17:17:28.283Z"
   },
   {
    "duration": 217,
    "start_time": "2023-08-20T17:17:28.532Z"
   },
   {
    "duration": 32,
    "start_time": "2023-08-20T17:17:28.757Z"
   },
   {
    "duration": 40,
    "start_time": "2023-08-20T17:17:28.790Z"
   },
   {
    "duration": 39,
    "start_time": "2023-08-20T17:17:28.832Z"
   },
   {
    "duration": 18,
    "start_time": "2023-08-20T17:17:28.873Z"
   },
   {
    "duration": 276,
    "start_time": "2023-08-20T17:17:28.893Z"
   },
   {
    "duration": 32,
    "start_time": "2023-08-20T17:17:29.170Z"
   },
   {
    "duration": 405,
    "start_time": "2023-08-20T17:17:29.204Z"
   },
   {
    "duration": 283,
    "start_time": "2023-08-20T17:17:29.610Z"
   },
   {
    "duration": 383,
    "start_time": "2023-08-20T17:17:29.895Z"
   },
   {
    "duration": 32,
    "start_time": "2023-08-20T17:17:30.279Z"
   },
   {
    "duration": 57,
    "start_time": "2023-08-20T17:17:30.313Z"
   },
   {
    "duration": 31,
    "start_time": "2023-08-20T17:17:30.371Z"
   },
   {
    "duration": 34,
    "start_time": "2023-08-20T17:17:30.404Z"
   },
   {
    "duration": 25,
    "start_time": "2023-08-20T17:17:30.440Z"
   },
   {
    "duration": 420,
    "start_time": "2023-08-20T17:17:30.467Z"
   },
   {
    "duration": 179,
    "start_time": "2023-08-20T17:17:30.889Z"
   },
   {
    "duration": 1172,
    "start_time": "2023-08-20T17:17:51.753Z"
   },
   {
    "duration": 45,
    "start_time": "2023-08-20T17:17:52.927Z"
   },
   {
    "duration": 39,
    "start_time": "2023-08-20T17:17:52.974Z"
   },
   {
    "duration": 24,
    "start_time": "2023-08-20T17:17:53.016Z"
   },
   {
    "duration": 22,
    "start_time": "2023-08-20T17:17:53.042Z"
   },
   {
    "duration": 63,
    "start_time": "2023-08-20T17:17:53.066Z"
   },
   {
    "duration": 27,
    "start_time": "2023-08-20T17:17:53.131Z"
   },
   {
    "duration": 12,
    "start_time": "2023-08-20T17:17:53.160Z"
   },
   {
    "duration": 6,
    "start_time": "2023-08-20T17:17:53.174Z"
   },
   {
    "duration": 29,
    "start_time": "2023-08-20T17:17:53.183Z"
   },
   {
    "duration": 10,
    "start_time": "2023-08-20T17:17:53.215Z"
   },
   {
    "duration": 8,
    "start_time": "2023-08-20T17:17:53.227Z"
   },
   {
    "duration": 29,
    "start_time": "2023-08-20T17:17:53.237Z"
   },
   {
    "duration": 205,
    "start_time": "2023-08-20T17:17:53.268Z"
   },
   {
    "duration": 149,
    "start_time": "2023-08-20T17:17:53.475Z"
   },
   {
    "duration": 177,
    "start_time": "2023-08-20T17:17:53.626Z"
   },
   {
    "duration": 230,
    "start_time": "2023-08-20T17:17:53.805Z"
   },
   {
    "duration": 225,
    "start_time": "2023-08-20T17:17:54.037Z"
   },
   {
    "duration": 32,
    "start_time": "2023-08-20T17:17:54.264Z"
   },
   {
    "duration": 31,
    "start_time": "2023-08-20T17:17:54.297Z"
   },
   {
    "duration": 39,
    "start_time": "2023-08-20T17:17:54.330Z"
   },
   {
    "duration": 12,
    "start_time": "2023-08-20T17:17:54.371Z"
   },
   {
    "duration": 213,
    "start_time": "2023-08-20T17:17:54.385Z"
   },
   {
    "duration": 29,
    "start_time": "2023-08-20T17:17:54.600Z"
   },
   {
    "duration": 391,
    "start_time": "2023-08-20T17:17:54.630Z"
   },
   {
    "duration": 301,
    "start_time": "2023-08-20T17:17:55.023Z"
   },
   {
    "duration": 381,
    "start_time": "2023-08-20T17:17:55.325Z"
   },
   {
    "duration": 28,
    "start_time": "2023-08-20T17:17:55.709Z"
   },
   {
    "duration": 30,
    "start_time": "2023-08-20T17:17:55.738Z"
   },
   {
    "duration": 6,
    "start_time": "2023-08-20T17:17:55.770Z"
   },
   {
    "duration": 10,
    "start_time": "2023-08-20T17:17:55.778Z"
   },
   {
    "duration": 8,
    "start_time": "2023-08-20T17:17:55.790Z"
   },
   {
    "duration": 384,
    "start_time": "2023-08-20T17:17:55.800Z"
   },
   {
    "duration": 166,
    "start_time": "2023-08-20T17:17:56.186Z"
   },
   {
    "duration": 1105,
    "start_time": "2023-08-20T17:19:13.617Z"
   },
   {
    "duration": 44,
    "start_time": "2023-08-20T17:19:14.724Z"
   },
   {
    "duration": 40,
    "start_time": "2023-08-20T17:19:14.770Z"
   },
   {
    "duration": 26,
    "start_time": "2023-08-20T17:19:14.813Z"
   },
   {
    "duration": 16,
    "start_time": "2023-08-20T17:19:14.840Z"
   },
   {
    "duration": 13,
    "start_time": "2023-08-20T17:19:14.858Z"
   },
   {
    "duration": 4,
    "start_time": "2023-08-20T17:19:14.873Z"
   },
   {
    "duration": 12,
    "start_time": "2023-08-20T17:19:14.878Z"
   },
   {
    "duration": 6,
    "start_time": "2023-08-20T17:19:14.892Z"
   },
   {
    "duration": 9,
    "start_time": "2023-08-20T17:19:14.900Z"
   },
   {
    "duration": 16,
    "start_time": "2023-08-20T17:19:14.910Z"
   },
   {
    "duration": 31,
    "start_time": "2023-08-20T17:19:14.928Z"
   },
   {
    "duration": 4,
    "start_time": "2023-08-20T17:19:14.961Z"
   },
   {
    "duration": 180,
    "start_time": "2023-08-20T17:19:14.967Z"
   },
   {
    "duration": 148,
    "start_time": "2023-08-20T17:19:15.149Z"
   },
   {
    "duration": 164,
    "start_time": "2023-08-20T17:19:15.299Z"
   },
   {
    "duration": 216,
    "start_time": "2023-08-20T17:19:15.465Z"
   },
   {
    "duration": 208,
    "start_time": "2023-08-20T17:19:15.683Z"
   },
   {
    "duration": 33,
    "start_time": "2023-08-20T17:19:15.892Z"
   },
   {
    "duration": 56,
    "start_time": "2023-08-20T17:19:15.927Z"
   },
   {
    "duration": 16,
    "start_time": "2023-08-20T17:19:15.985Z"
   },
   {
    "duration": 15,
    "start_time": "2023-08-20T17:19:16.003Z"
   },
   {
    "duration": 236,
    "start_time": "2023-08-20T17:19:16.020Z"
   },
   {
    "duration": 31,
    "start_time": "2023-08-20T17:19:16.258Z"
   },
   {
    "duration": 407,
    "start_time": "2023-08-20T17:19:16.291Z"
   },
   {
    "duration": 370,
    "start_time": "2023-08-20T17:19:16.700Z"
   },
   {
    "duration": 452,
    "start_time": "2023-08-20T17:19:17.072Z"
   },
   {
    "duration": 47,
    "start_time": "2023-08-20T17:19:17.529Z"
   },
   {
    "duration": 14,
    "start_time": "2023-08-20T17:19:17.577Z"
   },
   {
    "duration": 6,
    "start_time": "2023-08-20T17:19:17.593Z"
   },
   {
    "duration": 7,
    "start_time": "2023-08-20T17:19:17.600Z"
   },
   {
    "duration": 10,
    "start_time": "2023-08-20T17:19:17.609Z"
   },
   {
    "duration": 373,
    "start_time": "2023-08-20T17:19:17.620Z"
   },
   {
    "duration": 157,
    "start_time": "2023-08-20T17:19:17.995Z"
   },
   {
    "duration": 1282,
    "start_time": "2023-08-20T17:20:02.326Z"
   },
   {
    "duration": 46,
    "start_time": "2023-08-20T17:20:03.610Z"
   },
   {
    "duration": 42,
    "start_time": "2023-08-20T17:20:03.657Z"
   },
   {
    "duration": 26,
    "start_time": "2023-08-20T17:20:03.701Z"
   },
   {
    "duration": 116,
    "start_time": "2023-08-20T17:20:03.730Z"
   },
   {
    "duration": 46,
    "start_time": "2023-08-20T17:20:03.848Z"
   },
   {
    "duration": 62,
    "start_time": "2023-08-20T17:20:03.895Z"
   },
   {
    "duration": 36,
    "start_time": "2023-08-20T17:20:03.959Z"
   },
   {
    "duration": 25,
    "start_time": "2023-08-20T17:20:03.997Z"
   },
   {
    "duration": 22,
    "start_time": "2023-08-20T17:20:04.024Z"
   },
   {
    "duration": 47,
    "start_time": "2023-08-20T17:20:04.053Z"
   },
   {
    "duration": 19,
    "start_time": "2023-08-20T17:20:04.102Z"
   },
   {
    "duration": 25,
    "start_time": "2023-08-20T17:20:04.123Z"
   },
   {
    "duration": 216,
    "start_time": "2023-08-20T17:20:04.152Z"
   },
   {
    "duration": 148,
    "start_time": "2023-08-20T17:20:04.370Z"
   },
   {
    "duration": 179,
    "start_time": "2023-08-20T17:20:04.520Z"
   },
   {
    "duration": 257,
    "start_time": "2023-08-20T17:20:04.702Z"
   },
   {
    "duration": 212,
    "start_time": "2023-08-20T17:20:04.961Z"
   },
   {
    "duration": 34,
    "start_time": "2023-08-20T17:20:05.175Z"
   },
   {
    "duration": 57,
    "start_time": "2023-08-20T17:20:05.210Z"
   },
   {
    "duration": 15,
    "start_time": "2023-08-20T17:20:05.269Z"
   },
   {
    "duration": 13,
    "start_time": "2023-08-20T17:20:05.285Z"
   },
   {
    "duration": 225,
    "start_time": "2023-08-20T17:20:05.300Z"
   },
   {
    "duration": 43,
    "start_time": "2023-08-20T17:20:05.527Z"
   },
   {
    "duration": 394,
    "start_time": "2023-08-20T17:20:05.571Z"
   },
   {
    "duration": 307,
    "start_time": "2023-08-20T17:20:05.967Z"
   },
   {
    "duration": 366,
    "start_time": "2023-08-20T17:20:06.276Z"
   },
   {
    "duration": 32,
    "start_time": "2023-08-20T17:20:06.644Z"
   },
   {
    "duration": 14,
    "start_time": "2023-08-20T17:20:06.678Z"
   },
   {
    "duration": 8,
    "start_time": "2023-08-20T17:20:06.693Z"
   },
   {
    "duration": 16,
    "start_time": "2023-08-20T17:20:06.703Z"
   },
   {
    "duration": 13,
    "start_time": "2023-08-20T17:20:06.721Z"
   },
   {
    "duration": 396,
    "start_time": "2023-08-20T17:20:06.736Z"
   },
   {
    "duration": 192,
    "start_time": "2023-08-20T17:20:07.134Z"
   },
   {
    "duration": 1164,
    "start_time": "2023-08-20T17:20:15.862Z"
   },
   {
    "duration": 44,
    "start_time": "2023-08-20T17:20:17.028Z"
   },
   {
    "duration": 43,
    "start_time": "2023-08-20T17:20:17.074Z"
   },
   {
    "duration": 25,
    "start_time": "2023-08-20T17:20:17.120Z"
   },
   {
    "duration": 16,
    "start_time": "2023-08-20T17:20:17.147Z"
   },
   {
    "duration": 12,
    "start_time": "2023-08-20T17:20:17.165Z"
   },
   {
    "duration": 4,
    "start_time": "2023-08-20T17:20:17.179Z"
   },
   {
    "duration": 12,
    "start_time": "2023-08-20T17:20:17.184Z"
   },
   {
    "duration": 8,
    "start_time": "2023-08-20T17:20:17.198Z"
   },
   {
    "duration": 13,
    "start_time": "2023-08-20T17:20:17.210Z"
   },
   {
    "duration": 7,
    "start_time": "2023-08-20T17:20:17.256Z"
   },
   {
    "duration": 25,
    "start_time": "2023-08-20T17:20:17.265Z"
   },
   {
    "duration": 17,
    "start_time": "2023-08-20T17:20:17.292Z"
   },
   {
    "duration": 223,
    "start_time": "2023-08-20T17:20:17.310Z"
   },
   {
    "duration": 150,
    "start_time": "2023-08-20T17:20:17.535Z"
   },
   {
    "duration": 177,
    "start_time": "2023-08-20T17:20:17.687Z"
   },
   {
    "duration": 235,
    "start_time": "2023-08-20T17:20:17.866Z"
   },
   {
    "duration": 227,
    "start_time": "2023-08-20T17:20:18.103Z"
   },
   {
    "duration": 39,
    "start_time": "2023-08-20T17:20:18.332Z"
   },
   {
    "duration": 45,
    "start_time": "2023-08-20T17:20:18.374Z"
   },
   {
    "duration": 14,
    "start_time": "2023-08-20T17:20:18.420Z"
   },
   {
    "duration": 18,
    "start_time": "2023-08-20T17:20:18.458Z"
   },
   {
    "duration": 213,
    "start_time": "2023-08-20T17:20:18.479Z"
   },
   {
    "duration": 29,
    "start_time": "2023-08-20T17:20:18.694Z"
   },
   {
    "duration": 591,
    "start_time": "2023-08-20T17:20:18.725Z"
   },
   {
    "duration": 222,
    "start_time": "2023-08-20T17:20:19.319Z"
   },
   {
    "duration": 404,
    "start_time": "2023-08-20T17:20:19.542Z"
   },
   {
    "duration": 33,
    "start_time": "2023-08-20T17:20:19.950Z"
   },
   {
    "duration": 14,
    "start_time": "2023-08-20T17:20:19.985Z"
   },
   {
    "duration": 8,
    "start_time": "2023-08-20T17:20:20.000Z"
   },
   {
    "duration": 11,
    "start_time": "2023-08-20T17:20:20.010Z"
   },
   {
    "duration": 35,
    "start_time": "2023-08-20T17:20:20.022Z"
   },
   {
    "duration": 376,
    "start_time": "2023-08-20T17:20:20.059Z"
   },
   {
    "duration": 171,
    "start_time": "2023-08-20T17:20:20.438Z"
   },
   {
    "duration": 110,
    "start_time": "2023-08-20T20:05:33.085Z"
   },
   {
    "duration": 8,
    "start_time": "2023-08-20T20:05:38.545Z"
   },
   {
    "duration": 1173,
    "start_time": "2023-08-20T20:05:44.941Z"
   },
   {
    "duration": 45,
    "start_time": "2023-08-20T20:05:46.116Z"
   },
   {
    "duration": 39,
    "start_time": "2023-08-20T20:05:46.162Z"
   },
   {
    "duration": 25,
    "start_time": "2023-08-20T20:05:46.203Z"
   },
   {
    "duration": 15,
    "start_time": "2023-08-20T20:05:46.230Z"
   },
   {
    "duration": 20,
    "start_time": "2023-08-20T20:05:46.247Z"
   },
   {
    "duration": 4,
    "start_time": "2023-08-20T20:05:46.269Z"
   },
   {
    "duration": 12,
    "start_time": "2023-08-20T20:05:46.275Z"
   },
   {
    "duration": 8,
    "start_time": "2023-08-20T20:05:46.289Z"
   },
   {
    "duration": 11,
    "start_time": "2023-08-20T20:05:46.301Z"
   },
   {
    "duration": 44,
    "start_time": "2023-08-20T20:05:46.314Z"
   },
   {
    "duration": 9,
    "start_time": "2023-08-20T20:05:46.360Z"
   },
   {
    "duration": 35,
    "start_time": "2023-08-20T20:05:46.371Z"
   },
   {
    "duration": 192,
    "start_time": "2023-08-20T20:05:46.408Z"
   },
   {
    "duration": 150,
    "start_time": "2023-08-20T20:05:46.602Z"
   },
   {
    "duration": 175,
    "start_time": "2023-08-20T20:05:46.756Z"
   },
   {
    "duration": 228,
    "start_time": "2023-08-20T20:05:46.934Z"
   },
   {
    "duration": 209,
    "start_time": "2023-08-20T20:05:47.164Z"
   },
   {
    "duration": 33,
    "start_time": "2023-08-20T20:05:47.375Z"
   },
   {
    "duration": 58,
    "start_time": "2023-08-20T20:05:47.410Z"
   },
   {
    "duration": 17,
    "start_time": "2023-08-20T20:05:47.470Z"
   },
   {
    "duration": 16,
    "start_time": "2023-08-20T20:05:47.489Z"
   },
   {
    "duration": 226,
    "start_time": "2023-08-20T20:05:47.507Z"
   },
   {
    "duration": 50,
    "start_time": "2023-08-20T20:05:47.735Z"
   },
   {
    "duration": 388,
    "start_time": "2023-08-20T20:05:47.786Z"
   },
   {
    "duration": 320,
    "start_time": "2023-08-20T20:05:48.176Z"
   },
   {
    "duration": 437,
    "start_time": "2023-08-20T20:05:48.498Z"
   },
   {
    "duration": 57,
    "start_time": "2023-08-20T20:05:48.940Z"
   },
   {
    "duration": 24,
    "start_time": "2023-08-20T20:05:48.999Z"
   },
   {
    "duration": 9,
    "start_time": "2023-08-20T20:05:49.026Z"
   },
   {
    "duration": 6,
    "start_time": "2023-08-20T20:05:49.058Z"
   },
   {
    "duration": 7,
    "start_time": "2023-08-20T20:05:49.065Z"
   },
   {
    "duration": 10,
    "start_time": "2023-08-20T20:05:49.074Z"
   },
   {
    "duration": 394,
    "start_time": "2023-08-20T20:05:49.086Z"
   },
   {
    "duration": 174,
    "start_time": "2023-08-20T20:05:49.483Z"
   },
   {
    "duration": 1234,
    "start_time": "2023-08-20T20:06:16.205Z"
   },
   {
    "duration": 44,
    "start_time": "2023-08-20T20:06:17.441Z"
   },
   {
    "duration": 38,
    "start_time": "2023-08-20T20:06:17.486Z"
   },
   {
    "duration": 25,
    "start_time": "2023-08-20T20:06:17.526Z"
   },
   {
    "duration": 17,
    "start_time": "2023-08-20T20:06:17.553Z"
   },
   {
    "duration": 19,
    "start_time": "2023-08-20T20:06:17.572Z"
   },
   {
    "duration": 6,
    "start_time": "2023-08-20T20:06:17.594Z"
   },
   {
    "duration": 32,
    "start_time": "2023-08-20T20:06:17.602Z"
   },
   {
    "duration": 21,
    "start_time": "2023-08-20T20:06:17.636Z"
   },
   {
    "duration": 9,
    "start_time": "2023-08-20T20:06:17.661Z"
   },
   {
    "duration": 7,
    "start_time": "2023-08-20T20:06:17.672Z"
   },
   {
    "duration": 7,
    "start_time": "2023-08-20T20:06:17.681Z"
   },
   {
    "duration": 4,
    "start_time": "2023-08-20T20:06:17.690Z"
   },
   {
    "duration": 220,
    "start_time": "2023-08-20T20:06:17.696Z"
   },
   {
    "duration": 167,
    "start_time": "2023-08-20T20:06:17.918Z"
   },
   {
    "duration": 201,
    "start_time": "2023-08-20T20:06:18.087Z"
   },
   {
    "duration": 270,
    "start_time": "2023-08-20T20:06:18.290Z"
   },
   {
    "duration": 220,
    "start_time": "2023-08-20T20:06:18.562Z"
   },
   {
    "duration": 36,
    "start_time": "2023-08-20T20:06:18.784Z"
   },
   {
    "duration": 85,
    "start_time": "2023-08-20T20:06:18.822Z"
   },
   {
    "duration": 20,
    "start_time": "2023-08-20T20:06:18.909Z"
   },
   {
    "duration": 34,
    "start_time": "2023-08-20T20:06:18.931Z"
   },
   {
    "duration": 259,
    "start_time": "2023-08-20T20:06:18.967Z"
   },
   {
    "duration": 49,
    "start_time": "2023-08-20T20:06:19.228Z"
   },
   {
    "duration": 428,
    "start_time": "2023-08-20T20:06:19.278Z"
   },
   {
    "duration": 319,
    "start_time": "2023-08-20T20:06:19.708Z"
   },
   {
    "duration": 377,
    "start_time": "2023-08-20T20:06:20.028Z"
   },
   {
    "duration": 35,
    "start_time": "2023-08-20T20:06:20.408Z"
   },
   {
    "duration": 17,
    "start_time": "2023-08-20T20:06:20.456Z"
   },
   {
    "duration": 9,
    "start_time": "2023-08-20T20:06:20.475Z"
   },
   {
    "duration": 6,
    "start_time": "2023-08-20T20:06:20.486Z"
   },
   {
    "duration": 6,
    "start_time": "2023-08-20T20:06:20.494Z"
   },
   {
    "duration": 9,
    "start_time": "2023-08-20T20:06:20.502Z"
   },
   {
    "duration": 444,
    "start_time": "2023-08-20T20:06:20.513Z"
   },
   {
    "duration": 189,
    "start_time": "2023-08-20T20:06:20.959Z"
   },
   {
    "duration": 1150,
    "start_time": "2023-08-20T20:06:41.198Z"
   },
   {
    "duration": 46,
    "start_time": "2023-08-20T20:06:42.350Z"
   },
   {
    "duration": 54,
    "start_time": "2023-08-20T20:06:42.398Z"
   },
   {
    "duration": 29,
    "start_time": "2023-08-20T20:06:42.455Z"
   },
   {
    "duration": 21,
    "start_time": "2023-08-20T20:06:42.487Z"
   },
   {
    "duration": 20,
    "start_time": "2023-08-20T20:06:42.511Z"
   },
   {
    "duration": 15,
    "start_time": "2023-08-20T20:06:42.533Z"
   },
   {
    "duration": 16,
    "start_time": "2023-08-20T20:06:42.551Z"
   },
   {
    "duration": 7,
    "start_time": "2023-08-20T20:06:42.569Z"
   },
   {
    "duration": 10,
    "start_time": "2023-08-20T20:06:42.580Z"
   },
   {
    "duration": 8,
    "start_time": "2023-08-20T20:06:42.592Z"
   },
   {
    "duration": 8,
    "start_time": "2023-08-20T20:06:42.603Z"
   },
   {
    "duration": 47,
    "start_time": "2023-08-20T20:06:42.613Z"
   },
   {
    "duration": 200,
    "start_time": "2023-08-20T20:06:42.662Z"
   },
   {
    "duration": 160,
    "start_time": "2023-08-20T20:06:42.864Z"
   },
   {
    "duration": 204,
    "start_time": "2023-08-20T20:06:43.026Z"
   },
   {
    "duration": 263,
    "start_time": "2023-08-20T20:06:43.232Z"
   },
   {
    "duration": 210,
    "start_time": "2023-08-20T20:06:43.497Z"
   },
   {
    "duration": 57,
    "start_time": "2023-08-20T20:06:43.710Z"
   },
   {
    "duration": 36,
    "start_time": "2023-08-20T20:06:43.770Z"
   },
   {
    "duration": 17,
    "start_time": "2023-08-20T20:06:43.809Z"
   },
   {
    "duration": 23,
    "start_time": "2023-08-20T20:06:43.856Z"
   },
   {
    "duration": 225,
    "start_time": "2023-08-20T20:06:43.881Z"
   },
   {
    "duration": 65,
    "start_time": "2023-08-20T20:06:44.108Z"
   },
   {
    "duration": 414,
    "start_time": "2023-08-20T20:06:44.175Z"
   },
   {
    "duration": 312,
    "start_time": "2023-08-20T20:06:44.591Z"
   },
   {
    "duration": 397,
    "start_time": "2023-08-20T20:06:44.906Z"
   },
   {
    "duration": 31,
    "start_time": "2023-08-20T20:06:45.306Z"
   },
   {
    "duration": 35,
    "start_time": "2023-08-20T20:06:45.340Z"
   },
   {
    "duration": 8,
    "start_time": "2023-08-20T20:06:45.378Z"
   },
   {
    "duration": 7,
    "start_time": "2023-08-20T20:06:45.388Z"
   },
   {
    "duration": 11,
    "start_time": "2023-08-20T20:06:45.398Z"
   },
   {
    "duration": 10,
    "start_time": "2023-08-20T20:06:45.412Z"
   },
   {
    "duration": 370,
    "start_time": "2023-08-20T20:06:45.457Z"
   },
   {
    "duration": 163,
    "start_time": "2023-08-20T20:06:45.829Z"
   },
   {
    "duration": 6,
    "start_time": "2023-08-20T20:10:45.614Z"
   },
   {
    "duration": 1112,
    "start_time": "2023-08-20T20:10:52.216Z"
   },
   {
    "duration": 46,
    "start_time": "2023-08-20T20:10:53.330Z"
   },
   {
    "duration": 39,
    "start_time": "2023-08-20T20:10:53.378Z"
   },
   {
    "duration": 25,
    "start_time": "2023-08-20T20:10:53.419Z"
   },
   {
    "duration": 15,
    "start_time": "2023-08-20T20:10:53.446Z"
   },
   {
    "duration": 14,
    "start_time": "2023-08-20T20:10:53.463Z"
   },
   {
    "duration": 4,
    "start_time": "2023-08-20T20:10:53.478Z"
   },
   {
    "duration": 11,
    "start_time": "2023-08-20T20:10:53.484Z"
   },
   {
    "duration": 8,
    "start_time": "2023-08-20T20:10:53.497Z"
   },
   {
    "duration": 17,
    "start_time": "2023-08-20T20:10:53.506Z"
   },
   {
    "duration": 8,
    "start_time": "2023-08-20T20:10:53.556Z"
   },
   {
    "duration": 15,
    "start_time": "2023-08-20T20:10:53.565Z"
   },
   {
    "duration": 5,
    "start_time": "2023-08-20T20:10:53.581Z"
   },
   {
    "duration": 196,
    "start_time": "2023-08-20T20:10:53.589Z"
   },
   {
    "duration": 150,
    "start_time": "2023-08-20T20:10:53.787Z"
   },
   {
    "duration": 182,
    "start_time": "2023-08-20T20:10:53.939Z"
   },
   {
    "duration": 243,
    "start_time": "2023-08-20T20:10:54.123Z"
   },
   {
    "duration": 223,
    "start_time": "2023-08-20T20:10:54.368Z"
   },
   {
    "duration": 33,
    "start_time": "2023-08-20T20:10:54.592Z"
   },
   {
    "duration": 55,
    "start_time": "2023-08-20T20:10:54.627Z"
   },
   {
    "duration": 15,
    "start_time": "2023-08-20T20:10:54.684Z"
   },
   {
    "duration": 14,
    "start_time": "2023-08-20T20:10:54.701Z"
   },
   {
    "duration": 229,
    "start_time": "2023-08-20T20:10:54.716Z"
   },
   {
    "duration": 39,
    "start_time": "2023-08-20T20:10:54.947Z"
   },
   {
    "duration": 426,
    "start_time": "2023-08-20T20:10:54.988Z"
   },
   {
    "duration": 321,
    "start_time": "2023-08-20T20:10:55.415Z"
   },
   {
    "duration": 386,
    "start_time": "2023-08-20T20:10:55.738Z"
   },
   {
    "duration": 39,
    "start_time": "2023-08-20T20:10:56.125Z"
   },
   {
    "duration": 15,
    "start_time": "2023-08-20T20:10:56.166Z"
   },
   {
    "duration": 18,
    "start_time": "2023-08-20T20:10:56.183Z"
   },
   {
    "duration": 13,
    "start_time": "2023-08-20T20:10:56.203Z"
   },
   {
    "duration": 9,
    "start_time": "2023-08-20T20:10:56.218Z"
   },
   {
    "duration": 10,
    "start_time": "2023-08-20T20:10:56.229Z"
   },
   {
    "duration": 405,
    "start_time": "2023-08-20T20:10:56.256Z"
   },
   {
    "duration": 154,
    "start_time": "2023-08-20T20:10:56.662Z"
   },
   {
    "duration": 1239,
    "start_time": "2023-08-21T06:01:06.915Z"
   },
   {
    "duration": 115,
    "start_time": "2023-08-21T06:01:08.156Z"
   },
   {
    "duration": 120,
    "start_time": "2023-08-21T06:01:08.273Z"
   },
   {
    "duration": 66,
    "start_time": "2023-08-21T06:01:08.398Z"
   },
   {
    "duration": 20,
    "start_time": "2023-08-21T06:01:08.466Z"
   },
   {
    "duration": 22,
    "start_time": "2023-08-21T06:01:08.490Z"
   },
   {
    "duration": 5,
    "start_time": "2023-08-21T06:01:08.514Z"
   },
   {
    "duration": 18,
    "start_time": "2023-08-21T06:01:08.521Z"
   },
   {
    "duration": 9,
    "start_time": "2023-08-21T06:01:08.541Z"
   },
   {
    "duration": 35,
    "start_time": "2023-08-21T06:01:08.552Z"
   },
   {
    "duration": 9,
    "start_time": "2023-08-21T06:01:08.591Z"
   },
   {
    "duration": 11,
    "start_time": "2023-08-21T06:01:08.602Z"
   },
   {
    "duration": 8,
    "start_time": "2023-08-21T06:01:08.615Z"
   },
   {
    "duration": 249,
    "start_time": "2023-08-21T06:01:08.626Z"
   },
   {
    "duration": 169,
    "start_time": "2023-08-21T06:01:08.878Z"
   },
   {
    "duration": 231,
    "start_time": "2023-08-21T06:01:09.050Z"
   },
   {
    "duration": 266,
    "start_time": "2023-08-21T06:01:09.285Z"
   },
   {
    "duration": 242,
    "start_time": "2023-08-21T06:01:09.553Z"
   },
   {
    "duration": 36,
    "start_time": "2023-08-21T06:01:09.797Z"
   },
   {
    "duration": 62,
    "start_time": "2023-08-21T06:01:09.835Z"
   },
   {
    "duration": 20,
    "start_time": "2023-08-21T06:01:09.905Z"
   },
   {
    "duration": 18,
    "start_time": "2023-08-21T06:01:09.927Z"
   },
   {
    "duration": 262,
    "start_time": "2023-08-21T06:01:09.947Z"
   },
   {
    "duration": 31,
    "start_time": "2023-08-21T06:01:10.211Z"
   },
   {
    "duration": 428,
    "start_time": "2023-08-21T06:01:10.244Z"
   },
   {
    "duration": 320,
    "start_time": "2023-08-21T06:01:10.682Z"
   },
   {
    "duration": 430,
    "start_time": "2023-08-21T06:01:11.006Z"
   },
   {
    "duration": 50,
    "start_time": "2023-08-21T06:01:11.437Z"
   },
   {
    "duration": 25,
    "start_time": "2023-08-21T06:01:11.488Z"
   },
   {
    "duration": 7,
    "start_time": "2023-08-21T06:01:11.515Z"
   },
   {
    "duration": 21,
    "start_time": "2023-08-21T06:01:11.523Z"
   },
   {
    "duration": 8,
    "start_time": "2023-08-21T06:01:11.546Z"
   },
   {
    "duration": 31,
    "start_time": "2023-08-21T06:01:11.556Z"
   },
   {
    "duration": 419,
    "start_time": "2023-08-21T06:01:11.590Z"
   },
   {
    "duration": 205,
    "start_time": "2023-08-21T06:01:12.010Z"
   },
   {
    "duration": 33,
    "start_time": "2023-08-21T06:03:23.398Z"
   },
   {
    "duration": 47,
    "start_time": "2023-08-21T06:05:24.398Z"
   },
   {
    "duration": 1157,
    "start_time": "2023-08-21T06:05:42.684Z"
   },
   {
    "duration": 43,
    "start_time": "2023-08-21T06:05:43.844Z"
   },
   {
    "duration": 133,
    "start_time": "2023-08-21T06:05:43.893Z"
   },
   {
    "duration": 29,
    "start_time": "2023-08-21T06:05:44.029Z"
   },
   {
    "duration": 17,
    "start_time": "2023-08-21T06:05:44.060Z"
   },
   {
    "duration": 44,
    "start_time": "2023-08-21T06:05:44.078Z"
   },
   {
    "duration": 14,
    "start_time": "2023-08-21T06:05:44.124Z"
   },
   {
    "duration": 29,
    "start_time": "2023-08-21T06:05:44.140Z"
   },
   {
    "duration": 9,
    "start_time": "2023-08-21T06:05:44.171Z"
   },
   {
    "duration": 27,
    "start_time": "2023-08-21T06:05:44.184Z"
   },
   {
    "duration": 31,
    "start_time": "2023-08-21T06:05:44.213Z"
   },
   {
    "duration": 13,
    "start_time": "2023-08-21T06:05:44.246Z"
   },
   {
    "duration": 18,
    "start_time": "2023-08-21T06:05:44.261Z"
   },
   {
    "duration": 186,
    "start_time": "2023-08-21T06:05:44.283Z"
   },
   {
    "duration": 187,
    "start_time": "2023-08-21T06:05:44.470Z"
   },
   {
    "duration": 243,
    "start_time": "2023-08-21T06:05:44.659Z"
   },
   {
    "duration": 246,
    "start_time": "2023-08-21T06:05:44.905Z"
   },
   {
    "duration": 269,
    "start_time": "2023-08-21T06:05:45.153Z"
   },
   {
    "duration": 30,
    "start_time": "2023-08-21T06:05:45.424Z"
   },
   {
    "duration": 53,
    "start_time": "2023-08-21T06:05:45.455Z"
   },
   {
    "duration": 15,
    "start_time": "2023-08-21T06:05:45.509Z"
   },
   {
    "duration": 16,
    "start_time": "2023-08-21T06:05:45.525Z"
   },
   {
    "duration": 231,
    "start_time": "2023-08-21T06:05:45.543Z"
   },
   {
    "duration": 34,
    "start_time": "2023-08-21T06:05:45.781Z"
   },
   {
    "duration": 407,
    "start_time": "2023-08-21T06:05:45.817Z"
   },
   {
    "duration": 309,
    "start_time": "2023-08-21T06:05:46.226Z"
   },
   {
    "duration": 513,
    "start_time": "2023-08-21T06:05:46.536Z"
   },
   {
    "duration": 42,
    "start_time": "2023-08-21T06:05:47.052Z"
   },
   {
    "duration": 25,
    "start_time": "2023-08-21T06:05:47.096Z"
   },
   {
    "duration": 32,
    "start_time": "2023-08-21T06:05:47.122Z"
   },
   {
    "duration": 44,
    "start_time": "2023-08-21T06:05:47.156Z"
   },
   {
    "duration": 12,
    "start_time": "2023-08-21T06:05:47.202Z"
   },
   {
    "duration": 6,
    "start_time": "2023-08-21T06:05:47.216Z"
   },
   {
    "duration": 16,
    "start_time": "2023-08-21T06:05:47.224Z"
   },
   {
    "duration": 13,
    "start_time": "2023-08-21T06:05:47.242Z"
   },
   {
    "duration": 412,
    "start_time": "2023-08-21T06:05:47.257Z"
   },
   {
    "duration": 170,
    "start_time": "2023-08-21T06:05:47.671Z"
   },
   {
    "duration": 4,
    "start_time": "2023-08-21T09:19:44.088Z"
   },
   {
    "duration": 47,
    "start_time": "2023-08-21T09:20:29.167Z"
   },
   {
    "duration": 1311,
    "start_time": "2023-08-21T09:20:38.606Z"
   },
   {
    "duration": 88,
    "start_time": "2023-08-21T09:20:39.919Z"
   },
   {
    "duration": 81,
    "start_time": "2023-08-21T09:20:40.008Z"
   },
   {
    "duration": 62,
    "start_time": "2023-08-21T09:20:40.091Z"
   },
   {
    "duration": 39,
    "start_time": "2023-08-21T09:20:40.154Z"
   },
   {
    "duration": 82,
    "start_time": "2023-08-21T09:20:40.194Z"
   },
   {
    "duration": 35,
    "start_time": "2023-08-21T09:20:40.278Z"
   },
   {
    "duration": 40,
    "start_time": "2023-08-21T09:20:40.315Z"
   },
   {
    "duration": 15,
    "start_time": "2023-08-21T09:20:40.356Z"
   },
   {
    "duration": 68,
    "start_time": "2023-08-21T09:20:40.374Z"
   },
   {
    "duration": 34,
    "start_time": "2023-08-21T09:20:40.445Z"
   },
   {
    "duration": 34,
    "start_time": "2023-08-21T09:20:40.480Z"
   },
   {
    "duration": 33,
    "start_time": "2023-08-21T09:20:40.516Z"
   },
   {
    "duration": 220,
    "start_time": "2023-08-21T09:20:40.551Z"
   },
   {
    "duration": 163,
    "start_time": "2023-08-21T09:20:40.773Z"
   },
   {
    "duration": 181,
    "start_time": "2023-08-21T09:20:40.938Z"
   },
   {
    "duration": 236,
    "start_time": "2023-08-21T09:20:41.124Z"
   },
   {
    "duration": 213,
    "start_time": "2023-08-21T09:20:41.362Z"
   },
   {
    "duration": 29,
    "start_time": "2023-08-21T09:20:41.577Z"
   },
   {
    "duration": 50,
    "start_time": "2023-08-21T09:20:41.608Z"
   },
   {
    "duration": 17,
    "start_time": "2023-08-21T09:20:41.660Z"
   },
   {
    "duration": 41,
    "start_time": "2023-08-21T09:20:41.679Z"
   },
   {
    "duration": 214,
    "start_time": "2023-08-21T09:20:41.722Z"
   },
   {
    "duration": 33,
    "start_time": "2023-08-21T09:20:41.939Z"
   },
   {
    "duration": 442,
    "start_time": "2023-08-21T09:20:41.974Z"
   },
   {
    "duration": 296,
    "start_time": "2023-08-21T09:20:42.418Z"
   },
   {
    "duration": 454,
    "start_time": "2023-08-21T09:20:42.715Z"
   },
   {
    "duration": 23,
    "start_time": "2023-08-21T09:20:43.172Z"
   },
   {
    "duration": 46,
    "start_time": "2023-08-21T09:20:43.197Z"
   },
   {
    "duration": 36,
    "start_time": "2023-08-21T09:20:43.246Z"
   },
   {
    "duration": 1235,
    "start_time": "2023-08-21T09:20:43.284Z"
   },
   {
    "duration": 0,
    "start_time": "2023-08-21T09:20:44.521Z"
   },
   {
    "duration": 0,
    "start_time": "2023-08-21T09:20:44.522Z"
   },
   {
    "duration": 0,
    "start_time": "2023-08-21T09:20:44.523Z"
   },
   {
    "duration": 0,
    "start_time": "2023-08-21T09:20:44.524Z"
   },
   {
    "duration": 0,
    "start_time": "2023-08-21T09:20:44.526Z"
   },
   {
    "duration": 25,
    "start_time": "2023-08-21T09:21:38.313Z"
   },
   {
    "duration": 32,
    "start_time": "2023-08-21T09:21:53.026Z"
   },
   {
    "duration": 33,
    "start_time": "2023-08-21T09:22:15.162Z"
   },
   {
    "duration": 34,
    "start_time": "2023-08-21T09:22:47.729Z"
   },
   {
    "duration": 1163,
    "start_time": "2023-08-21T09:24:17.749Z"
   },
   {
    "duration": 50,
    "start_time": "2023-08-21T09:24:18.914Z"
   },
   {
    "duration": 36,
    "start_time": "2023-08-21T09:24:18.966Z"
   },
   {
    "duration": 30,
    "start_time": "2023-08-21T09:24:19.004Z"
   },
   {
    "duration": 20,
    "start_time": "2023-08-21T09:24:19.035Z"
   },
   {
    "duration": 13,
    "start_time": "2023-08-21T09:24:19.057Z"
   },
   {
    "duration": 4,
    "start_time": "2023-08-21T09:24:19.072Z"
   },
   {
    "duration": 11,
    "start_time": "2023-08-21T09:24:19.078Z"
   },
   {
    "duration": 9,
    "start_time": "2023-08-21T09:24:19.130Z"
   },
   {
    "duration": 10,
    "start_time": "2023-08-21T09:24:19.143Z"
   },
   {
    "duration": 7,
    "start_time": "2023-08-21T09:24:19.155Z"
   },
   {
    "duration": 6,
    "start_time": "2023-08-21T09:24:19.164Z"
   },
   {
    "duration": 5,
    "start_time": "2023-08-21T09:24:19.171Z"
   },
   {
    "duration": 211,
    "start_time": "2023-08-21T09:24:19.178Z"
   },
   {
    "duration": 154,
    "start_time": "2023-08-21T09:24:19.391Z"
   },
   {
    "duration": 180,
    "start_time": "2023-08-21T09:24:19.547Z"
   },
   {
    "duration": 248,
    "start_time": "2023-08-21T09:24:19.728Z"
   },
   {
    "duration": 213,
    "start_time": "2023-08-21T09:24:19.977Z"
   },
   {
    "duration": 45,
    "start_time": "2023-08-21T09:24:20.191Z"
   },
   {
    "duration": 42,
    "start_time": "2023-08-21T09:24:20.240Z"
   },
   {
    "duration": 16,
    "start_time": "2023-08-21T09:24:20.284Z"
   },
   {
    "duration": 40,
    "start_time": "2023-08-21T09:24:20.302Z"
   },
   {
    "duration": 232,
    "start_time": "2023-08-21T09:24:20.343Z"
   },
   {
    "duration": 30,
    "start_time": "2023-08-21T09:24:20.576Z"
   },
   {
    "duration": 453,
    "start_time": "2023-08-21T09:24:20.608Z"
   },
   {
    "duration": 315,
    "start_time": "2023-08-21T09:24:21.063Z"
   },
   {
    "duration": 410,
    "start_time": "2023-08-21T09:24:21.380Z"
   },
   {
    "duration": 139,
    "start_time": "2023-08-21T09:24:21.793Z"
   },
   {
    "duration": 0,
    "start_time": "2023-08-21T09:24:21.935Z"
   },
   {
    "duration": 0,
    "start_time": "2023-08-21T09:24:21.939Z"
   },
   {
    "duration": 0,
    "start_time": "2023-08-21T09:24:21.941Z"
   },
   {
    "duration": 0,
    "start_time": "2023-08-21T09:24:21.942Z"
   },
   {
    "duration": 0,
    "start_time": "2023-08-21T09:24:21.954Z"
   },
   {
    "duration": 0,
    "start_time": "2023-08-21T09:24:21.956Z"
   },
   {
    "duration": 32,
    "start_time": "2023-08-21T09:25:04.545Z"
   },
   {
    "duration": 1170,
    "start_time": "2023-08-21T09:25:14.345Z"
   },
   {
    "duration": 51,
    "start_time": "2023-08-21T09:25:15.517Z"
   },
   {
    "duration": 41,
    "start_time": "2023-08-21T09:25:15.570Z"
   },
   {
    "duration": 30,
    "start_time": "2023-08-21T09:25:15.613Z"
   },
   {
    "duration": 22,
    "start_time": "2023-08-21T09:25:15.646Z"
   },
   {
    "duration": 18,
    "start_time": "2023-08-21T09:25:15.670Z"
   },
   {
    "duration": 5,
    "start_time": "2023-08-21T09:25:15.690Z"
   },
   {
    "duration": 35,
    "start_time": "2023-08-21T09:25:15.697Z"
   },
   {
    "duration": 9,
    "start_time": "2023-08-21T09:25:15.734Z"
   },
   {
    "duration": 15,
    "start_time": "2023-08-21T09:25:15.746Z"
   },
   {
    "duration": 8,
    "start_time": "2023-08-21T09:25:15.763Z"
   },
   {
    "duration": 11,
    "start_time": "2023-08-21T09:25:15.774Z"
   },
   {
    "duration": 43,
    "start_time": "2023-08-21T09:25:15.788Z"
   },
   {
    "duration": 231,
    "start_time": "2023-08-21T09:25:15.835Z"
   },
   {
    "duration": 193,
    "start_time": "2023-08-21T09:25:16.069Z"
   },
   {
    "duration": 184,
    "start_time": "2023-08-21T09:25:16.264Z"
   },
   {
    "duration": 234,
    "start_time": "2023-08-21T09:25:16.451Z"
   },
   {
    "duration": 217,
    "start_time": "2023-08-21T09:25:16.687Z"
   },
   {
    "duration": 52,
    "start_time": "2023-08-21T09:25:16.906Z"
   },
   {
    "duration": 32,
    "start_time": "2023-08-21T09:25:16.960Z"
   },
   {
    "duration": 30,
    "start_time": "2023-08-21T09:25:16.994Z"
   },
   {
    "duration": 19,
    "start_time": "2023-08-21T09:25:17.027Z"
   },
   {
    "duration": 227,
    "start_time": "2023-08-21T09:25:17.048Z"
   },
   {
    "duration": 29,
    "start_time": "2023-08-21T09:25:17.277Z"
   },
   {
    "duration": 395,
    "start_time": "2023-08-21T09:25:17.307Z"
   },
   {
    "duration": 292,
    "start_time": "2023-08-21T09:25:17.703Z"
   },
   {
    "duration": 390,
    "start_time": "2023-08-21T09:25:17.997Z"
   },
   {
    "duration": 41,
    "start_time": "2023-08-21T09:25:18.389Z"
   },
   {
    "duration": 1497,
    "start_time": "2023-08-21T09:25:18.432Z"
   },
   {
    "duration": 1,
    "start_time": "2023-08-21T09:25:19.931Z"
   },
   {
    "duration": 0,
    "start_time": "2023-08-21T09:25:19.933Z"
   },
   {
    "duration": 0,
    "start_time": "2023-08-21T09:25:19.934Z"
   },
   {
    "duration": 0,
    "start_time": "2023-08-21T09:25:19.936Z"
   },
   {
    "duration": 0,
    "start_time": "2023-08-21T09:25:19.937Z"
   },
   {
    "duration": 1307,
    "start_time": "2023-08-21T09:25:47.949Z"
   },
   {
    "duration": 39,
    "start_time": "2023-08-21T09:26:04.070Z"
   },
   {
    "duration": 1196,
    "start_time": "2023-08-21T09:26:12.622Z"
   },
   {
    "duration": 44,
    "start_time": "2023-08-21T09:26:13.819Z"
   },
   {
    "duration": 38,
    "start_time": "2023-08-21T09:26:13.865Z"
   },
   {
    "duration": 27,
    "start_time": "2023-08-21T09:26:13.905Z"
   },
   {
    "duration": 19,
    "start_time": "2023-08-21T09:26:13.934Z"
   },
   {
    "duration": 13,
    "start_time": "2023-08-21T09:26:13.955Z"
   },
   {
    "duration": 4,
    "start_time": "2023-08-21T09:26:13.970Z"
   },
   {
    "duration": 26,
    "start_time": "2023-08-21T09:26:13.976Z"
   },
   {
    "duration": 22,
    "start_time": "2023-08-21T09:26:14.005Z"
   },
   {
    "duration": 10,
    "start_time": "2023-08-21T09:26:14.031Z"
   },
   {
    "duration": 10,
    "start_time": "2023-08-21T09:26:14.043Z"
   },
   {
    "duration": 24,
    "start_time": "2023-08-21T09:26:14.054Z"
   },
   {
    "duration": 3,
    "start_time": "2023-08-21T09:26:14.080Z"
   },
   {
    "duration": 181,
    "start_time": "2023-08-21T09:26:14.085Z"
   },
   {
    "duration": 148,
    "start_time": "2023-08-21T09:26:14.268Z"
   },
   {
    "duration": 184,
    "start_time": "2023-08-21T09:26:14.418Z"
   },
   {
    "duration": 242,
    "start_time": "2023-08-21T09:26:14.604Z"
   },
   {
    "duration": 238,
    "start_time": "2023-08-21T09:26:14.848Z"
   },
   {
    "duration": 45,
    "start_time": "2023-08-21T09:26:15.089Z"
   },
   {
    "duration": 35,
    "start_time": "2023-08-21T09:26:15.136Z"
   },
   {
    "duration": 14,
    "start_time": "2023-08-21T09:26:15.173Z"
   },
   {
    "duration": 40,
    "start_time": "2023-08-21T09:26:15.188Z"
   },
   {
    "duration": 230,
    "start_time": "2023-08-21T09:26:15.230Z"
   },
   {
    "duration": 32,
    "start_time": "2023-08-21T09:26:15.461Z"
   },
   {
    "duration": 444,
    "start_time": "2023-08-21T09:26:15.495Z"
   },
   {
    "duration": 347,
    "start_time": "2023-08-21T09:26:15.941Z"
   },
   {
    "duration": 393,
    "start_time": "2023-08-21T09:26:16.290Z"
   },
   {
    "duration": 29,
    "start_time": "2023-08-21T09:26:16.686Z"
   },
   {
    "duration": 16,
    "start_time": "2023-08-21T09:26:16.724Z"
   },
   {
    "duration": 23,
    "start_time": "2023-08-21T09:26:16.742Z"
   },
   {
    "duration": 104,
    "start_time": "2023-08-21T09:26:16.767Z"
   },
   {
    "duration": 23,
    "start_time": "2023-08-21T09:26:16.873Z"
   },
   {
    "duration": 409,
    "start_time": "2023-08-21T09:26:16.898Z"
   },
   {
    "duration": 175,
    "start_time": "2023-08-21T09:26:17.308Z"
   },
   {
    "duration": 83,
    "start_time": "2023-08-21T09:27:07.072Z"
   },
   {
    "duration": 9,
    "start_time": "2023-08-21T09:27:15.466Z"
   },
   {
    "duration": 11,
    "start_time": "2023-08-21T09:30:11.958Z"
   },
   {
    "duration": 11,
    "start_time": "2023-08-21T09:30:16.361Z"
   },
   {
    "duration": 1395,
    "start_time": "2023-08-21T13:54:37.958Z"
   },
   {
    "duration": 121,
    "start_time": "2023-08-21T13:54:39.355Z"
   },
   {
    "duration": 171,
    "start_time": "2023-08-21T13:54:39.478Z"
   },
   {
    "duration": 64,
    "start_time": "2023-08-21T13:54:39.651Z"
   },
   {
    "duration": 15,
    "start_time": "2023-08-21T13:54:39.717Z"
   },
   {
    "duration": 18,
    "start_time": "2023-08-21T13:54:39.734Z"
   },
   {
    "duration": 40,
    "start_time": "2023-08-21T13:54:39.754Z"
   },
   {
    "duration": 13,
    "start_time": "2023-08-21T13:54:39.796Z"
   },
   {
    "duration": 8,
    "start_time": "2023-08-21T13:54:39.811Z"
   },
   {
    "duration": 11,
    "start_time": "2023-08-21T13:54:39.823Z"
   },
   {
    "duration": 6,
    "start_time": "2023-08-21T13:54:39.836Z"
   },
   {
    "duration": 8,
    "start_time": "2023-08-21T13:54:39.844Z"
   },
   {
    "duration": 23,
    "start_time": "2023-08-21T13:54:39.854Z"
   },
   {
    "duration": 222,
    "start_time": "2023-08-21T13:54:39.879Z"
   },
   {
    "duration": 149,
    "start_time": "2023-08-21T13:54:40.103Z"
   },
   {
    "duration": 180,
    "start_time": "2023-08-21T13:54:40.254Z"
   },
   {
    "duration": 233,
    "start_time": "2023-08-21T13:54:40.436Z"
   },
   {
    "duration": 228,
    "start_time": "2023-08-21T13:54:40.671Z"
   },
   {
    "duration": 32,
    "start_time": "2023-08-21T13:54:40.901Z"
   },
   {
    "duration": 53,
    "start_time": "2023-08-21T13:54:40.935Z"
   },
   {
    "duration": 15,
    "start_time": "2023-08-21T13:54:40.990Z"
   },
   {
    "duration": 15,
    "start_time": "2023-08-21T13:54:41.007Z"
   },
   {
    "duration": 235,
    "start_time": "2023-08-21T13:54:41.024Z"
   },
   {
    "duration": 35,
    "start_time": "2023-08-21T13:54:41.268Z"
   },
   {
    "duration": 442,
    "start_time": "2023-08-21T13:54:41.305Z"
   },
   {
    "duration": 322,
    "start_time": "2023-08-21T13:54:41.749Z"
   },
   {
    "duration": 453,
    "start_time": "2023-08-21T13:54:42.073Z"
   },
   {
    "duration": 44,
    "start_time": "2023-08-21T13:54:42.529Z"
   },
   {
    "duration": 15,
    "start_time": "2023-08-21T13:54:42.575Z"
   },
   {
    "duration": 9,
    "start_time": "2023-08-21T13:54:42.592Z"
   },
   {
    "duration": 7,
    "start_time": "2023-08-21T13:54:42.603Z"
   },
   {
    "duration": 10,
    "start_time": "2023-08-21T13:54:42.612Z"
   },
   {
    "duration": 432,
    "start_time": "2023-08-21T13:54:42.623Z"
   },
   {
    "duration": 185,
    "start_time": "2023-08-21T13:54:43.057Z"
   }
  ],
  "kernelspec": {
   "display_name": "Python 3 (ipykernel)",
   "language": "python",
   "name": "python3"
  },
  "language_info": {
   "codemirror_mode": {
    "name": "ipython",
    "version": 3
   },
   "file_extension": ".py",
   "mimetype": "text/x-python",
   "name": "python",
   "nbconvert_exporter": "python",
   "pygments_lexer": "ipython3",
   "version": "3.11.7"
  },
  "toc": {
   "base_numbering": 1,
   "nav_menu": {},
   "number_sections": true,
   "sideBar": true,
   "skip_h1_title": true,
   "title_cell": "Table of Contents",
   "title_sidebar": "Contents",
   "toc_cell": false,
   "toc_position": {},
   "toc_section_display": true,
   "toc_window_display": false
  }
 },
 "nbformat": 4,
 "nbformat_minor": 5
}
